{
 "cells": [
  {
   "cell_type": "markdown",
   "metadata": {},
   "source": [
    "# Docker Swarm\n",
    "\n",
    "## Init Docker Swarm on Cluster\n",
    "\n",
    "```bash\n",
    "#!/bin/bash\n",
    "\n",
    "for i in 1 2 3; do\n",
    "    docker-machine create -d virtualbox swarm-$i\n",
    "done\n",
    "\n",
    "eval \"$(docker-machine env swarm-1)\"\n",
    "\n",
    "docker swarm init --advertise-addr $(docker-machine ip swarm-1)\n",
    "\n",
    "JOIN_TOKEN=$(docker swarm join-token -q worker)\n",
    "\n",
    "for i in 2 3; do\n",
    "    eval \"$(docker-machine env swarm-$i)\"\n",
    "\n",
    "    docker swarm join --token $JOIN_TOKEN \\\n",
    "        --advertise-addr $(docker-machine ip swarm-$i) \\\n",
    "        $(docker-machine ip swarm-1):2377\n",
    "done\n",
    "\n",
    "eval \"$(docker-machine env swarm-1)\"\n",
    "docker service create \\\n",
    "  --name=visualizer \\\n",
    "  --publish=8000:8080/tcp \\\n",
    "  --constraint=node.role==manager \\\n",
    "  --mount=type=bind,src=/var/run/docker.sock,dst=/var/run/docker.sock \\\n",
    "  dockersamples/visualizer\n",
    "```"
   ]
  },
  {
   "cell_type": "code",
   "execution_count": 4,
   "metadata": {},
   "outputs": [
    {
     "name": "stdout",
     "output_type": "stream",
     "text": [
      "OK   http://archive.raspberrypi.org jessie InRelease\n",
      "OK   http://mirrordirector.raspbian.org jessie InRelease\n",
      "OK   http://mirrordirector.raspbian.org stretch InRelease\n",
      "OK   http://archive.raspberrypi.org jessie/main armhf Packages\n",
      "OK   http://mirrordirector.raspbian.org jessie/main armhf Packages\n",
      "OK   https://apt.dockerproject.org raspbian-jessie InRelease\n",
      "OK   https://deb.nodesource.com jessie InRelease                               \n",
      "OK   http://mirrordirector.raspbian.org jessie/contrib armhf Packages          \n",
      "OK   http://mirrordirector.raspbian.org jessie/non-free armhf Packages         \n",
      "OK   https://apt.dockerproject.org raspbian-jessie/main armhf Packages         \n",
      "OK   http://mirrordirector.raspbian.org jessie/firmware armhf Packages         \n",
      "OK   https://deb.nodesource.com jessie/main Sources                            \n",
      "OK   https://deb.nodesource.com jessie/main armhf Packages                     \n",
      "Holen: 1 https://deb.nodesource.com jessie/main Translation-de_DE [162 B]      \n",
      "Holen: 2 https://deb.nodesource.com jessie/main Translation-de [162 B]         \n",
      "Holen: 3 https://deb.nodesource.com jessie/main Translation-en [162 B]         \n",
      "Holen: 4 https://deb.nodesource.com jessie/main Translation-de_DE [162 B]      \n",
      "Holen: 5 https://deb.nodesource.com jessie/main Translation-de [162 B]         \n",
      "Holen: 6 https://deb.nodesource.com jessie/main Translation-en [162 B]         \n",
      "Holen: 7 https://deb.nodesource.com jessie/main Translation-de_DE [162 B]      \n",
      "Holen: 8 https://deb.nodesource.com jessie/main Translation-de [162 B]         \n",
      "Holen: 9 https://deb.nodesource.com jessie/main Translation-en [162 B]         \n",
      "Holen: 10 https://deb.nodesource.com jessie/main Translation-de_DE [162 B]     \n",
      "Holen: 11 https://deb.nodesource.com jessie/main Translation-de [162 B]        \n",
      "Holen: 12 https://deb.nodesource.com jessie/main Translation-en [162 B]        \n",
      "Holen: 13 https://deb.nodesource.com jessie/main Translation-de_DE [162 B]     \n",
      "Ign https://deb.nodesource.com jessie/main Translation-de_DE                   \n",
      "Holen: 14 https://deb.nodesource.com jessie/main Translation-de [162 B]        \n",
      "Ign https://deb.nodesource.com jessie/main Translation-de                      \n",
      "Holen: 15 https://deb.nodesource.com jessie/main Translation-en [162 B]        \n",
      "Ign https://deb.nodesource.com jessie/main Translation-en                      \n",
      "OK   http://mirrordirector.raspbian.org stretch/main armhf Packages            \n",
      "OK   http://mirrordirector.raspbian.org stretch/contrib armhf Packages         \n",
      "OK   http://mirrordirector.raspbian.org stretch/non-free armhf Packages        \n",
      "OK   http://mirrordirector.raspbian.org stretch/rpi armhf Packages             \n",
      "Ign http://archive.raspberrypi.org jessie/main Translation-de_DE               \n",
      "Ign http://archive.raspberrypi.org jessie/main Translation-de                  \n",
      "Ign http://archive.raspberrypi.org jessie/main Translation-en                  \n",
      "Ign http://mirrordirector.raspbian.org jessie/contrib Translation-de_DE        \n",
      "Ign http://mirrordirector.raspbian.org jessie/contrib Translation-de\n",
      "Ign http://mirrordirector.raspbian.org jessie/contrib Translation-en\n",
      "Ign http://mirrordirector.raspbian.org jessie/firmware Translation-de_DE\n",
      "Ign http://mirrordirector.raspbian.org jessie/firmware Translation-de\n",
      "Holen: 16 https://apt.dockerproject.org raspbian-jessie/main Translation-de_DE [454 B]\n",
      "Ign http://mirrordirector.raspbian.org jessie/firmware Translation-en          \n",
      "Ign http://mirrordirector.raspbian.org jessie/main Translation-de_DE           \n",
      "Ign http://mirrordirector.raspbian.org jessie/main Translation-de\n",
      "Ign http://mirrordirector.raspbian.org jessie/main Translation-en\n",
      "Ign http://mirrordirector.raspbian.org jessie/non-free Translation-de_DE\n",
      "Ign http://mirrordirector.raspbian.org jessie/non-free Translation-de\n",
      "Ign http://mirrordirector.raspbian.org jessie/non-free Translation-en\n",
      "Holen: 17 https://apt.dockerproject.org raspbian-jessie/main Translation-de [454 B]\n",
      "Ign http://mirrordirector.raspbian.org stretch/contrib Translation-de_DE       \n",
      "Holen: 18 https://apt.dockerproject.org raspbian-jessie/main Translation-en [454 B]\n",
      "Ign http://mirrordirector.raspbian.org stretch/contrib Translation-de          \n",
      "Ign http://mirrordirector.raspbian.org stretch/contrib Translation-en          \n",
      "Ign http://mirrordirector.raspbian.org stretch/main Translation-de_DE\n",
      "Ign http://mirrordirector.raspbian.org stretch/main Translation-de\n",
      "Ign http://mirrordirector.raspbian.org stretch/main Translation-en\n",
      "Ign http://mirrordirector.raspbian.org stretch/non-free Translation-de_DE\n",
      "Ign http://mirrordirector.raspbian.org stretch/non-free Translation-de\n",
      "Ign http://mirrordirector.raspbian.org stretch/non-free Translation-en\n",
      "Ign http://mirrordirector.raspbian.org stretch/rpi Translation-de_DE\n",
      "Ign http://mirrordirector.raspbian.org stretch/rpi Translation-de\n",
      "Holen: 19 https://apt.dockerproject.org raspbian-jessie/main Translation-de_DE [454 B]\n",
      "Ign http://mirrordirector.raspbian.org stretch/rpi Translation-en              \n",
      "Holen: 20 https://apt.dockerproject.org raspbian-jessie/main Translation-de [454 B]\n",
      "Holen: 21 https://apt.dockerproject.org raspbian-jessie/main Translation-en [454 B]\n",
      "Holen: 22 https://apt.dockerproject.org raspbian-jessie/main Translation-de_DE [454 B]\n",
      "Holen: 23 https://apt.dockerproject.org raspbian-jessie/main Translation-de [454 B]\n",
      "Holen: 24 https://apt.dockerproject.org raspbian-jessie/main Translation-en [454 B]\n",
      "Holen: 25 https://apt.dockerproject.org raspbian-jessie/main Translation-de_DE [454 B]\n",
      "Holen: 26 https://apt.dockerproject.org raspbian-jessie/main Translation-de [454 B]\n",
      "Holen: 27 https://apt.dockerproject.org raspbian-jessie/main Translation-en [454 B]\n",
      "Holen: 28 https://apt.dockerproject.org raspbian-jessie/main Translation-de_DE [454 B]\n",
      "Ign https://apt.dockerproject.org raspbian-jessie/main Translation-de_DE\n",
      "Holen: 29 https://apt.dockerproject.org raspbian-jessie/main Translation-de [454 B]\n",
      "Ign https://apt.dockerproject.org raspbian-jessie/main Translation-de\n",
      "Holen: 30 https://apt.dockerproject.org raspbian-jessie/main Translation-en [454 B]\n",
      "Ign https://apt.dockerproject.org raspbian-jessie/main Translation-en\n",
      "Paketlisten werden gelesen... Fertig                                           \n",
      "Paketlisten werden gelesen... Fertig\n",
      "Abhängigkeitsbaum wird aufgebaut.       \n",
      "Statusinformationen werden eingelesen.... Fertig\n",
      "Die folgenden zusätzlichen Pakete werden installiert:\n",
      "  bind9-host libbind9-90 libdns100 libisc95 libisccc90 libisccfg90 liblwres90\n",
      "Vorgeschlagene Pakete:\n",
      "  rblcheck\n",
      "Die folgenden NEUEN Pakete werden installiert:\n",
      "  bind9-host dnsutils libbind9-90 libdns100 libisc95 libisccc90 libisccfg90\n",
      "  liblwres90\n",
      "0 aktualisiert, 8 neu installiert, 0 zu entfernen und 3 nicht aktualisiert.\n",
      "Es müssen 1.106 kB an Archiven heruntergeladen werden.\n",
      "Nach dieser Operation werden 2.949 kB Plattenplatz zusätzlich benutzt.\n",
      "Holen: 1 http://mirrordirector.raspbian.org/raspbian/ jessie/main libisc95 armhf 1:9.9.5.dfsg-9+deb8u13 [149 kB]\n",
      "Holen: 2 http://mirrordirector.raspbian.org/raspbian/ jessie/main libdns100 armhf 1:9.9.5.dfsg-9+deb8u13 [601 kB]\n",
      "Holen: 3 http://mirrordirector.raspbian.org/raspbian/ jessie/main libisccc90 armhf 1:9.9.5.dfsg-9+deb8u13 [34,9 kB]\n",
      "Holen: 4 http://mirrordirector.raspbian.org/raspbian/ jessie/main libisccfg90 armhf 1:9.9.5.dfsg-9+deb8u13 [51,0 kB]\n",
      "Holen: 5 http://mirrordirector.raspbian.org/raspbian/ jessie/main libbind9-90 armhf 1:9.9.5.dfsg-9+deb8u13 [41,7 kB]\n",
      "Holen: 6 http://mirrordirector.raspbian.org/raspbian/ jessie/main liblwres90 armhf 1:9.9.5.dfsg-9+deb8u13 [48,3 kB]\n",
      "Holen: 7 http://mirrordirector.raspbian.org/raspbian/ jessie/main bind9-host armhf 1:9.9.5.dfsg-9+deb8u13 [66,1 kB]\n",
      "Holen: 8 http://mirrordirector.raspbian.org/raspbian/ jessie/main dnsutils armhf 1:9.9.5.dfsg-9+deb8u13 [114 kB]\n",
      "Es wurden 1.106 kB in 1 s geholt (673 kB/s).\n",
      "debconf: unable to initialize frontend: Dialog\n",
      "debconf: (Dialog frontend will not work on a dumb terminal, an emacs shell buffer, or without a controlling terminal.)\n",
      "debconf: falling back to frontend: Readline\n",
      "Vormals nicht ausgewähltes Paket libisc95 wird gewählt.\n",
      "(Lese Datenbank ... 96200 Dateien und Verzeichnisse sind derzeit installiert.)\n",
      "Vorbereitung zum Entpacken von .../libisc95_1%3a9.9.5.dfsg-9+deb8u13_armhf.deb ...\n"
     ]
    },
    {
     "name": "stdout",
     "output_type": "stream",
     "text": [
      "Entpacken von libisc95 (1:9.9.5.dfsg-9+deb8u13) ...\n",
      "Vormals nicht ausgewähltes Paket libdns100 wird gewählt.\n",
      "Vorbereitung zum Entpacken von .../libdns100_1%3a9.9.5.dfsg-9+deb8u13_armhf.deb ...\n",
      "Entpacken von libdns100 (1:9.9.5.dfsg-9+deb8u13) ...\n",
      "Vormals nicht ausgewähltes Paket libisccc90 wird gewählt.\n",
      "Vorbereitung zum Entpacken von .../libisccc90_1%3a9.9.5.dfsg-9+deb8u13_armhf.deb ...\n",
      "Entpacken von libisccc90 (1:9.9.5.dfsg-9+deb8u13) ...\n",
      "Vormals nicht ausgewähltes Paket libisccfg90 wird gewählt.\n",
      "Vorbereitung zum Entpacken von .../libisccfg90_1%3a9.9.5.dfsg-9+deb8u13_armhf.deb ...\n",
      "Entpacken von libisccfg90 (1:9.9.5.dfsg-9+deb8u13) ...\n",
      "Vormals nicht ausgewähltes Paket libbind9-90 wird gewählt.\n",
      "Vorbereitung zum Entpacken von .../libbind9-90_1%3a9.9.5.dfsg-9+deb8u13_armhf.deb ...\n",
      "Entpacken von libbind9-90 (1:9.9.5.dfsg-9+deb8u13) ...\n",
      "Vormals nicht ausgewähltes Paket liblwres90 wird gewählt.\n",
      "Vorbereitung zum Entpacken von .../liblwres90_1%3a9.9.5.dfsg-9+deb8u13_armhf.deb ...\n",
      "Entpacken von liblwres90 (1:9.9.5.dfsg-9+deb8u13) ...\n",
      "Vormals nicht ausgewähltes Paket bind9-host wird gewählt.\n",
      "Vorbereitung zum Entpacken von .../bind9-host_1%3a9.9.5.dfsg-9+deb8u13_armhf.deb ...\n",
      "Entpacken von bind9-host (1:9.9.5.dfsg-9+deb8u13) ...\n",
      "Vormals nicht ausgewähltes Paket dnsutils wird gewählt.\n",
      "Vorbereitung zum Entpacken von .../dnsutils_1%3a9.9.5.dfsg-9+deb8u13_armhf.deb ...\n",
      "Entpacken von dnsutils (1:9.9.5.dfsg-9+deb8u13) ...\n",
      "Trigger für man-db (2.7.5-1~bpo8+1) werden verarbeitet ...\n",
      "libisc95 (1:9.9.5.dfsg-9+deb8u13) wird eingerichtet ...\n",
      "libdns100 (1:9.9.5.dfsg-9+deb8u13) wird eingerichtet ...\n",
      "libisccc90 (1:9.9.5.dfsg-9+deb8u13) wird eingerichtet ...\n",
      "libisccfg90 (1:9.9.5.dfsg-9+deb8u13) wird eingerichtet ...\n",
      "libbind9-90 (1:9.9.5.dfsg-9+deb8u13) wird eingerichtet ...\n",
      "liblwres90 (1:9.9.5.dfsg-9+deb8u13) wird eingerichtet ...\n",
      "bind9-host (1:9.9.5.dfsg-9+deb8u13) wird eingerichtet ...\n",
      "dnsutils (1:9.9.5.dfsg-9+deb8u13) wird eingerichtet ...\n",
      "Trigger für libc-bin (2.19-18+deb8u10) werden verarbeitet ...\n"
     ]
    }
   ],
   "source": [
    "sudo apt-get update && sudo apt-get install --yes dnsutils"
   ]
  },
  {
   "cell_type": "code",
   "execution_count": 6,
   "metadata": {},
   "outputs": [
    {
     "name": "stdout",
     "output_type": "stream",
     "text": [
      "192.168.56.192\n"
     ]
    }
   ],
   "source": [
    "getent hosts cluster-00.fritz.box | awk '{ print $1 }'"
   ]
  },
  {
   "cell_type": "code",
   "execution_count": 7,
   "metadata": {},
   "outputs": [
    {
     "name": "stdout",
     "output_type": "stream",
     "text": [
      "Swarm initialized: current node (slojzyq7es096l932pmnzhyu1) is now a manager.\n",
      "\n",
      "To add a worker to this swarm, run the following command:\n",
      "\n",
      "    docker swarm join \\\n",
      "    --token SWMTKN-1-1k92clr6itw26acyucgz99s3j8jr0xlwwxkm6tc45w4fqow0hv-dqzk1rsbzu2ozq00xjey9nvst \\\n",
      "    192.168.56.192:2377\n",
      "\n",
      "To add a manager to this swarm, run 'docker swarm join-token manager' and follow the instructions.\n",
      "\n"
     ]
    }
   ],
   "source": [
    "docker swarm init --advertise-addr $(getent hosts cluster-00.fritz.box | awk '{ print $1 }')"
   ]
  },
  {
   "cell_type": "code",
   "execution_count": 8,
   "metadata": {},
   "outputs": [],
   "source": [
    "JOIN_TOKEN=$(docker swarm join-token -q worker)"
   ]
  },
  {
   "cell_type": "code",
   "execution_count": null,
   "metadata": {},
   "outputs": [],
   "source": []
  },
  {
   "cell_type": "code",
   "execution_count": null,
   "metadata": {},
   "outputs": [],
   "source": [
    "sshpass -p raspberry ssh pi@cluster-01"
   ]
  }
 ],
 "metadata": {
  "kernelspec": {
   "display_name": "Bash",
   "language": "bash",
   "name": "bash"
  },
  "language_info": {
   "codemirror_mode": "shell",
   "file_extension": ".sh",
   "mimetype": "text/x-sh",
   "name": "bash"
  }
 },
 "nbformat": 4,
 "nbformat_minor": 2
}
