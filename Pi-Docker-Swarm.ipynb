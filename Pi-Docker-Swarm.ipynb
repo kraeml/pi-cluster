{
 "cells": [
  {
   "cell_type": "markdown",
   "metadata": {},
   "source": [
    "# Docker Swarm with Blinkt!\n",
    "\n",
    "## Init Docker Swarm on Cluster\n",
    "\n",
    "Zunächst die IP-Adresse feststellen."
   ]
  },
  {
   "cell_type": "code",
   "execution_count": 8,
   "metadata": {},
   "outputs": [
    {
     "name": "stdout",
     "output_type": "stream",
     "text": [
      "127.0.1.1       cluster-00.rdf.loc cluster-00\n"
     ]
    }
   ],
   "source": [
    "getent hosts $(hostname)"
   ]
  },
  {
   "cell_type": "markdown",
   "metadata": {},
   "source": [
    "Geht nicht, da hier nur die Einträge aus der `hosts`-Datei ausgelesen werden."
   ]
  },
  {
   "cell_type": "code",
   "execution_count": 9,
   "metadata": {},
   "outputs": [
    {
     "name": "stdout",
     "output_type": "stream",
     "text": [
      "127.0.0.1 localhost\n",
      "127.0.1.1 cluster-00.rdf.loc cluster-00\n",
      "::1             localhost ip6-localhost ip6-loopback\n",
      "fe00::0         ip6-localnet\n",
      "ff00::0         ip6-mcastprefix\n",
      "ff02::1         ip6-allnodes\n",
      "ff02::2         ip6-allrouters\n"
     ]
    }
   ],
   "source": [
    "cat /etc/hosts"
   ]
  },
  {
   "cell_type": "markdown",
   "metadata": {},
   "source": [
    "Besser die IP und Namen durch den DNS aus dem lokalen Netz verwenden.\n",
    "\n",
    "Hier wird das Paket dnsutils nachinstalliert, falls nslookup nicht vorhanden ist."
   ]
  },
  {
   "cell_type": "code",
   "execution_count": 10,
   "metadata": {},
   "outputs": [
    {
     "name": "stdout",
     "output_type": "stream",
     "text": [
      "Server:\t\t192.168.56.47\n",
      "Address:\t192.168.56.47#53\n",
      "\n",
      "Name:\tcluster-00.fritz.box\n",
      "Address: 192.168.56.192\n",
      "\n"
     ]
    }
   ],
   "source": [
    "nslookup $(hostname) || (sudo apt-get install -yes dnsutils && nslookup $(hostname))"
   ]
  },
  {
   "cell_type": "code",
   "execution_count": 11,
   "metadata": {},
   "outputs": [
    {
     "name": "stdout",
     "output_type": "stream",
     "text": [
      "cluster-00.fritz.box\n"
     ]
    }
   ],
   "source": [
    "FQDN=$(nslookup $(hostname) | grep Name | awk '{ print $2 }')\n",
    "echo $FQDN"
   ]
  },
  {
   "cell_type": "code",
   "execution_count": 12,
   "metadata": {},
   "outputs": [
    {
     "name": "stdout",
     "output_type": "stream",
     "text": [
      "192.168.56.192\n"
     ]
    }
   ],
   "source": [
    "IP=$(getent hosts ${FQDN} | awk '{ print $1 }')\n",
    "echo $IP"
   ]
  },
  {
   "cell_type": "code",
   "execution_count": 13,
   "metadata": {},
   "outputs": [
    {
     "name": "stdout",
     "output_type": "stream",
     "text": [
      "fritz.box\n"
     ]
    }
   ],
   "source": [
    "DOMAIN=$(getent hosts ${FQDN} | awk '{ print $2 }' | cut -d '.' -f2,3)\n",
    "echo $DOMAIN"
   ]
  },
  {
   "cell_type": "code",
   "execution_count": 14,
   "metadata": {},
   "outputs": [
    {
     "name": "stdout",
     "output_type": "stream",
     "text": [
      "Error response from daemon: This node is not a swarm manager. Use \"docker swarm init\" or \"docker swarm join\" to connect this node to swarm and try again.\n",
      "Swarm initialized: current node (gg85b6mhkcn767gw5wn2b450e) is now a manager.\n",
      "\n",
      "To add a worker to this swarm, run the following command:\n",
      "\n",
      "    docker swarm join \\\n",
      "    --token SWMTKN-1-4ss54vka9dgkqjvf0x0amgwb4g7h7ylnhrsmxfe6r8s89a8u24-e9l3zf2rtwngdxezt3yv5sn67 \\\n",
      "    192.168.56.192:2377\n",
      "\n",
      "To add a manager to this swarm, run 'docker swarm join-token manager' and follow the instructions.\n",
      "\n"
     ]
    }
   ],
   "source": [
    "docker node ls || docker swarm init --advertise-addr ${IP}"
   ]
  },
  {
   "cell_type": "code",
   "execution_count": 15,
   "metadata": {},
   "outputs": [
    {
     "name": "stdout",
     "output_type": "stream",
     "text": [
      "SWMTKN-1-4ss54vka9dgkqjvf0x0amgwb4g7h7ylnhrsmxfe6r8s89a8u24-e9l3zf2rtwngdxezt3yv5sn67\n"
     ]
    }
   ],
   "source": [
    "JOIN_TOKEN=$(docker swarm join-token -q worker)\n",
    "echo $JOIN_TOKEN"
   ]
  },
  {
   "cell_type": "code",
   "execution_count": 16,
   "metadata": {},
   "outputs": [
    {
     "name": "stdout",
     "output_type": "stream",
     "text": [
      "/home/pi/.ssh/id_rsa\n"
     ]
    }
   ],
   "source": [
    "# Setup ssh-key for user if not exists\n",
    "ls ~/.ssh/id_rsa || ansible -i localhost, -m shell -a 'ssh-keygen -b 2048 -t rsa -f ~/.ssh/id_rsa -q -N \"\" creates=~/.ssh/id_rsa' --connection=local localhost"
   ]
  },
  {
   "cell_type": "markdown",
   "metadata": {},
   "source": [
    "Den SSH Zugang vorbereiten. Zunächst aus `knwon_hosts` löschen. Dann wieder bekannt geben und den ssh-key übertragen."
   ]
  },
  {
   "cell_type": "code",
   "execution_count": 17,
   "metadata": {},
   "outputs": [
    {
     "name": "stdout",
     "output_type": "stream",
     "text": [
      "cluster-01\n",
      "# Host cluster-01 found: line 3 type RSA\n",
      "# Host cluster-01 found: line 4 type ECDSA\n",
      "# Host cluster-01 found: line 5 type ED25519\n",
      "/home/pi/.ssh/known_hosts updated.\n",
      "Original contents retained as /home/pi/.ssh/known_hosts.old\n",
      "/home/pi/.ssh/known_hosts updated.\n",
      "Original contents retained as /home/pi/.ssh/known_hosts.old\n",
      "# Host 192.168.56.189 found: line 3 type ECDSA\n",
      "/home/pi/.ssh/known_hosts updated.\n",
      "Original contents retained as /home/pi/.ssh/known_hosts.old\n",
      "# cluster-01 SSH-2.0-OpenSSH_6.7p1 Raspbian-5+deb8u3\n",
      "# cluster-01 SSH-2.0-OpenSSH_6.7p1 Raspbian-5+deb8u3\n",
      "# cluster-01 SSH-2.0-OpenSSH_6.7p1 Raspbian-5+deb8u3\n",
      "/usr/bin/ssh-copy-id: INFO: attempting to log in with the new key(s), to filter out any that are already installed\n",
      "\n",
      "/usr/bin/ssh-copy-id: WARNING: All keys were skipped because they already exist on the remote system.\n",
      "\n",
      "cluster-02\n",
      "# Host cluster-02 found: line 3 type RSA\n",
      "# Host cluster-02 found: line 4 type ECDSA\n",
      "# Host cluster-02 found: line 5 type ED25519\n",
      "/home/pi/.ssh/known_hosts updated.\n",
      "Original contents retained as /home/pi/.ssh/known_hosts.old\n",
      "/home/pi/.ssh/known_hosts updated.\n",
      "Original contents retained as /home/pi/.ssh/known_hosts.old\n",
      "# Host 192.168.56.191 found: line 3 type ECDSA\n",
      "/home/pi/.ssh/known_hosts updated.\n",
      "Original contents retained as /home/pi/.ssh/known_hosts.old\n",
      "# cluster-02 SSH-2.0-OpenSSH_6.7p1 Raspbian-5+deb8u3\n",
      "# cluster-02 SSH-2.0-OpenSSH_6.7p1 Raspbian-5+deb8u3\n",
      "# cluster-02 SSH-2.0-OpenSSH_6.7p1 Raspbian-5+deb8u3\n",
      "/usr/bin/ssh-copy-id: INFO: attempting to log in with the new key(s), to filter out any that are already installed\n",
      "\n",
      "/usr/bin/ssh-copy-id: WARNING: All keys were skipped because they already exist on the remote system.\n",
      "\n",
      "cluster-03\n",
      "# Host cluster-03 found: line 3 type RSA\n",
      "# Host cluster-03 found: line 4 type ECDSA\n",
      "# Host cluster-03 found: line 5 type ED25519\n",
      "/home/pi/.ssh/known_hosts updated.\n",
      "Original contents retained as /home/pi/.ssh/known_hosts.old\n",
      "/home/pi/.ssh/known_hosts updated.\n",
      "Original contents retained as /home/pi/.ssh/known_hosts.old\n",
      "# Host 192.168.56.187 found: line 3 type ECDSA\n",
      "/home/pi/.ssh/known_hosts updated.\n",
      "Original contents retained as /home/pi/.ssh/known_hosts.old\n",
      "# cluster-03 SSH-2.0-OpenSSH_6.7p1 Raspbian-5+deb8u3\n",
      "# cluster-03 SSH-2.0-OpenSSH_6.7p1 Raspbian-5+deb8u3\n",
      "# cluster-03 SSH-2.0-OpenSSH_6.7p1 Raspbian-5+deb8u3\n",
      "/usr/bin/ssh-copy-id: INFO: attempting to log in with the new key(s), to filter out any that are already installed\n",
      "\n",
      "/usr/bin/ssh-copy-id: WARNING: All keys were skipped because they already exist on the remote system.\n",
      "\n",
      "cluster-04\n",
      "# Host cluster-04 found: line 3 type RSA\n",
      "# Host cluster-04 found: line 4 type ECDSA\n",
      "# Host cluster-04 found: line 5 type ED25519\n",
      "/home/pi/.ssh/known_hosts updated.\n",
      "Original contents retained as /home/pi/.ssh/known_hosts.old\n",
      "/home/pi/.ssh/known_hosts updated.\n",
      "Original contents retained as /home/pi/.ssh/known_hosts.old\n",
      "# Host 192.168.56.196 found: line 3 type ECDSA\n",
      "/home/pi/.ssh/known_hosts updated.\n",
      "Original contents retained as /home/pi/.ssh/known_hosts.old\n",
      "# cluster-04 SSH-2.0-OpenSSH_6.7p1 Raspbian-5+deb8u3\n",
      "# cluster-04 SSH-2.0-OpenSSH_6.7p1 Raspbian-5+deb8u3\n",
      "# cluster-04 SSH-2.0-OpenSSH_6.7p1 Raspbian-5+deb8u3\n",
      "/usr/bin/ssh-copy-id: INFO: attempting to log in with the new key(s), to filter out any that are already installed\n",
      "\n",
      "/usr/bin/ssh-copy-id: WARNING: All keys were skipped because they already exist on the remote system.\n",
      "\n"
     ]
    }
   ],
   "source": [
    "for i in 01 02 03 04; do\n",
    "    # Remove host key for ip\n",
    "    CL_HOSTNAME=cluster-${i}\n",
    "    echo ${CL_HOSTNAME}\n",
    "    # Cluster Hostname only\n",
    "    ssh-keygen -R ${CL_HOSTNAME}\n",
    "    # Cluster FQDN\n",
    "    ssh-keygen -R ${CL_HOSTNAME}.${DOMAIN}\n",
    "    # IP Cluster \n",
    "    ssh-keygen -R $(getent hosts ${CL_HOSTNAME} | awk '{ print $1 }')\n",
    "    # Add ip into known_hosts\n",
    "    ssh-keyscan -H cluster-${i} >> ~/.ssh/known_hosts\n",
    "    sshpass -p raspberry ssh-copy-id pi@cluster-${i}\n",
    "done"
   ]
  },
  {
   "cell_type": "markdown",
   "metadata": {},
   "source": [
    "Alle Clients als Worker dem Swarm beitreten."
   ]
  },
  {
   "cell_type": "code",
   "execution_count": 18,
   "metadata": {},
   "outputs": [
    {
     "name": "stdout",
     "output_type": "stream",
     "text": [
      "cluster-01\n",
      "192.168.56.189\n",
      "This node joined a swarm as a worker.\n",
      "cluster-02\n",
      "192.168.56.191\n",
      "This node joined a swarm as a worker.\n",
      "cluster-03\n",
      "192.168.56.187\n",
      "This node joined a swarm as a worker.\n",
      "cluster-04\n",
      "192.168.56.196\n",
      "This node joined a swarm as a worker.\n"
     ]
    }
   ],
   "source": [
    "for i in 01 02 03 04; do\n",
    "    CL_HOSTNAME=cluster-${i}\n",
    "    echo $CL_HOSTNAME\n",
    "    CL_IP=$(getent hosts ${CL_HOSTNAME} | awk '{ print $1 }')\n",
    "    echo $CL_IP\n",
    "    ssh pi@cluster-${i} \"docker swarm join --token $JOIN_TOKEN --advertise-addr ${CL_IP} ${IP}:2377\"\n",
    "done"
   ]
  },
  {
   "cell_type": "code",
   "execution_count": 19,
   "metadata": {},
   "outputs": [
    {
     "name": "stdout",
     "output_type": "stream",
     "text": [
      "ID                            HOSTNAME            STATUS              AVAILABILITY        MANAGER STATUS\n",
      "gg85b6mhkcn767gw5wn2b450e *   cluster-00          Ready               Active              Leader\n",
      "i4oclfprt80sgrcgtmubwo0h2     cluster-02          Ready               Active              \n",
      "nbwj4hqjnzos1gtgmrzez8nd3     cluster-04          Ready               Active              \n",
      "pp20jv9n54gta0hh54ca0l3mj     cluster-03          Ready               Active              \n",
      "wx23y4qs491snmxq14cw8pgbo     cluster-01          Ready               Active              \n"
     ]
    }
   ],
   "source": [
    "docker node ls"
   ]
  },
  {
   "cell_type": "markdown",
   "metadata": {},
   "source": [
    "## Visualizer anschauen"
   ]
  },
  {
   "cell_type": "markdown",
   "metadata": {},
   "source": [
    "Einen graphischen Output als Service starten."
   ]
  },
  {
   "cell_type": "code",
   "execution_count": 20,
   "metadata": {},
   "outputs": [
    {
     "name": "stdout",
     "output_type": "stream",
     "text": [
      "sqj3abx4oeyhbh5fngk8457ss\n",
      "Since --detach=false was not specified, tasks will be created in the background.\n",
      "In a future release, --detach=false will become the default.\n"
     ]
    }
   ],
   "source": [
    "docker service create \\\n",
    "  --name=visualizer \\\n",
    "  --publish=8000:8080/tcp \\\n",
    "  --constraint=node.role==manager \\\n",
    "  --mount=type=bind,src=/var/run/docker.sock,dst=/var/run/docker.sock \\\n",
    "  alexellis2/visualizer-arm"
   ]
  },
  {
   "cell_type": "code",
   "execution_count": 21,
   "metadata": {},
   "outputs": [
    {
     "name": "stdout",
     "output_type": "stream",
     "text": [
      "http://192.168.56.192:8000\n"
     ]
    }
   ],
   "source": [
    "echo \"http://$(getent hosts cluster-00.fritz.box | awk '{ print $1 }'):8000\""
   ]
  },
  {
   "cell_type": "code",
   "execution_count": 22,
   "metadata": {},
   "outputs": [
    {
     "name": "stdout",
     "output_type": "stream",
     "text": [
      "ID                  NAME                MODE                REPLICAS            IMAGE                              PORTS\n",
      "sqj3abx4oeyh        visualizer          replicated          1/1                 alexellis2/visualizer-arm:latest   *:8000->8080/tcp\n"
     ]
    }
   ],
   "source": [
    "docker service ls"
   ]
  },
  {
   "cell_type": "markdown",
   "metadata": {},
   "source": [
    "Auf allen nodes den Monitor Dienst installieren. Dieser überwacht, wie viele whoami Container laufen.\n",
    "\n",
    "Grün: Ein whoami-Container wird gestartet.\n",
    "\n",
    "Rot: Ein whoami-Container stoppt.\n",
    "\n",
    "Gelb: Für die Version 1.1.0\n",
    "\n",
    "Blau: Für die Version 1.2.0"
   ]
  },
  {
   "cell_type": "code",
   "execution_count": 23,
   "metadata": {},
   "outputs": [
    {
     "name": "stdout",
     "output_type": "stream",
     "text": [
      "3e9my1weilpmm4afrvqze9vxh\n",
      "Since --detach=false was not specified, tasks will be created in the background.\n",
      "In a future release, --detach=false will become the default.\n"
     ]
    }
   ],
   "source": [
    "docker service create --name monitor --mode global \\\n",
    "  --restart-condition any --mount type=bind,src=/sys,dst=/sys \\\n",
    "  --mount type=bind,src=/var/run/docker.sock,dst=/var/run/docker.sock \\\n",
    "  stefanscherer/monitor:1.1.0"
   ]
  },
  {
   "cell_type": "markdown",
   "metadata": {},
   "source": [
    "Es läuft noch kein whoami."
   ]
  },
  {
   "cell_type": "code",
   "execution_count": 24,
   "metadata": {},
   "outputs": [
    {
     "name": "stdout",
     "output_type": "stream",
     "text": [
      "ID                  NAME                MODE                REPLICAS            IMAGE                              PORTS\n",
      "3e9my1weilpm        monitor             global              5/5                 stefanscherer/monitor:1.1.0        \n",
      "sqj3abx4oeyh        visualizer          replicated          1/1                 alexellis2/visualizer-arm:latest   *:8000->8080/tcp\n"
     ]
    }
   ],
   "source": [
    "docker service ls"
   ]
  },
  {
   "cell_type": "code",
   "execution_count": 25,
   "metadata": {},
   "outputs": [
    {
     "name": "stdout",
     "output_type": "stream",
     "text": [
      "ygzh4phxcp0i28dunm85enf7y\n",
      "Since --detach=false was not specified, tasks will be created in the background.\n",
      "In a future release, --detach=false will become the default.\n"
     ]
    }
   ],
   "source": [
    "docker service create --name whoami stefanscherer/whoami:1.1.0"
   ]
  },
  {
   "cell_type": "code",
   "execution_count": null,
   "metadata": {},
   "outputs": [],
   "source": [
    "sleep 10"
   ]
  },
  {
   "cell_type": "code",
   "execution_count": 26,
   "metadata": {},
   "outputs": [
    {
     "name": "stdout",
     "output_type": "stream",
     "text": [
      "ID                  NAME                MODE                REPLICAS            IMAGE                              PORTS\n",
      "3e9my1weilpm        monitor             global              5/5                 stefanscherer/monitor:1.1.0        \n",
      "sqj3abx4oeyh        visualizer          replicated          1/1                 alexellis2/visualizer-arm:latest   *:8000->8080/tcp\n",
      "ygzh4phxcp0i        whoami              replicated          1/1                 stefanscherer/whoami:1.1.0         \n"
     ]
    }
   ],
   "source": [
    "docker service ls"
   ]
  },
  {
   "cell_type": "code",
   "execution_count": 27,
   "metadata": {},
   "outputs": [
    {
     "name": "stdout",
     "output_type": "stream",
     "text": [
      "whoami scaled to 5\n"
     ]
    }
   ],
   "source": [
    "docker service scale whoami=5"
   ]
  },
  {
   "cell_type": "code",
   "execution_count": null,
   "metadata": {},
   "outputs": [],
   "source": [
    "sleep 30"
   ]
  },
  {
   "cell_type": "code",
   "execution_count": 28,
   "metadata": {},
   "outputs": [
    {
     "name": "stdout",
     "output_type": "stream",
     "text": [
      "ID                  NAME                MODE                REPLICAS            IMAGE                              PORTS\n",
      "3e9my1weilpm        monitor             global              5/5                 stefanscherer/monitor:1.1.0        \n",
      "sqj3abx4oeyh        visualizer          replicated          1/1                 alexellis2/visualizer-arm:latest   *:8000->8080/tcp\n",
      "ygzh4phxcp0i        whoami              replicated          5/5                 stefanscherer/whoami:1.1.0         \n"
     ]
    }
   ],
   "source": [
    "docker service ls"
   ]
  },
  {
   "cell_type": "code",
   "execution_count": 29,
   "metadata": {},
   "outputs": [
    {
     "name": "stdout",
     "output_type": "stream",
     "text": [
      "whoami scaled to 15\n"
     ]
    }
   ],
   "source": [
    "docker service scale whoami=15"
   ]
  },
  {
   "cell_type": "code",
   "execution_count": null,
   "metadata": {},
   "outputs": [],
   "source": [
    "sleep 30"
   ]
  },
  {
   "cell_type": "code",
   "execution_count": 30,
   "metadata": {},
   "outputs": [
    {
     "name": "stdout",
     "output_type": "stream",
     "text": [
      "ID                  NAME                MODE                REPLICAS            IMAGE                              PORTS\n",
      "3e9my1weilpm        monitor             global              5/5                 stefanscherer/monitor:1.1.0        \n",
      "sqj3abx4oeyh        visualizer          replicated          1/1                 alexellis2/visualizer-arm:latest   *:8000->8080/tcp\n",
      "ygzh4phxcp0i        whoami              replicated          15/15               stefanscherer/whoami:1.1.0         \n"
     ]
    }
   ],
   "source": [
    "docker service ls"
   ]
  },
  {
   "cell_type": "code",
   "execution_count": null,
   "metadata": {},
   "outputs": [],
   "source": [
    "docker service scale whoami=40"
   ]
  },
  {
   "cell_type": "code",
   "execution_count": null,
   "metadata": {},
   "outputs": [],
   "source": [
    "sleep 45"
   ]
  },
  {
   "cell_type": "code",
   "execution_count": 31,
   "metadata": {},
   "outputs": [
    {
     "name": "stdout",
     "output_type": "stream",
     "text": [
      "whoami\n",
      "Since --detach=false was not specified, tasks will be updated in the background.\n",
      "In a future release, --detach=false will become the default.\n"
     ]
    }
   ],
   "source": [
    "docker service update --update-parallelism 5 \\\n",
    "  --image stefanscherer/whoami:1.2.0 whoami"
   ]
  },
  {
   "cell_type": "code",
   "execution_count": null,
   "metadata": {},
   "outputs": [],
   "source": [
    "sleep 45"
   ]
  },
  {
   "cell_type": "code",
   "execution_count": 32,
   "metadata": {},
   "outputs": [
    {
     "name": "stdout",
     "output_type": "stream",
     "text": [
      "ID                  NAME                MODE                REPLICAS            IMAGE                              PORTS\n",
      "3e9my1weilpm        monitor             global              5/5                 stefanscherer/monitor:1.1.0        \n",
      "sqj3abx4oeyh        visualizer          replicated          1/1                 alexellis2/visualizer-arm:latest   *:8000->8080/tcp\n",
      "ygzh4phxcp0i        whoami              replicated          15/15               stefanscherer/whoami:1.2.0         \n"
     ]
    }
   ],
   "source": [
    "docker service ls"
   ]
  },
  {
   "cell_type": "code",
   "execution_count": 33,
   "metadata": {},
   "outputs": [
    {
     "name": "stdout",
     "output_type": "stream",
     "text": [
      "whoami scaled to 1\n"
     ]
    }
   ],
   "source": [
    "docker service scale whoami=1"
   ]
  },
  {
   "cell_type": "code",
   "execution_count": null,
   "metadata": {},
   "outputs": [],
   "source": [
    "sleep 15"
   ]
  },
  {
   "cell_type": "code",
   "execution_count": 34,
   "metadata": {},
   "outputs": [
    {
     "name": "stdout",
     "output_type": "stream",
     "text": [
      "whoami scaled to 40\n"
     ]
    }
   ],
   "source": [
    "docker service scale whoami=40"
   ]
  },
  {
   "cell_type": "code",
   "execution_count": null,
   "metadata": {},
   "outputs": [],
   "source": [
    "sleep 45"
   ]
  },
  {
   "cell_type": "code",
   "execution_count": 35,
   "metadata": {},
   "outputs": [
    {
     "name": "stdout",
     "output_type": "stream",
     "text": [
      "ID                  NAME                MODE                REPLICAS            IMAGE                              PORTS\n",
      "3e9my1weilpm        monitor             global              5/5                 stefanscherer/monitor:1.1.0        \n",
      "sqj3abx4oeyh        visualizer          replicated          1/1                 alexellis2/visualizer-arm:latest   *:8000->8080/tcp\n",
      "ygzh4phxcp0i        whoami              replicated          40/40               stefanscherer/whoami:1.2.0         \n"
     ]
    }
   ],
   "source": [
    "docker service ls"
   ]
  },
  {
   "cell_type": "code",
   "execution_count": 36,
   "metadata": {},
   "outputs": [
    {
     "name": "stdout",
     "output_type": "stream",
     "text": [
      "whoami\n",
      "Since --detach=false was not specified, tasks will be updated in the background.\n",
      "In a future release, --detach=false will become the default.\n"
     ]
    }
   ],
   "source": [
    "docker service update --update-parallelism 5 \\\n",
    "  --image stefanscherer/whoami:1.1.0 whoami"
   ]
  },
  {
   "cell_type": "code",
   "execution_count": null,
   "metadata": {},
   "outputs": [],
   "source": [
    "sleep 45"
   ]
  },
  {
   "cell_type": "code",
   "execution_count": 37,
   "metadata": {},
   "outputs": [
    {
     "name": "stdout",
     "output_type": "stream",
     "text": [
      "whoami\n",
      "Since --detach=false was not specified, tasks will be updated in the background.\n",
      "In a future release, --detach=false will become the default.\n"
     ]
    }
   ],
   "source": [
    "docker service update --update-parallelism 5 \\\n",
    "  --image stefanscherer/whoami:1.2.0 whoami"
   ]
  },
  {
   "cell_type": "code",
   "execution_count": null,
   "metadata": {},
   "outputs": [],
   "source": [
    "sleep 45"
   ]
  },
  {
   "cell_type": "code",
   "execution_count": 38,
   "metadata": {},
   "outputs": [
    {
     "name": "stdout",
     "output_type": "stream",
     "text": [
      "ID                  NAME                MODE                REPLICAS            IMAGE                              PORTS\n",
      "3e9my1weilpm        monitor             global              5/5                 stefanscherer/monitor:1.1.0        \n",
      "sqj3abx4oeyh        visualizer          replicated          1/1                 alexellis2/visualizer-arm:latest   *:8000->8080/tcp\n",
      "ygzh4phxcp0i        whoami              replicated          40/40               stefanscherer/whoami:1.2.0         \n"
     ]
    }
   ],
   "source": [
    "docker service ls"
   ]
  },
  {
   "cell_type": "code",
   "execution_count": null,
   "metadata": {},
   "outputs": [
    {
     "name": "stdout",
     "output_type": "stream",
     "text": [
      "whoami scaled to 1\n",
      "whoami\n",
      "\n",
      "\u001b[1Ball progress: 0 out of 1 tasks \n",
      "\u001b[2Ball progress: 1 out of 1 tasks \n",
      "\u001b[1Bwhoami scaled to 15ds to verify that tasks are stable... \n",
      "whoami\n",
      "\n",
      "\u001b[1Ball progress: 0 out of 15 tasks \n",
      "\u001b[1B:   $<3>\u001b[K$<3>\n",
      "\u001b[1B:   $<3>\u001b[K$<3>\n",
      "\u001b[1B:   $<3>\u001b[K$<3>\n",
      "\u001b[1B:   $<3>\u001b[K$<3>\n",
      "\u001b[1B:   $<3>\u001b[K$<3>\n",
      "\u001b[1B:   $<3>\u001b[K$<3>\n",
      "\u001b[1B:   $<3>\u001b[K$<3>\n",
      "\u001b[1B:   $<3>\u001b[K$<3>\n",
      "\u001b[1B:   $<3>\u001b[K$<3>\n",
      "\u001b[1B5:   <3>\u001b[K$<3>\n",
      "\u001b[1B5:   <3>\u001b[K$<3>\n",
      "\u001b[1B5:   <3>\u001b[K$<3>\n",
      "\u001b[1B5:   <3>\u001b[K$<3>\n",
      "\u001b[1B5:   <3>\u001b[K$<3>\n",
      "\u001b[16Bll progress: 15 out of 15 tasks \n",
      "\u001b[1Bwhoami scaled to 40ds to verify that tasks are stable... \n",
      "whoami\n",
      "\n"
     ]
    }
   ],
   "source": [
    "END=10\n",
    "for i in $(seq 1 $END); do\n",
    "    docker service scale whoami=1 \n",
    "    docker service update --update-parallelism 5 \\\n",
    "        --image stefanscherer/whoami:1.1.0 whoami --detach=false\n",
    "    sleep 5\n",
    "    docker service scale whoami=15\n",
    "    sleep 10\n",
    "    docker service update --update-parallelism 5 \\\n",
    "        --image stefanscherer/whoami:1.2.0 whoami --detach=false\n",
    "    sleep 15\n",
    "    docker service scale whoami=40\n",
    "    sleep 15\n",
    "    docker service update --update-parallelism 5 \\\n",
    "        --image stefanscherer/whoami:1.1.0 whoami --detach=false\n",
    "    sleep 30\n",
    "    docker service update --update-parallelism 5 \\\n",
    "        --image stefanscherer/whoami:1.2.0 whoami --detach=false\n",
    "    sleep 30\n",
    "done"
   ]
  },
  {
   "cell_type": "markdown",
   "metadata": {},
   "source": [
    "# Aufräumen"
   ]
  },
  {
   "cell_type": "code",
   "execution_count": 1,
   "metadata": {},
   "outputs": [
    {
     "name": "stdout",
     "output_type": "stream",
     "text": [
      "whoami\n"
     ]
    }
   ],
   "source": [
    "docker service rm whoami"
   ]
  },
  {
   "cell_type": "code",
   "execution_count": 2,
   "metadata": {},
   "outputs": [
    {
     "name": "stdout",
     "output_type": "stream",
     "text": [
      "monitor\n"
     ]
    }
   ],
   "source": [
    "docker service rm monitor"
   ]
  },
  {
   "cell_type": "code",
   "execution_count": 3,
   "metadata": {},
   "outputs": [
    {
     "name": "stdout",
     "output_type": "stream",
     "text": [
      "ID                            HOSTNAME            STATUS              AVAILABILITY        MANAGER STATUS\n",
      "11qekn6q3wjrbdaij9lg0ehw9     cluster-01          Ready               Active              \n",
      "7xy1j4849hfhdt26nmmzxcuhs     cluster-04          Ready               Active              \n",
      "k0liool22gqh16k0vo2hinn6y     cluster-03          Ready               Active              \n",
      "ndxbhoyubmotz8c3cw6nm7tra     cluster-02          Ready               Active              \n",
      "qanlrp0vw1g13p1zxxsow0e64 *   cluster-00          Ready               Active              Leader\n"
     ]
    }
   ],
   "source": [
    "docker node ls"
   ]
  },
  {
   "cell_type": "code",
   "execution_count": 4,
   "metadata": {},
   "outputs": [
    {
     "name": "stdout",
     "output_type": "stream",
     "text": [
      "ID                  NAME                MODE                REPLICAS            IMAGE                              PORTS\n",
      "1t8mxh50pg49        visualizer          replicated          1/1                 alexellis2/visualizer-arm:latest   *:8000->8080/tcp\n"
     ]
    }
   ],
   "source": [
    "docker service ls"
   ]
  },
  {
   "cell_type": "code",
   "execution_count": 5,
   "metadata": {},
   "outputs": [
    {
     "name": "stdout",
     "output_type": "stream",
     "text": [
      "Node left the swarm.\n",
      "Node left the swarm.\n",
      "Node left the swarm.\n",
      "Node left the swarm.\n"
     ]
    }
   ],
   "source": [
    "for i in 01 02 03 04; do\n",
    "    ssh pi@cluster-${i} \"docker swarm leave --force\"\n",
    "done"
   ]
  },
  {
   "cell_type": "code",
   "execution_count": 6,
   "metadata": {},
   "outputs": [
    {
     "name": "stdout",
     "output_type": "stream",
     "text": [
      "visualizer\n"
     ]
    }
   ],
   "source": [
    "docker service rm visualizer"
   ]
  },
  {
   "cell_type": "code",
   "execution_count": 7,
   "metadata": {},
   "outputs": [
    {
     "name": "stdout",
     "output_type": "stream",
     "text": [
      "Node left the swarm.\n"
     ]
    }
   ],
   "source": [
    "docker swarm leave --force"
   ]
  },
  {
   "cell_type": "code",
   "execution_count": null,
   "metadata": {},
   "outputs": [],
   "source": []
  }
 ],
 "metadata": {
  "kernelspec": {
   "display_name": "Bash",
   "language": "bash",
   "name": "bash"
  },
  "language_info": {
   "codemirror_mode": "shell",
   "file_extension": ".sh",
   "mimetype": "text/x-sh",
   "name": "bash"
  }
 },
 "nbformat": 4,
 "nbformat_minor": 2
}
