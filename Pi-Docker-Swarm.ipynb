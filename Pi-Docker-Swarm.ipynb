{
 "cells": [
  {
   "cell_type": "markdown",
   "metadata": {
    "slideshow": {
     "slide_type": "slide"
    }
   },
   "source": [
    "# Pi Haufen mit LOL (Lot of LEDs)\n",
    "\n",
    "Oder der __KNF-FabLab-Edu Pi Cluster__ mit Docker Swarm und Blinkt!\n",
    "\n",
    "Themen:\n",
    "\n",
    "* Was ist ein Cluster\n",
    "\n",
    "* Was ist Docker (Swarm) und warum?"
   ]
  },
  {
   "cell_type": "markdown",
   "metadata": {
    "slideshow": {
     "slide_type": "slide"
    }
   },
   "source": [
    "\n",
    "## PI-Cluster\n",
    "\n",
    "Einen Cluster bezeichnet eine Anzahl von vernetzten Computern.\n",
    "\n",
    "Einteilung in zwei unterschiedliche Aufgaben:\n",
    "\n",
    "* die Erhöhung der Rechenkapazität (HPC-Cluster) und \n",
    "* die Erhöhung der Verfügbarkeit (HA-Cluster, engl. high available - hochverfügbar).\n",
    "\n"
   ]
  },
  {
   "cell_type": "markdown",
   "metadata": {
    "slideshow": {
     "slide_type": "subslide"
    }
   },
   "source": [
    "## Pi\n",
    "\n",
    "[Teach, Learn and Make with Raspberry Pi](https://www.raspberrypi.org/)\n",
    "\n",
    "> Der im Vergleich zu üblichen Personal Computern sehr einfach aufgebaute Rechner wurde von der Stiftung (Raspberry Pi Foundation) mit dem Ziel entwickelt, jungen Menschen den Erwerb von Programmier- und Hardwarekenntnissen zu erleichtern. Entsprechend niedrig wurde der Verkaufspreis angesetzt, der je nach Modell etwa 5 bis 35 USD beträgt.\n",
    "\n",
    "Die Motivation steigt.\n",
    "\n",
    "Starterseminar im FabLab Nbg durch KNF möglich."
   ]
  },
  {
   "cell_type": "markdown",
   "metadata": {
    "slideshow": {
     "slide_type": "subslide"
    }
   },
   "source": [
    "### Tausend Pis\n",
    "\n",
    "<img src=\"https://1.f.ix.de/scale/geometry/700/q75/imgs/18/2/3/1/8/1/1/4/BitScope-Cluster-82a1783ecfe2da18.png\" alt=\"BitScope-Einschub mit 144 Raspberry Pi 3 auf 6 HE\" style=\"width: 500px;\"/>\n",
    "\n",
    "BitScope-Einschub mit 144 Raspberry Pi 3 auf 6 HE.\n",
    "\n",
    "[Scalable clusters make HPC R&D easy as Raspberry Pi](http://www.lanl.gov/discover/news-release-archive/2017/November/1113-raspberry-pi.php)\n",
    "\n",
    "> It brings a powerful high-performance-computing testbed to system-software developers, researchers and others who lack machine time on the world’s fastest supercomputers. \n",
    "\n",
    "Gefunden auf [heise.de](https://www.heise.de/newsticker/meldung/Tausend-Raspberry-Pi-im-Cluster-Rack-3891000.html) durch Schüler mitgeteilt."
   ]
  },
  {
   "cell_type": "markdown",
   "metadata": {
    "slideshow": {
     "slide_type": "subslide"
    }
   },
   "source": [
    "### KNF FabLab Edu Pi Cluster\n",
    "\n",
    "Das fliegende Rechenzentrum.\n",
    "\n",
    "Hat den gleichen Zweck wie die 1000 Pis oben. Hier kann einen Cluster betrieben werden, __ohne__ dafür einige Tausend Euro in ein Rechenzentrum auszuzugeben. Es wurden ca. 500 € investiert."
   ]
  },
  {
   "cell_type": "markdown",
   "metadata": {
    "slideshow": {
     "slide_type": "subslide"
    }
   },
   "source": [
    "### Warum mach ich DevOps und Docker\n",
    "\n",
    "* Auf [DevOps-Camp 2014](https://openspacer.org/60-devops-community/) kennengelernt\n",
    "* KNF-Vortrag Kongress 2014 zu [ansible](https://cloud.franken.de/owncloud/index.php/s/dbf8ab8c95016a68d49ebb289025d5a9)\n",
    "* [Stay on the cutting edge with Docker 1.6 and test drive it on your Raspberry Pi today](http://blog.hypriot.com/)\n",
    "* [Docker-Bamberg Meetup](https://www.meetup.com/de-DE/Docker-Bamberg)\n",
    "* Serverspec auf [DevOps-Camp 2015](https://openspacer.org/60-devops-community/61-devops-camp-2015/) kennen gelernt\n",
    "* Seit Sommer 2017 [Raspberry Edu devops Setup](https://github.com/kraeml/raspberry-edu-devops)\n",
    "* Seit Sommer 2017 [heterogenes Virtuelles Netzwerk für DevOps](https://github.com/kraeml/packer-ubuntu-1604-de)"
   ]
  },
  {
   "cell_type": "markdown",
   "metadata": {
    "slideshow": {
     "slide_type": "slide"
    }
   },
   "source": [
    "## Docker\n",
    "\n",
    "<table class=\"float-right infobox toccolours toptextcells\" style=\"border-spacing:5px; font-size:90%; text-align:left; width:21em;\">\n",
    "<tr>\n",
    "<th class=\"hintergrundfarbe6\" colspan=\"2\" style=\"font-size:105%; text-align:center;\">Docker</th>\n",
    "</tr>\n",
    "<tr>\n",
    "<td colspan=\"2\" style=\"text-align:center;\"><a href=\"/wiki/Datei:Docker_(container_engine)_logo.png\" class=\"image\" title=\"Logo\"><img alt=\"Logo\" src=\"//upload.wikimedia.org/wikipedia/commons/thumb/7/79/Docker_%28container_engine%29_logo.png/250px-Docker_%28container_engine%29_logo.png\" width=\"250\" height=\"60\" srcset=\"//upload.wikimedia.org/wikipedia/commons/thumb/7/79/Docker_%28container_engine%29_logo.png/375px-Docker_%28container_engine%29_logo.png 1.5x, //upload.wikimedia.org/wikipedia/commons/thumb/7/79/Docker_%28container_engine%29_logo.png/500px-Docker_%28container_engine%29_logo.png 2x\" data-file-width=\"682\" data-file-height=\"163\" /></a></td>\n",
    "</tr>\n",
    "<tr>\n",
    "<td><b>Entwickler</b></td>\n",
    "<td>Docker, Inc.</td>\n",
    "</tr>\n",
    "<tr>\n",
    "<td><b>Erscheinungsjahr</b></td>\n",
    "<td>2013</td>\n",
    "</tr>\n",
    "<tr>\n",
    "<td><b>Aktuelle&#160;Version</b></td>\n",
    "<td><span class=\"wikidata-content\">17.11.0</span><br />\n",
    "(<span class=\"wikidata-content\">20. November 2017</span>)</td>\n",
    "</tr>\n",
    "<tr>\n",
    "<td><b>Betriebssystem</b></td>\n",
    "<td>Linux Windows MacOS</td>\n",
    "</tr>\n",
    "<tr>\n",
    "<td><b>Programmiersprache</b></td>\n",
    "<td>Go</td>\n",
    "</tr>\n",
    "<tr>\n",
    "<td><b>Kategorie</b></td>\n",
    "<td>Virtualisierung</td>\n",
    "</tr>\n",
    "<tr>\n",
    "<td><b>Lizenz</b></td>\n",
    "<td>Apache 2.0</td>\n",
    "</tr>\n",
    "<tr>\n",
    "<td><b>deutschsprachig</b></td>\n",
    "<td>nein</td>\n",
    "</tr>\n",
    "<tr>\n",
    "<td class=\"hintergrundfarbe5\" colspan=\"2\" style=\"text-align:center;\"><a rel=\"nofollow\" class=\"external text\" href=\"http://www.docker.com/\">www.docker.com</a></td>\n",
    "</tr>\n",
    "</table>"
   ]
  },
  {
   "cell_type": "code",
   "execution_count": 1,
   "metadata": {
    "slideshow": {
     "slide_type": "subslide"
    }
   },
   "outputs": [
    {
     "name": "stdout",
     "output_type": "stream",
     "text": [
      "Client:\n",
      " Version:      17.09.0-ce\n",
      " API version:  1.32\n",
      " Go version:   go1.8.3\n",
      " Git commit:   afdb6d4\n",
      " Built:        Tue Sep 26 22:50:01 2017\n",
      " OS/Arch:      linux/arm\n",
      "\n",
      "Server:\n",
      " Version:      17.09.0-ce\n",
      " API version:  1.32 (minimum version 1.12)\n",
      " Go version:   go1.8.3\n",
      " Git commit:   afdb6d4\n",
      " Built:        Tue Sep 26 22:44:09 2017\n",
      " OS/Arch:      linux/arm\n",
      " Experimental: false\n"
     ]
    }
   ],
   "source": [
    "# Docker version auf den Pi-Cluster\n",
    "docker version"
   ]
  },
  {
   "cell_type": "markdown",
   "metadata": {
    "slideshow": {
     "slide_type": "subslide"
    }
   },
   "source": [
    "#### Was ist Docker\n",
    "\n",
    "Docker ist eiene __Betriebssystemvirtualisierung__ mittels OS-Container wie sie auch _LXC_, _LXD_, _Jail_ (BSD), _Zone_ (Solaris) und auch [Windows Server Container](http://www.zdnet.de/88246989/docker-und-windows-server-2016-das-muessen-profis-wissen/?inf_by=5a143495671db8a11f8b4a68) (Docker for Windows) bieten.\n",
    "\n",
    "Bei der Betriebssystemvirtualisierung läuft nur ein Host-Kernel."
   ]
  },
  {
   "cell_type": "markdown",
   "metadata": {
    "slideshow": {
     "slide_type": "subslide"
    }
   },
   "source": [
    "#### Klassische Virtualisierung durch einen Hypervisor\n",
    "<img src=\"https://www.docker.com/sites/default/files/VM%402x.png\" alt=\"VMs\" style=\"width: 400px;\"/>"
   ]
  },
  {
   "cell_type": "markdown",
   "metadata": {
    "slideshow": {
     "slide_type": "subslide"
    }
   },
   "source": [
    "#### Bitriebssystemvitualisierung mit Docker\n",
    "\n",
    "<img src=\"https://www.docker.com/sites/default/files/Container%402x.png\" alt=\"Drawing\" style=\"width: 400px;\"/>\n",
    "\n"
   ]
  },
  {
   "cell_type": "markdown",
   "metadata": {
    "slideshow": {
     "slide_type": "subslide"
    }
   },
   "source": [
    "Bei Virtualisierung auf Betriebssystemebene wird anderen Computerprogrammen eine __komplette Laufzeitumgebung__ virtuell innerhalb eines geschlossenen Containers zur Verfügung gestellt. Es wird __kein weiteres Betriebssystem gestartet__; \n",
    "\n",
    "Nachteil:\n",
    "\n",
    "* In Containern können keine Treiber geladen werden. \n",
    "\n",
    "Vorteil:\n",
    "\n",
    "* geht besonders effizient mit den Ressourcen um\n",
    "  (insbesondere hinsichtlich der Prozessor-Last und des Haupt- und Massenspeicherbedarfs)"
   ]
  },
  {
   "cell_type": "markdown",
   "metadata": {
    "slideshow": {
     "slide_type": "subslide"
    }
   },
   "source": [
    "#### Überriss Docker\n",
    "\n",
    "<img src=\"https://upload.wikimedia.org/wikipedia/commons/thumb/0/09/Docker-linux-interfaces.svg/400px-Docker-linux-interfaces.svg.png\" alt=\"Docker Interfaces\" style=\"width: 400px;\" />"
   ]
  },
  {
   "cell_type": "markdown",
   "metadata": {
    "slideshow": {
     "slide_type": "slide"
    }
   },
   "source": [
    "## Docker Swarm\n",
    "\n",
    "<table class=\"float-right infobox toccolours toptextcells\" style=\"border-spacing:5px; font-size:90%; text-align:left; width:21em;\">\n",
    "<tr>\n",
    "<th class=\"hintergrundfarbe6\" colspan=\"2\" style=\"font-size:105%; text-align:center;\">Docker Swarm</th>\n",
    "</tr>\n",
    "<tr>\n",
    "<td colspan=\"2\" style=\"text-align:center;\"><a href=\"/wiki/Datei:Docker_(container_engine)_logo.png\" class=\"image\" title=\"Logo\"><img alt=\"Logo\" src=\"//upload.wikimedia.org/wikipedia/commons/thumb/7/79/Docker_%28container_engine%29_logo.png/250px-Docker_%28container_engine%29_logo.png\" width=\"250\" height=\"60\" srcset=\"//upload.wikimedia.org/wikipedia/commons/thumb/7/79/Docker_%28container_engine%29_logo.png/375px-Docker_%28container_engine%29_logo.png 1.5x, //upload.wikimedia.org/wikipedia/commons/thumb/7/79/Docker_%28container_engine%29_logo.png/500px-Docker_%28container_engine%29_logo.png 2x\" data-file-width=\"682\" data-file-height=\"163\" /></a></td>\n",
    "</tr>\n",
    "<tr>\n",
    "<td><b>Entwickler</b></td>\n",
    "<td>Docker, Inc.</td>\n",
    "</tr>\n",
    "<tr>\n",
    "<td><b>Erscheinungsjahr</b></td>\n",
    "<td>2015</td>\n",
    "</tr>\n",
    "<tr>\n",
    "<td><b>Aktuelle&#160;Version</b></td>\n",
    "<td><span class=\"wikidata-content\">17.11.0</span><br />\n",
    "(<span class=\"wikidata-content\">1.12.0 or later</span>)<br />\n",
    "(<span class=\"wikidata-content\">20. November 2017</span>)</td>\n",
    "</tr>\n",
    "<tr>\n",
    "<td><b>Betriebssystem</b></td>\n",
    "<td>Linux Windows MacOS</td>\n",
    "</tr>\n",
    "<tr>\n",
    "<td><b>Programmiersprache</b></td>\n",
    "<td>Go</td>\n",
    "</tr>\n",
    "<tr>\n",
    "<td><b>Kategorie</b></td>\n",
    "<td>Virtualisierung</td>\n",
    "</tr>\n",
    "<tr>\n",
    "<td><b>Lizenz</b></td>\n",
    "<td>Apache 2.0</td>\n",
    "</tr>\n",
    "<tr>\n",
    "<td><b>deutschsprachig</b></td>\n",
    "<td>nein</td>\n",
    "</tr>\n",
    "<tr>\n",
    "<td class=\"hintergrundfarbe5\" colspan=\"2\" style=\"text-align:center;\"><a rel=\"nofollow\" class=\"external text\" href=\"http://www.docker.com/\">www.docker.com</a></td>\n",
    "</tr>\n",
    "</table>"
   ]
  },
  {
   "cell_type": "markdown",
   "metadata": {
    "slideshow": {
     "slide_type": "subslide"
    }
   },
   "source": [
    "## Und wieder hypriot\n",
    "\n",
    "[DockerCon 2017 Demo: Monitoring Docker Swarm with LED's](http://blog.hypriot.com/post/dockerconaustin2017/)\n",
    "\n",
    "<img src=\"http://blog.hypriot.com/images/dockercon2017/stage2.jpg\" alt=\"PiCloud at DockerCon Austin\" />"
   ]
  },
  {
   "cell_type": "markdown",
   "metadata": {
    "slideshow": {
     "slide_type": "slide"
    }
   },
   "source": [
    "## Docker Swarm aufsetzen\n",
    "\n",
    "### Zunächst die IP-Adresse feststellen\n",
    "\n",
    "Die Ip des AP (Leader) wird öfters benötigt und in IP_LEADER bzw. IP_LEADER_WLAN gespeichert."
   ]
  },
  {
   "cell_type": "code",
   "execution_count": 2,
   "metadata": {
    "slideshow": {
     "slide_type": "skip"
    }
   },
   "outputs": [
    {
     "name": "stdout",
     "output_type": "stream",
     "text": [
      "2: eth0: <BROADCAST,MULTICAST,UP,LOWER_UP> mtu 1500 qdisc pfifo_fast state UP group default qlen 1000\n",
      "    link/ether b8:27:eb:27:c2:35 brd ff:ff:ff:ff:ff:ff\n",
      "    inet 172.24.2.1/24 brd 172.24.2.255 scope global eth0\n",
      "       valid_lft forever preferred_lft forever\n",
      "    inet6 fe80::ba27:ebff:fe27:c235/64 scope link \n",
      "       valid_lft forever preferred_lft forever\n"
     ]
    }
   ],
   "source": [
    "ip addr show eth0"
   ]
  },
  {
   "cell_type": "code",
   "execution_count": 3,
   "metadata": {
    "slideshow": {
     "slide_type": "skip"
    }
   },
   "outputs": [
    {
     "name": "stdout",
     "output_type": "stream",
     "text": [
      "172.24.2.1\n"
     ]
    }
   ],
   "source": [
    "ip addr show eth0 | grep 'inet\\s' | awk '{ print $2}' | cut -d '/' -f 1 | grep 172"
   ]
  },
  {
   "cell_type": "code",
   "execution_count": 4,
   "metadata": {
    "slideshow": {
     "slide_type": "fragment"
    }
   },
   "outputs": [
    {
     "name": "stdout",
     "output_type": "stream",
     "text": [
      "172.24.2.1\n"
     ]
    }
   ],
   "source": [
    "IP_LEADER=$(ip a s eth0 | grep 'inet\\s' | awk '{ print $2}' | cut -d '/' -f 1 | grep  172)\n",
    "echo $IP_LEADER"
   ]
  },
  {
   "cell_type": "code",
   "execution_count": 5,
   "metadata": {
    "slideshow": {
     "slide_type": "fragment"
    }
   },
   "outputs": [
    {
     "name": "stdout",
     "output_type": "stream",
     "text": [
      "172.24.1.1\n"
     ]
    }
   ],
   "source": [
    "IP_LEADER_WLAN=$(ip a s wlan0 | grep 'inet\\s' | awk '{ print $2}' | cut -d '/' -f 1)\n",
    "echo $IP_LEADER_WLAN"
   ]
  },
  {
   "cell_type": "markdown",
   "metadata": {
    "slideshow": {
     "slide_type": "slide"
    }
   },
   "source": [
    "### Docker Swarm Init\n",
    "\n",
    "Feststellen ob es schon einen Docker Swarm gibt und wenn nicht, dann wird dieser angelegt und sein Status ausgegeben."
   ]
  },
  {
   "cell_type": "code",
   "execution_count": 6,
   "metadata": {
    "slideshow": {
     "slide_type": "fragment"
    }
   },
   "outputs": [
    {
     "name": "stdout",
     "output_type": "stream",
     "text": [
      "Error response from daemon: This node is not a swarm manager. Use \"docker swarm init\" or \"docker swarm join\" to connect this node to swarm and try again.\n",
      "Swarm initialized: current node (pqp74pxig8s3zs07eafeugjuq) is now a manager.\n",
      "\n",
      "To add a worker to this swarm, run the following command:\n",
      "\n",
      "    docker swarm join --token SWMTKN-1-5k75rxbk2t9tf5m6bc1bfv5846jhgm15jffd4teh283cy8um9e-4znifs51sy43cdotqqlmsds0o 172.24.2.1:2377\n",
      "\n",
      "To add a manager to this swarm, run 'docker swarm join-token manager' and follow the instructions.\n",
      "\n",
      "ID                            HOSTNAME            STATUS              AVAILABILITY        MANAGER STATUS\n",
      "pqp74pxig8s3zs07eafeugjuq *   cluster-00          Ready               Active              Leader\n"
     ]
    }
   ],
   "source": [
    "docker node ls || docker swarm init --advertise-addr ${IP_LEADER} && docker node ls"
   ]
  },
  {
   "cell_type": "markdown",
   "metadata": {
    "slideshow": {
     "slide_type": "slide"
    }
   },
   "source": [
    "### Token\n",
    "\n",
    "Damit die einzelnen Nodes dem Cluster beitreten können werden die Token für `worker` und `manger` gespeichert."
   ]
  },
  {
   "cell_type": "code",
   "execution_count": 7,
   "metadata": {
    "slideshow": {
     "slide_type": "fragment"
    }
   },
   "outputs": [
    {
     "name": "stdout",
     "output_type": "stream",
     "text": [
      "SWMTKN-1-5k75rxbk2t9tf5m6bc1bfv5846jhgm15jffd4teh283cy8um9e-4znifs51sy43cdotqqlmsds0o\n"
     ]
    }
   ],
   "source": [
    "JOIN_TOKEN=$(docker swarm join-token -q worker)\n",
    "echo $JOIN_TOKEN"
   ]
  },
  {
   "cell_type": "code",
   "execution_count": 8,
   "metadata": {
    "slideshow": {
     "slide_type": "fragment"
    }
   },
   "outputs": [
    {
     "name": "stdout",
     "output_type": "stream",
     "text": [
      "SWMTKN-1-5k75rxbk2t9tf5m6bc1bfv5846jhgm15jffd4teh283cy8um9e-eoi1dzztzmb9sa373hewahl6w\n"
     ]
    }
   ],
   "source": [
    "JOIN_TOKEN_MANAGER=$(docker swarm join-token -q manager)\n",
    "echo $JOIN_TOKEN_MANAGER"
   ]
  },
  {
   "cell_type": "markdown",
   "metadata": {
    "slideshow": {
     "slide_type": "slide"
    }
   },
   "source": [
    "## SSH einrichten\n",
    "\n",
    "Der Klassiker mit Schlüsselaustausch und allem drum und dran.\n",
    "\n",
    "Gut geeignet für den Unterrichtsstoff.\n",
    "\n",
    "ToDo: Dies kann man mit docker machine umgehen."
   ]
  },
  {
   "cell_type": "code",
   "execution_count": 9,
   "metadata": {
    "slideshow": {
     "slide_type": "skip"
    }
   },
   "outputs": [
    {
     "name": "stdout",
     "output_type": "stream",
     "text": [
      "/home/pi/.ssh/id_rsa\n"
     ]
    }
   ],
   "source": [
    "# Setup ssh-key for user if not exists\n",
    "ls ~/.ssh/id_rsa || ansible -i localhost, -m shell -a 'ssh-keygen -b 2048 -t rsa -f ~/.ssh/id_rsa -q -N \"\" creates=~/.ssh/id_rsa' --connection=local localhost"
   ]
  },
  {
   "cell_type": "markdown",
   "metadata": {
    "slideshow": {
     "slide_type": "skip"
    }
   },
   "source": [
    "Den SSH Zugang vorbereiten. Zunächst aus `knwon_hosts` löschen. Dann wieder bekannt geben und den ssh-key übertragen."
   ]
  },
  {
   "cell_type": "code",
   "execution_count": 10,
   "metadata": {
    "slideshow": {
     "slide_type": "skip"
    }
   },
   "outputs": [
    {
     "name": "stdout",
     "output_type": "stream",
     "text": [
      "PING cluster-01.local (172.24.2.2) 56(84) bytes of data.\n",
      "64 bytes from 172.24.2.2: icmp_seq=1 ttl=64 time=0.905 ms\n",
      "\n",
      "--- cluster-01.local ping statistics ---\n",
      "1 packets transmitted, 1 received, 0% packet loss, time 0ms\n",
      "rtt min/avg/max/mdev = 0.905/0.905/0.905/0.000 ms\n"
     ]
    }
   ],
   "source": [
    "ping -c 1 cluster-01.local"
   ]
  },
  {
   "cell_type": "code",
   "execution_count": 11,
   "metadata": {
    "slideshow": {
     "slide_type": "skip"
    }
   },
   "outputs": [
    {
     "name": "stdout",
     "output_type": "stream",
     "text": [
      "172.24.2.2\n"
     ]
    }
   ],
   "source": [
    "ping -c 1 cluster-01.local | grep PING | cut -d '(' -f 2 | cut -d')' -f 1"
   ]
  },
  {
   "cell_type": "code",
   "execution_count": 12,
   "metadata": {
    "scrolled": false,
    "slideshow": {
     "slide_type": "skip"
    }
   },
   "outputs": [
    {
     "name": "stdout",
     "output_type": "stream",
     "text": [
      "/home/pi/.ssh/known_hosts updated.\n",
      "Original contents retained as /home/pi/.ssh/known_hosts.old\n",
      "# Host cluster-01.local found: line 49 type ECDSA\n",
      "# Host cluster-01.local found: line 50 type RSA\n",
      "# Host cluster-01.local found: line 51 type ED25519\n",
      "/home/pi/.ssh/known_hosts updated.\n",
      "Original contents retained as /home/pi/.ssh/known_hosts.old\n",
      "# Host 172.24.2.2 found: line 49 type RSA\n",
      "# Host 172.24.2.2 found: line 50 type ECDSA\n",
      "# Host 172.24.2.2 found: line 51 type ED25519\n",
      "/home/pi/.ssh/known_hosts updated.\n",
      "Original contents retained as /home/pi/.ssh/known_hosts.old\n",
      "# cluster-01.local SSH-2.0-OpenSSH_6.7p1 Raspbian-5+deb8u3\n",
      "# cluster-01.local SSH-2.0-OpenSSH_6.7p1 Raspbian-5+deb8u3\n",
      "# cluster-01.local SSH-2.0-OpenSSH_6.7p1 Raspbian-5+deb8u3\n",
      "getaddrinfo cluster-01: Name or service not known\n",
      "# 172.24.2.2 SSH-2.0-OpenSSH_6.7p1 Raspbian-5+deb8u3\n",
      "# 172.24.2.2 SSH-2.0-OpenSSH_6.7p1 Raspbian-5+deb8u3\n",
      "# 172.24.2.2 SSH-2.0-OpenSSH_6.7p1 Raspbian-5+deb8u3\n",
      "/usr/bin/ssh-copy-id: INFO: attempting to log in with the new key(s), to filter out any that are already installed\n",
      "\n",
      "/usr/bin/ssh-copy-id: WARNING: All keys were skipped because they already exist on the remote system.\n",
      "\n",
      "/home/pi/.ssh/known_hosts updated.\n",
      "Original contents retained as /home/pi/.ssh/known_hosts.old\n",
      "# Host cluster-02.local found: line 49 type RSA\n",
      "# Host cluster-02.local found: line 50 type ECDSA\n",
      "# Host cluster-02.local found: line 51 type ED25519\n",
      "/home/pi/.ssh/known_hosts updated.\n",
      "Original contents retained as /home/pi/.ssh/known_hosts.old\n",
      "# Host 172.24.2.3 found: line 49 type RSA\n",
      "# Host 172.24.2.3 found: line 50 type ECDSA\n",
      "# Host 172.24.2.3 found: line 51 type ED25519\n",
      "/home/pi/.ssh/known_hosts updated.\n",
      "Original contents retained as /home/pi/.ssh/known_hosts.old\n",
      "# cluster-02.local SSH-2.0-OpenSSH_6.7p1 Raspbian-5+deb8u3\n",
      "# cluster-02.local SSH-2.0-OpenSSH_6.7p1 Raspbian-5+deb8u3\n",
      "# cluster-02.local SSH-2.0-OpenSSH_6.7p1 Raspbian-5+deb8u3\n",
      "getaddrinfo cluster-02: Name or service not known\n",
      "# 172.24.2.3 SSH-2.0-OpenSSH_6.7p1 Raspbian-5+deb8u3\n",
      "# 172.24.2.3 SSH-2.0-OpenSSH_6.7p1 Raspbian-5+deb8u3\n",
      "# 172.24.2.3 SSH-2.0-OpenSSH_6.7p1 Raspbian-5+deb8u3\n",
      "/usr/bin/ssh-copy-id: INFO: attempting to log in with the new key(s), to filter out any that are already installed\n",
      "\n",
      "/usr/bin/ssh-copy-id: WARNING: All keys were skipped because they already exist on the remote system.\n",
      "\n",
      "/home/pi/.ssh/known_hosts updated.\n",
      "Original contents retained as /home/pi/.ssh/known_hosts.old\n",
      "# Host cluster-03.local found: line 49 type RSA\n",
      "# Host cluster-03.local found: line 50 type ECDSA\n",
      "# Host cluster-03.local found: line 51 type ED25519\n",
      "/home/pi/.ssh/known_hosts updated.\n",
      "Original contents retained as /home/pi/.ssh/known_hosts.old\n",
      "# Host 172.24.2.4 found: line 49 type RSA\n",
      "# Host 172.24.2.4 found: line 50 type ECDSA\n",
      "# Host 172.24.2.4 found: line 51 type ED25519\n",
      "/home/pi/.ssh/known_hosts updated.\n",
      "Original contents retained as /home/pi/.ssh/known_hosts.old\n",
      "# cluster-03.local SSH-2.0-OpenSSH_6.7p1 Raspbian-5+deb8u3\n",
      "# cluster-03.local SSH-2.0-OpenSSH_6.7p1 Raspbian-5+deb8u3\n",
      "# cluster-03.local SSH-2.0-OpenSSH_6.7p1 Raspbian-5+deb8u3\n",
      "getaddrinfo cluster-03: Name or service not known\n",
      "# 172.24.2.4 SSH-2.0-OpenSSH_6.7p1 Raspbian-5+deb8u3\n",
      "# 172.24.2.4 SSH-2.0-OpenSSH_6.7p1 Raspbian-5+deb8u3\n",
      "# 172.24.2.4 SSH-2.0-OpenSSH_6.7p1 Raspbian-5+deb8u3\n",
      "/usr/bin/ssh-copy-id: INFO: attempting to log in with the new key(s), to filter out any that are already installed\n",
      "\n",
      "/usr/bin/ssh-copy-id: WARNING: All keys were skipped because they already exist on the remote system.\n",
      "\n",
      "/home/pi/.ssh/known_hosts updated.\n",
      "Original contents retained as /home/pi/.ssh/known_hosts.old\n",
      "# Host cluster-04.local found: line 49 type RSA\n",
      "# Host cluster-04.local found: line 50 type ECDSA\n",
      "# Host cluster-04.local found: line 51 type ED25519\n",
      "/home/pi/.ssh/known_hosts updated.\n",
      "Original contents retained as /home/pi/.ssh/known_hosts.old\n",
      "# Host 172.24.2.5 found: line 49 type RSA\n",
      "# Host 172.24.2.5 found: line 50 type ECDSA\n",
      "# Host 172.24.2.5 found: line 51 type ED25519\n",
      "/home/pi/.ssh/known_hosts updated.\n",
      "Original contents retained as /home/pi/.ssh/known_hosts.old\n",
      "# cluster-04.local SSH-2.0-OpenSSH_6.7p1 Raspbian-5+deb8u3\n",
      "# cluster-04.local SSH-2.0-OpenSSH_6.7p1 Raspbian-5+deb8u3\n",
      "# cluster-04.local SSH-2.0-OpenSSH_6.7p1 Raspbian-5+deb8u3\n",
      "getaddrinfo cluster-04: Name or service not known\n",
      "# 172.24.2.5 SSH-2.0-OpenSSH_6.7p1 Raspbian-5+deb8u3\n",
      "# 172.24.2.5 SSH-2.0-OpenSSH_6.7p1 Raspbian-5+deb8u3\n",
      "# 172.24.2.5 SSH-2.0-OpenSSH_6.7p1 Raspbian-5+deb8u3\n",
      "/usr/bin/ssh-copy-id: INFO: attempting to log in with the new key(s), to filter out any that are already installed\n",
      "\n",
      "/usr/bin/ssh-copy-id: WARNING: All keys were skipped because they already exist on the remote system.\n",
      "\n"
     ]
    }
   ],
   "source": [
    "for i in 01 02 03 04; do\n",
    "    # Hostname only\n",
    "    CL_HOSTNAME=cluster-${i}\n",
    "    # Get Ip via local Domain (avahi)\n",
    "    CL_IP=$(ping -c 1 ${CL_HOSTNAME}.local | grep PING | cut -d '(' -f 2 | cut -d')' -f 1)\n",
    "    # Cluster Hostname only\n",
    "    ssh-keygen -R ${CL_HOSTNAME}\n",
    "    # Cluster with Domain local\n",
    "    ssh-keygen -R ${CL_HOSTNAME}.local\n",
    "    # IP Cluster \n",
    "    ssh-keygen -R ${CL_IP}\n",
    "    # Add Cluster into known_hosts\n",
    "    ssh-keyscan -H ${CL_HOSTNAME}.local >> ~/.ssh/known_hosts\n",
    "    ssh-keyscan -H ${CL_HOSTNAME} >> ~/.ssh/known_hosts\n",
    "    ssh-keyscan -H ${CL_IP} >> ~/.ssh/known_hosts\n",
    "    # SSH key copy into Cluster\n",
    "    sshpass -p raspberry ssh-copy-id pi@${CL_HOSTNAME}.local\n",
    "done"
   ]
  },
  {
   "cell_type": "markdown",
   "metadata": {
    "slideshow": {
     "slide_type": "skip"
    }
   },
   "source": [
    "__Huray__ was gelernt. Wie wichtig ist die Zeit in einem Cluster System mit x509? \n",
    "\n",
    "__Sehr wichtig!__"
   ]
  },
  {
   "cell_type": "code",
   "execution_count": 13,
   "metadata": {
    "slideshow": {
     "slide_type": "skip"
    }
   },
   "outputs": [
    {
     "name": "stdout",
     "output_type": "stream",
     "text": [
      "cluster-00.localDo 23. Nov 14:40:52 CET 2017\n",
      "cluster-01.localDo 23. Nov 14:40:53 CET 2017\n",
      "cluster-02.localDo 23. Nov 14:40:53 CET 2017\n",
      "cluster-03.localDo 23. Nov 14:40:54 CET 2017\n",
      "cluster-04.localDo 23. Nov 14:41:06 CET 2017\n"
     ]
    }
   ],
   "source": [
    "for i in 00 01 02 03 04; do\n",
    "    # Hostname only\n",
    "    CL_HOSTNAME=cluster-${i}.local\n",
    "    echo -n $CL_HOSTNAME\n",
    "    ssh $CL_HOSTNAME \"date\"\n",
    "done"
   ]
  },
  {
   "cell_type": "markdown",
   "metadata": {
    "slideshow": {
     "slide_type": "slide"
    }
   },
   "source": [
    "## Dem Swarm beitreten"
   ]
  },
  {
   "cell_type": "code",
   "execution_count": 14,
   "metadata": {
    "slideshow": {
     "slide_type": "subslide"
    }
   },
   "outputs": [
    {
     "name": "stdout",
     "output_type": "stream",
     "text": [
      "ID                            HOSTNAME            STATUS              AVAILABILITY        MANAGER STATUS\n",
      "pqp74pxig8s3zs07eafeugjuq *   cluster-00          Ready               Active              Leader\n"
     ]
    }
   ],
   "source": [
    "# Noch ist unser Swarm allein\n",
    "docker node ls"
   ]
  },
  {
   "cell_type": "markdown",
   "metadata": {
    "slideshow": {
     "slide_type": "subslide"
    }
   },
   "source": [
    "## Die Worker\n",
    "\n",
    "Achtung nicht nur die Worker verrichten die Arbeit, sondern auch die Manager :-))\n",
    "\n",
    "Nur der Client 01 und 03 als Worker dem Swarm beitreten."
   ]
  },
  {
   "cell_type": "code",
   "execution_count": 15,
   "metadata": {
    "slideshow": {
     "slide_type": "fragment"
    }
   },
   "outputs": [
    {
     "name": "stdout",
     "output_type": "stream",
     "text": [
      "cluster-01.local\n",
      "This node joined a swarm as a worker.\n",
      "cluster-03.local\n",
      "This node joined a swarm as a worker.\n"
     ]
    }
   ],
   "source": [
    "#set -x\n",
    "for i in 01 03; do\n",
    "    # Hostname only\n",
    "    CL_HOSTNAME=cluster-${i}.local\n",
    "    echo $CL_HOSTNAME\n",
    "    ssh $CL_HOSTNAME \"docker swarm join --token $JOIN_TOKEN $IP_LEADER:2377\"\n",
    "done\n",
    "#set +x"
   ]
  },
  {
   "cell_type": "code",
   "execution_count": 16,
   "metadata": {
    "slideshow": {
     "slide_type": "fragment"
    }
   },
   "outputs": [
    {
     "name": "stdout",
     "output_type": "stream",
     "text": [
      "ID                            HOSTNAME            STATUS              AVAILABILITY        MANAGER STATUS\n",
      "pqp74pxig8s3zs07eafeugjuq *   cluster-00          Ready               Active              Leader\n",
      "0br7aj8dld5sr73vic82s3jo6     cluster-01          Ready               Active              \n",
      "qocjbg98xx6pr5ig1zc4k3dpk     cluster-03          Ready               Active              \n"
     ]
    }
   ],
   "source": [
    "docker node ls"
   ]
  },
  {
   "cell_type": "markdown",
   "metadata": {
    "slideshow": {
     "slide_type": "subslide"
    }
   },
   "source": [
    "## Die Manger\n",
    "\n",
    "Diese haben neben der Aufgabe des Workers auch eine Ausfallsicherheit des Leaders zu gewährleisten.\n",
    "\n",
    "Der Client 02 und 04 als Manger dem Swarm beitreten."
   ]
  },
  {
   "cell_type": "code",
   "execution_count": 17,
   "metadata": {
    "slideshow": {
     "slide_type": "fragment"
    }
   },
   "outputs": [
    {
     "name": "stdout",
     "output_type": "stream",
     "text": [
      "cluster-02.local\n",
      "This node joined a swarm as a manager.\n",
      "cluster-04.local\n",
      "This node joined a swarm as a manager.\n"
     ]
    }
   ],
   "source": [
    "for i in 02 04; do\n",
    "    # Hostname only\n",
    "    CL_HOSTNAME=cluster-${i}.local\n",
    "    echo $CL_HOSTNAME\n",
    "    ssh $CL_HOSTNAME \"docker swarm join --token $JOIN_TOKEN_MANAGER $IP_LEADER:2377\"\n",
    "done"
   ]
  },
  {
   "cell_type": "code",
   "execution_count": 18,
   "metadata": {
    "slideshow": {
     "slide_type": "fragment"
    }
   },
   "outputs": [
    {
     "name": "stdout",
     "output_type": "stream",
     "text": [
      "ID                            HOSTNAME            STATUS              AVAILABILITY        MANAGER STATUS\n",
      "pqp74pxig8s3zs07eafeugjuq *   cluster-00          Ready               Active              Leader\n",
      "0br7aj8dld5sr73vic82s3jo6     cluster-01          Ready               Active              \n",
      "v9odvkkycga6enf7ld6uok9vg     cluster-02          Ready               Active              Reachable\n",
      "qocjbg98xx6pr5ig1zc4k3dpk     cluster-03          Ready               Active              \n",
      "c9rzz568a8lr2jzecbsveikxp     cluster-04          Ready               Active              Reachable\n"
     ]
    }
   ],
   "source": [
    "docker node ls"
   ]
  },
  {
   "cell_type": "markdown",
   "metadata": {
    "slideshow": {
     "slide_type": "slide"
    }
   },
   "source": [
    "## Visualizer anschauen\n",
    "\n",
    "Einen graphischen Output als Service starten. Hierzu wird das Image alexellis2/visualizer-arm genutzt."
   ]
  },
  {
   "cell_type": "code",
   "execution_count": 19,
   "metadata": {
    "slideshow": {
     "slide_type": "fragment"
    }
   },
   "outputs": [
    {
     "name": "stdout",
     "output_type": "stream",
     "text": [
      "ohooxit3x6prghe14346a8sss\n",
      "\n",
      "\u001b[1Ball progress: 0 out of 1 tasks \n",
      "\u001b[2Ball progress: 1 out of 1 tasks alizer-arm:latest \n",
      "\u001b[1Bfy: Service converged to verify that tasks are stable... "
     ]
    }
   ],
   "source": [
    "docker service create \\\n",
    "  --name=visualizer \\\n",
    "  --publish=8000:8080/tcp \\\n",
    "  --constraint=node.role==manager \\\n",
    "  --mount=type=bind,src=/var/run/docker.sock,dst=/var/run/docker.sock \\\n",
    "  --no-resolve-image \\\n",
    "  --detach=false \\\n",
    "  alexellis2/visualizer-arm"
   ]
  },
  {
   "cell_type": "markdown",
   "metadata": {
    "slideshow": {
     "slide_type": "fragment"
    }
   },
   "source": [
    "Dies wird als einmaliger Service auf einem Manager-Node gestartet. Die Hostdatei `/var/run/docker.sock` wird in dem Container eingefügt."
   ]
  },
  {
   "cell_type": "code",
   "execution_count": 20,
   "metadata": {
    "slideshow": {
     "slide_type": "subslide"
    }
   },
   "outputs": [
    {
     "name": "stdout",
     "output_type": "stream",
     "text": [
      "http://172.24.1.1:8000\n",
      "http://172.24.2.1:8000\n"
     ]
    }
   ],
   "source": [
    "echo \"http://${IP_LEADER_WLAN}:8000\"\n",
    "echo \"http://${IP_LEADER}:8000\""
   ]
  },
  {
   "cell_type": "code",
   "execution_count": 21,
   "metadata": {
    "slideshow": {
     "slide_type": "fragment"
    }
   },
   "outputs": [
    {
     "name": "stdout",
     "output_type": "stream",
     "text": [
      "ID                  NAME                MODE                REPLICAS            IMAGE                              PORTS\n",
      "ohooxit3x6pr        visualizer          replicated          1/1                 alexellis2/visualizer-arm:latest   *:8000->8080/tcp\n"
     ]
    }
   ],
   "source": [
    "docker service ls"
   ]
  },
  {
   "cell_type": "markdown",
   "metadata": {
    "slideshow": {
     "slide_type": "slide"
    }
   },
   "source": [
    "### Der LOL Monitor\n",
    "\n",
    "Auf allen Knoten soll ein Monitor Dienst als Docker Container laufen. Dieser überwacht, wie viele _whoami_ Container laufen und zeigt dies durch die Anzahl der LEDs an.\n",
    "\n",
    "Grün: Ein whoami-Container wird gestartet.\n",
    "\n",
    "Rot: Ein whoami-Container stoppt.\n",
    "\n",
    "Gelb-Grün: Für die Version 1.1.0\n",
    "\n",
    "Blau: Für die Version 1.2.0"
   ]
  },
  {
   "cell_type": "code",
   "execution_count": 22,
   "metadata": {
    "slideshow": {
     "slide_type": "subslide"
    }
   },
   "outputs": [
    {
     "name": "stdout",
     "output_type": "stream",
     "text": [
      "bql95rhwlmtnfopbxgeuoydgn\n",
      "\n",
      "\u001b[1Ball progress: 0 out of 5 tasks asks \n",
      "\u001b[1Baj8dld5s: assigned  \n",
      "\u001b[1Bbg98xx6p: assigned  \n",
      "\u001b[1B4pxig8s3: assigned  \n",
      "\u001b[1Bvkkycga6: assigned  \n",
      "\u001b[6Ball progress: 5 out of 5 tasks \n",
      "\u001b[1Bfy: Service converged to verify that tasks are stable... "
     ]
    }
   ],
   "source": [
    "docker service create --name monitor --mode global \\\n",
    "  --restart-condition any --mount type=bind,src=/sys,dst=/sys \\\n",
    "  --mount type=bind,src=/var/run/docker.sock,dst=/var/run/docker.sock \\\n",
    "  --no-resolve-image \\\n",
    "  --detach=false \\\n",
    "  stefanscherer/monitor:1.1.0"
   ]
  },
  {
   "cell_type": "markdown",
   "metadata": {
    "slideshow": {
     "slide_type": "skip"
    }
   },
   "source": [
    "Es läuft noch kein whoami."
   ]
  },
  {
   "cell_type": "code",
   "execution_count": 23,
   "metadata": {
    "slideshow": {
     "slide_type": "fragment"
    }
   },
   "outputs": [
    {
     "name": "stdout",
     "output_type": "stream",
     "text": [
      "ID                  NAME                MODE                REPLICAS            IMAGE                              PORTS\n",
      "bql95rhwlmtn        monitor             global              5/5                 stefanscherer/monitor:1.1.0        \n",
      "ohooxit3x6pr        visualizer          replicated          1/1                 alexellis2/visualizer-arm:latest   *:8000->8080/tcp\n"
     ]
    }
   ],
   "source": [
    "docker service ls"
   ]
  },
  {
   "cell_type": "markdown",
   "metadata": {
    "slideshow": {
     "slide_type": "subslide"
    }
   },
   "source": [
    "#### Der GROSSE Moment der LED\n",
    "\n",
    "Nun starten wir den Service `whoami` mti der Version 1.1.0 (Gelb-Grün)."
   ]
  },
  {
   "cell_type": "code",
   "execution_count": 24,
   "metadata": {
    "slideshow": {
     "slide_type": "fragment"
    }
   },
   "outputs": [
    {
     "name": "stdout",
     "output_type": "stream",
     "text": [
      "gkhxl78gt5tk5vd77qpjfinua\n",
      "\n",
      "\u001b[1Ball progress: 0 out of 1 tasks \n",
      "\u001b[2Ball progress: 1 out of 1 tasks \n",
      "\u001b[1Bfy: Service converged to verify that tasks are stable... "
     ]
    }
   ],
   "source": [
    "docker service create --name whoami \\\n",
    "  --no-resolve-image \\\n",
    "  --detach=false \\\n",
    "  stefanscherer/whoami:1.1.0 "
   ]
  },
  {
   "cell_type": "code",
   "execution_count": 25,
   "metadata": {
    "slideshow": {
     "slide_type": "fragment"
    }
   },
   "outputs": [
    {
     "name": "stdout",
     "output_type": "stream",
     "text": [
      "ID                  NAME                MODE                REPLICAS            IMAGE                              PORTS\n",
      "bql95rhwlmtn        monitor             global              5/5                 stefanscherer/monitor:1.1.0        \n",
      "ohooxit3x6pr        visualizer          replicated          1/1                 alexellis2/visualizer-arm:latest   *:8000->8080/tcp\n",
      "gkhxl78gt5tk        whoami              replicated          1/1                 stefanscherer/whoami:1.1.0         \n"
     ]
    }
   ],
   "source": [
    "docker service ls"
   ]
  },
  {
   "cell_type": "markdown",
   "metadata": {
    "slideshow": {
     "slide_type": "subslide"
    }
   },
   "source": [
    "#### Der Update auf 1.2.0\n",
    "\n",
    "Die LED wechselt auf Blau."
   ]
  },
  {
   "cell_type": "code",
   "execution_count": 26,
   "metadata": {
    "slideshow": {
     "slide_type": "fragment"
    }
   },
   "outputs": [
    {
     "name": "stdout",
     "output_type": "stream",
     "text": [
      "image stefanscherer/whoami:1.2.0 could not be accessed on a registry to record\n",
      "its digest. Each node will access stefanscherer/whoami:1.2.0 independently,\n",
      "possibly leading to different nodes running different\n",
      "versions of the image.\n",
      "\n",
      "whoami\n",
      "\n",
      "\u001b[1Ball progress: 0 out of 1 tasks \n",
      "\u001b[2Ball progress: 1 out of 1 tasks \n",
      "\u001b[1Bfy: Service converged to verify that tasks are stable... "
     ]
    }
   ],
   "source": [
    "docker service update \\\n",
    "  --detach=false \\\n",
    "  --image stefanscherer/whoami:1.2.0 whoami"
   ]
  },
  {
   "cell_type": "code",
   "execution_count": 27,
   "metadata": {
    "slideshow": {
     "slide_type": "fragment"
    }
   },
   "outputs": [
    {
     "name": "stdout",
     "output_type": "stream",
     "text": [
      "ID                  NAME                MODE                REPLICAS            IMAGE                              PORTS\n",
      "bql95rhwlmtn        monitor             global              5/5                 stefanscherer/monitor:1.1.0        \n",
      "ohooxit3x6pr        visualizer          replicated          1/1                 alexellis2/visualizer-arm:latest   *:8000->8080/tcp\n",
      "gkhxl78gt5tk        whoami              replicated          1/1                 stefanscherer/whoami:1.2.0         \n"
     ]
    }
   ],
   "source": [
    "docker service ls"
   ]
  },
  {
   "cell_type": "markdown",
   "metadata": {
    "slideshow": {
     "slide_type": "subslide"
    }
   },
   "source": [
    "#### Wir skalieren auf 5"
   ]
  },
  {
   "cell_type": "code",
   "execution_count": 28,
   "metadata": {
    "slideshow": {
     "slide_type": "fragment"
    }
   },
   "outputs": [
    {
     "name": "stdout",
     "output_type": "stream",
     "text": [
      "whoami scaled to 5\n",
      "\n",
      "\u001b[1Ball progress: 0 out of 5 tasks \n",
      "\u001b[1B   K$<3>\u001b[K$<3>\n",
      "\u001b[1B   K$<3>\u001b[K$<3>\n",
      "\u001b[1B   K$<3>\u001b[K$<3>\n",
      "\u001b[1B   K$<3>\u001b[K$<3>\n",
      "\u001b[6Ball progress: 5 out of 5 tasks \n",
      "\u001b[1Bfy: Service converged to verify that tasks are stable... "
     ]
    }
   ],
   "source": [
    "docker service scale --detach=false whoami=5"
   ]
  },
  {
   "cell_type": "code",
   "execution_count": 29,
   "metadata": {
    "slideshow": {
     "slide_type": "fragment"
    }
   },
   "outputs": [
    {
     "name": "stdout",
     "output_type": "stream",
     "text": [
      "ID                  NAME                MODE                REPLICAS            IMAGE                              PORTS\n",
      "bql95rhwlmtn        monitor             global              5/5                 stefanscherer/monitor:1.1.0        \n",
      "ohooxit3x6pr        visualizer          replicated          1/1                 alexellis2/visualizer-arm:latest   *:8000->8080/tcp\n",
      "gkhxl78gt5tk        whoami              replicated          5/5                 stefanscherer/whoami:1.2.0         \n"
     ]
    }
   ],
   "source": [
    "docker service ls"
   ]
  },
  {
   "cell_type": "markdown",
   "metadata": {
    "slideshow": {
     "slide_type": "subslide"
    }
   },
   "source": [
    "#### Downgrade"
   ]
  },
  {
   "cell_type": "code",
   "execution_count": 30,
   "metadata": {
    "slideshow": {
     "slide_type": "fragment"
    }
   },
   "outputs": [
    {
     "name": "stdout",
     "output_type": "stream",
     "text": [
      "image stefanscherer/whoami:1.1.0 could not be accessed on a registry to record\n",
      "its digest. Each node will access stefanscherer/whoami:1.1.0 independently,\n",
      "possibly leading to different nodes running different\n",
      "versions of the image.\n",
      "\n",
      "whoami\n",
      "\n",
      "\u001b[1Ball progress: 0 out of 5 tasks \n",
      "\u001b[1B   K$<3>\u001b[K$<3>\n",
      "\u001b[1B   K$<3>\u001b[K$<3>\n",
      "\u001b[1B   K$<3>\u001b[K$<3>\n",
      "\u001b[1B   K$<3>\u001b[K$<3>\n",
      "\u001b[6Ball progress: 5 out of 5 tasks \n",
      "\u001b[1Bfy: Service converged to verify that tasks are stable... "
     ]
    }
   ],
   "source": [
    "docker service update \\\n",
    "  --detach=false \\\n",
    "  --image stefanscherer/whoami:1.1.0 whoami"
   ]
  },
  {
   "cell_type": "markdown",
   "metadata": {
    "slideshow": {
     "slide_type": "subslide"
    }
   },
   "source": [
    "#### Auf 20 Saklieren\n",
    "\n",
    "Jetzt können die Stecker gezogen werden."
   ]
  },
  {
   "cell_type": "code",
   "execution_count": 31,
   "metadata": {
    "slideshow": {
     "slide_type": "fragment"
    }
   },
   "outputs": [
    {
     "name": "stdout",
     "output_type": "stream",
     "text": [
      "whoami scaled to 20\n",
      "\n",
      "\u001b[1Ball progress: 0 out of 20 tasks \n",
      "\u001b[1B:   $<3>\u001b[K$<3>\n",
      "\u001b[1B:   $<3>\u001b[K$<3>\n",
      "\u001b[1B:   $<3>\u001b[K$<3>\n",
      "\u001b[1B:   $<3>\u001b[K$<3>\n",
      "\u001b[1B:   $<3>\u001b[K$<3>\n",
      "\u001b[1B:   $<3>\u001b[K$<3>\n",
      "\u001b[1B:   $<3>\u001b[K$<3>\n",
      "\u001b[1B:   $<3>\u001b[K$<3>\n",
      "\u001b[1B:   $<3>\u001b[K$<3>\n",
      "\u001b[1B0:   <3>\u001b[K$<3>\n",
      "\u001b[1B0:   <3>\u001b[K$<3>\n",
      "\u001b[1B0:   <3>\u001b[K$<3>\n",
      "\u001b[1B0:   <3>\u001b[K$<3>\n",
      "\u001b[1B0:   <3>\u001b[K$<3>\n",
      "\u001b[1B0:   <3>\u001b[K$<3>\n",
      "\u001b[1B0:   <3>\u001b[K$<3>\n",
      "\u001b[1B0:   <3>\u001b[K$<3>\n",
      "\u001b[1B0:   <3>\u001b[K$<3>\n",
      "\u001b[1B0:   <3>\u001b[K$<3>\n",
      "\u001b[21Bll progress: 20 out of 20 tasks \n",
      "\u001b[1Bfy: Service converged to verify that tasks are stable... "
     ]
    }
   ],
   "source": [
    "docker service scale --detach=false whoami=20"
   ]
  },
  {
   "cell_type": "markdown",
   "metadata": {
    "slideshow": {
     "slide_type": "subslide"
    }
   },
   "source": [
    "#### Versionswechsel"
   ]
  },
  {
   "cell_type": "code",
   "execution_count": 32,
   "metadata": {
    "slideshow": {
     "slide_type": "fragment"
    }
   },
   "outputs": [
    {
     "name": "stdout",
     "output_type": "stream",
     "text": [
      "image stefanscherer/whoami:1.2.0 could not be accessed on a registry to record\n",
      "its digest. Each node will access stefanscherer/whoami:1.2.0 independently,\n",
      "possibly leading to different nodes running different\n",
      "versions of the image.\n",
      "\n",
      "whoami\n",
      "\n",
      "\u001b[1Ball progress: 0 out of 20 tasks \n",
      "\u001b[1B:   $<3>\u001b[K$<3>\n",
      "\u001b[1B:   $<3>\u001b[K$<3>\n",
      "\u001b[1B:   $<3>\u001b[K$<3>\n",
      "\u001b[1B:   $<3>\u001b[K$<3>\n",
      "\u001b[1B:   $<3>\u001b[K$<3>\n",
      "\u001b[1B:   $<3>\u001b[K$<3>\n",
      "\u001b[1B:   $<3>\u001b[K$<3>\n",
      "\u001b[1B:   $<3>\u001b[K$<3>\n",
      "\u001b[1B:   $<3>\u001b[K$<3>\n",
      "\u001b[1B0:   <3>\u001b[K$<3>\n",
      "\u001b[1B0:   <3>\u001b[K$<3>\n",
      "\u001b[1B0:   <3>\u001b[K$<3>\n",
      "\u001b[1B0:   <3>\u001b[K$<3>\n",
      "\u001b[1B0:   <3>\u001b[K$<3>\n",
      "\u001b[1B0:   <3>\u001b[K$<3>\n",
      "\u001b[1B0:   <3>\u001b[K$<3>\n",
      "\u001b[1B0:   <3>\u001b[K$<3>\n",
      "\u001b[1B0:   <3>\u001b[K$<3>\n",
      "\u001b[1B0:   <3>\u001b[K$<3>\n",
      "\u001b[21Bll progress: 20 out of 20 tasks \n",
      "\u001b[1Bfy: Service converged to verify that tasks are stable... "
     ]
    }
   ],
   "source": [
    "docker service update --update-parallelism 5 \\\n",
    "  --detach=false \\\n",
    "  --image stefanscherer/whoami:1.2.0 whoami"
   ]
  },
  {
   "cell_type": "code",
   "execution_count": 33,
   "metadata": {
    "slideshow": {
     "slide_type": "subslide"
    }
   },
   "outputs": [
    {
     "name": "stdout",
     "output_type": "stream",
     "text": [
      "ID                  NAME                MODE                REPLICAS            IMAGE                              PORTS\n",
      "bql95rhwlmtn        monitor             global              5/5                 stefanscherer/monitor:1.1.0        \n",
      "ohooxit3x6pr        visualizer          replicated          1/1                 alexellis2/visualizer-arm:latest   *:8000->8080/tcp\n",
      "gkhxl78gt5tk        whoami              replicated          20/20               stefanscherer/whoami:1.2.0         \n"
     ]
    }
   ],
   "source": [
    "docker service ls"
   ]
  },
  {
   "cell_type": "markdown",
   "metadata": {
    "slideshow": {
     "slide_type": "slide"
    }
   },
   "source": [
    "#### Alle LED"
   ]
  },
  {
   "cell_type": "code",
   "execution_count": 34,
   "metadata": {
    "slideshow": {
     "slide_type": "fragment"
    }
   },
   "outputs": [
    {
     "name": "stdout",
     "output_type": "stream",
     "text": [
      "whoami scaled to 40\n",
      "\n",
      "\u001b[1BOperation continuing in background.\n",
      "Use `docker service ps whoami` to check progress.\n"
     ]
    }
   ],
   "source": [
    "docker service scale --detach=false whoami=40"
   ]
  },
  {
   "cell_type": "markdown",
   "metadata": {
    "slideshow": {
     "slide_type": "subslide"
    }
   },
   "source": [
    "#### Versionswechsel\n",
    "\n",
    "Allerdings fünf Maschinen gleichzeitig."
   ]
  },
  {
   "cell_type": "code",
   "execution_count": 35,
   "metadata": {
    "slideshow": {
     "slide_type": "fragment"
    }
   },
   "outputs": [
    {
     "name": "stdout",
     "output_type": "stream",
     "text": [
      "image stefanscherer/whoami:1.1.0 could not be accessed on a registry to record\n",
      "its digest. Each node will access stefanscherer/whoami:1.1.0 independently,\n",
      "possibly leading to different nodes running different\n",
      "versions of the image.\n",
      "\n",
      "whoami\n",
      "\n",
      "\u001b[1Ball progress: 40 out of 40 tasks \n",
      "\u001b[1Bfy: Service converged to verify that tasks are stable... "
     ]
    }
   ],
   "source": [
    "docker service update --update-parallelism 5 \\\n",
    "  --detach=false \\\n",
    "  --image stefanscherer/whoami:1.1.0 whoami"
   ]
  },
  {
   "cell_type": "code",
   "execution_count": 36,
   "metadata": {
    "slideshow": {
     "slide_type": "fragment"
    }
   },
   "outputs": [
    {
     "name": "stdout",
     "output_type": "stream",
     "text": [
      "ID                  NAME                MODE                REPLICAS            IMAGE                              PORTS\n",
      "bql95rhwlmtn        monitor             global              5/5                 stefanscherer/monitor:1.1.0        \n",
      "ohooxit3x6pr        visualizer          replicated          1/1                 alexellis2/visualizer-arm:latest   *:8000->8080/tcp\n",
      "gkhxl78gt5tk        whoami              replicated          40/40               stefanscherer/whoami:1.1.0         \n"
     ]
    }
   ],
   "source": [
    "docker service ls"
   ]
  },
  {
   "cell_type": "markdown",
   "metadata": {
    "slideshow": {
     "slide_type": "subslide"
    }
   },
   "source": [
    "#### Down- and Upsize"
   ]
  },
  {
   "cell_type": "code",
   "execution_count": 37,
   "metadata": {
    "slideshow": {
     "slide_type": "fragment"
    }
   },
   "outputs": [
    {
     "name": "stdout",
     "output_type": "stream",
     "text": [
      "whoami scaled to 1\n",
      "\n",
      "\u001b[1Ball progress: 0 out of 1 tasks \n",
      "\u001b[2Ball progress: 1 out of 1 tasks  \n",
      "\u001b[1Bfy: Service converged to verify that tasks are stable... "
     ]
    }
   ],
   "source": [
    "docker service scale --detach=false whoami=1"
   ]
  },
  {
   "cell_type": "code",
   "execution_count": 38,
   "metadata": {
    "slideshow": {
     "slide_type": "fragment"
    }
   },
   "outputs": [
    {
     "name": "stdout",
     "output_type": "stream",
     "text": [
      "whoami scaled to 15\n",
      "\n",
      "\u001b[1Ball progress: 0 out of 15 tasks \n",
      "\u001b[1B:   $<3>\u001b[K$<3>\n",
      "\u001b[1B:   $<3>\u001b[K$<3>\n",
      "\u001b[1B:   $<3>\u001b[K$<3>\n",
      "\u001b[1B:   $<3>\u001b[K$<3>\n",
      "\u001b[1B:   $<3>\u001b[K$<3>\n",
      "\u001b[1B:   $<3>\u001b[K$<3>\n",
      "\u001b[1B:   $<3>\u001b[K$<3>\n",
      "\u001b[1B:   $<3>\u001b[K$<3>\n",
      "\u001b[1B:   $<3>\u001b[K$<3>\n",
      "\u001b[1B5:   <3>\u001b[K$<3>\n",
      "\u001b[1B5:   <3>\u001b[K$<3>\n",
      "\u001b[1B5:   <3>\u001b[K$<3>\n",
      "\u001b[1B5:   <3>\u001b[K$<3>\n",
      "\u001b[1B5:   <3>\u001b[K$<3>\n",
      "\u001b[16Bll progress: 15 out of 15 tasks \n",
      "\u001b[1Bfy: Service converged to verify that tasks are stable... "
     ]
    }
   ],
   "source": [
    "docker service scale --detach=false whoami=15"
   ]
  },
  {
   "cell_type": "code",
   "execution_count": 39,
   "metadata": {
    "slideshow": {
     "slide_type": "subslide"
    }
   },
   "outputs": [
    {
     "name": "stdout",
     "output_type": "stream",
     "text": [
      "ID                  NAME                MODE                REPLICAS            IMAGE                              PORTS\n",
      "bql95rhwlmtn        monitor             global              5/5                 stefanscherer/monitor:1.1.0        \n",
      "ohooxit3x6pr        visualizer          replicated          1/1                 alexellis2/visualizer-arm:latest   *:8000->8080/tcp\n",
      "gkhxl78gt5tk        whoami              replicated          15/15               stefanscherer/whoami:1.1.0         \n"
     ]
    }
   ],
   "source": [
    "docker service ls"
   ]
  },
  {
   "cell_type": "code",
   "execution_count": 40,
   "metadata": {
    "slideshow": {
     "slide_type": "skip"
    }
   },
   "outputs": [
    {
     "name": "stdout",
     "output_type": "stream",
     "text": [
      "image stefanscherer/whoami:1.2.0 could not be accessed on a registry to record\n",
      "its digest. Each node will access stefanscherer/whoami:1.2.0 independently,\n",
      "possibly leading to different nodes running different\n",
      "versions of the image.\n",
      "\n",
      "whoami\n",
      "\n",
      "\u001b[1Ball progress: 0 out of 15 tasks \n",
      "\u001b[1B:   $<3>\u001b[K$<3>\n",
      "\u001b[1B:   $<3>\u001b[K$<3>\n",
      "\u001b[1B:   $<3>\u001b[K$<3>\n",
      "\u001b[1B:   $<3>\u001b[K$<3>\n",
      "\u001b[1B:   $<3>\u001b[K$<3>\n",
      "\u001b[1B:   $<3>\u001b[K$<3>\n",
      "\u001b[1B:   $<3>\u001b[K$<3>\n",
      "\u001b[1B:   $<3>\u001b[K$<3>\n",
      "\u001b[1B:   $<3>\u001b[K$<3>\n",
      "\u001b[1B5:   <3>\u001b[K$<3>\n",
      "\u001b[1B5:   <3>\u001b[K$<3>\n",
      "\u001b[1B5:   <3>\u001b[K$<3>\n",
      "\u001b[1B5:   <3>\u001b[K$<3>\n",
      "\u001b[1B5:   <3>\u001b[K$<3>\n",
      "\u001b[16Bll progress: 15 out of 15 tasks \n",
      "\u001b[1Bfy: Service converged to verify that tasks are stable... "
     ]
    }
   ],
   "source": [
    "docker service update --update-parallelism 5 \\\n",
    "  --detach=false \\\n",
    "  --image stefanscherer/whoami:1.2.0 whoami"
   ]
  },
  {
   "cell_type": "code",
   "execution_count": 41,
   "metadata": {
    "slideshow": {
     "slide_type": "skip"
    }
   },
   "outputs": [
    {
     "name": "stdout",
     "output_type": "stream",
     "text": [
      "image stefanscherer/whoami:1.1.0 could not be accessed on a registry to record\n",
      "its digest. Each node will access stefanscherer/whoami:1.1.0 independently,\n",
      "possibly leading to different nodes running different\n",
      "versions of the image.\n",
      "\n",
      "whoami\n",
      "\n",
      "\u001b[1Ball progress: 0 out of 15 tasks \n",
      "\u001b[1B:   $<3>\u001b[K$<3>\n",
      "\u001b[1B:   $<3>\u001b[K$<3>\n",
      "\u001b[1B:   $<3>\u001b[K$<3>\n",
      "\u001b[1B:   $<3>\u001b[K$<3>\n",
      "\u001b[1B:   $<3>\u001b[K$<3>\n",
      "\u001b[1B:   $<3>\u001b[K$<3>\n",
      "\u001b[1B:   $<3>\u001b[K$<3>\n",
      "\u001b[1B:   $<3>\u001b[K$<3>\n",
      "\u001b[1B:   $<3>\u001b[K$<3>\n",
      "\u001b[1B5:   <3>\u001b[K$<3>\n",
      "\u001b[1B5:   <3>\u001b[K$<3>\n",
      "\u001b[1B5:   <3>\u001b[K$<3>\n",
      "\u001b[1B5:   <3>\u001b[K$<3>\n",
      "\u001b[1B5:   <3>\u001b[K$<3>\n",
      "\u001b[16Bll progress: 15 out of 15 tasks \n",
      "\u001b[1Bfy: Service converged to verify that tasks are stable... "
     ]
    }
   ],
   "source": [
    "docker service update --update-parallelism 5 \\\n",
    "  --detach=false \\\n",
    "  --image stefanscherer/whoami:1.1.0 whoami"
   ]
  },
  {
   "cell_type": "code",
   "execution_count": 42,
   "metadata": {
    "slideshow": {
     "slide_type": "skip"
    }
   },
   "outputs": [
    {
     "name": "stdout",
     "output_type": "stream",
     "text": [
      "ID                  NAME                MODE                REPLICAS            IMAGE                              PORTS\n",
      "bql95rhwlmtn        monitor             global              5/5                 stefanscherer/monitor:1.1.0        \n",
      "ohooxit3x6pr        visualizer          replicated          1/1                 alexellis2/visualizer-arm:latest   *:8000->8080/tcp\n",
      "gkhxl78gt5tk        whoami              replicated          15/15               stefanscherer/whoami:1.1.0         \n"
     ]
    }
   ],
   "source": [
    "docker service ls"
   ]
  },
  {
   "cell_type": "markdown",
   "metadata": {
    "slideshow": {
     "slide_type": "skip"
    }
   },
   "source": [
    "## Demomodus"
   ]
  },
  {
   "cell_type": "code",
   "execution_count": 43,
   "metadata": {
    "slideshow": {
     "slide_type": "skip"
    }
   },
   "outputs": [
    {
     "name": "stdout",
     "output_type": "stream",
     "text": [
      "image stefanscherer/whoami:1.1.0 could not be accessed on a registry to record\n",
      "its digest. Each node will access stefanscherer/whoami:1.1.0 independently,\n",
      "possibly leading to different nodes running different\n",
      "versions of the image.\n",
      "\n",
      "whoami\n",
      "\n",
      "\u001b[1Ball progress: 0 out of 15 tasks \n",
      "\u001b[1B:   $<3>\u001b[K$<3>\n",
      "\u001b[1B:   $<3>\u001b[K$<3>\n",
      "\u001b[1B:   $<3>\u001b[K$<3>\n",
      "\u001b[1B:   $<3>\u001b[K$<3>\n",
      "\u001b[1B:   $<3>\u001b[K$<3>\n",
      "\u001b[1B:   $<3>\u001b[K$<3>\n",
      "\u001b[1B:   $<3>\u001b[K$<3>\n",
      "\u001b[1B:   $<3>\u001b[K$<3>\n",
      "\u001b[1B:   $<3>\u001b[K$<3>\n",
      "\u001b[1B5:   <3>\u001b[K$<3>\n",
      "\u001b[1B5:   <3>\u001b[K$<3>\n",
      "\u001b[1B5:   <3>\u001b[K$<3>\n",
      "\u001b[1B5:   <3>\u001b[K$<3>\n",
      "\u001b[1B5:   <3>\u001b[K$<3>\n",
      "\u001b[16Bll progress: 15 out of 15 tasks \n",
      "\u001b[1Bwhoami scaled to 1ged to verify that tasks are stable... \n",
      "\n",
      "\u001b[1Ball progress: 0 out of 1 tasks \n",
      "\u001b[2Ball progress: 1 out of 1 tasks \n",
      "\u001b[1Bimage stefanscherer/whoami:1.2.0 could not be accessed on a registry to record\n",
      "its digest. Each node will access stefanscherer/whoami:1.2.0 independently,\n",
      "possibly leading to different nodes running different\n",
      "versions of the image.\n",
      "\n",
      "whoami\n",
      "\n",
      "\u001b[1Ball progress: 0 out of 1 tasks \n",
      "\u001b[2Ball progress: 1 out of 1 tasks \n",
      "\u001b[1Bwhoami scaled to 15ed to verify that tasks are stable... \n",
      "\n",
      "\u001b[1Ball progress: 0 out of 15 tasks \n",
      "\u001b[1B:   $<3>\u001b[K$<3>\n",
      "\u001b[1B:   $<3>\u001b[K$<3>\n",
      "\u001b[1B:   $<3>\u001b[K$<3>\n",
      "\u001b[1B:   $<3>\u001b[K$<3>\n",
      "\u001b[1B:   $<3>\u001b[K$<3>\n",
      "\u001b[1B:   $<3>\u001b[K$<3>\n",
      "\u001b[1B:   $<3>\u001b[K$<3>\n",
      "\u001b[1B:   $<3>\u001b[K$<3>\n",
      "\u001b[1B:   $<3>\u001b[K$<3>\n",
      "\u001b[1B5:   <3>\u001b[K$<3>\n",
      "\u001b[1B5:   <3>\u001b[K$<3>\n",
      "\u001b[1B5:   <3>\u001b[K$<3>\n",
      "\u001b[1B5:   <3>\u001b[K$<3>\n",
      "\u001b[1B5:   <3>\u001b[K$<3>\n",
      "\u001b[16Bll progress: 15 out of 15 tasks \n",
      "\u001b[1Bimage stefanscherer/whoami:1.1.0 could not be accessed on a registry to record\n",
      "its digest. Each node will access stefanscherer/whoami:1.1.0 independently,\n",
      "possibly leading to different nodes running different\n",
      "versions of the image.\n",
      "\n",
      "whoami\n",
      "\n",
      "\u001b[1Ball progress: 0 out of 15 tasks \n",
      "\u001b[1B:   $<3>\u001b[K$<3>\n",
      "\u001b[1B:   $<3>\u001b[K$<3>\n",
      "\u001b[1B:   $<3>\u001b[K$<3>\n",
      "\u001b[1B:   $<3>\u001b[K$<3>\n",
      "\u001b[1B:   $<3>\u001b[K$<3>\n",
      "\u001b[1B:   $<3>\u001b[K$<3>\n",
      "\u001b[1B:   $<3>\u001b[K$<3>\n",
      "\u001b[1B:   $<3>\u001b[K$<3>\n",
      "\u001b[1B:   $<3>\u001b[K$<3>\n",
      "\u001b[1B5:   <3>\u001b[K$<3>\n",
      "\u001b[1B5:   <3>\u001b[K$<3>\n",
      "\u001b[1B5:   <3>\u001b[K$<3>\n",
      "\u001b[1B5:   <3>\u001b[K$<3>\n",
      "\u001b[1B5:   <3>\u001b[K$<3>\n",
      "\u001b[16Bimage stefanscherer/whoami:1.2.0 could not be accessed on a registry to record\n",
      "its digest. Each node will access stefanscherer/whoami:1.2.0 independently,\n",
      "possibly leading to different nodes running different\n",
      "versions of the image.\n",
      "\n",
      "whoami\n",
      "\n",
      "\u001b[1Ball progress: 0 out of 15 tasks \n",
      "\u001b[1B:   $<3>\u001b[K$<3>\n",
      "\u001b[1B:   $<3>\u001b[K$<3>\n",
      "\u001b[1B:   $<3>\u001b[K$<3>\n",
      "\u001b[1B:   $<3>\u001b[K$<3>\n",
      "\u001b[1B:   $<3>\u001b[K$<3>\n",
      "\u001b[1B:   $<3>\u001b[K$<3>\n",
      "\u001b[1B:   $<3>\u001b[K$<3>\n",
      "\u001b[1B:   $<3>\u001b[K$<3>\n",
      "\u001b[1B:   $<3>\u001b[K$<3>\n",
      "\u001b[1B5:   <3>\u001b[K$<3>\n",
      "\u001b[1B5:   <3>\u001b[K$<3>\n",
      "\u001b[1B5:   <3>\u001b[K$<3>\n",
      "\u001b[1B5:   <3>\u001b[K$<3>\n",
      "\u001b[1B5:   <3>\u001b[K$<3>\n",
      "\u001b[16Bll progress: 15 out of 15 tasks \n",
      "\u001b[1Bwhoami scaled to 40ed to verify that tasks are stable... \n",
      "\n",
      "\u001b[1Ball progress: 40 out of 40 tasks \n",
      "\u001b[1Bimage stefanscherer/whoami:1.1.0 could not be accessed on a registry to record\n",
      "its digest. Each node will access stefanscherer/whoami:1.1.0 independently,\n",
      "possibly leading to different nodes running different\n",
      "versions of the image.\n",
      "\n",
      "whoami\n",
      "\n",
      "\u001b[1Ball progress: 40 out of 40 tasks \n",
      "\u001b[1Bimage stefanscherer/whoami:1.2.0 could not be accessed on a registry to record\n",
      "its digest. Each node will access stefanscherer/whoami:1.2.0 independently,\n",
      "possibly leading to different nodes running different\n",
      "versions of the image.\n",
      "\n",
      "whoami\n",
      "\n",
      "\u001b[1Ball progress: 40 out of 40 tasks \n",
      "\u001b[1Bfy: Service converged to verify that tasks are stable... "
     ]
    }
   ],
   "source": [
    "END=1\n",
    "for i in $(seq 1 $END); do\n",
    "    docker service update --update-parallelism 5 \\\n",
    "        --detach=false \\\n",
    "        --image stefanscherer/whoami:1.1.0 whoami --detach=false\n",
    "    docker service scale --detach=false whoami=1 \n",
    "    docker service update --update-parallelism 5 \\\n",
    "        --detach=false \\\n",
    "        --image stefanscherer/whoami:1.2.0 whoami --detach=false\n",
    "    sleep 5\n",
    "    docker service scale --detach=false whoami=15\n",
    "    docker service update --update-parallelism 5 \\\n",
    "        --detach=false \\\n",
    "        --image stefanscherer/whoami:1.1.0 whoami --detach=false\n",
    "    sleep 5\n",
    "    docker service update --update-parallelism 5 \\\n",
    "        --detach=false \\\n",
    "        --image stefanscherer/whoami:1.2.0 whoami --detach=false\n",
    "    sleep 5\n",
    "    docker service scale --detach=false whoami=40\n",
    "    sleep 5\n",
    "    docker service update --update-parallelism 5 \\\n",
    "        --detach=false \\\n",
    "        --image stefanscherer/whoami:1.1.0 whoami --detach=false\n",
    "    sleep 5\n",
    "    docker service update --update-parallelism 5 \\\n",
    "        --detach=false \\\n",
    "        --image stefanscherer/whoami:1.2.0 whoami --detach=false\n",
    "    sleep 5\n",
    "done"
   ]
  },
  {
   "cell_type": "markdown",
   "metadata": {
    "slideshow": {
     "slide_type": "slide"
    }
   },
   "source": [
    "# Aufräumen"
   ]
  },
  {
   "cell_type": "code",
   "execution_count": 44,
   "metadata": {
    "slideshow": {
     "slide_type": "subslide"
    }
   },
   "outputs": [
    {
     "name": "stdout",
     "output_type": "stream",
     "text": [
      "whoami\n"
     ]
    }
   ],
   "source": [
    "docker service rm whoami"
   ]
  },
  {
   "cell_type": "code",
   "execution_count": 45,
   "metadata": {
    "slideshow": {
     "slide_type": "subslide"
    }
   },
   "outputs": [
    {
     "name": "stdout",
     "output_type": "stream",
     "text": [
      "ID                  NAME                MODE                REPLICAS            IMAGE                              PORTS\n",
      "bql95rhwlmtn        monitor             global              5/5                 stefanscherer/monitor:1.1.0        \n",
      "ohooxit3x6pr        visualizer          replicated          1/1                 alexellis2/visualizer-arm:latest   *:8000->8080/tcp\n"
     ]
    }
   ],
   "source": [
    "docker service ls"
   ]
  },
  {
   "cell_type": "code",
   "execution_count": 46,
   "metadata": {
    "slideshow": {
     "slide_type": "subslide"
    }
   },
   "outputs": [
    {
     "name": "stdout",
     "output_type": "stream",
     "text": [
      "monitor\n"
     ]
    }
   ],
   "source": [
    "docker service rm monitor"
   ]
  },
  {
   "cell_type": "code",
   "execution_count": 47,
   "metadata": {
    "slideshow": {
     "slide_type": "subslide"
    }
   },
   "outputs": [
    {
     "name": "stdout",
     "output_type": "stream",
     "text": [
      "ID                  NAME                MODE                REPLICAS            IMAGE                              PORTS\n",
      "ohooxit3x6pr        visualizer          replicated          1/1                 alexellis2/visualizer-arm:latest   *:8000->8080/tcp\n"
     ]
    }
   ],
   "source": [
    "docker service ls"
   ]
  },
  {
   "cell_type": "code",
   "execution_count": 48,
   "metadata": {
    "slideshow": {
     "slide_type": "subslide"
    }
   },
   "outputs": [
    {
     "name": "stdout",
     "output_type": "stream",
     "text": [
      "ID                            HOSTNAME            STATUS              AVAILABILITY        MANAGER STATUS\n",
      "pqp74pxig8s3zs07eafeugjuq *   cluster-00          Ready               Active              Reachable\n",
      "0br7aj8dld5sr73vic82s3jo6     cluster-01          Ready               Active              \n",
      "v9odvkkycga6enf7ld6uok9vg     cluster-02          Ready               Active              Reachable\n",
      "qocjbg98xx6pr5ig1zc4k3dpk     cluster-03          Ready               Active              \n",
      "c9rzz568a8lr2jzecbsveikxp     cluster-04          Ready               Active              Leader\n"
     ]
    }
   ],
   "source": [
    "docker node ls"
   ]
  },
  {
   "cell_type": "code",
   "execution_count": 49,
   "metadata": {
    "slideshow": {
     "slide_type": "subslide"
    }
   },
   "outputs": [
    {
     "name": "stdout",
     "output_type": "stream",
     "text": [
      "visualizer\n"
     ]
    }
   ],
   "source": [
    "docker service rm visualizer"
   ]
  },
  {
   "cell_type": "code",
   "execution_count": 50,
   "metadata": {
    "slideshow": {
     "slide_type": "subslide"
    }
   },
   "outputs": [
    {
     "name": "stdout",
     "output_type": "stream",
     "text": [
      "ID                  NAME                MODE                REPLICAS            IMAGE               PORTS\n"
     ]
    }
   ],
   "source": [
    "docker service ls"
   ]
  },
  {
   "cell_type": "code",
   "execution_count": 51,
   "metadata": {
    "slideshow": {
     "slide_type": "subslide"
    }
   },
   "outputs": [
    {
     "name": "stdout",
     "output_type": "stream",
     "text": [
      "Node left the swarm.\n",
      "Node left the swarm.\n",
      "Node left the swarm.\n",
      "Node left the swarm.\n"
     ]
    }
   ],
   "source": [
    "for i in 01 02 03 04; do\n",
    "    ssh cluster-${i}.local \"docker swarm leave --force\"\n",
    "done"
   ]
  },
  {
   "cell_type": "code",
   "execution_count": 52,
   "metadata": {
    "slideshow": {
     "slide_type": "skip"
    }
   },
   "outputs": [
    {
     "name": "stdout",
     "output_type": "stream",
     "text": [
      "Error response from daemon: rpc error: code = DeadlineExceeded desc = context deadline exceeded\n"
     ]
    },
    {
     "ename": "",
     "evalue": "1",
     "output_type": "error",
     "traceback": []
    }
   ],
   "source": [
    "docker node ls"
   ]
  },
  {
   "cell_type": "code",
   "execution_count": 53,
   "metadata": {
    "slideshow": {
     "slide_type": "fragment"
    }
   },
   "outputs": [
    {
     "name": "stdout",
     "output_type": "stream",
     "text": [
      "Node left the swarm.\n"
     ]
    }
   ],
   "source": [
    "docker swarm leave --force"
   ]
  },
  {
   "cell_type": "markdown",
   "metadata": {
    "slideshow": {
     "slide_type": "skip"
    }
   },
   "source": [
    "# Reboot Cluster"
   ]
  },
  {
   "cell_type": "code",
   "execution_count": null,
   "metadata": {
    "slideshow": {
     "slide_type": "skip"
    }
   },
   "outputs": [],
   "source": [
    "for i in 01 02 03 04; do\n",
    "    ssh cluster-${i}.local \"sudo reboot &\"\n",
    "done\n"
   ]
  }
 ],
 "metadata": {
  "celltoolbar": "Slideshow",
  "kernelspec": {
   "display_name": "Bash",
   "language": "bash",
   "name": "bash"
  },
  "language_info": {
   "codemirror_mode": "shell",
   "file_extension": ".sh",
   "mimetype": "text/x-sh",
   "name": "bash"
  }
 },
 "nbformat": 4,
 "nbformat_minor": 2
}
