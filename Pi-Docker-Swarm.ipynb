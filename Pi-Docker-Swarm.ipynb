{
 "cells": [
  {
   "cell_type": "markdown",
   "metadata": {},
   "source": [
    "# Docker Swarm with Blinkt!\n",
    "\n",
    "## Init Docker Swarm on Cluster\n",
    "\n",
    "Zunächst die IP-Adresse feststellen."
   ]
  },
  {
   "cell_type": "code",
   "execution_count": 1,
   "metadata": {},
   "outputs": [
    {
     "name": "stdout",
     "output_type": "stream",
     "text": [
      "2: eth0: <BROADCAST,MULTICAST,UP,LOWER_UP> mtu 1500 qdisc pfifo_fast state UP group default qlen 1000\n",
      "    link/ether b8:27:eb:27:c2:35 brd ff:ff:ff:ff:ff:ff\n",
      "    inet 172.24.2.1/24 brd 172.24.2.255 scope global eth0:1\n",
      "       valid_lft forever preferred_lft forever\n",
      "    inet6 fe80::ba27:ebff:fe27:c235/64 scope link \n",
      "       valid_lft forever preferred_lft forever\n"
     ]
    }
   ],
   "source": [
    "ip a s eth0"
   ]
  },
  {
   "cell_type": "code",
   "execution_count": 2,
   "metadata": {},
   "outputs": [
    {
     "name": "stdout",
     "output_type": "stream",
     "text": [
      "172.24.2.1\n"
     ]
    }
   ],
   "source": [
    "ip a s eth0:1 | grep 'inet\\s' | awk '{ print $2}' | cut -d '/' -f 1"
   ]
  },
  {
   "cell_type": "code",
   "execution_count": 3,
   "metadata": {},
   "outputs": [
    {
     "name": "stdout",
     "output_type": "stream",
     "text": [
      "172.24.2.1\n"
     ]
    }
   ],
   "source": [
    "IP_LEADER=$(ip a s eth0 | grep 'inet\\s' | awk '{ print $2}' | cut -d '/' -f 1)\n",
    "echo $IP_LEADER"
   ]
  },
  {
   "cell_type": "code",
   "execution_count": 4,
   "metadata": {},
   "outputs": [
    {
     "name": "stdout",
     "output_type": "stream",
     "text": [
      "172.24.1.1\n"
     ]
    }
   ],
   "source": [
    "IP_LEADER_WLAN=$(ip a s wlan0 | grep 'inet\\s' | awk '{ print $2}' | cut -d '/' -f 1)\n",
    "echo $IP_LEADER_WLAN"
   ]
  },
  {
   "cell_type": "code",
   "execution_count": 5,
   "metadata": {},
   "outputs": [
    {
     "name": "stdout",
     "output_type": "stream",
     "text": [
      "Error response from daemon: This node is not a swarm manager. Use \"docker swarm init\" or \"docker swarm join\" to connect this node to swarm and try again.\n",
      "Swarm initialized: current node (dchzaekl2ka9up3i2fez7lmiu) is now a manager.\n",
      "\n",
      "To add a worker to this swarm, run the following command:\n",
      "\n",
      "    docker swarm join --token SWMTKN-1-55azwsd7ec2mklm750dd16kzkf5thkhqfc2mwdc6u3pq23ep0q-br1gct0pzrhnfj34fuxmvga26 172.24.2.1:2377\n",
      "\n",
      "To add a manager to this swarm, run 'docker swarm join-token manager' and follow the instructions.\n",
      "\n",
      "ID                            HOSTNAME            STATUS              AVAILABILITY        MANAGER STATUS\n",
      "dchzaekl2ka9up3i2fez7lmiu *   cluster-00          Ready               Active              Leader\n"
     ]
    }
   ],
   "source": [
    "docker node ls || (docker swarm init --advertise-addr ${IP_LEADER} && docker node ls)"
   ]
  },
  {
   "cell_type": "code",
   "execution_count": 6,
   "metadata": {},
   "outputs": [
    {
     "name": "stdout",
     "output_type": "stream",
     "text": [
      "SWMTKN-1-55azwsd7ec2mklm750dd16kzkf5thkhqfc2mwdc6u3pq23ep0q-br1gct0pzrhnfj34fuxmvga26\n"
     ]
    }
   ],
   "source": [
    "JOIN_TOKEN=$(docker swarm join-token -q worker)\n",
    "echo $JOIN_TOKEN"
   ]
  },
  {
   "cell_type": "markdown",
   "metadata": {},
   "source": [
    "## SSH einrichten"
   ]
  },
  {
   "cell_type": "code",
   "execution_count": 7,
   "metadata": {},
   "outputs": [
    {
     "name": "stdout",
     "output_type": "stream",
     "text": [
      "/home/pi/.ssh/id_rsa\n"
     ]
    }
   ],
   "source": [
    "# Setup ssh-key for user if not exists\n",
    "ls ~/.ssh/id_rsa || ansible -i localhost, -m shell -a 'ssh-keygen -b 2048 -t rsa -f ~/.ssh/id_rsa -q -N \"\" creates=~/.ssh/id_rsa' --connection=local localhost"
   ]
  },
  {
   "cell_type": "markdown",
   "metadata": {},
   "source": [
    "Den SSH Zugang vorbereiten. Zunächst aus `knwon_hosts` löschen. Dann wieder bekannt geben und den ssh-key übertragen."
   ]
  },
  {
   "cell_type": "code",
   "execution_count": 8,
   "metadata": {},
   "outputs": [
    {
     "name": "stdout",
     "output_type": "stream",
     "text": [
      "PING cluster-01.local (172.24.2.2) 56(84) bytes of data.\n",
      "64 bytes from 172.24.2.2: icmp_seq=1 ttl=64 time=0.857 ms\n",
      "\n",
      "--- cluster-01.local ping statistics ---\n",
      "1 packets transmitted, 1 received, 0% packet loss, time 0ms\n",
      "rtt min/avg/max/mdev = 0.857/0.857/0.857/0.000 ms\n"
     ]
    }
   ],
   "source": [
    "ping -c 1 cluster-01.local"
   ]
  },
  {
   "cell_type": "code",
   "execution_count": 9,
   "metadata": {},
   "outputs": [
    {
     "name": "stdout",
     "output_type": "stream",
     "text": [
      "172.24.2.2\n"
     ]
    }
   ],
   "source": [
    "ping -c 1 cluster-01.local | grep PING | cut -d '(' -f 2 | cut -d')' -f 1"
   ]
  },
  {
   "cell_type": "code",
   "execution_count": 10,
   "metadata": {},
   "outputs": [
    {
     "name": "stdout",
     "output_type": "stream",
     "text": [
      "/home/pi/.ssh/known_hosts updated.\n",
      "Original contents retained as /home/pi/.ssh/known_hosts.old\n",
      "# Host cluster-01.local found: line 13 type RSA\n",
      "# Host cluster-01.local found: line 14 type ECDSA\n",
      "# Host cluster-01.local found: line 15 type ED25519\n",
      "/home/pi/.ssh/known_hosts updated.\n",
      "Original contents retained as /home/pi/.ssh/known_hosts.old\n",
      "# Host 172.24.2.2 found: line 13 type ED25519\n",
      "# Host 172.24.2.2 found: line 14 type RSA\n",
      "# Host 172.24.2.2 found: line 15 type ECDSA\n",
      "/home/pi/.ssh/known_hosts updated.\n",
      "Original contents retained as /home/pi/.ssh/known_hosts.old\n",
      "# cluster-01.local SSH-2.0-OpenSSH_6.7p1 Raspbian-5+deb8u3\n",
      "# cluster-01.local SSH-2.0-OpenSSH_6.7p1 Raspbian-5+deb8u3\n",
      "# cluster-01.local SSH-2.0-OpenSSH_6.7p1 Raspbian-5+deb8u3\n",
      "getaddrinfo cluster-01: Name or service not known\n",
      "# 172.24.2.2 SSH-2.0-OpenSSH_6.7p1 Raspbian-5+deb8u3\n",
      "# 172.24.2.2 SSH-2.0-OpenSSH_6.7p1 Raspbian-5+deb8u3\n",
      "# 172.24.2.2 SSH-2.0-OpenSSH_6.7p1 Raspbian-5+deb8u3\n",
      "/usr/bin/ssh-copy-id: INFO: attempting to log in with the new key(s), to filter out any that are already installed\n",
      "\n",
      "/usr/bin/ssh-copy-id: WARNING: All keys were skipped because they already exist on the remote system.\n",
      "\n",
      "/home/pi/.ssh/known_hosts updated.\n",
      "Original contents retained as /home/pi/.ssh/known_hosts.old\n",
      "# Host cluster-02.local found: line 13 type RSA\n",
      "# Host cluster-02.local found: line 14 type ECDSA\n",
      "# Host cluster-02.local found: line 15 type ED25519\n",
      "/home/pi/.ssh/known_hosts updated.\n",
      "Original contents retained as /home/pi/.ssh/known_hosts.old\n",
      "# Host 172.24.2.3 found: line 13 type RSA\n",
      "# Host 172.24.2.3 found: line 14 type ECDSA\n",
      "# Host 172.24.2.3 found: line 15 type ED25519\n",
      "/home/pi/.ssh/known_hosts updated.\n",
      "Original contents retained as /home/pi/.ssh/known_hosts.old\n",
      "# cluster-02.local SSH-2.0-OpenSSH_6.7p1 Raspbian-5+deb8u3\n",
      "# cluster-02.local SSH-2.0-OpenSSH_6.7p1 Raspbian-5+deb8u3\n",
      "# cluster-02.local SSH-2.0-OpenSSH_6.7p1 Raspbian-5+deb8u3\n",
      "getaddrinfo cluster-02: Name or service not known\n",
      "# 172.24.2.3 SSH-2.0-OpenSSH_6.7p1 Raspbian-5+deb8u3\n",
      "# 172.24.2.3 SSH-2.0-OpenSSH_6.7p1 Raspbian-5+deb8u3\n",
      "# 172.24.2.3 SSH-2.0-OpenSSH_6.7p1 Raspbian-5+deb8u3\n",
      "/usr/bin/ssh-copy-id: INFO: attempting to log in with the new key(s), to filter out any that are already installed\n",
      "\n",
      "/usr/bin/ssh-copy-id: WARNING: All keys were skipped because they already exist on the remote system.\n",
      "\n",
      "/home/pi/.ssh/known_hosts updated.\n",
      "Original contents retained as /home/pi/.ssh/known_hosts.old\n",
      "# Host cluster-03.local found: line 13 type RSA\n",
      "# Host cluster-03.local found: line 14 type ECDSA\n",
      "# Host cluster-03.local found: line 15 type ED25519\n",
      "/home/pi/.ssh/known_hosts updated.\n",
      "Original contents retained as /home/pi/.ssh/known_hosts.old\n",
      "# Host 172.24.2.4 found: line 13 type RSA\n",
      "# Host 172.24.2.4 found: line 14 type ECDSA\n",
      "# Host 172.24.2.4 found: line 15 type ED25519\n",
      "/home/pi/.ssh/known_hosts updated.\n",
      "Original contents retained as /home/pi/.ssh/known_hosts.old\n",
      "# cluster-03.local SSH-2.0-OpenSSH_6.7p1 Raspbian-5+deb8u3\n",
      "# cluster-03.local SSH-2.0-OpenSSH_6.7p1 Raspbian-5+deb8u3\n",
      "# cluster-03.local SSH-2.0-OpenSSH_6.7p1 Raspbian-5+deb8u3\n",
      "getaddrinfo cluster-03: Name or service not known\n",
      "# 172.24.2.4 SSH-2.0-OpenSSH_6.7p1 Raspbian-5+deb8u3\n",
      "# 172.24.2.4 SSH-2.0-OpenSSH_6.7p1 Raspbian-5+deb8u3\n",
      "# 172.24.2.4 SSH-2.0-OpenSSH_6.7p1 Raspbian-5+deb8u3\n",
      "/usr/bin/ssh-copy-id: INFO: attempting to log in with the new key(s), to filter out any that are already installed\n",
      "\n",
      "/usr/bin/ssh-copy-id: WARNING: All keys were skipped because they already exist on the remote system.\n",
      "\n",
      "/home/pi/.ssh/known_hosts updated.\n",
      "Original contents retained as /home/pi/.ssh/known_hosts.old\n",
      "# Host cluster-04.local found: line 13 type RSA\n",
      "# Host cluster-04.local found: line 14 type ECDSA\n",
      "# Host cluster-04.local found: line 15 type ED25519\n",
      "/home/pi/.ssh/known_hosts updated.\n",
      "Original contents retained as /home/pi/.ssh/known_hosts.old\n",
      "# Host 172.24.2.5 found: line 13 type RSA\n",
      "# Host 172.24.2.5 found: line 14 type ECDSA\n",
      "# Host 172.24.2.5 found: line 15 type ED25519\n",
      "/home/pi/.ssh/known_hosts updated.\n",
      "Original contents retained as /home/pi/.ssh/known_hosts.old\n",
      "# cluster-04.local SSH-2.0-OpenSSH_6.7p1 Raspbian-5+deb8u3\n",
      "# cluster-04.local SSH-2.0-OpenSSH_6.7p1 Raspbian-5+deb8u3\n",
      "# cluster-04.local SSH-2.0-OpenSSH_6.7p1 Raspbian-5+deb8u3\n",
      "getaddrinfo cluster-04: Name or service not known\n",
      "# 172.24.2.5 SSH-2.0-OpenSSH_6.7p1 Raspbian-5+deb8u3\n",
      "# 172.24.2.5 SSH-2.0-OpenSSH_6.7p1 Raspbian-5+deb8u3\n",
      "# 172.24.2.5 SSH-2.0-OpenSSH_6.7p1 Raspbian-5+deb8u3\n",
      "/usr/bin/ssh-copy-id: INFO: attempting to log in with the new key(s), to filter out any that are already installed\n",
      "\n",
      "/usr/bin/ssh-copy-id: WARNING: All keys were skipped because they already exist on the remote system.\n",
      "\n"
     ]
    }
   ],
   "source": [
    "for i in 01 02 03 04; do\n",
    "    # Hostname only\n",
    "    CL_HOSTNAME=cluster-${i}\n",
    "    # Get Ip via local Domain (avahi)\n",
    "    CL_IP=$(ping -c 1 ${CL_HOSTNAME}.local | grep PING | cut -d '(' -f 2 | cut -d')' -f 1)\n",
    "    # Cluster Hostname only\n",
    "    ssh-keygen -R ${CL_HOSTNAME}\n",
    "    # Cluster with Domain local\n",
    "    ssh-keygen -R ${CL_HOSTNAME}.local\n",
    "    # IP Cluster \n",
    "    ssh-keygen -R ${CL_IP}\n",
    "    # Add Cluster into known_hosts\n",
    "    ssh-keyscan -H ${CL_HOSTNAME}.local >> ~/.ssh/known_hosts\n",
    "    ssh-keyscan -H ${CL_HOSTNAME} >> ~/.ssh/known_hosts\n",
    "    ssh-keyscan -H ${CL_IP} >> ~/.ssh/known_hosts\n",
    "    # SSH key copy into Cluster\n",
    "    sshpass -p raspberry ssh-copy-id pi@${CL_HOSTNAME}.local\n",
    "done"
   ]
  },
  {
   "cell_type": "markdown",
   "metadata": {},
   "source": [
    "## Dem Swarm beitreten"
   ]
  },
  {
   "cell_type": "code",
   "execution_count": 11,
   "metadata": {},
   "outputs": [
    {
     "name": "stdout",
     "output_type": "stream",
     "text": [
      "ID                            HOSTNAME            STATUS              AVAILABILITY        MANAGER STATUS\n",
      "dchzaekl2ka9up3i2fez7lmiu *   cluster-00          Ready               Active              Leader\n"
     ]
    }
   ],
   "source": [
    "docker node ls"
   ]
  },
  {
   "cell_type": "markdown",
   "metadata": {},
   "source": [
    "Alle Clients als Worker dem Swarm beitreten."
   ]
  },
  {
   "cell_type": "code",
   "execution_count": 12,
   "metadata": {},
   "outputs": [
    {
     "name": "stdout",
     "output_type": "stream",
     "text": [
      "cluster-01.local will join into swarm\n",
      "172.24.2.2\n",
      "This node joined a swarm as a worker.\n",
      "cluster-02.local will join into swarm\n",
      "172.24.2.3\n",
      "This node joined a swarm as a worker.\n",
      "cluster-03.local will join into swarm\n",
      "172.24.2.4\n",
      "This node joined a swarm as a worker.\n",
      "cluster-04.local will join into swarm\n",
      "172.24.2.5\n",
      "This node joined a swarm as a worker.\n"
     ]
    }
   ],
   "source": [
    "for i in 01 02 03 04; do\n",
    "    CL_HOSTNAME=cluster-${i}.local\n",
    "    echo $CL_HOSTNAME will join into swarm\n",
    "    CL_IP=$(ping -c 1 ${CL_HOSTNAME} | grep PING | cut -d '(' -f 2 | cut -d')' -f 1)\n",
    "    echo $CL_IP\n",
    "    ssh ${CL_HOSTNAME} \"docker swarm join --token $JOIN_TOKEN --advertise-addr ${CL_IP} ${IP_LEADER}:2377\"\n",
    "done"
   ]
  },
  {
   "cell_type": "code",
   "execution_count": 13,
   "metadata": {},
   "outputs": [
    {
     "name": "stdout",
     "output_type": "stream",
     "text": [
      "ID                            HOSTNAME            STATUS              AVAILABILITY        MANAGER STATUS\n",
      "dchzaekl2ka9up3i2fez7lmiu *   cluster-00          Ready               Active              Leader\n",
      "qixd9zpch292ptmo0nz5mamfz     cluster-01          Ready               Active              \n",
      "un90wiszvf91ytqp7p6gr14rx     cluster-02          Ready               Active              \n",
      "l5oq7336ndunmlmx5jdujpk11     cluster-03          Ready               Active              \n",
      "svbz48dj6c6x0q69lmj0s92dv     cluster-04          Ready               Active              \n"
     ]
    }
   ],
   "source": [
    "docker node ls"
   ]
  },
  {
   "cell_type": "markdown",
   "metadata": {},
   "source": [
    "## Visualizer anschauen"
   ]
  },
  {
   "cell_type": "markdown",
   "metadata": {},
   "source": [
    "Einen graphischen Output als Service starten."
   ]
  },
  {
   "cell_type": "code",
   "execution_count": 14,
   "metadata": {},
   "outputs": [
    {
     "name": "stdout",
     "output_type": "stream",
     "text": [
      "au4wa30yvxgzptu1iuv46kadj\n",
      "\n",
      "\u001b[1Ball progress: 0 out of 1 tasks \n",
      "\u001b[2Ball progress: 1 out of 1 tasks \n",
      "\u001b[1Bfy: Service converged to verify that tasks are stable... "
     ]
    }
   ],
   "source": [
    "docker service create \\\n",
    "  --name=visualizer \\\n",
    "  --publish=8000:8080/tcp \\\n",
    "  --constraint=node.role==manager \\\n",
    "  --mount=type=bind,src=/var/run/docker.sock,dst=/var/run/docker.sock \\\n",
    "  --no-resolve-image \\\n",
    "  --detach=false \\\n",
    "  alexellis2/visualizer-arm"
   ]
  },
  {
   "cell_type": "code",
   "execution_count": 15,
   "metadata": {},
   "outputs": [
    {
     "name": "stdout",
     "output_type": "stream",
     "text": [
      "http://172.24.1.1:8000\n"
     ]
    }
   ],
   "source": [
    "echo \"http://${IP_LEADER_WLAN}:8000\""
   ]
  },
  {
   "cell_type": "code",
   "execution_count": 16,
   "metadata": {},
   "outputs": [
    {
     "name": "stdout",
     "output_type": "stream",
     "text": [
      "ID                  NAME                MODE                REPLICAS            IMAGE                              PORTS\n",
      "au4wa30yvxgz        visualizer          replicated          1/1                 alexellis2/visualizer-arm:latest   *:8000->8080/tcp\n"
     ]
    }
   ],
   "source": [
    "docker service ls"
   ]
  },
  {
   "cell_type": "markdown",
   "metadata": {},
   "source": [
    "Auf allen nodes den Monitor Dienst installieren. Dieser überwacht, wie viele whoami Container laufen.\n",
    "\n",
    "Grün: Ein whoami-Container wird gestartet.\n",
    "\n",
    "Rot: Ein whoami-Container stoppt.\n",
    "\n",
    "Gelb: Für die Version 1.1.0\n",
    "\n",
    "Blau: Für die Version 1.2.0"
   ]
  },
  {
   "cell_type": "code",
   "execution_count": 17,
   "metadata": {},
   "outputs": [
    {
     "name": "stdout",
     "output_type": "stream",
     "text": [
      "9qc43wo7414wjn5j9o4o3jywp\n",
      "\n",
      "\u001b[1Ball progress: 0 out of 5 tasks \n",
      "\u001b[1B7336ndun: pending   \n",
      "\u001b[1B9zpch292: pending   \n",
      "\u001b[1Bwiszvf91: pending   \n",
      "\u001b[1B48dj6c6x: pending   \n",
      "\u001b[6Ball progress: 5 out of 5 tasks \n",
      "\u001b[1Bfy: Service converged to verify that tasks are stable... "
     ]
    }
   ],
   "source": [
    "docker service create --name monitor --mode global \\\n",
    "  --restart-condition any --mount type=bind,src=/sys,dst=/sys \\\n",
    "  --mount type=bind,src=/var/run/docker.sock,dst=/var/run/docker.sock \\\n",
    "  --no-resolve-image \\\n",
    "  --detach=false \\\n",
    "  stefanscherer/monitor:1.1.0"
   ]
  },
  {
   "cell_type": "markdown",
   "metadata": {},
   "source": [
    "Es läuft noch kein whoami."
   ]
  },
  {
   "cell_type": "code",
   "execution_count": 18,
   "metadata": {},
   "outputs": [
    {
     "name": "stdout",
     "output_type": "stream",
     "text": [
      "ID                  NAME                MODE                REPLICAS            IMAGE                              PORTS\n",
      "9qc43wo7414w        monitor             global              5/5                 stefanscherer/monitor:1.1.0        \n",
      "au4wa30yvxgz        visualizer          replicated          1/1                 alexellis2/visualizer-arm:latest   *:8000->8080/tcp\n"
     ]
    }
   ],
   "source": [
    "docker service ls"
   ]
  },
  {
   "cell_type": "code",
   "execution_count": 19,
   "metadata": {},
   "outputs": [
    {
     "name": "stdout",
     "output_type": "stream",
     "text": [
      "qqdf073o5khn8q6xtz9eotw6v\n",
      "\n",
      "\u001b[1Ball progress: 0 out of 1 tasks \n",
      "\u001b[2Ball progress: 1 out of 1 tasks \n",
      "\u001b[1Bfy: Service converged to verify that tasks are stable... "
     ]
    }
   ],
   "source": [
    "docker service create --name whoami \\\n",
    "  --no-resolve-image \\\n",
    "  --detach=false \\\n",
    "  stefanscherer/whoami:1.1.0 "
   ]
  },
  {
   "cell_type": "code",
   "execution_count": 20,
   "metadata": {},
   "outputs": [
    {
     "name": "stdout",
     "output_type": "stream",
     "text": [
      "ID                  NAME                MODE                REPLICAS            IMAGE                              PORTS\n",
      "9qc43wo7414w        monitor             global              5/5                 stefanscherer/monitor:1.1.0        \n",
      "au4wa30yvxgz        visualizer          replicated          1/1                 alexellis2/visualizer-arm:latest   *:8000->8080/tcp\n",
      "qqdf073o5khn        whoami              replicated          1/1                 stefanscherer/whoami:1.1.0         \n"
     ]
    }
   ],
   "source": [
    "docker service ls"
   ]
  },
  {
   "cell_type": "code",
   "execution_count": 21,
   "metadata": {},
   "outputs": [
    {
     "name": "stdout",
     "output_type": "stream",
     "text": [
      "whoami scaled to 5\n",
      "\n",
      "\u001b[1Ball progress: 0 out of 5 tasks \n",
      "\u001b[1B   K$<3>\u001b[K$<3>\n",
      "\u001b[1B   K$<3>\u001b[K$<3>\n",
      "\u001b[1B   K$<3>\u001b[K$<3>\n",
      "\u001b[1B   K$<3>\u001b[K$<3>\n",
      "\u001b[6Ball progress: 5 out of 5 tasks \n",
      "\u001b[1Bfy: Service converged to verify that tasks are stable... "
     ]
    }
   ],
   "source": [
    "docker service scale --detach=false whoami=5"
   ]
  },
  {
   "cell_type": "code",
   "execution_count": 22,
   "metadata": {},
   "outputs": [
    {
     "name": "stdout",
     "output_type": "stream",
     "text": [
      "ID                  NAME                MODE                REPLICAS            IMAGE                              PORTS\n",
      "9qc43wo7414w        monitor             global              5/5                 stefanscherer/monitor:1.1.0        \n",
      "au4wa30yvxgz        visualizer          replicated          1/1                 alexellis2/visualizer-arm:latest   *:8000->8080/tcp\n",
      "qqdf073o5khn        whoami              replicated          5/5                 stefanscherer/whoami:1.1.0         \n"
     ]
    }
   ],
   "source": [
    "docker service ls"
   ]
  },
  {
   "cell_type": "code",
   "execution_count": 23,
   "metadata": {},
   "outputs": [
    {
     "name": "stdout",
     "output_type": "stream",
     "text": [
      "whoami scaled to 15\n",
      "\n",
      "\u001b[1Ball progress: 0 out of 15 tasks \n",
      "\u001b[1B:   $<3>\u001b[K$<3>\n",
      "\u001b[1B:   $<3>\u001b[K$<3>\n",
      "\u001b[1B:   $<3>\u001b[K$<3>\n",
      "\u001b[1B:   $<3>\u001b[K$<3>\n",
      "\u001b[1B:   $<3>\u001b[K$<3>\n",
      "\u001b[1B:   $<3>\u001b[K$<3>\n",
      "\u001b[1B:   $<3>\u001b[K$<3>\n",
      "\u001b[1B:   $<3>\u001b[K$<3>\n",
      "\u001b[1B:   $<3>\u001b[K$<3>\n",
      "\u001b[1B5:   <3>\u001b[K$<3>\n",
      "\u001b[1B5:   <3>\u001b[K$<3>\n",
      "\u001b[1B5:   <3>\u001b[K$<3>\n",
      "\u001b[1B5:   <3>\u001b[K$<3>\n",
      "\u001b[1B5:   <3>\u001b[K$<3>\n",
      "\u001b[16Bll progress: 15 out of 15 tasks \n",
      "\u001b[1Bfy: Service converged to verify that tasks are stable... "
     ]
    }
   ],
   "source": [
    "docker service scale --detach=false whoami=15"
   ]
  },
  {
   "cell_type": "code",
   "execution_count": 24,
   "metadata": {},
   "outputs": [
    {
     "name": "stdout",
     "output_type": "stream",
     "text": [
      "ID                  NAME                MODE                REPLICAS            IMAGE                              PORTS\n",
      "9qc43wo7414w        monitor             global              5/5                 stefanscherer/monitor:1.1.0        \n",
      "au4wa30yvxgz        visualizer          replicated          1/1                 alexellis2/visualizer-arm:latest   *:8000->8080/tcp\n",
      "qqdf073o5khn        whoami              replicated          15/15               stefanscherer/whoami:1.1.0         \n"
     ]
    }
   ],
   "source": [
    "docker service ls"
   ]
  },
  {
   "cell_type": "code",
   "execution_count": 25,
   "metadata": {},
   "outputs": [
    {
     "name": "stdout",
     "output_type": "stream",
     "text": [
      "whoami scaled to 40\n",
      "\n",
      "\u001b[1Ball progress: 40 out of 40 tasks \n",
      "\u001b[1Bfy: Service converged to verify that tasks are stable... "
     ]
    }
   ],
   "source": [
    "docker service scale --detach=false whoami=40"
   ]
  },
  {
   "cell_type": "code",
   "execution_count": 26,
   "metadata": {},
   "outputs": [
    {
     "name": "stdout",
     "output_type": "stream",
     "text": [
      "image stefanscherer/whoami:1.2.0 could not be accessed on a registry to record\n",
      "its digest. Each node will access stefanscherer/whoami:1.2.0 independently,\n",
      "possibly leading to different nodes running different\n",
      "versions of the image.\n",
      "\n",
      "whoami\n",
      "\n",
      "\u001b[1Ball progress: 40 out of 40 tasks \n",
      "\u001b[1Bfy: Service converged to verify that tasks are stable... "
     ]
    }
   ],
   "source": [
    "docker service update --update-parallelism 5 \\\n",
    "  --detach=false \\\n",
    "  --image stefanscherer/whoami:1.2.0 whoami"
   ]
  },
  {
   "cell_type": "code",
   "execution_count": 27,
   "metadata": {},
   "outputs": [
    {
     "name": "stdout",
     "output_type": "stream",
     "text": [
      "ID                  NAME                MODE                REPLICAS            IMAGE                              PORTS\n",
      "9qc43wo7414w        monitor             global              5/5                 stefanscherer/monitor:1.1.0        \n",
      "au4wa30yvxgz        visualizer          replicated          1/1                 alexellis2/visualizer-arm:latest   *:8000->8080/tcp\n",
      "qqdf073o5khn        whoami              replicated          40/40               stefanscherer/whoami:1.2.0         \n"
     ]
    }
   ],
   "source": [
    "docker service ls"
   ]
  },
  {
   "cell_type": "code",
   "execution_count": 28,
   "metadata": {},
   "outputs": [
    {
     "name": "stdout",
     "output_type": "stream",
     "text": [
      "whoami scaled to 1\n",
      "\n",
      "\u001b[1Ball progress: 0 out of 1 tasks \n",
      "\u001b[2Ball progress: 1 out of 1 tasks  \n",
      "\u001b[1Bfy: Service converged to verify that tasks are stable... "
     ]
    }
   ],
   "source": [
    "docker service scale --detach=false whoami=1"
   ]
  },
  {
   "cell_type": "code",
   "execution_count": 29,
   "metadata": {},
   "outputs": [
    {
     "name": "stdout",
     "output_type": "stream",
     "text": [
      "whoami scaled to 40\n",
      "\n",
      "\u001b[1Ball progress: 40 out of 40 tasks \n",
      "\u001b[1Bfy: Service converged to verify that tasks are stable... "
     ]
    }
   ],
   "source": [
    "docker service scale --detach=false whoami=40"
   ]
  },
  {
   "cell_type": "code",
   "execution_count": 30,
   "metadata": {},
   "outputs": [
    {
     "name": "stdout",
     "output_type": "stream",
     "text": [
      "ID                  NAME                MODE                REPLICAS            IMAGE                              PORTS\n",
      "9qc43wo7414w        monitor             global              5/5                 stefanscherer/monitor:1.1.0        \n",
      "au4wa30yvxgz        visualizer          replicated          1/1                 alexellis2/visualizer-arm:latest   *:8000->8080/tcp\n",
      "qqdf073o5khn        whoami              replicated          40/40               stefanscherer/whoami:1.2.0         \n"
     ]
    }
   ],
   "source": [
    "docker service ls"
   ]
  },
  {
   "cell_type": "code",
   "execution_count": 31,
   "metadata": {},
   "outputs": [
    {
     "name": "stdout",
     "output_type": "stream",
     "text": [
      "image stefanscherer/whoami:1.1.0 could not be accessed on a registry to record\n",
      "its digest. Each node will access stefanscherer/whoami:1.1.0 independently,\n",
      "possibly leading to different nodes running different\n",
      "versions of the image.\n",
      "\n",
      "whoami\n",
      "\n",
      "\u001b[1Ball progress: 40 out of 40 tasks \n",
      "\u001b[1Bfy: Service converged to verify that tasks are stable... "
     ]
    }
   ],
   "source": [
    "docker service update --update-parallelism 5 \\\n",
    "  --detach=false \\\n",
    "  --image stefanscherer/whoami:1.1.0 whoami"
   ]
  },
  {
   "cell_type": "code",
   "execution_count": 32,
   "metadata": {},
   "outputs": [
    {
     "name": "stdout",
     "output_type": "stream",
     "text": [
      "image stefanscherer/whoami:1.2.0 could not be accessed on a registry to record\n",
      "its digest. Each node will access stefanscherer/whoami:1.2.0 independently,\n",
      "possibly leading to different nodes running different\n",
      "versions of the image.\n",
      "\n",
      "whoami\n",
      "\n",
      "\u001b[1Ball progress: 40 out of 40 tasks \n",
      "\u001b[1Bfy: Service converged to verify that tasks are stable... "
     ]
    }
   ],
   "source": [
    "docker service update --update-parallelism 5 \\\n",
    "  --detach=false \\\n",
    "  --image stefanscherer/whoami:1.2.0 whoami"
   ]
  },
  {
   "cell_type": "code",
   "execution_count": 33,
   "metadata": {},
   "outputs": [
    {
     "name": "stdout",
     "output_type": "stream",
     "text": [
      "ID                  NAME                MODE                REPLICAS            IMAGE                              PORTS\n",
      "9qc43wo7414w        monitor             global              5/5                 stefanscherer/monitor:1.1.0        \n",
      "au4wa30yvxgz        visualizer          replicated          1/1                 alexellis2/visualizer-arm:latest   *:8000->8080/tcp\n",
      "qqdf073o5khn        whoami              replicated          40/40               stefanscherer/whoami:1.2.0         \n"
     ]
    }
   ],
   "source": [
    "docker service ls"
   ]
  },
  {
   "cell_type": "code",
   "execution_count": 34,
   "metadata": {
    "collapsed": true
   },
   "outputs": [
    {
     "name": "stdout",
     "output_type": "stream",
     "text": [
      "image stefanscherer/whoami:1.1.0 could not be accessed on a registry to record\n",
      "its digest. Each node will access stefanscherer/whoami:1.1.0 independently,\n",
      "possibly leading to different nodes running different\n",
      "versions of the image.\n",
      "\n",
      "whoami\n",
      "\n",
      "\u001b[1Ball progress: 40 out of 40 tasks \n",
      "\u001b[1Bwhoami scaled to 1ged to verify that tasks are stable... \n",
      "\n",
      "\u001b[1Ball progress: 0 out of 1 tasks \n",
      "\u001b[2Ball progress: 1 out of 1 tasks  \n",
      "\u001b[1Bimage stefanscherer/whoami:1.2.0 could not be accessed on a registry to record\n",
      "its digest. Each node will access stefanscherer/whoami:1.2.0 independently,\n",
      "possibly leading to different nodes running different\n",
      "versions of the image.\n",
      "\n",
      "whoami\n",
      "\n",
      "\u001b[1Ball progress: 0 out of 1 tasks \n",
      "\u001b[2Ball progress: 1 out of 1 tasks \n",
      "\u001b[1Bwhoami scaled to 15ed to verify that tasks are stable... \n",
      "\n",
      "\u001b[1Ball progress: 0 out of 15 tasks \n",
      "\u001b[1B:   $<3>\u001b[K$<3>\n",
      "\u001b[1B:   $<3>\u001b[K$<3>\n",
      "\u001b[1B:   $<3>\u001b[K$<3>\n",
      "\u001b[1B:   $<3>\u001b[K$<3>\n",
      "\u001b[1B:   $<3>\u001b[K$<3>\n",
      "\u001b[1B:   $<3>\u001b[K$<3>\n",
      "\u001b[1B:   $<3>\u001b[K$<3>\n",
      "\u001b[1B:   $<3>\u001b[K$<3>\n",
      "\u001b[1B:   $<3>\u001b[K$<3>\n",
      "\u001b[1B5:   <3>\u001b[K$<3>\n",
      "\u001b[1B5:   <3>\u001b[K$<3>\n",
      "\u001b[1B5:   <3>\u001b[K$<3>\n",
      "\u001b[1B5:   <3>\u001b[K$<3>\n",
      "\u001b[1B5:   <3>\u001b[K$<3>\n",
      "\u001b[16Bll progress: 15 out of 15 tasks \n",
      "\u001b[1Bimage stefanscherer/whoami:1.1.0 could not be accessed on a registry to record\n",
      "its digest. Each node will access stefanscherer/whoami:1.1.0 independently,\n",
      "possibly leading to different nodes running different\n",
      "versions of the image.\n",
      "\n",
      "whoami\n",
      "\n",
      "\u001b[1Ball progress: 0 out of 15 tasks \n",
      "\u001b[1B:   $<3>\u001b[K$<3>\n",
      "\u001b[1B:   $<3>\u001b[K$<3>\n",
      "\u001b[1B:   $<3>\u001b[K$<3>\n",
      "\u001b[1B:   $<3>\u001b[K$<3>\n",
      "\u001b[1B:   $<3>\u001b[K$<3>\n",
      "\u001b[1B:   $<3>\u001b[K$<3>\n",
      "\u001b[1B:   $<3>\u001b[K$<3>\n",
      "\u001b[1B:   $<3>\u001b[K$<3>\n",
      "\u001b[1B:   $<3>\u001b[K$<3>\n",
      "\u001b[1B5:   <3>\u001b[K$<3>\n",
      "\u001b[1B5:   <3>\u001b[K$<3>\n",
      "\u001b[1B5:   <3>\u001b[K$<3>\n",
      "\u001b[1B5:   <3>\u001b[K$<3>\n",
      "\u001b[1B5:   <3>\u001b[K$<3>\n",
      "\u001b[16Bll progress: 15 out of 15 tasks \n",
      "\u001b[1Bimage stefanscherer/whoami:1.2.0 could not be accessed on a registry to record\n",
      "its digest. Each node will access stefanscherer/whoami:1.2.0 independently,\n",
      "possibly leading to different nodes running different\n",
      "versions of the image.\n",
      "\n",
      "whoami\n",
      "\n",
      "\u001b[1Ball progress: 0 out of 15 tasks \n",
      "\u001b[1B:   $<3>\u001b[K$<3>\n",
      "\u001b[1B:   $<3>\u001b[K$<3>\n",
      "\u001b[1B:   $<3>\u001b[K$<3>\n",
      "\u001b[1B:   $<3>\u001b[K$<3>\n",
      "\u001b[1B:   $<3>\u001b[K$<3>\n",
      "\u001b[1B:   $<3>\u001b[K$<3>\n",
      "\u001b[1B:   $<3>\u001b[K$<3>\n",
      "\u001b[1B:   $<3>\u001b[K$<3>\n",
      "\u001b[1B:   $<3>\u001b[K$<3>\n",
      "\u001b[1B5:   <3>\u001b[K$<3>\n",
      "\u001b[1B5:   <3>\u001b[K$<3>\n",
      "\u001b[1B5:   <3>\u001b[K$<3>\n",
      "\u001b[1B5:   <3>\u001b[K$<3>\n",
      "\u001b[1B5:   <3>\u001b[K$<3>\n",
      "\u001b[16Bll progress: 15 out of 15 tasks \n",
      "\u001b[1Bwhoami scaled to 40ed to verify that tasks are stable... \n",
      "\n",
      "\u001b[1Ball progress: 40 out of 40 tasks \n",
      "\u001b[1Bimage stefanscherer/whoami:1.1.0 could not be accessed on a registry to record\n",
      "its digest. Each node will access stefanscherer/whoami:1.1.0 independently,\n",
      "possibly leading to different nodes running different\n",
      "versions of the image.\n",
      "\n",
      "whoami\n",
      "\n",
      "\u001b[1Ball progress: 40 out of 40 tasks \n",
      "\u001b[1Bimage stefanscherer/whoami:1.2.0 could not be accessed on a registry to record\n",
      "its digest. Each node will access stefanscherer/whoami:1.2.0 independently,\n",
      "possibly leading to different nodes running different\n",
      "versions of the image.\n",
      "\n",
      "whoami\n",
      "\n",
      "\u001b[1Ball progress: 40 out of 40 tasks \n",
      "\u001b[1Bimage stefanscherer/whoami:1.1.0 could not be accessed on a registry to record\n",
      "its digest. Each node will access stefanscherer/whoami:1.1.0 independently,\n",
      "possibly leading to different nodes running different\n",
      "versions of the image.\n",
      "\n",
      "whoami\n",
      "\n",
      "\u001b[1Ball progress: 40 out of 40 tasks \n",
      "\u001b[1Bwhoami scaled to 1ged to verify that tasks are stable... \n",
      "\n",
      "\u001b[1Ball progress: 0 out of 1 tasks \n",
      "\u001b[2Ball progress: 1 out of 1 tasks  \n",
      "\u001b[1Bimage stefanscherer/whoami:1.2.0 could not be accessed on a registry to record\n",
      "its digest. Each node will access stefanscherer/whoami:1.2.0 independently,\n",
      "possibly leading to different nodes running different\n",
      "versions of the image.\n",
      "\n",
      "whoami\n",
      "\n",
      "\u001b[1Ball progress: 0 out of 1 tasks \n",
      "\u001b[2Ball progress: 1 out of 1 tasks \n",
      "\u001b[1Bwhoami scaled to 15ed to verify that tasks are stable... \n",
      "\n",
      "\u001b[1Ball progress: 0 out of 15 tasks \n",
      "\u001b[1B:   $<3>\u001b[K$<3>\n",
      "\u001b[1B:   $<3>\u001b[K$<3>\n",
      "\u001b[1B:   $<3>\u001b[K$<3>\n",
      "\u001b[1B:   $<3>\u001b[K$<3>\n",
      "\u001b[1B:   $<3>\u001b[K$<3>\n",
      "\u001b[1B:   $<3>\u001b[K$<3>\n",
      "\u001b[1B:   $<3>\u001b[K$<3>\n",
      "\u001b[1B:   $<3>\u001b[K$<3>\n",
      "\u001b[1B:   $<3>\u001b[K$<3>\n",
      "\u001b[1B5:   <3>\u001b[K$<3>\n",
      "\u001b[1B5:   <3>\u001b[K$<3>\n",
      "\u001b[1B5:   <3>\u001b[K$<3>\n",
      "\u001b[1B5:   <3>\u001b[K$<3>\n",
      "\u001b[1B5:   <3>\u001b[K$<3>\n",
      "\u001b[16Bll progress: 15 out of 15 tasks \n",
      "\u001b[1Bimage stefanscherer/whoami:1.1.0 could not be accessed on a registry to record\n",
      "its digest. Each node will access stefanscherer/whoami:1.1.0 independently,\n",
      "possibly leading to different nodes running different\n",
      "versions of the image.\n",
      "\n",
      "whoami\n",
      "\n",
      "\u001b[1Ball progress: 0 out of 15 tasks \n",
      "\u001b[1B:   $<3>\u001b[K$<3>\n",
      "\u001b[1B:   $<3>\u001b[K$<3>\n",
      "\u001b[1B:   $<3>\u001b[K$<3>\n",
      "\u001b[1B:   $<3>\u001b[K$<3>\n",
      "\u001b[1B:   $<3>\u001b[K$<3>\n",
      "\u001b[1B:   $<3>\u001b[K$<3>\n",
      "\u001b[1B:   $<3>\u001b[K$<3>\n",
      "\u001b[1B:   $<3>\u001b[K$<3>\n",
      "\u001b[1B:   $<3>\u001b[K$<3>\n",
      "\u001b[1B5:   <3>\u001b[K$<3>\n",
      "\u001b[1B5:   <3>\u001b[K$<3>\n",
      "\u001b[1B5:   <3>\u001b[K$<3>\n",
      "\u001b[1B5:   <3>\u001b[K$<3>\n",
      "\u001b[1B5:   <3>\u001b[K$<3>\n",
      "\u001b[16Bll progress: 15 out of 15 tasks \n",
      "\u001b[1Bimage stefanscherer/whoami:1.2.0 could not be accessed on a registry to record\n",
      "its digest. Each node will access stefanscherer/whoami:1.2.0 independently,\n",
      "possibly leading to different nodes running different\n",
      "versions of the image.\n",
      "\n",
      "whoami\n",
      "\n",
      "\u001b[1Ball progress: 0 out of 15 tasks \n",
      "\u001b[1B:   $<3>\u001b[K$<3>\n",
      "\u001b[1B:   $<3>\u001b[K$<3>\n",
      "\u001b[1B:   $<3>\u001b[K$<3>\n",
      "\u001b[1B:   $<3>\u001b[K$<3>\n",
      "\u001b[1B:   $<3>\u001b[K$<3>\n",
      "\u001b[1B:   $<3>\u001b[K$<3>\n",
      "\u001b[1B:   $<3>\u001b[K$<3>\n",
      "\u001b[1B:   $<3>\u001b[K$<3>\n",
      "\u001b[1B:   $<3>\u001b[K$<3>\n",
      "\u001b[1B5:   <3>\u001b[K$<3>\n",
      "\u001b[1B5:   <3>\u001b[K$<3>\n",
      "\u001b[1B5:   <3>\u001b[K$<3>\n",
      "\u001b[1B5:   <3>\u001b[K$<3>\n",
      "\u001b[1B5:   <3>\u001b[K$<3>\n",
      "\u001b[16Bll progress: 15 out of 15 tasks \n",
      "\u001b[1Bwhoami scaled to 40ed to verify that tasks are stable... \n",
      "\n",
      "\u001b[1Ball progress: 40 out of 40 tasks \n",
      "\u001b[1Bimage stefanscherer/whoami:1.1.0 could not be accessed on a registry to record\n",
      "its digest. Each node will access stefanscherer/whoami:1.1.0 independently,\n",
      "possibly leading to different nodes running different\n",
      "versions of the image.\n",
      "\n",
      "whoami\n",
      "\n",
      "\u001b[1Ball progress: 40 out of 40 tasks \n",
      "\u001b[1Bimage stefanscherer/whoami:1.2.0 could not be accessed on a registry to record\n",
      "its digest. Each node will access stefanscherer/whoami:1.2.0 independently,\n",
      "possibly leading to different nodes running different\n",
      "versions of the image.\n",
      "\n",
      "whoami\n",
      "\n",
      "\u001b[1Ball progress: 40 out of 40 tasks \n",
      "\u001b[1Bimage stefanscherer/whoami:1.1.0 could not be accessed on a registry to record\n",
      "its digest. Each node will access stefanscherer/whoami:1.1.0 independently,\n",
      "possibly leading to different nodes running different\n",
      "versions of the image.\n",
      "\n",
      "whoami\n",
      "\n",
      "\u001b[1Ball progress: 40 out of 40 tasks \n",
      "\u001b[1Bwhoami scaled to 1ged to verify that tasks are stable... \n",
      "\n",
      "\u001b[1Ball progress: 0 out of 1 tasks \n",
      "\u001b[2Ball progress: 1 out of 1 tasks  \n",
      "\u001b[1Bimage stefanscherer/whoami:1.2.0 could not be accessed on a registry to record\n",
      "its digest. Each node will access stefanscherer/whoami:1.2.0 independently,\n",
      "possibly leading to different nodes running different\n",
      "versions of the image.\n",
      "\n",
      "whoami\n",
      "\n",
      "\u001b[1Ball progress: 0 out of 1 tasks \n",
      "\u001b[2Ball progress: 1 out of 1 tasks \n",
      "\u001b[1Bwhoami scaled to 15ed to verify that tasks are stable... \n",
      "\n",
      "\u001b[1Ball progress: 0 out of 15 tasks \n",
      "\u001b[1B:   $<3>\u001b[K$<3>\n",
      "\u001b[1B:   $<3>\u001b[K$<3>\n",
      "\u001b[1B:   $<3>\u001b[K$<3>\n",
      "\u001b[1B:   $<3>\u001b[K$<3>\n",
      "\u001b[1B:   $<3>\u001b[K$<3>\n",
      "\u001b[1B:   $<3>\u001b[K$<3>\n",
      "\u001b[1B:   $<3>\u001b[K$<3>\n",
      "\u001b[1B:   $<3>\u001b[K$<3>\n",
      "\u001b[1B:   $<3>\u001b[K$<3>\n",
      "\u001b[1B5:   <3>\u001b[K$<3>\n",
      "\u001b[1B5:   <3>\u001b[K$<3>\n",
      "\u001b[1B5:   <3>\u001b[K$<3>\n",
      "\u001b[1B5:   <3>\u001b[K$<3>\n",
      "\u001b[1B5:   <3>\u001b[K$<3>\n",
      "\u001b[16Bll progress: 15 out of 15 tasks \n",
      "\u001b[1Bimage stefanscherer/whoami:1.1.0 could not be accessed on a registry to record\n",
      "its digest. Each node will access stefanscherer/whoami:1.1.0 independently,\n",
      "possibly leading to different nodes running different\n",
      "versions of the image.\n",
      "\n",
      "whoami\n",
      "\n",
      "\u001b[1Ball progress: 0 out of 15 tasks \n",
      "\u001b[1B:   $<3>\u001b[K$<3>\n",
      "\u001b[1B:   $<3>\u001b[K$<3>\n",
      "\u001b[1B:   $<3>\u001b[K$<3>\n",
      "\u001b[1B:   $<3>\u001b[K$<3>\n",
      "\u001b[1B:   $<3>\u001b[K$<3>\n",
      "\u001b[1B:   $<3>\u001b[K$<3>\n",
      "\u001b[1B:   $<3>\u001b[K$<3>\n",
      "\u001b[1B:   $<3>\u001b[K$<3>\n",
      "\u001b[1B:   $<3>\u001b[K$<3>\n",
      "\u001b[1B5:   <3>\u001b[K$<3>\n",
      "\u001b[1B5:   <3>\u001b[K$<3>\n",
      "\u001b[1B5:   <3>\u001b[K$<3>\n",
      "\u001b[1B5:   <3>\u001b[K$<3>\n",
      "\u001b[1B5:   <3>\u001b[K$<3>\n",
      "\u001b[16Bll progress: 15 out of 15 tasks \n",
      "\u001b[1Bimage stefanscherer/whoami:1.2.0 could not be accessed on a registry to record\n",
      "its digest. Each node will access stefanscherer/whoami:1.2.0 independently,\n",
      "possibly leading to different nodes running different\n",
      "versions of the image.\n",
      "\n",
      "whoami\n",
      "\n",
      "\u001b[1Ball progress: 0 out of 15 tasks \n",
      "\u001b[1B:   $<3>\u001b[K$<3>\n",
      "\u001b[1B:   $<3>\u001b[K$<3>\n",
      "\u001b[1B:   $<3>\u001b[K$<3>\n",
      "\u001b[1B:   $<3>\u001b[K$<3>\n",
      "\u001b[1B:   $<3>\u001b[K$<3>\n",
      "\u001b[1B:   $<3>\u001b[K$<3>\n"
     ]
    },
    {
     "name": "stdout",
     "output_type": "stream",
     "text": [
      "\u001b[1B:   $<3>\u001b[K$<3>\n",
      "\u001b[1B:   $<3>\u001b[K$<3>\n",
      "\u001b[1B:   $<3>\u001b[K$<3>\n",
      "\u001b[1B5:   <3>\u001b[K$<3>\n",
      "\u001b[1B5:   <3>\u001b[K$<3>\n",
      "\u001b[1B5:   <3>\u001b[K$<3>\n",
      "\u001b[1B5:   <3>\u001b[K$<3>\n",
      "\u001b[1B5:   <3>\u001b[K$<3>\n",
      "\u001b[16Bll progress: 15 out of 15 tasks \n",
      "\u001b[1Bwhoami scaled to 40ed to verify that tasks are stable... \n",
      "\n",
      "\u001b[1Ball progress: 40 out of 40 tasks \n",
      "\u001b[1Bimage stefanscherer/whoami:1.1.0 could not be accessed on a registry to record\n",
      "its digest. Each node will access stefanscherer/whoami:1.1.0 independently,\n",
      "possibly leading to different nodes running different\n",
      "versions of the image.\n",
      "\n",
      "whoami\n",
      "\n",
      "\u001b[1Ball progress: 40 out of 40 tasks \n",
      "\u001b[1Bimage stefanscherer/whoami:1.2.0 could not be accessed on a registry to record\n",
      "its digest. Each node will access stefanscherer/whoami:1.2.0 independently,\n",
      "possibly leading to different nodes running different\n",
      "versions of the image.\n",
      "\n",
      "whoami\n",
      "\n",
      "\u001b[1Ball progress: 40 out of 40 tasks \n",
      "\u001b[1Bimage stefanscherer/whoami:1.1.0 could not be accessed on a registry to record\n",
      "its digest. Each node will access stefanscherer/whoami:1.1.0 independently,\n",
      "possibly leading to different nodes running different\n",
      "versions of the image.\n",
      "\n",
      "whoami\n",
      "\n",
      "\u001b[1Ball progress: 40 out of 40 tasks \n",
      "\u001b[1Bwhoami scaled to 1ged to verify that tasks are stable... \n",
      "\n",
      "\u001b[1Ball progress: 0 out of 1 tasks \n",
      "\u001b[2Ball progress: 1 out of 1 tasks  \n",
      "\u001b[1Bimage stefanscherer/whoami:1.2.0 could not be accessed on a registry to record\n",
      "its digest. Each node will access stefanscherer/whoami:1.2.0 independently,\n",
      "possibly leading to different nodes running different\n",
      "versions of the image.\n",
      "\n",
      "whoami\n",
      "\n",
      "\u001b[1Ball progress: 0 out of 1 tasks \n",
      "\u001b[2Ball progress: 1 out of 1 tasks \n",
      "\u001b[1Bwhoami scaled to 15ed to verify that tasks are stable... \n",
      "\n",
      "\u001b[1Ball progress: 0 out of 15 tasks \n",
      "\u001b[1B:   $<3>\u001b[K$<3>\n",
      "\u001b[1B:   $<3>\u001b[K$<3>\n",
      "\u001b[1B:   $<3>\u001b[K$<3>\n",
      "\u001b[1B:   $<3>\u001b[K$<3>\n",
      "\u001b[1B:   $<3>\u001b[K$<3>\n",
      "\u001b[1B:   $<3>\u001b[K$<3>\n",
      "\u001b[1B:   $<3>\u001b[K$<3>\n",
      "\u001b[1B:   $<3>\u001b[K$<3>\n",
      "\u001b[1B:   $<3>\u001b[K$<3>\n",
      "\u001b[1B5:   <3>\u001b[K$<3>\n",
      "\u001b[1B5:   <3>\u001b[K$<3>\n",
      "\u001b[1B5:   <3>\u001b[K$<3>\n",
      "\u001b[1B5:   <3>\u001b[K$<3>\n",
      "\u001b[1B5:   <3>\u001b[K$<3>\n",
      "\u001b[16Bll progress: 15 out of 15 tasks \n",
      "\u001b[1Bimage stefanscherer/whoami:1.1.0 could not be accessed on a registry to record\n",
      "its digest. Each node will access stefanscherer/whoami:1.1.0 independently,\n",
      "possibly leading to different nodes running different\n",
      "versions of the image.\n",
      "\n",
      "whoami\n",
      "\n",
      "\u001b[1Ball progress: 0 out of 15 tasks \n",
      "\u001b[1B:   $<3>\u001b[K$<3>\n",
      "\u001b[1B:   $<3>\u001b[K$<3>\n",
      "\u001b[1B:   $<3>\u001b[K$<3>\n",
      "\u001b[1B:   $<3>\u001b[K$<3>\n",
      "\u001b[1B:   $<3>\u001b[K$<3>\n",
      "\u001b[1B:   $<3>\u001b[K$<3>\n",
      "\u001b[1B:   $<3>\u001b[K$<3>\n",
      "\u001b[1B:   $<3>\u001b[K$<3>\n",
      "\u001b[1B:   $<3>\u001b[K$<3>\n",
      "\u001b[1B5:   <3>\u001b[K$<3>\n",
      "\u001b[1B5:   <3>\u001b[K$<3>\n",
      "\u001b[1B5:   <3>\u001b[K$<3>\n",
      "\u001b[1B5:   <3>\u001b[K$<3>\n",
      "\u001b[1B5:   <3>\u001b[K$<3>\n",
      "\u001b[16Bll progress: 15 out of 15 tasks \n",
      "\u001b[1Bimage stefanscherer/whoami:1.2.0 could not be accessed on a registry to record\n",
      "its digest. Each node will access stefanscherer/whoami:1.2.0 independently,\n",
      "possibly leading to different nodes running different\n",
      "versions of the image.\n",
      "\n",
      "whoami\n",
      "\n",
      "\u001b[1Ball progress: 0 out of 15 tasks \n",
      "\u001b[1B:   $<3>\u001b[K$<3>\n",
      "\u001b[1B:   $<3>\u001b[K$<3>\n",
      "\u001b[1B:   $<3>\u001b[K$<3>\n",
      "\u001b[1B:   $<3>\u001b[K$<3>\n",
      "\u001b[1B:   $<3>\u001b[K$<3>\n",
      "\u001b[1B:   $<3>\u001b[K$<3>\n",
      "\u001b[1B:   $<3>\u001b[K$<3>\n",
      "\u001b[1B:   $<3>\u001b[K$<3>\n",
      "\u001b[1B:   $<3>\u001b[K$<3>\n",
      "\u001b[1B5:   <3>\u001b[K$<3>\n",
      "\u001b[1B5:   <3>\u001b[K$<3>\n",
      "\u001b[1B5:   <3>\u001b[K$<3>\n",
      "\u001b[1B5:   <3>\u001b[K$<3>\n",
      "\u001b[1B5:   <3>\u001b[K$<3>\n",
      "\u001b[16Bll progress: 15 out of 15 tasks \n",
      "\u001b[1Bwhoami scaled to 40ed to verify that tasks are stable... \n",
      "\n",
      "\u001b[1Ball progress: 40 out of 40 tasks \n",
      "\u001b[1Bimage stefanscherer/whoami:1.1.0 could not be accessed on a registry to record\n",
      "its digest. Each node will access stefanscherer/whoami:1.1.0 independently,\n",
      "possibly leading to different nodes running different\n",
      "versions of the image.\n",
      "\n",
      "whoami\n",
      "\n",
      "\u001b[1Ball progress: 40 out of 40 tasks \n",
      "\u001b[1Bimage stefanscherer/whoami:1.2.0 could not be accessed on a registry to record\n",
      "its digest. Each node will access stefanscherer/whoami:1.2.0 independently,\n",
      "possibly leading to different nodes running different\n",
      "versions of the image.\n",
      "\n",
      "whoami\n",
      "\n",
      "\u001b[1Ball progress: 40 out of 40 tasks \n",
      "\u001b[1Bimage stefanscherer/whoami:1.1.0 could not be accessed on a registry to record\n",
      "its digest. Each node will access stefanscherer/whoami:1.1.0 independently,\n",
      "possibly leading to different nodes running different\n",
      "versions of the image.\n",
      "\n",
      "whoami\n",
      "\n",
      "\u001b[1Ball progress: 40 out of 40 tasks \n",
      "\u001b[1Bwhoami scaled to 1ged to verify that tasks are stable... \n",
      "\n",
      "\u001b[1Ball progress: 0 out of 1 tasks \n",
      "\u001b[2Ball progress: 1 out of 1 tasks  \n",
      "\u001b[1Bimage stefanscherer/whoami:1.2.0 could not be accessed on a registry to record\n",
      "its digest. Each node will access stefanscherer/whoami:1.2.0 independently,\n",
      "possibly leading to different nodes running different\n",
      "versions of the image.\n",
      "\n",
      "whoami\n",
      "\n",
      "\u001b[1Ball progress: 0 out of 1 tasks \n",
      "\u001b[2Ball progress: 1 out of 1 tasks \n",
      "\u001b[1Bwhoami scaled to 15ed to verify that tasks are stable... \n",
      "\n",
      "\u001b[1Ball progress: 0 out of 15 tasks \n",
      "\u001b[1B:   $<3>\u001b[K$<3>\n",
      "\u001b[1B:   $<3>\u001b[K$<3>\n",
      "\u001b[1B:   $<3>\u001b[K$<3>\n",
      "\u001b[1B:   $<3>\u001b[K$<3>\n",
      "\u001b[1B:   $<3>\u001b[K$<3>\n",
      "\u001b[1B:   $<3>\u001b[K$<3>\n",
      "\u001b[1B:   $<3>\u001b[K$<3>\n",
      "\u001b[1B:   $<3>\u001b[K$<3>\n",
      "\u001b[1B:   $<3>\u001b[K$<3>\n",
      "\u001b[1B5:   <3>\u001b[K$<3>\n",
      "\u001b[1B5:   <3>\u001b[K$<3>\n",
      "\u001b[1B5:   <3>\u001b[K$<3>\n",
      "\u001b[1B5:   <3>\u001b[K$<3>\n",
      "\u001b[1B5:   <3>\u001b[K$<3>\n",
      "\u001b[16Bll progress: 15 out of 15 tasks \n",
      "\u001b[1Bimage stefanscherer/whoami:1.1.0 could not be accessed on a registry to record\n",
      "its digest. Each node will access stefanscherer/whoami:1.1.0 independently,\n",
      "possibly leading to different nodes running different\n",
      "versions of the image.\n",
      "\n",
      "whoami\n",
      "\n",
      "\u001b[1Ball progress: 0 out of 15 tasks \n",
      "\u001b[1B:   $<3>\u001b[K$<3>\n",
      "\u001b[1B:   $<3>\u001b[K$<3>\n",
      "\u001b[1B:   $<3>\u001b[K$<3>\n",
      "\u001b[1B:   $<3>\u001b[K$<3>\n",
      "\u001b[1B:   $<3>\u001b[K$<3>\n",
      "\u001b[1B:   $<3>\u001b[K$<3>\n",
      "\u001b[1B:   $<3>\u001b[K$<3>\n",
      "\u001b[1B:   $<3>\u001b[K$<3>\n",
      "\u001b[1B:   $<3>\u001b[K$<3>\n",
      "\u001b[1B5:   <3>\u001b[K$<3>\n",
      "\u001b[1B5:   <3>\u001b[K$<3>\n",
      "\u001b[1B5:   <3>\u001b[K$<3>\n",
      "\u001b[1B5:   <3>\u001b[K$<3>\n",
      "\u001b[1B5:   <3>\u001b[K$<3>\n",
      "\u001b[16Bll progress: 15 out of 15 tasks \n",
      "\u001b[1Bimage stefanscherer/whoami:1.2.0 could not be accessed on a registry to record\n",
      "its digest. Each node will access stefanscherer/whoami:1.2.0 independently,\n",
      "possibly leading to different nodes running different\n",
      "versions of the image.\n",
      "\n",
      "whoami\n",
      "\n",
      "\u001b[1Ball progress: 0 out of 15 tasks \n",
      "\u001b[1B:   $<3>\u001b[K$<3>\n",
      "\u001b[1B:   $<3>\u001b[K$<3>\n",
      "\u001b[1B:   $<3>\u001b[K$<3>\n",
      "\u001b[1B:   $<3>\u001b[K$<3>\n",
      "\u001b[1B:   $<3>\u001b[K$<3>\n",
      "\u001b[1B:   $<3>\u001b[K$<3>\n",
      "\u001b[1B:   $<3>\u001b[K$<3>\n",
      "\u001b[1B:   $<3>\u001b[K$<3>\n",
      "\u001b[1B:   $<3>\u001b[K$<3>\n",
      "\u001b[1B5:   <3>\u001b[K$<3>\n",
      "\u001b[1B5:   <3>\u001b[K$<3>\n",
      "\u001b[1B5:   <3>\u001b[K$<3>\n",
      "\u001b[1B5:   <3>\u001b[K$<3>\n",
      "\u001b[1B5:   <3>\u001b[K$<3>\n",
      "\u001b[16Bll progress: 15 out of 15 tasks \n",
      "\u001b[1Bwhoami scaled to 40ed to verify that tasks are stable... \n",
      "\n",
      "\u001b[1Ball progress: 40 out of 40 tasks \n",
      "\u001b[1Bimage stefanscherer/whoami:1.1.0 could not be accessed on a registry to record\n",
      "its digest. Each node will access stefanscherer/whoami:1.1.0 independently,\n",
      "possibly leading to different nodes running different\n",
      "versions of the image.\n",
      "\n",
      "whoami\n",
      "\n",
      "\u001b[1Ball progress: 40 out of 40 tasks \n",
      "\u001b[1Bimage stefanscherer/whoami:1.2.0 could not be accessed on a registry to record\n",
      "its digest. Each node will access stefanscherer/whoami:1.2.0 independently,\n",
      "possibly leading to different nodes running different\n",
      "versions of the image.\n",
      "\n",
      "whoami\n",
      "\n",
      "\u001b[1Ball progress: 40 out of 40 tasks \n",
      "\u001b[1Bimage stefanscherer/whoami:1.1.0 could not be accessed on a registry to record\n",
      "its digest. Each node will access stefanscherer/whoami:1.1.0 independently,\n",
      "possibly leading to different nodes running different\n",
      "versions of the image.\n",
      "\n",
      "whoami\n",
      "\n",
      "\u001b[1Ball progress: 40 out of 40 tasks \n",
      "\u001b[1Bwhoami scaled to 1ged to verify that tasks are stable... \n",
      "\n",
      "\u001b[1Ball progress: 0 out of 1 tasks \n",
      "\u001b[2Ball progress: 1 out of 1 tasks  \n",
      "\u001b[1Bimage stefanscherer/whoami:1.2.0 could not be accessed on a registry to record\n",
      "its digest. Each node will access stefanscherer/whoami:1.2.0 independently,\n",
      "possibly leading to different nodes running different\n",
      "versions of the image.\n",
      "\n",
      "whoami\n",
      "\n",
      "\u001b[1Ball progress: 0 out of 1 tasks \n",
      "\u001b[2Ball progress: 1 out of 1 tasks \n",
      "\u001b[1Bwhoami scaled to 15ed to verify that tasks are stable... \n",
      "\n",
      "\u001b[1Ball progress: 0 out of 15 tasks \n",
      "\u001b[1B:   $<3>\u001b[K$<3>\n",
      "\u001b[1B:   $<3>\u001b[K$<3>\n",
      "\u001b[1B:   $<3>\u001b[K$<3>\n",
      "\u001b[1B:   $<3>\u001b[K$<3>\n",
      "\u001b[1B:   $<3>\u001b[K$<3>\n",
      "\u001b[1B:   $<3>\u001b[K$<3>\n",
      "\u001b[1B:   $<3>\u001b[K$<3>\n",
      "\u001b[1B:   $<3>\u001b[K$<3>\n",
      "\u001b[1B:   $<3>\u001b[K$<3>\n",
      "\u001b[1B5:   <3>\u001b[K$<3>\n",
      "\u001b[1B5:   <3>\u001b[K$<3>\n",
      "\u001b[1B5:   <3>\u001b[K$<3>\n",
      "\u001b[1B5:   <3>\u001b[K$<3>\n",
      "\u001b[1B5:   <3>\u001b[K$<3>\n",
      "\u001b[16Bll progress: 15 out of 15 tasks \n",
      "\u001b[1Bimage stefanscherer/whoami:1.1.0 could not be accessed on a registry to record\n",
      "its digest. Each node will access stefanscherer/whoami:1.1.0 independently,\n"
     ]
    },
    {
     "name": "stdout",
     "output_type": "stream",
     "text": [
      "possibly leading to different nodes running different\n",
      "versions of the image.\n",
      "\n",
      "whoami\n",
      "\n",
      "\u001b[1Ball progress: 0 out of 15 tasks \n",
      "\u001b[1B:   $<3>\u001b[K$<3>\n",
      "\u001b[1B:   $<3>\u001b[K$<3>\n",
      "\u001b[1B:   $<3>\u001b[K$<3>\n",
      "\u001b[1B:   $<3>\u001b[K$<3>\n",
      "\u001b[1B:   $<3>\u001b[K$<3>\n",
      "\u001b[1B:   $<3>\u001b[K$<3>\n",
      "\u001b[1B:   $<3>\u001b[K$<3>\n",
      "\u001b[1B:   $<3>\u001b[K$<3>\n",
      "\u001b[1B:   $<3>\u001b[K$<3>\n",
      "\u001b[1B5:   <3>\u001b[K$<3>\n",
      "\u001b[1B5:   <3>\u001b[K$<3>\n",
      "\u001b[1B5:   <3>\u001b[K$<3>\n",
      "\u001b[1B5:   <3>\u001b[K$<3>\n",
      "\u001b[1B5:   <3>\u001b[K$<3>\n",
      "\u001b[16Bll progress: 15 out of 15 tasks \n",
      "\u001b[1Bimage stefanscherer/whoami:1.2.0 could not be accessed on a registry to record\n",
      "its digest. Each node will access stefanscherer/whoami:1.2.0 independently,\n",
      "possibly leading to different nodes running different\n",
      "versions of the image.\n",
      "\n",
      "whoami\n",
      "\n",
      "\u001b[1Ball progress: 0 out of 15 tasks \n",
      "\u001b[1B:   $<3>\u001b[K$<3>\n",
      "\u001b[1B:   $<3>\u001b[K$<3>\n",
      "\u001b[1B:   $<3>\u001b[K$<3>\n",
      "\u001b[1B:   $<3>\u001b[K$<3>\n",
      "\u001b[1B:   $<3>\u001b[K$<3>\n",
      "\u001b[1B:   $<3>\u001b[K$<3>\n",
      "\u001b[1B:   $<3>\u001b[K$<3>\n",
      "\u001b[1B:   $<3>\u001b[K$<3>\n",
      "\u001b[1B:   $<3>\u001b[K$<3>\n",
      "\u001b[1B5:   <3>\u001b[K$<3>\n",
      "\u001b[1B5:   <3>\u001b[K$<3>\n",
      "\u001b[1B5:   <3>\u001b[K$<3>\n",
      "\u001b[1B5:   <3>\u001b[K$<3>\n",
      "\u001b[1B5:   <3>\u001b[K$<3>\n",
      "\u001b[16Bll progress: 15 out of 15 tasks \n",
      "\u001b[1Bwhoami scaled to 40ed to verify that tasks are stable... \n",
      "\n",
      "\u001b[1Ball progress: 40 out of 40 tasks \n",
      "\u001b[1Bimage stefanscherer/whoami:1.1.0 could not be accessed on a registry to record\n",
      "its digest. Each node will access stefanscherer/whoami:1.1.0 independently,\n",
      "possibly leading to different nodes running different\n",
      "versions of the image.\n",
      "\n",
      "whoami\n",
      "\n",
      "\u001b[1Ball progress: 40 out of 40 tasks \n",
      "\u001b[1Bimage stefanscherer/whoami:1.2.0 could not be accessed on a registry to record\n",
      "its digest. Each node will access stefanscherer/whoami:1.2.0 independently,\n",
      "possibly leading to different nodes running different\n",
      "versions of the image.\n",
      "\n",
      "whoami\n",
      "\n",
      "\u001b[1Ball progress: 40 out of 40 tasks \n",
      "\u001b[1Bimage stefanscherer/whoami:1.1.0 could not be accessed on a registry to record\n",
      "its digest. Each node will access stefanscherer/whoami:1.1.0 independently,\n",
      "possibly leading to different nodes running different\n",
      "versions of the image.\n",
      "\n",
      "whoami\n",
      "\n",
      "\u001b[1Ball progress: 40 out of 40 tasks \n",
      "\u001b[1Bwhoami scaled to 1ged to verify that tasks are stable... \n",
      "\n",
      "\u001b[1Ball progress: 0 out of 1 tasks \n",
      "\u001b[2Ball progress: 1 out of 1 tasks  \n",
      "\u001b[1Bimage stefanscherer/whoami:1.2.0 could not be accessed on a registry to record\n",
      "its digest. Each node will access stefanscherer/whoami:1.2.0 independently,\n",
      "possibly leading to different nodes running different\n",
      "versions of the image.\n",
      "\n",
      "whoami\n",
      "\n",
      "\u001b[1Ball progress: 0 out of 1 tasks \n",
      "\u001b[2Ball progress: 1 out of 1 tasks \n",
      "\u001b[1Bwhoami scaled to 15ed to verify that tasks are stable... \n",
      "\n",
      "\u001b[1Ball progress: 0 out of 15 tasks \n",
      "\u001b[1B:   $<3>\u001b[K$<3>\n",
      "\u001b[1B:   $<3>\u001b[K$<3>\n",
      "\u001b[1B:   $<3>\u001b[K$<3>\n",
      "\u001b[1B:   $<3>\u001b[K$<3>\n",
      "\u001b[1B:   $<3>\u001b[K$<3>\n",
      "\u001b[1B:   $<3>\u001b[K$<3>\n",
      "\u001b[1B:   $<3>\u001b[K$<3>\n",
      "\u001b[1B:   $<3>\u001b[K$<3>\n",
      "\u001b[1B:   $<3>\u001b[K$<3>\n",
      "\u001b[1B5:   <3>\u001b[K$<3>\n",
      "\u001b[1B5:   <3>\u001b[K$<3>\n",
      "\u001b[1B5:   <3>\u001b[K$<3>\n",
      "\u001b[1B5:   <3>\u001b[K$<3>\n",
      "\u001b[1B5:   <3>\u001b[K$<3>\n",
      "\u001b[16Bll progress: 15 out of 15 tasks \n",
      "\u001b[1Bimage stefanscherer/whoami:1.1.0 could not be accessed on a registry to record\n",
      "its digest. Each node will access stefanscherer/whoami:1.1.0 independently,\n",
      "possibly leading to different nodes running different\n",
      "versions of the image.\n",
      "\n",
      "whoami\n",
      "\n",
      "\u001b[1Ball progress: 0 out of 15 tasks \n",
      "\u001b[1B:   $<3>\u001b[K$<3>\n",
      "\u001b[1B:   $<3>\u001b[K$<3>\n",
      "\u001b[1B:   $<3>\u001b[K$<3>\n",
      "\u001b[1B:   $<3>\u001b[K$<3>\n",
      "\u001b[1B:   $<3>\u001b[K$<3>\n",
      "\u001b[1B:   $<3>\u001b[K$<3>\n",
      "\u001b[1B:   $<3>\u001b[K$<3>\n",
      "\u001b[1B:   $<3>\u001b[K$<3>\n",
      "\u001b[1B:   $<3>\u001b[K$<3>\n",
      "\u001b[1B5:   <3>\u001b[K$<3>\n",
      "\u001b[1B5:   <3>\u001b[K$<3>\n",
      "\u001b[1B5:   <3>\u001b[K$<3>\n",
      "\u001b[1B5:   <3>\u001b[K$<3>\n",
      "\u001b[1B5:   <3>\u001b[K$<3>\n",
      "\u001b[16Bll progress: 15 out of 15 tasks \n",
      "\u001b[1Bimage stefanscherer/whoami:1.2.0 could not be accessed on a registry to record\n",
      "its digest. Each node will access stefanscherer/whoami:1.2.0 independently,\n",
      "possibly leading to different nodes running different\n",
      "versions of the image.\n",
      "\n",
      "whoami\n",
      "\n",
      "\u001b[1Ball progress: 0 out of 15 tasks \n",
      "\u001b[1B:   $<3>\u001b[K$<3>\n",
      "\u001b[1B:   $<3>\u001b[K$<3>\n",
      "\u001b[1B:   $<3>\u001b[K$<3>\n",
      "\u001b[1B:   $<3>\u001b[K$<3>\n",
      "\u001b[1B:   $<3>\u001b[K$<3>\n",
      "\u001b[1B:   $<3>\u001b[K$<3>\n",
      "\u001b[1B:   $<3>\u001b[K$<3>\n",
      "\u001b[1B:   $<3>\u001b[K$<3>\n",
      "\u001b[1B:   $<3>\u001b[K$<3>\n",
      "\u001b[1B5:   <3>\u001b[K$<3>\n",
      "\u001b[1B5:   <3>\u001b[K$<3>\n",
      "\u001b[1B5:   <3>\u001b[K$<3>\n",
      "\u001b[1B5:   <3>\u001b[K$<3>\n",
      "\u001b[1B5:   <3>\u001b[K$<3>\n",
      "\u001b[16Bll progress: 15 out of 15 tasks \n",
      "\u001b[1Bwhoami scaled to 40ed to verify that tasks are stable... \n",
      "\n",
      "\u001b[1Ball progress: 40 out of 40 tasks \n",
      "\u001b[1Bimage stefanscherer/whoami:1.1.0 could not be accessed on a registry to record\n",
      "its digest. Each node will access stefanscherer/whoami:1.1.0 independently,\n",
      "possibly leading to different nodes running different\n",
      "versions of the image.\n",
      "\n",
      "whoami\n",
      "\n",
      "\u001b[1Ball progress: 40 out of 40 tasks \n",
      "\u001b[1Bimage stefanscherer/whoami:1.2.0 could not be accessed on a registry to record\n",
      "its digest. Each node will access stefanscherer/whoami:1.2.0 independently,\n",
      "possibly leading to different nodes running different\n",
      "versions of the image.\n",
      "\n",
      "whoami\n",
      "\n",
      "\u001b[1Ball progress: 40 out of 40 tasks \n",
      "\u001b[1Bimage stefanscherer/whoami:1.1.0 could not be accessed on a registry to record\n",
      "its digest. Each node will access stefanscherer/whoami:1.1.0 independently,\n",
      "possibly leading to different nodes running different\n",
      "versions of the image.\n",
      "\n",
      "whoami\n",
      "\n",
      "\u001b[1Ball progress: 40 out of 40 tasks \n",
      "\u001b[1Bwhoami scaled to 1ged to verify that tasks are stable... \n",
      "\n",
      "\u001b[1Ball progress: 0 out of 1 tasks \n",
      "\u001b[2Ball progress: 1 out of 1 tasks  \n",
      "\u001b[1Bimage stefanscherer/whoami:1.2.0 could not be accessed on a registry to record\n",
      "its digest. Each node will access stefanscherer/whoami:1.2.0 independently,\n",
      "possibly leading to different nodes running different\n",
      "versions of the image.\n",
      "\n",
      "whoami\n",
      "\n",
      "\u001b[1Ball progress: 0 out of 1 tasks \n",
      "\u001b[2Ball progress: 1 out of 1 tasks \n",
      "\u001b[1Bwhoami scaled to 15ed to verify that tasks are stable... \n",
      "\n",
      "\u001b[1Ball progress: 0 out of 15 tasks \n",
      "\u001b[1B:   $<3>\u001b[K$<3>\n",
      "\u001b[1B:   $<3>\u001b[K$<3>\n",
      "\u001b[1B:   $<3>\u001b[K$<3>\n",
      "\u001b[1B:   $<3>\u001b[K$<3>\n",
      "\u001b[1B:   $<3>\u001b[K$<3>\n",
      "\u001b[1B:   $<3>\u001b[K$<3>\n",
      "\u001b[1B:   $<3>\u001b[K$<3>\n",
      "\u001b[1B:   $<3>\u001b[K$<3>\n",
      "\u001b[1B:   $<3>\u001b[K$<3>\n",
      "\u001b[1B5:   <3>\u001b[K$<3>\n",
      "\u001b[1B5:   <3>\u001b[K$<3>\n",
      "\u001b[1B5:   <3>\u001b[K$<3>\n",
      "\u001b[1B5:   <3>\u001b[K$<3>\n",
      "\u001b[1B5:   <3>\u001b[K$<3>\n",
      "\u001b[16Bll progress: 15 out of 15 tasks \n",
      "\u001b[1Bimage stefanscherer/whoami:1.1.0 could not be accessed on a registry to record\n",
      "its digest. Each node will access stefanscherer/whoami:1.1.0 independently,\n",
      "possibly leading to different nodes running different\n",
      "versions of the image.\n",
      "\n",
      "whoami\n",
      "\n",
      "\u001b[1Ball progress: 0 out of 15 tasks \n",
      "\u001b[1B:   $<3>\u001b[K$<3>\n",
      "\u001b[1B:   $<3>\u001b[K$<3>\n",
      "\u001b[1B:   $<3>\u001b[K$<3>\n",
      "\u001b[1B:   $<3>\u001b[K$<3>\n",
      "\u001b[1B:   $<3>\u001b[K$<3>\n",
      "\u001b[1B:   $<3>\u001b[K$<3>\n",
      "\u001b[1B:   $<3>\u001b[K$<3>\n",
      "\u001b[1B:   $<3>\u001b[K$<3>\n",
      "\u001b[1B:   $<3>\u001b[K$<3>\n",
      "\u001b[1B5:   <3>\u001b[K$<3>\n",
      "\u001b[1B5:   <3>\u001b[K$<3>\n",
      "\u001b[1B5:   <3>\u001b[K$<3>\n",
      "\u001b[1B5:   <3>\u001b[K$<3>\n",
      "\u001b[1B5:   <3>\u001b[K$<3>\n",
      "\u001b[16Bll progress: 15 out of 15 tasks \n",
      "\u001b[1Bimage stefanscherer/whoami:1.2.0 could not be accessed on a registry to record\n",
      "its digest. Each node will access stefanscherer/whoami:1.2.0 independently,\n",
      "possibly leading to different nodes running different\n",
      "versions of the image.\n",
      "\n",
      "whoami\n",
      "\n",
      "\u001b[1Ball progress: 0 out of 15 tasks \n",
      "\u001b[1B:   $<3>\u001b[K$<3>\n",
      "\u001b[1B:   $<3>\u001b[K$<3>\n",
      "\u001b[1B:   $<3>\u001b[K$<3>\n",
      "\u001b[1B:   $<3>\u001b[K$<3>\n",
      "\u001b[1B:   $<3>\u001b[K$<3>\n",
      "\u001b[1B:   $<3>\u001b[K$<3>\n",
      "\u001b[1B:   $<3>\u001b[K$<3>\n",
      "\u001b[1B:   $<3>\u001b[K$<3>\n",
      "\u001b[1B:   $<3>\u001b[K$<3>\n",
      "\u001b[1B5:   <3>\u001b[K$<3>\n",
      "\u001b[1B5:   <3>\u001b[K$<3>\n",
      "\u001b[1B5:   <3>\u001b[K$<3>\n",
      "\u001b[1B5:   <3>\u001b[K$<3>\n",
      "\u001b[1B5:   <3>\u001b[K$<3>\n",
      "\u001b[16Bll progress: 15 out of 15 tasks \n",
      "\u001b[1Bwhoami scaled to 40ed to verify that tasks are stable... \n",
      "\n",
      "\u001b[1Ball progress: 40 out of 40 tasks \n",
      "\u001b[1Bimage stefanscherer/whoami:1.1.0 could not be accessed on a registry to record\n",
      "its digest. Each node will access stefanscherer/whoami:1.1.0 independently,\n",
      "possibly leading to different nodes running different\n",
      "versions of the image.\n",
      "\n",
      "whoami\n",
      "\n",
      "\u001b[1Ball progress: 40 out of 40 tasks \n",
      "\u001b[1Bimage stefanscherer/whoami:1.2.0 could not be accessed on a registry to record\n",
      "its digest. Each node will access stefanscherer/whoami:1.2.0 independently,\n",
      "possibly leading to different nodes running different\n",
      "versions of the image.\n",
      "\n",
      "whoami\n",
      "\n",
      "\u001b[1Ball progress: 40 out of 40 tasks \n",
      "\u001b[1Bimage stefanscherer/whoami:1.1.0 could not be accessed on a registry to record\n",
      "its digest. Each node will access stefanscherer/whoami:1.1.0 independently,\n",
      "possibly leading to different nodes running different\n",
      "versions of the image.\n",
      "\n",
      "whoami\n",
      "\n",
      "\u001b[1Ball progress: 40 out of 40 tasks \n",
      "\u001b[1Bwhoami scaled to 1ged to verify that tasks are stable... \n",
      "\n",
      "\u001b[1Ball progress: 0 out of 1 tasks \n",
      "\u001b[2Ball progress: 1 out of 1 tasks  \n",
      "\u001b[1Bimage stefanscherer/whoami:1.2.0 could not be accessed on a registry to record\n"
     ]
    },
    {
     "name": "stdout",
     "output_type": "stream",
     "text": [
      "its digest. Each node will access stefanscherer/whoami:1.2.0 independently,\n",
      "possibly leading to different nodes running different\n",
      "versions of the image.\n",
      "\n",
      "whoami\n",
      "\n",
      "\u001b[1Ball progress: 0 out of 1 tasks \n",
      "\u001b[2Ball progress: 1 out of 1 tasks \n",
      "\u001b[1Bwhoami scaled to 15ed to verify that tasks are stable... \n",
      "\n",
      "\u001b[1Ball progress: 0 out of 15 tasks \n",
      "\u001b[1B:   $<3>\u001b[K$<3>\n",
      "\u001b[1B:   $<3>\u001b[K$<3>\n",
      "\u001b[1B:   $<3>\u001b[K$<3>\n",
      "\u001b[1B:   $<3>\u001b[K$<3>\n",
      "\u001b[1B:   $<3>\u001b[K$<3>\n",
      "\u001b[1B:   $<3>\u001b[K$<3>\n",
      "\u001b[1B:   $<3>\u001b[K$<3>\n",
      "\u001b[1B:   $<3>\u001b[K$<3>\n",
      "\u001b[1B:   $<3>\u001b[K$<3>\n",
      "\u001b[1B5:   <3>\u001b[K$<3>\n",
      "\u001b[1B5:   <3>\u001b[K$<3>\n",
      "\u001b[1B5:   <3>\u001b[K$<3>\n",
      "\u001b[1B5:   <3>\u001b[K$<3>\n",
      "\u001b[1B5:   <3>\u001b[K$<3>\n",
      "\u001b[16Bll progress: 15 out of 15 tasks \n",
      "\u001b[1Bimage stefanscherer/whoami:1.1.0 could not be accessed on a registry to record\n",
      "its digest. Each node will access stefanscherer/whoami:1.1.0 independently,\n",
      "possibly leading to different nodes running different\n",
      "versions of the image.\n",
      "\n",
      "whoami\n",
      "\n",
      "\u001b[1Ball progress: 0 out of 15 tasks \n",
      "\u001b[1B:   $<3>\u001b[K$<3>\n",
      "\u001b[1B:   $<3>\u001b[K$<3>\n",
      "\u001b[1B:   $<3>\u001b[K$<3>\n",
      "\u001b[1B:   $<3>\u001b[K$<3>\n",
      "\u001b[1B:   $<3>\u001b[K$<3>\n",
      "\u001b[1B:   $<3>\u001b[K$<3>\n",
      "\u001b[1B:   $<3>\u001b[K$<3>\n",
      "\u001b[1B:   $<3>\u001b[K$<3>\n",
      "\u001b[1B:   $<3>\u001b[K$<3>\n",
      "\u001b[1B5:   <3>\u001b[K$<3>\n",
      "\u001b[1B5:   <3>\u001b[K$<3>\n",
      "\u001b[1B5:   <3>\u001b[K$<3>\n",
      "\u001b[1B5:   <3>\u001b[K$<3>\n",
      "\u001b[1B5:   <3>\u001b[K$<3>\n",
      "\u001b[16Bll progress: 15 out of 15 tasks \n",
      "\u001b[1Bimage stefanscherer/whoami:1.2.0 could not be accessed on a registry to record\n",
      "its digest. Each node will access stefanscherer/whoami:1.2.0 independently,\n",
      "possibly leading to different nodes running different\n",
      "versions of the image.\n",
      "\n",
      "whoami\n",
      "\n",
      "\u001b[1Ball progress: 0 out of 15 tasks \n",
      "\u001b[1B:   $<3>\u001b[K$<3>\n",
      "\u001b[1B:   $<3>\u001b[K$<3>\n",
      "\u001b[1B:   $<3>\u001b[K$<3>\n",
      "\u001b[1B:   $<3>\u001b[K$<3>\n",
      "\u001b[1B:   $<3>\u001b[K$<3>\n",
      "\u001b[1B:   $<3>\u001b[K$<3>\n",
      "\u001b[1B:   $<3>\u001b[K$<3>\n",
      "\u001b[1B:   $<3>\u001b[K$<3>\n",
      "\u001b[1B:   $<3>\u001b[K$<3>\n",
      "\u001b[1B5:   <3>\u001b[K$<3>\n",
      "\u001b[1B5:   <3>\u001b[K$<3>\n",
      "\u001b[1B5:   <3>\u001b[K$<3>\n",
      "\u001b[1B5:   <3>\u001b[K$<3>\n",
      "\u001b[1B5:   <3>\u001b[K$<3>\n",
      "\u001b[16Bll progress: 15 out of 15 tasks \n",
      "\u001b[1Bwhoami scaled to 40ed to verify that tasks are stable... \n",
      "\n",
      "\u001b[1Ball progress: 40 out of 40 tasks \n",
      "\u001b[1Bimage stefanscherer/whoami:1.1.0 could not be accessed on a registry to record\n",
      "its digest. Each node will access stefanscherer/whoami:1.1.0 independently,\n",
      "possibly leading to different nodes running different\n",
      "versions of the image.\n",
      "\n",
      "whoami\n",
      "\n",
      "\u001b[1Ball progress: 40 out of 40 tasks \n",
      "\u001b[1Bimage stefanscherer/whoami:1.2.0 could not be accessed on a registry to record\n",
      "its digest. Each node will access stefanscherer/whoami:1.2.0 independently,\n",
      "possibly leading to different nodes running different\n",
      "versions of the image.\n",
      "\n",
      "whoami\n",
      "\n",
      "\u001b[1Ball progress: 40 out of 40 tasks \n",
      "\u001b[1Bimage stefanscherer/whoami:1.1.0 could not be accessed on a registry to record\n",
      "its digest. Each node will access stefanscherer/whoami:1.1.0 independently,\n",
      "possibly leading to different nodes running different\n",
      "versions of the image.\n",
      "\n",
      "whoami\n",
      "\n",
      "\u001b[1Ball progress: 40 out of 40 tasks \n",
      "\u001b[1Bwhoami scaled to 1ged to verify that tasks are stable... \n",
      "\n",
      "\u001b[1Ball progress: 0 out of 1 tasks \n",
      "\u001b[2Ball progress: 1 out of 1 tasks  \n",
      "\u001b[1Bimage stefanscherer/whoami:1.2.0 could not be accessed on a registry to record\n",
      "its digest. Each node will access stefanscherer/whoami:1.2.0 independently,\n",
      "possibly leading to different nodes running different\n",
      "versions of the image.\n",
      "\n",
      "whoami\n",
      "\n",
      "\u001b[1Ball progress: 0 out of 1 tasks \n",
      "\u001b[2Ball progress: 1 out of 1 tasks \n",
      "\u001b[1Bwhoami scaled to 15ed to verify that tasks are stable... \n",
      "\n",
      "\u001b[1Ball progress: 0 out of 15 tasks \n",
      "\u001b[1B:   $<3>\u001b[K$<3>\n",
      "\u001b[1B:   $<3>\u001b[K$<3>\n",
      "\u001b[1B:   $<3>\u001b[K$<3>\n",
      "\u001b[1B:   $<3>\u001b[K$<3>\n",
      "\u001b[1B:   $<3>\u001b[K$<3>\n",
      "\u001b[1B:   $<3>\u001b[K$<3>\n",
      "\u001b[1B:   $<3>\u001b[K$<3>\n",
      "\u001b[1B:   $<3>\u001b[K$<3>\n",
      "\u001b[1B:   $<3>\u001b[K$<3>\n",
      "\u001b[1B5:   <3>\u001b[K$<3>\n",
      "\u001b[1B5:   <3>\u001b[K$<3>\n",
      "\u001b[1B5:   <3>\u001b[K$<3>\n",
      "\u001b[1B5:   <3>\u001b[K$<3>\n",
      "\u001b[1B5:   <3>\u001b[K$<3>\n",
      "\u001b[16Bll progress: 15 out of 15 tasks \n",
      "\u001b[1Bimage stefanscherer/whoami:1.1.0 could not be accessed on a registry to record\n",
      "its digest. Each node will access stefanscherer/whoami:1.1.0 independently,\n",
      "possibly leading to different nodes running different\n",
      "versions of the image.\n",
      "\n",
      "whoami\n",
      "\n",
      "\u001b[1Ball progress: 0 out of 15 tasks \n",
      "\u001b[1B:   $<3>\u001b[K$<3>\n",
      "\u001b[1B:   $<3>\u001b[K$<3>\n",
      "\u001b[1B:   $<3>\u001b[K$<3>\n",
      "\u001b[1B:   $<3>\u001b[K$<3>\n",
      "\u001b[1B:   $<3>\u001b[K$<3>\n",
      "\u001b[1B:   $<3>\u001b[K$<3>\n",
      "\u001b[1B:   $<3>\u001b[K$<3>\n",
      "\u001b[1B:   $<3>\u001b[K$<3>\n",
      "\u001b[1B:   $<3>\u001b[K$<3>\n",
      "\u001b[1B5:   <3>\u001b[K$<3>\n",
      "\u001b[1B5:   <3>\u001b[K$<3>\n",
      "\u001b[1B5:   <3>\u001b[K$<3>\n",
      "\u001b[1B5:   <3>\u001b[K$<3>\n",
      "\u001b[1B5:   <3>\u001b[K$<3>\n",
      "\u001b[16Bll progress: 15 out of 15 tasks \n",
      "\u001b[1Bimage stefanscherer/whoami:1.2.0 could not be accessed on a registry to record\n",
      "its digest. Each node will access stefanscherer/whoami:1.2.0 independently,\n",
      "possibly leading to different nodes running different\n",
      "versions of the image.\n",
      "\n",
      "whoami\n",
      "\n",
      "\u001b[1Ball progress: 0 out of 15 tasks \n",
      "\u001b[1B:   $<3>\u001b[K$<3>\n",
      "\u001b[1B:   $<3>\u001b[K$<3>\n",
      "\u001b[1B:   $<3>\u001b[K$<3>\n",
      "\u001b[1B:   $<3>\u001b[K$<3>\n",
      "\u001b[1B:   $<3>\u001b[K$<3>\n",
      "\u001b[1B:   $<3>\u001b[K$<3>\n",
      "\u001b[1B:   $<3>\u001b[K$<3>\n",
      "\u001b[1B:   $<3>\u001b[K$<3>\n",
      "\u001b[1B:   $<3>\u001b[K$<3>\n",
      "\u001b[1B5:   <3>\u001b[K$<3>\n",
      "\u001b[1B5:   <3>\u001b[K$<3>\n",
      "\u001b[1B5:   <3>\u001b[K$<3>\n",
      "\u001b[1B5:   <3>\u001b[K$<3>\n",
      "\u001b[1B5:   <3>\u001b[K$<3>\n",
      "\u001b[16Bll progress: 15 out of 15 tasks \n",
      "\u001b[1Bwhoami scaled to 40ed to verify that tasks are stable... \n",
      "\n",
      "\u001b[1Ball progress: 40 out of 40 tasks \n",
      "\u001b[1Bimage stefanscherer/whoami:1.1.0 could not be accessed on a registry to record\n",
      "its digest. Each node will access stefanscherer/whoami:1.1.0 independently,\n",
      "possibly leading to different nodes running different\n",
      "versions of the image.\n",
      "\n",
      "whoami\n",
      "\n",
      "\u001b[1Ball progress: 40 out of 40 tasks \n",
      "\u001b[1Bimage stefanscherer/whoami:1.2.0 could not be accessed on a registry to record\n",
      "its digest. Each node will access stefanscherer/whoami:1.2.0 independently,\n",
      "possibly leading to different nodes running different\n",
      "versions of the image.\n",
      "\n",
      "whoami\n",
      "\n",
      "\u001b[1Ball progress: 40 out of 40 tasks \n",
      "\u001b[1Bfy: Service converged to verify that tasks are stable... "
     ]
    }
   ],
   "source": [
    "END=10\n",
    "for i in $(seq 1 $END); do\n",
    "    docker service update --update-parallelism 5 \\\n",
    "        --detach=false \\\n",
    "        --image stefanscherer/whoami:1.1.0 whoami --detach=false\n",
    "    docker service scale --detach=false whoami=1 \n",
    "    docker service update --update-parallelism 5 \\\n",
    "        --detach=false \\\n",
    "        --image stefanscherer/whoami:1.2.0 whoami --detach=false\n",
    "    sleep 5\n",
    "    docker service scale --detach=false whoami=15\n",
    "    docker service update --update-parallelism 5 \\\n",
    "        --detach=false \\\n",
    "        --image stefanscherer/whoami:1.1.0 whoami --detach=false\n",
    "    sleep 5\n",
    "    docker service update --update-parallelism 5 \\\n",
    "        --detach=false \\\n",
    "        --image stefanscherer/whoami:1.2.0 whoami --detach=false\n",
    "    sleep 5\n",
    "    docker service scale --detach=false whoami=40\n",
    "    sleep 5\n",
    "    docker service update --update-parallelism 5 \\\n",
    "        --detach=false \\\n",
    "        --image stefanscherer/whoami:1.1.0 whoami --detach=false\n",
    "    sleep 5\n",
    "    docker service update --update-parallelism 5 \\\n",
    "        --detach=false \\\n",
    "        --image stefanscherer/whoami:1.2.0 whoami --detach=false\n",
    "    sleep 5\n",
    "done"
   ]
  },
  {
   "cell_type": "markdown",
   "metadata": {},
   "source": [
    "# Aufräumen"
   ]
  },
  {
   "cell_type": "code",
   "execution_count": 35,
   "metadata": {},
   "outputs": [
    {
     "name": "stdout",
     "output_type": "stream",
     "text": [
      "whoami\n"
     ]
    }
   ],
   "source": [
    "docker service rm whoami"
   ]
  },
  {
   "cell_type": "code",
   "execution_count": 36,
   "metadata": {},
   "outputs": [
    {
     "name": "stdout",
     "output_type": "stream",
     "text": [
      "monitor\n"
     ]
    }
   ],
   "source": [
    "docker service rm monitor"
   ]
  },
  {
   "cell_type": "code",
   "execution_count": 37,
   "metadata": {},
   "outputs": [
    {
     "name": "stdout",
     "output_type": "stream",
     "text": [
      "ID                            HOSTNAME            STATUS              AVAILABILITY        MANAGER STATUS\n",
      "dchzaekl2ka9up3i2fez7lmiu *   cluster-00          Ready               Active              Leader\n",
      "qixd9zpch292ptmo0nz5mamfz     cluster-01          Ready               Active              \n",
      "un90wiszvf91ytqp7p6gr14rx     cluster-02          Ready               Active              \n",
      "l5oq7336ndunmlmx5jdujpk11     cluster-03          Ready               Active              \n",
      "svbz48dj6c6x0q69lmj0s92dv     cluster-04          Ready               Active              \n"
     ]
    }
   ],
   "source": [
    "docker node ls"
   ]
  },
  {
   "cell_type": "code",
   "execution_count": 38,
   "metadata": {},
   "outputs": [
    {
     "name": "stdout",
     "output_type": "stream",
     "text": [
      "ID                  NAME                MODE                REPLICAS            IMAGE                              PORTS\n",
      "au4wa30yvxgz        visualizer          replicated          1/1                 alexellis2/visualizer-arm:latest   *:8000->8080/tcp\n"
     ]
    }
   ],
   "source": [
    "docker service ls"
   ]
  },
  {
   "cell_type": "code",
   "execution_count": 39,
   "metadata": {},
   "outputs": [
    {
     "name": "stdout",
     "output_type": "stream",
     "text": [
      "Node left the swarm.\n",
      "Node left the swarm.\n",
      "Node left the swarm.\n",
      "Node left the swarm.\n"
     ]
    }
   ],
   "source": [
    "for i in 01 02 03 04; do\n",
    "    ssh pi@cluster-${i}.local \"docker swarm leave --force\"\n",
    "done"
   ]
  },
  {
   "cell_type": "code",
   "execution_count": 40,
   "metadata": {},
   "outputs": [
    {
     "name": "stdout",
     "output_type": "stream",
     "text": [
      "visualizer\n"
     ]
    }
   ],
   "source": [
    "docker service rm visualizer"
   ]
  },
  {
   "cell_type": "code",
   "execution_count": 41,
   "metadata": {},
   "outputs": [
    {
     "name": "stdout",
     "output_type": "stream",
     "text": [
      "Node left the swarm.\n"
     ]
    }
   ],
   "source": [
    "docker swarm leave --force"
   ]
  }
 ],
 "metadata": {
  "kernelspec": {
   "display_name": "Bash",
   "language": "bash",
   "name": "bash"
  },
  "language_info": {
   "codemirror_mode": "shell",
   "file_extension": ".sh",
   "mimetype": "text/x-sh",
   "name": "bash"
  }
 },
 "nbformat": 4,
 "nbformat_minor": 2
}
