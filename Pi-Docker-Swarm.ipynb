{
 "cells": [
  {
   "cell_type": "markdown",
   "metadata": {},
   "source": [
    "# Docker Swarm\n",
    "\n",
    "## Init Docker Swarm on Cluster\n",
    "\n",
    "```bash\n",
    "#!/bin/bash\n",
    "\n",
    "for i in 1 2 3; do\n",
    "    docker-machine create -d virtualbox swarm-$i\n",
    "done\n",
    "\n",
    "eval \"$(docker-machine env swarm-1)\"\n",
    "\n",
    "docker swarm init --advertise-addr $(docker-machine ip swarm-1)\n",
    "\n",
    "JOIN_TOKEN=$(docker swarm join-token -q worker)\n",
    "\n",
    "for i in 2 3; do\n",
    "    eval \"$(docker-machine env swarm-$i)\"\n",
    "\n",
    "    docker swarm join --token $JOIN_TOKEN \\\n",
    "        --advertise-addr $(docker-machine ip swarm-$i) \\\n",
    "        $(docker-machine ip swarm-1):2377\n",
    "done\n",
    "\n",
    "eval \"$(docker-machine env swarm-1)\"\n",
    "docker service create \\\n",
    "  --name=visualizer \\\n",
    "  --publish=8000:8080/tcp \\\n",
    "  --constraint=node.role==manager \\\n",
    "  --mount=type=bind,src=/var/run/docker.sock,dst=/var/run/docker.sock \\\n",
    "  dockersamples/visualizer\n",
    "```"
   ]
  },
  {
   "cell_type": "code",
   "execution_count": null,
   "metadata": {},
   "outputs": [],
   "source": [
    "sudo apt-get update && sudo apt-get install --yes dnsutils"
   ]
  },
  {
   "cell_type": "code",
   "execution_count": null,
   "metadata": {},
   "outputs": [],
   "source": [
    "getent hosts cluster-00.fritz.box | awk '{ print $1 }'"
   ]
  },
  {
   "cell_type": "code",
   "execution_count": null,
   "metadata": {},
   "outputs": [],
   "source": [
    "docker swarm init --advertise-addr $(getent hosts cluster-00.fritz.box | awk '{ print $1 }')"
   ]
  },
  {
   "cell_type": "code",
   "execution_count": 1,
   "metadata": {},
   "outputs": [],
   "source": [
    "JOIN_TOKEN=$(docker swarm join-token -q worker)"
   ]
  },
  {
   "cell_type": "code",
   "execution_count": null,
   "metadata": {},
   "outputs": [],
   "source": [
    "for i in 01 02 03 04; do\n",
    "    # Remove host key for ip\n",
    "    ssh-keygen -R cluster-${i}\n",
    "    # Add ip into known_hosts\n",
    "    ssh-keyscan -H cluster-${i} >> ~/.ssh/known_hosts\n",
    "done"
   ]
  },
  {
   "cell_type": "code",
   "execution_count": null,
   "metadata": {},
   "outputs": [],
   "source": [
    "# Setup ssh-key for user\n",
    "ansible -i localhost, -m shell -a 'ssh-keygen -b 2048 -t rsa -f ~/.ssh/id_rsa -q -N \"\" creates=~/.ssh/id_rsa' --connection=local localhost"
   ]
  },
  {
   "cell_type": "code",
   "execution_count": null,
   "metadata": {},
   "outputs": [],
   "source": [
    "for i in 01 02 03 04; do\n",
    "    sshpass -p raspberry ssh-copy-id pi@cluster-${i}\n",
    "    ssh pi@cluster-${i} docker swarm join --token $JOIN_TOKEN \\\n",
    "        --advertise-addr $(getent hosts cluster-${i].fritz.box | awk '{ print $1 }') \\\n",
    "        $(getent hosts cluster-00.fritz.box | awk '{ print $1 }'):2377\n",
    "done"
   ]
  },
  {
   "cell_type": "code",
   "execution_count": null,
   "metadata": {},
   "outputs": [],
   "source": [
    "ssh pi@cluster-01 ls"
   ]
  },
  {
   "cell_type": "code",
   "execution_count": null,
   "metadata": {},
   "outputs": [],
   "source": [
    "ssh pi@cluster-01 \"docker swarm join --token $JOIN_TOKEN --advertise-addr $(getent hosts cluster-01.fritz.box | awk '{ print $1 }') $(getent hosts cluster-00.fritz.box | awk '{ print $1 }'):2377\""
   ]
  },
  {
   "cell_type": "code",
   "execution_count": 5,
   "metadata": {},
   "outputs": [
    {
     "name": "stdout",
     "output_type": "stream",
     "text": [
      "This node joined a swarm as a worker.\n",
      "This node joined a swarm as a worker.\n",
      "This node joined a swarm as a worker.\n"
     ]
    }
   ],
   "source": [
    "for i in 02 03 04; do\n",
    "    ssh pi@cluster-${i} \"docker swarm join --token $JOIN_TOKEN --advertise-addr $(getent hosts cluster-${i}.fritz.box | awk '{ print $1 }') $(getent hosts cluster-00.fritz.box | awk '{ print $1 }'):2377\"\n",
    "done"
   ]
  },
  {
   "cell_type": "code",
   "execution_count": 3,
   "metadata": {},
   "outputs": [
    {
     "name": "stdout",
     "output_type": "stream",
     "text": [
      "192.168.56.191  cluster-02.fritz.box\n"
     ]
    }
   ],
   "source": [
    "getent hosts cluster-02"
   ]
  },
  {
   "cell_type": "code",
   "execution_count": 6,
   "metadata": {},
   "outputs": [
    {
     "name": "stdout",
     "output_type": "stream",
     "text": [
      "v98grs3ppqhnwhyyxxmv460lg\n",
      "Since --detach=false was not specified, tasks will be created in the background.\n",
      "In a future release, --detach=false will become the default.\n"
     ]
    }
   ],
   "source": [
    "docker service create \\\n",
    "  --name=visualizer \\\n",
    "  --publish=8000:8080/tcp \\\n",
    "  --constraint=node.role==manager \\\n",
    "  --mount=type=bind,src=/var/run/docker.sock,dst=/var/run/docker.sock \\\n",
    "  alexellis2/visualizer-arm"
   ]
  },
  {
   "cell_type": "code",
   "execution_count": 7,
   "metadata": {},
   "outputs": [
    {
     "name": "stdout",
     "output_type": "stream",
     "text": [
      "http://192.168.56.192:8000\n"
     ]
    }
   ],
   "source": [
    "echo \"http://$(getent hosts cluster-00.fritz.box | awk '{ print $1 }'):8000\""
   ]
  },
  {
   "cell_type": "code",
   "execution_count": 9,
   "metadata": {},
   "outputs": [
    {
     "name": "stdout",
     "output_type": "stream",
     "text": [
      "CONTAINER ID        IMAGE               COMMAND             CREATED             STATUS              PORTS               NAMES\n"
     ]
    }
   ],
   "source": [
    "docker ps -a"
   ]
  },
  {
   "cell_type": "code",
   "execution_count": 17,
   "metadata": {},
   "outputs": [
    {
     "name": "stdout",
     "output_type": "stream",
     "text": [
      "ID                  NAME                MODE                REPLICAS            IMAGE                              PORTS\n",
      "lehokifke2hg        whoami              replicated          0/1                 stefanscherer/whoami:1.1.0         \n",
      "svxctz1ai31o        monitor             global              5/5                 stefanscherer/monitor:1.1.0        \n",
      "v98grs3ppqhn        visualizer          replicated          1/1                 alexellis2/visualizer-arm:latest   *:8000->8080/tcp\n"
     ]
    }
   ],
   "source": [
    "docker service ls"
   ]
  },
  {
   "cell_type": "code",
   "execution_count": 14,
   "metadata": {},
   "outputs": [
    {
     "name": "stdout",
     "output_type": "stream",
     "text": [
      "svxctz1ai31o0fw2uuxqi2swg\n",
      "Since --detach=false was not specified, tasks will be created in the background.\n",
      "In a future release, --detach=false will become the default.\n"
     ]
    }
   ],
   "source": [
    "docker service create --name monitor --mode global \\\n",
    "  --restart-condition any --mount type=bind,src=/sys,dst=/sys \\\n",
    "  --mount type=bind,src=/var/run/docker.sock,dst=/var/run/docker.sock \\\n",
    "  stefanscherer/monitor:1.1.0"
   ]
  },
  {
   "cell_type": "code",
   "execution_count": 16,
   "metadata": {},
   "outputs": [
    {
     "name": "stdout",
     "output_type": "stream",
     "text": [
      "lehokifke2hg09ynacftmkp9d\n",
      "Since --detach=false was not specified, tasks will be created in the background.\n",
      "In a future release, --detach=false will become the default.\n"
     ]
    }
   ],
   "source": [
    "docker service create --name whoami stefanscherer/whoami:1.1.0"
   ]
  },
  {
   "cell_type": "code",
   "execution_count": 32,
   "metadata": {},
   "outputs": [
    {
     "name": "stdout",
     "output_type": "stream",
     "text": [
      "whoami scaled to 4\n"
     ]
    }
   ],
   "source": [
    "docker service scale whoami=4"
   ]
  },
  {
   "cell_type": "code",
   "execution_count": 39,
   "metadata": {},
   "outputs": [
    {
     "name": "stdout",
     "output_type": "stream",
     "text": [
      "whoami scaled to 15\n"
     ]
    }
   ],
   "source": [
    "docker service scale whoami=15"
   ]
  },
  {
   "cell_type": "code",
   "execution_count": 38,
   "metadata": {},
   "outputs": [
    {
     "name": "stdout",
     "output_type": "stream",
     "text": [
      "whoami scaled to 40\n"
     ]
    }
   ],
   "source": [
    "docker service scale whoami=40"
   ]
  },
  {
   "cell_type": "code",
   "execution_count": 21,
   "metadata": {},
   "outputs": [
    {
     "name": "stdout",
     "output_type": "stream",
     "text": [
      "whoami\n",
      "Since --detach=false was not specified, tasks will be updated in the background.\n",
      "In a future release, --detach=false will become the default.\n"
     ]
    }
   ],
   "source": [
    "docker service update --update-parallelism 5 \\\n",
    "  --image stefanscherer/whoami:1.2.0 whoami"
   ]
  },
  {
   "cell_type": "code",
   "execution_count": 29,
   "metadata": {},
   "outputs": [
    {
     "name": "stdout",
     "output_type": "stream",
     "text": [
      "whoami scaled to 1\n"
     ]
    }
   ],
   "source": [
    "docker service scale whoami=1"
   ]
  },
  {
   "cell_type": "code",
   "execution_count": 23,
   "metadata": {},
   "outputs": [
    {
     "name": "stdout",
     "output_type": "stream",
     "text": [
      "ID                  NAME                MODE                REPLICAS            IMAGE                              PORTS\n",
      "lehokifke2hg        whoami              replicated          1/1                 stefanscherer/whoami:1.2.0         \n",
      "svxctz1ai31o        monitor             global              5/5                 stefanscherer/monitor:1.1.0        \n",
      "v98grs3ppqhn        visualizer          replicated          1/1                 alexellis2/visualizer-arm:latest   *:8000->8080/tcp\n"
     ]
    }
   ],
   "source": [
    "docker service ls"
   ]
  },
  {
   "cell_type": "code",
   "execution_count": 25,
   "metadata": {},
   "outputs": [
    {
     "name": "stdout",
     "output_type": "stream",
     "text": [
      "\n",
      "Usage:\tdocker service COMMAND\n",
      "\n",
      "Manage services\n",
      "\n",
      "Options:\n",
      "      --help   Print usage\n",
      "\n",
      "Commands:\n",
      "  create      Create a new service\n",
      "  inspect     Display detailed information on one or more services\n",
      "  logs        Fetch the logs of a service or task\n",
      "  ls          List services\n",
      "  ps          List the tasks of one or more services\n",
      "  rm          Remove one or more services\n",
      "  scale       Scale one or multiple replicated services\n",
      "  update      Update a service\n",
      "\n",
      "Run 'docker service COMMAND --help' for more information on a command.\n"
     ]
    }
   ],
   "source": [
    "docker service"
   ]
  },
  {
   "cell_type": "code",
   "execution_count": 28,
   "metadata": {},
   "outputs": [
    {
     "name": "stdout",
     "output_type": "stream",
     "text": [
      "whoami\n",
      "Since --detach=false was not specified, tasks will be updated in the background.\n",
      "In a future release, --detach=false will become the default.\n"
     ]
    }
   ],
   "source": [
    "docker service update --update-parallelism 5 \\\n",
    "  --image stefanscherer/whoami:1.1.0 whoami"
   ]
  },
  {
   "cell_type": "code",
   "execution_count": 37,
   "metadata": {},
   "outputs": [
    {
     "name": "stdout",
     "output_type": "stream",
     "text": [
      "whoami\n",
      "Since --detach=false was not specified, tasks will be updated in the background.\n",
      "In a future release, --detach=false will become the default.\n"
     ]
    }
   ],
   "source": [
    "docker service update --update-parallelism 5 \\\n",
    "  --image stefanscherer/whoami:1.2.0 whoami"
   ]
  },
  {
   "cell_type": "code",
   "execution_count": null,
   "metadata": {},
   "outputs": [],
   "source": []
  }
 ],
 "metadata": {
  "kernelspec": {
   "display_name": "Bash",
   "language": "bash",
   "name": "bash"
  },
  "language_info": {
   "codemirror_mode": "shell",
   "file_extension": ".sh",
   "mimetype": "text/x-sh",
   "name": "bash"
  }
 },
 "nbformat": 4,
 "nbformat_minor": 2
}
