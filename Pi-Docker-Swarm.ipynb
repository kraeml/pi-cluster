{
 "cells": [
  {
   "cell_type": "markdown",
   "metadata": {},
   "source": [
    "# Docker Swarm\n",
    "\n",
    "## Init Docker Swarm on Cluster"
   ]
  },
  {
   "cell_type": "code",
   "execution_count": 1,
   "metadata": {},
   "outputs": [
    {
     "name": "stdout",
     "output_type": "stream",
     "text": [
      "192.168.56.192\n"
     ]
    }
   ],
   "source": [
    "getent hosts cluster-00.fritz.box | awk '{ print $1 }'"
   ]
  },
  {
   "cell_type": "code",
   "execution_count": 2,
   "metadata": {},
   "outputs": [
    {
     "name": "stdout",
     "output_type": "stream",
     "text": [
      "Error response from daemon: This node is not a swarm manager. Use \"docker swarm init\" or \"docker swarm join\" to connect this node to swarm and try again.\n"
     ]
    }
   ],
   "source": [
    "docker node ls || true"
   ]
  },
  {
   "cell_type": "code",
   "execution_count": 3,
   "metadata": {},
   "outputs": [
    {
     "name": "stdout",
     "output_type": "stream",
     "text": [
      "Swarm initialized: current node (a2qv053ity1k7mpzk1nj9o4is) is now a manager.\n",
      "\n",
      "To add a worker to this swarm, run the following command:\n",
      "\n",
      "    docker swarm join \\\n",
      "    --token SWMTKN-1-12yr7b2cy4qz7y4nsdk46ymjl69arm4i41nciyparfi284l32v-eswany0pjw2w2noxy9bn8n8yu \\\n",
      "    192.168.56.192:2377\n",
      "\n",
      "To add a manager to this swarm, run 'docker swarm join-token manager' and follow the instructions.\n",
      "\n"
     ]
    }
   ],
   "source": [
    "docker swarm init --advertise-addr $(getent hosts cluster-00.fritz.box | awk '{ print $1 }')"
   ]
  },
  {
   "cell_type": "code",
   "execution_count": 4,
   "metadata": {},
   "outputs": [],
   "source": [
    "JOIN_TOKEN=$(docker swarm join-token -q worker)"
   ]
  },
  {
   "cell_type": "code",
   "execution_count": 5,
   "metadata": {},
   "outputs": [
    {
     "name": "stdout",
     "output_type": "stream",
     "text": [
      "localhost | SUCCESS | rc=0 >>\n",
      "skipped, since /home/pi/.ssh/id_rsa exists\n"
     ]
    }
   ],
   "source": [
    "# Setup ssh-key for user\n",
    "ansible -i localhost, -m shell -a 'ssh-keygen -b 2048 -t rsa -f ~/.ssh/id_rsa -q -N \"\" creates=~/.ssh/id_rsa' --connection=local localhost"
   ]
  },
  {
   "cell_type": "code",
   "execution_count": 6,
   "metadata": {},
   "outputs": [
    {
     "name": "stdout",
     "output_type": "stream",
     "text": [
      "# Host cluster-01 found: line 7 type RSA\n",
      "# Host cluster-01 found: line 8 type ECDSA\n",
      "# Host cluster-01 found: line 9 type ED25519\n",
      "/home/pi/.ssh/known_hosts updated.\n",
      "Original contents retained as /home/pi/.ssh/known_hosts.old\n",
      "# cluster-01 SSH-2.0-OpenSSH_6.7p1 Raspbian-5+deb8u3\n",
      "# cluster-01 SSH-2.0-OpenSSH_6.7p1 Raspbian-5+deb8u3\n",
      "# cluster-01 SSH-2.0-OpenSSH_6.7p1 Raspbian-5+deb8u3\n",
      "/usr/bin/ssh-copy-id: INFO: attempting to log in with the new key(s), to filter out any that are already installed\n",
      "\n",
      "/usr/bin/ssh-copy-id: WARNING: All keys were skipped because they already exist on the remote system.\n",
      "\n",
      "# Host cluster-02 found: line 7 type ECDSA\n",
      "# Host cluster-02 found: line 8 type RSA\n",
      "# Host cluster-02 found: line 9 type ED25519\n",
      "/home/pi/.ssh/known_hosts updated.\n",
      "Original contents retained as /home/pi/.ssh/known_hosts.old\n",
      "# cluster-02 SSH-2.0-OpenSSH_6.7p1 Raspbian-5+deb8u3\n",
      "# cluster-02 SSH-2.0-OpenSSH_6.7p1 Raspbian-5+deb8u3\n",
      "# cluster-02 SSH-2.0-OpenSSH_6.7p1 Raspbian-5+deb8u3\n",
      "/usr/bin/ssh-copy-id: INFO: attempting to log in with the new key(s), to filter out any that are already installed\n",
      "\n",
      "/usr/bin/ssh-copy-id: WARNING: All keys were skipped because they already exist on the remote system.\n",
      "\n",
      "# Host cluster-03 found: line 7 type RSA\n",
      "# Host cluster-03 found: line 8 type ECDSA\n",
      "# Host cluster-03 found: line 9 type ED25519\n",
      "/home/pi/.ssh/known_hosts updated.\n",
      "Original contents retained as /home/pi/.ssh/known_hosts.old\n",
      "# cluster-03 SSH-2.0-OpenSSH_6.7p1 Raspbian-5+deb8u3\n",
      "# cluster-03 SSH-2.0-OpenSSH_6.7p1 Raspbian-5+deb8u3\n",
      "# cluster-03 SSH-2.0-OpenSSH_6.7p1 Raspbian-5+deb8u3\n",
      "/usr/bin/ssh-copy-id: INFO: attempting to log in with the new key(s), to filter out any that are already installed\n",
      "\n",
      "/usr/bin/ssh-copy-id: WARNING: All keys were skipped because they already exist on the remote system.\n",
      "\n",
      "# Host cluster-04 found: line 7 type RSA\n",
      "# Host cluster-04 found: line 8 type ECDSA\n",
      "# Host cluster-04 found: line 9 type ED25519\n",
      "/home/pi/.ssh/known_hosts updated.\n",
      "Original contents retained as /home/pi/.ssh/known_hosts.old\n",
      "# cluster-04 SSH-2.0-OpenSSH_6.7p1 Raspbian-5+deb8u3\n",
      "# cluster-04 SSH-2.0-OpenSSH_6.7p1 Raspbian-5+deb8u3\n",
      "# cluster-04 SSH-2.0-OpenSSH_6.7p1 Raspbian-5+deb8u3\n",
      "/usr/bin/ssh-copy-id: INFO: attempting to log in with the new key(s), to filter out any that are already installed\n",
      "\n",
      "/usr/bin/ssh-copy-id: WARNING: All keys were skipped because they already exist on the remote system.\n",
      "\n"
     ]
    }
   ],
   "source": [
    "for i in 01 02 03 04; do\n",
    "    # Remove host key for ip\n",
    "    ssh-keygen -R cluster-${i}\n",
    "    # Add ip into known_hosts\n",
    "    ssh-keyscan -H cluster-${i} >> ~/.ssh/known_hosts\n",
    "    sshpass -p raspberry ssh-copy-id pi@cluster-${i}\n",
    "done"
   ]
  },
  {
   "cell_type": "code",
   "execution_count": 7,
   "metadata": {},
   "outputs": [
    {
     "name": "stdout",
     "output_type": "stream",
     "text": [
      "This node joined a swarm as a worker.\n",
      "This node joined a swarm as a worker.\n",
      "This node joined a swarm as a worker.\n",
      "This node joined a swarm as a worker.\n"
     ]
    }
   ],
   "source": [
    "for i in 01 02 03 04; do\n",
    "    ssh pi@cluster-${i} \"docker swarm join --token $JOIN_TOKEN --advertise-addr $(getent hosts cluster-${i}.fritz.box | awk '{ print $1 }') $(getent hosts cluster-00.fritz.box | awk '{ print $1 }'):2377\"\n",
    "done"
   ]
  },
  {
   "cell_type": "code",
   "execution_count": 8,
   "metadata": {},
   "outputs": [
    {
     "name": "stdout",
     "output_type": "stream",
     "text": [
      "ID                            HOSTNAME            STATUS              AVAILABILITY        MANAGER STATUS\n",
      "a2qv053ity1k7mpzk1nj9o4is *   cluster-00          Ready               Active              Leader\n",
      "i2sauj58kyx3czicequ6jg9j9     cluster-01          Ready               Active              \n",
      "jqfgpge5rrx1b0ch0i5a6ucy7     cluster-03          Ready               Active              \n",
      "vw2gmehki55or8oc3ekstambg     cluster-02          Ready               Active              \n",
      "z8pmjnhp58dsdjs4t4adfroxu     cluster-04          Ready               Active              \n"
     ]
    }
   ],
   "source": [
    "docker node ls"
   ]
  },
  {
   "cell_type": "code",
   "execution_count": 9,
   "metadata": {},
   "outputs": [
    {
     "name": "stdout",
     "output_type": "stream",
     "text": [
      "ilfzp37k2yefkep7cpix1e0ce\n",
      "Since --detach=false was not specified, tasks will be created in the background.\n",
      "In a future release, --detach=false will become the default.\n"
     ]
    }
   ],
   "source": [
    "docker service create \\\n",
    "  --name=visualizer \\\n",
    "  --publish=8000:8080/tcp \\\n",
    "  --constraint=node.role==manager \\\n",
    "  --mount=type=bind,src=/var/run/docker.sock,dst=/var/run/docker.sock \\\n",
    "  alexellis2/visualizer-arm"
   ]
  },
  {
   "cell_type": "markdown",
   "metadata": {},
   "source": [
    "## Visualizer anschauen"
   ]
  },
  {
   "cell_type": "code",
   "execution_count": 10,
   "metadata": {},
   "outputs": [
    {
     "name": "stdout",
     "output_type": "stream",
     "text": [
      "http://192.168.56.192:8000\n"
     ]
    }
   ],
   "source": [
    "echo \"http://$(getent hosts cluster-00.fritz.box | awk '{ print $1 }'):8000\""
   ]
  },
  {
   "cell_type": "code",
   "execution_count": 11,
   "metadata": {},
   "outputs": [
    {
     "name": "stdout",
     "output_type": "stream",
     "text": [
      "ID                  NAME                MODE                REPLICAS            IMAGE                              PORTS\n",
      "ilfzp37k2yef        visualizer          replicated          0/1                 alexellis2/visualizer-arm:latest   *:8000->8080/tcp\n"
     ]
    }
   ],
   "source": [
    "docker service ls"
   ]
  },
  {
   "cell_type": "code",
   "execution_count": 12,
   "metadata": {},
   "outputs": [
    {
     "name": "stdout",
     "output_type": "stream",
     "text": [
      "e64zln5qwqv4oxpo8d5gvsr6s\n",
      "Since --detach=false was not specified, tasks will be created in the background.\n",
      "In a future release, --detach=false will become the default.\n"
     ]
    }
   ],
   "source": [
    "docker service create --name monitor --mode global \\\n",
    "  --restart-condition any --mount type=bind,src=/sys,dst=/sys \\\n",
    "  --mount type=bind,src=/var/run/docker.sock,dst=/var/run/docker.sock \\\n",
    "  stefanscherer/monitor:1.1.0"
   ]
  },
  {
   "cell_type": "code",
   "execution_count": 13,
   "metadata": {},
   "outputs": [
    {
     "name": "stdout",
     "output_type": "stream",
     "text": [
      "0131abpzjxbmdp2l7puosmp5r\n",
      "Since --detach=false was not specified, tasks will be created in the background.\n",
      "In a future release, --detach=false will become the default.\n"
     ]
    }
   ],
   "source": [
    "docker service create --name whoami stefanscherer/whoami:1.1.0"
   ]
  },
  {
   "cell_type": "code",
   "execution_count": 14,
   "metadata": {},
   "outputs": [
    {
     "name": "stdout",
     "output_type": "stream",
     "text": [
      "whoami scaled to 5\n"
     ]
    }
   ],
   "source": [
    "docker service scale whoami=5"
   ]
  },
  {
   "cell_type": "code",
   "execution_count": 15,
   "metadata": {},
   "outputs": [
    {
     "name": "stdout",
     "output_type": "stream",
     "text": [
      "whoami scaled to 15\n"
     ]
    }
   ],
   "source": [
    "docker service scale whoami=15"
   ]
  },
  {
   "cell_type": "code",
   "execution_count": 16,
   "metadata": {},
   "outputs": [
    {
     "name": "stdout",
     "output_type": "stream",
     "text": [
      "whoami scaled to 40\n"
     ]
    }
   ],
   "source": [
    "docker service scale whoami=40"
   ]
  },
  {
   "cell_type": "code",
   "execution_count": 17,
   "metadata": {},
   "outputs": [
    {
     "name": "stdout",
     "output_type": "stream",
     "text": [
      "whoami\n",
      "Since --detach=false was not specified, tasks will be updated in the background.\n",
      "In a future release, --detach=false will become the default.\n"
     ]
    }
   ],
   "source": [
    "docker service update --update-parallelism 5 \\\n",
    "  --image stefanscherer/whoami:1.2.0 whoami"
   ]
  },
  {
   "cell_type": "code",
   "execution_count": 18,
   "metadata": {},
   "outputs": [
    {
     "name": "stdout",
     "output_type": "stream",
     "text": [
      "whoami scaled to 1\n"
     ]
    }
   ],
   "source": [
    "docker service scale whoami=1"
   ]
  },
  {
   "cell_type": "code",
   "execution_count": 19,
   "metadata": {},
   "outputs": [
    {
     "name": "stdout",
     "output_type": "stream",
     "text": [
      "whoami scaled to 40\n"
     ]
    }
   ],
   "source": [
    "docker service scale whoami=40"
   ]
  },
  {
   "cell_type": "code",
   "execution_count": 20,
   "metadata": {},
   "outputs": [
    {
     "name": "stdout",
     "output_type": "stream",
     "text": [
      "ID                  NAME                MODE                REPLICAS            IMAGE                              PORTS\n",
      "0131abpzjxbm        whoami              replicated          0/40                stefanscherer/whoami:1.2.0         \n",
      "e64zln5qwqv4        monitor             global              5/5                 stefanscherer/monitor:1.1.0        \n",
      "ilfzp37k2yef        visualizer          replicated          1/1                 alexellis2/visualizer-arm:latest   *:8000->8080/tcp\n"
     ]
    }
   ],
   "source": [
    "docker service ls"
   ]
  },
  {
   "cell_type": "code",
   "execution_count": 21,
   "metadata": {},
   "outputs": [
    {
     "name": "stdout",
     "output_type": "stream",
     "text": [
      "whoami\n",
      "Since --detach=false was not specified, tasks will be updated in the background.\n",
      "In a future release, --detach=false will become the default.\n"
     ]
    }
   ],
   "source": [
    "docker service update --update-parallelism 5 \\\n",
    "  --image stefanscherer/whoami:1.1.0 whoami"
   ]
  },
  {
   "cell_type": "code",
   "execution_count": 22,
   "metadata": {},
   "outputs": [
    {
     "name": "stdout",
     "output_type": "stream",
     "text": [
      "whoami\n",
      "Since --detach=false was not specified, tasks will be updated in the background.\n",
      "In a future release, --detach=false will become the default.\n"
     ]
    }
   ],
   "source": [
    "docker service update --update-parallelism 5 \\\n",
    "  --image stefanscherer/whoami:1.2.0 whoami"
   ]
  },
  {
   "cell_type": "code",
   "execution_count": 23,
   "metadata": {},
   "outputs": [
    {
     "name": "stdout",
     "output_type": "stream",
     "text": [
      "ID                  NAME                MODE                REPLICAS            IMAGE                              PORTS\n",
      "0131abpzjxbm        whoami              replicated          21/40               stefanscherer/whoami:1.2.0         \n",
      "e64zln5qwqv4        monitor             global              5/5                 stefanscherer/monitor:1.1.0        \n",
      "ilfzp37k2yef        visualizer          replicated          1/1                 alexellis2/visualizer-arm:latest   *:8000->8080/tcp\n"
     ]
    }
   ],
   "source": [
    "docker service ls"
   ]
  },
  {
   "cell_type": "code",
   "execution_count": 24,
   "metadata": {},
   "outputs": [
    {
     "name": "stdout",
     "output_type": "stream",
     "text": [
      "whoami\n"
     ]
    }
   ],
   "source": [
    "docker service rm whoami"
   ]
  },
  {
   "cell_type": "code",
   "execution_count": 25,
   "metadata": {},
   "outputs": [
    {
     "name": "stdout",
     "output_type": "stream",
     "text": [
      "monitor\n"
     ]
    }
   ],
   "source": [
    "docker service rm monitor"
   ]
  },
  {
   "cell_type": "code",
   "execution_count": 26,
   "metadata": {},
   "outputs": [
    {
     "name": "stdout",
     "output_type": "stream",
     "text": [
      "ID                            HOSTNAME            STATUS              AVAILABILITY        MANAGER STATUS\n",
      "a2qv053ity1k7mpzk1nj9o4is *   cluster-00          Ready               Active              Leader\n",
      "i2sauj58kyx3czicequ6jg9j9     cluster-01          Ready               Active              \n",
      "jqfgpge5rrx1b0ch0i5a6ucy7     cluster-03          Ready               Active              \n",
      "vw2gmehki55or8oc3ekstambg     cluster-02          Ready               Active              \n",
      "z8pmjnhp58dsdjs4t4adfroxu     cluster-04          Ready               Active              \n"
     ]
    }
   ],
   "source": [
    "docker node ls"
   ]
  },
  {
   "cell_type": "code",
   "execution_count": 27,
   "metadata": {},
   "outputs": [
    {
     "name": "stdout",
     "output_type": "stream",
     "text": [
      "Node left the swarm.\n",
      "Node left the swarm.\n",
      "Node left the swarm.\n",
      "Node left the swarm.\n"
     ]
    }
   ],
   "source": [
    "for i in 01 02 03 04; do\n",
    "    ssh pi@cluster-${i} \"docker swarm leave --force\"\n",
    "done"
   ]
  },
  {
   "cell_type": "code",
   "execution_count": 28,
   "metadata": {},
   "outputs": [
    {
     "name": "stdout",
     "output_type": "stream",
     "text": [
      "Node left the swarm.\n"
     ]
    }
   ],
   "source": [
    "docker swarm leave --force"
   ]
  }
 ],
 "metadata": {
  "kernelspec": {
   "display_name": "Bash",
   "language": "bash",
   "name": "bash"
  },
  "language_info": {
   "codemirror_mode": "shell",
   "file_extension": ".sh",
   "mimetype": "text/x-sh",
   "name": "bash"
  }
 },
 "nbformat": 4,
 "nbformat_minor": 2
}
