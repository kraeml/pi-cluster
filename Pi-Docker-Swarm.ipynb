{
 "cells": [
  {
   "cell_type": "markdown",
   "metadata": {
    "slideshow": {
     "slide_type": "slide"
    }
   },
   "source": [
    "# Pi Haufen mit LOL (Lot of LEDs)\n",
    "\n",
    "Oder der __KNF-FabLab-Edu Pi Cluster__ mit Docker Swarm und Blinkt!\n",
    "\n",
    "Themen:\n",
    "\n",
    "* Was ist ein Cluster\n",
    "\n",
    "* Was ist Docker (Swarm) und warum?"
   ]
  },
  {
   "cell_type": "markdown",
   "metadata": {
    "slideshow": {
     "slide_type": "slide"
    }
   },
   "source": [
    "\n",
    "## PI-Cluster\n",
    "\n",
    "Einen Cluster bezeichnet eine Anzahl von vernetzten Computern.\n",
    "\n",
    "Einteilung in zwei unterschiedliche Aufgaben:\n",
    "\n",
    "* die Erhöhung der Rechenkapazität (HPC-Cluster) und \n",
    "* die Erhöhung der Verfügbarkeit (HA-Cluster, engl. high available - hochverfügbar).\n",
    "\n"
   ]
  },
  {
   "cell_type": "markdown",
   "metadata": {
    "slideshow": {
     "slide_type": "subslide"
    }
   },
   "source": [
    "### Tausend Pis\n",
    "\n",
    "<img src=\"https://1.f.ix.de/scale/geometry/700/q75/imgs/18/2/3/1/8/1/1/4/BitScope-Cluster-82a1783ecfe2da18.png\" alt=\"BitScope-Einschub mit 144 Raspberry Pi 3 auf 6 HE\" style=\"width: 500px;\"/>\n",
    "\n",
    "BitScope-Einschub mit 144 Raspberry Pi 3 auf 6 HE.\n",
    "\n",
    "[Scalable clusters make HPC R&D easy as Raspberry Pi](http://www.lanl.gov/discover/news-release-archive/2017/November/1113-raspberry-pi.php)\n",
    "\n",
    "> It brings a powerful high-performance-computing testbed to system-software developers, researchers and others who lack machine time on the world’s fastest supercomputers. \n",
    "\n",
    "Gefunden auf [heise.de](https://www.heise.de/newsticker/meldung/Tausend-Raspberry-Pi-im-Cluster-Rack-3891000.html) durch Schüler mitgeteilt."
   ]
  },
  {
   "cell_type": "markdown",
   "metadata": {
    "slideshow": {
     "slide_type": "subslide"
    }
   },
   "source": [
    "### KNF FabLab Edu Pi Cluster\n",
    "\n",
    "Hat den gleichen Zweck wie die 1000 Pis oben. Hier kann einen Cluster betrieben werden, __ohne__ dafür einige Tausend Euro in ein Rechenzentrum auszuzugeben. Es wurden ca. 500 € investiert."
   ]
  },
  {
   "cell_type": "markdown",
   "metadata": {
    "slideshow": {
     "slide_type": "slide"
    }
   },
   "source": [
    "## Docker\n",
    "\n",
    "<table class=\"float-right infobox toccolours toptextcells\" style=\"border-spacing:5px; font-size:90%; text-align:left; width:21em;\">\n",
    "<tr>\n",
    "<th class=\"hintergrundfarbe6\" colspan=\"2\" style=\"font-size:105%; text-align:center;\">Docker</th>\n",
    "</tr>\n",
    "<tr>\n",
    "<td colspan=\"2\" style=\"text-align:center;\"><a href=\"/wiki/Datei:Docker_(container_engine)_logo.png\" class=\"image\" title=\"Logo\"><img alt=\"Logo\" src=\"//upload.wikimedia.org/wikipedia/commons/thumb/7/79/Docker_%28container_engine%29_logo.png/250px-Docker_%28container_engine%29_logo.png\" width=\"250\" height=\"60\" srcset=\"//upload.wikimedia.org/wikipedia/commons/thumb/7/79/Docker_%28container_engine%29_logo.png/375px-Docker_%28container_engine%29_logo.png 1.5x, //upload.wikimedia.org/wikipedia/commons/thumb/7/79/Docker_%28container_engine%29_logo.png/500px-Docker_%28container_engine%29_logo.png 2x\" data-file-width=\"682\" data-file-height=\"163\" /></a></td>\n",
    "</tr>\n",
    "<tr>\n",
    "<td><b>Entwickler</b></td>\n",
    "<td>Docker, Inc.</td>\n",
    "</tr>\n",
    "<tr>\n",
    "<td><b>Erscheinungsjahr</b></td>\n",
    "<td>2013</td>\n",
    "</tr>\n",
    "<tr>\n",
    "<td><b>Aktuelle&#160;Version</b></td>\n",
    "<td><span class=\"wikidata-content\">17.11.0</span><br />\n",
    "(<span class=\"wikidata-content\">20. November 2017</span>)</td>\n",
    "</tr>\n",
    "<tr>\n",
    "<td><b>Betriebssystem</b></td>\n",
    "<td>Linux Windows MacOS</td>\n",
    "</tr>\n",
    "<tr>\n",
    "<td><b>Programmiersprache</b></td>\n",
    "<td>Go</td>\n",
    "</tr>\n",
    "<tr>\n",
    "<td><b>Kategorie</b></td>\n",
    "<td>Virtualisierung</td>\n",
    "</tr>\n",
    "<tr>\n",
    "<td><b>Lizenz</b></td>\n",
    "<td>Apache 2.0</td>\n",
    "</tr>\n",
    "<tr>\n",
    "<td><b>deutschsprachig</b></td>\n",
    "<td>nein</td>\n",
    "</tr>\n",
    "<tr>\n",
    "<td class=\"hintergrundfarbe5\" colspan=\"2\" style=\"text-align:center;\"><a rel=\"nofollow\" class=\"external text\" href=\"http://www.docker.com/\">www.docker.com</a></td>\n",
    "</tr>\n",
    "</table>"
   ]
  },
  {
   "cell_type": "code",
   "execution_count": 1,
   "metadata": {
    "slideshow": {
     "slide_type": "subslide"
    }
   },
   "outputs": [
    {
     "name": "stdout",
     "output_type": "stream",
     "text": [
      "Client:\n",
      " Version:      17.09.0-ce\n",
      " API version:  1.32\n",
      " Go version:   go1.8.3\n",
      " Git commit:   afdb6d4\n",
      " Built:        Tue Sep 26 22:50:01 2017\n",
      " OS/Arch:      linux/arm\n",
      "\n",
      "Server:\n",
      " Version:      17.09.0-ce\n",
      " API version:  1.32 (minimum version 1.12)\n",
      " Go version:   go1.8.3\n",
      " Git commit:   afdb6d4\n",
      " Built:        Tue Sep 26 22:44:09 2017\n",
      " OS/Arch:      linux/arm\n",
      " Experimental: false\n"
     ]
    }
   ],
   "source": [
    "docker version"
   ]
  },
  {
   "cell_type": "markdown",
   "metadata": {
    "slideshow": {
     "slide_type": "subslide"
    }
   },
   "source": [
    "Docker ist eiene Betriebssystemvirtualisierung mittels OS-Container wie sie auch LXC, LXD, Jail (BSD), Zone (Solaris) und auch [Windows Server Container](http://www.zdnet.de/88246989/docker-und-windows-server-2016-das-muessen-profis-wissen/?inf_by=5a143495671db8a11f8b4a68) (Docker for Windows) bieten.\n",
    "\n",
    "Bei der Betriebssystemvirtualisierung läuft nur ein Host-Kernel."
   ]
  },
  {
   "cell_type": "markdown",
   "metadata": {
    "slideshow": {
     "slide_type": "subslide"
    }
   },
   "source": [
    "#### Klassische Virtualisierung durch einen Hypervisor\n",
    "<img src=\"https://www.docker.com/sites/default/files/VM%402x.png\" alt=\"VMs\" style=\"width: 400px;\"/>"
   ]
  },
  {
   "cell_type": "markdown",
   "metadata": {
    "slideshow": {
     "slide_type": "subslide"
    }
   },
   "source": [
    "#### Bitriebssystemvitualisierung mit Docker\n",
    "\n",
    "<img src=\"https://www.docker.com/sites/default/files/Container%402x.png\" alt=\"Drawing\" style=\"width: 400px;\"/>\n",
    "\n"
   ]
  },
  {
   "cell_type": "markdown",
   "metadata": {
    "slideshow": {
     "slide_type": "subslide"
    }
   },
   "source": [
    "Bei Virtualisierung auf Betriebssystemebene wird anderen Computerprogrammen eine __komplette Laufzeitumgebung__ virtuell innerhalb eines geschlossenen Containers zur Verfügung gestellt. Es wird __kein weiteres Betriebssystem gestartet__; \n",
    "\n",
    "Nachteil:\n",
    "\n",
    "* In Containern können keine Treiber geladen werden. \n",
    "\n",
    "Vorteil:\n",
    "\n",
    "* geht besonders effizient mit den Ressourcen um\n",
    "  (insbesondere hinsichtlich der Prozessor-Last und des Haupt- und Massenspeicherbedarfs)"
   ]
  },
  {
   "cell_type": "markdown",
   "metadata": {
    "slideshow": {
     "slide_type": "subslide"
    }
   },
   "source": [
    "#### Überriss Docker\n",
    "\n",
    "<img src=\"https://upload.wikimedia.org/wikipedia/commons/thumb/0/09/Docker-linux-interfaces.svg/400px-Docker-linux-interfaces.svg.png\" alt=\"Docker Interfaces\" style=\"width: 400px;\" />"
   ]
  },
  {
   "cell_type": "markdown",
   "metadata": {
    "slideshow": {
     "slide_type": "slide"
    }
   },
   "source": [
    "## Docker Swarm\n",
    "\n",
    "<table class=\"float-right infobox toccolours toptextcells\" style=\"border-spacing:5px; font-size:90%; text-align:left; width:21em;\">\n",
    "<tr>\n",
    "<th class=\"hintergrundfarbe6\" colspan=\"2\" style=\"font-size:105%; text-align:center;\">Docker Swarm</th>\n",
    "</tr>\n",
    "<tr>\n",
    "<td colspan=\"2\" style=\"text-align:center;\"><a href=\"/wiki/Datei:Docker_(container_engine)_logo.png\" class=\"image\" title=\"Logo\"><img alt=\"Logo\" src=\"//upload.wikimedia.org/wikipedia/commons/thumb/7/79/Docker_%28container_engine%29_logo.png/250px-Docker_%28container_engine%29_logo.png\" width=\"250\" height=\"60\" srcset=\"//upload.wikimedia.org/wikipedia/commons/thumb/7/79/Docker_%28container_engine%29_logo.png/375px-Docker_%28container_engine%29_logo.png 1.5x, //upload.wikimedia.org/wikipedia/commons/thumb/7/79/Docker_%28container_engine%29_logo.png/500px-Docker_%28container_engine%29_logo.png 2x\" data-file-width=\"682\" data-file-height=\"163\" /></a></td>\n",
    "</tr>\n",
    "<tr>\n",
    "<td><b>Entwickler</b></td>\n",
    "<td>Docker, Inc.</td>\n",
    "</tr>\n",
    "<tr>\n",
    "<td><b>Erscheinungsjahr</b></td>\n",
    "<td>2015</td>\n",
    "</tr>\n",
    "<tr>\n",
    "<td><b>Aktuelle&#160;Version</b></td>\n",
    "<td><span class=\"wikidata-content\">17.11.0</span><br />\n",
    "(<span class=\"wikidata-content\">1.12.0 or later</span>)<br />\n",
    "(<span class=\"wikidata-content\">20. November 2017</span>)</td>\n",
    "</tr>\n",
    "<tr>\n",
    "<td><b>Betriebssystem</b></td>\n",
    "<td>Linux Windows MacOS</td>\n",
    "</tr>\n",
    "<tr>\n",
    "<td><b>Programmiersprache</b></td>\n",
    "<td>Go</td>\n",
    "</tr>\n",
    "<tr>\n",
    "<td><b>Kategorie</b></td>\n",
    "<td>Virtualisierung</td>\n",
    "</tr>\n",
    "<tr>\n",
    "<td><b>Lizenz</b></td>\n",
    "<td>Apache 2.0</td>\n",
    "</tr>\n",
    "<tr>\n",
    "<td><b>deutschsprachig</b></td>\n",
    "<td>nein</td>\n",
    "</tr>\n",
    "<tr>\n",
    "<td class=\"hintergrundfarbe5\" colspan=\"2\" style=\"text-align:center;\"><a rel=\"nofollow\" class=\"external text\" href=\"http://www.docker.com/\">www.docker.com</a></td>\n",
    "</tr>\n",
    "</table>"
   ]
  },
  {
   "cell_type": "markdown",
   "metadata": {
    "slideshow": {
     "slide_type": "slide"
    }
   },
   "source": [
    "## Docker Swarm aufsetzen\n",
    "\n",
    "### Zunächst die IP-Adresse feststellen\n",
    "\n",
    "Hierzu werden die Variablen IP_LEADER und ggf. IP_LEADER_WLAN gesetzt."
   ]
  },
  {
   "cell_type": "code",
   "execution_count": 2,
   "metadata": {
    "slideshow": {
     "slide_type": "skip"
    }
   },
   "outputs": [
    {
     "name": "stdout",
     "output_type": "stream",
     "text": [
      "2: eth0: <BROADCAST,MULTICAST,UP,LOWER_UP> mtu 1500 qdisc pfifo_fast state UP group default qlen 1000\n",
      "    link/ether b8:27:eb:27:c2:35 brd ff:ff:ff:ff:ff:ff\n",
      "    inet 172.24.2.1/24 brd 172.24.2.255 scope global eth0\n",
      "       valid_lft forever preferred_lft forever\n",
      "    inet 192.168.56.192/24 brd 192.168.56.255 scope global eth0\n",
      "       valid_lft forever preferred_lft forever\n",
      "    inet6 fd00::ba27:ebff:fe27:c235/64 scope global mngtmpaddr dynamic \n",
      "       valid_lft 7166sec preferred_lft 3566sec\n",
      "    inet6 fe80::ba27:ebff:fe27:c235/64 scope link \n",
      "       valid_lft forever preferred_lft forever\n"
     ]
    }
   ],
   "source": [
    "ip addr show eth0"
   ]
  },
  {
   "cell_type": "code",
   "execution_count": 3,
   "metadata": {
    "slideshow": {
     "slide_type": "skip"
    }
   },
   "outputs": [
    {
     "name": "stdout",
     "output_type": "stream",
     "text": [
      "172.24.2.1\n"
     ]
    }
   ],
   "source": [
    "ip addr show eth0 | grep 'inet\\s' | awk '{ print $2}' | cut -d '/' -f 1 | grep 172"
   ]
  },
  {
   "cell_type": "code",
   "execution_count": 4,
   "metadata": {
    "slideshow": {
     "slide_type": "fragment"
    }
   },
   "outputs": [
    {
     "name": "stdout",
     "output_type": "stream",
     "text": [
      "172.24.2.1\n"
     ]
    }
   ],
   "source": [
    "IP_LEADER=$(ip a s eth0 | grep 'inet\\s' | awk '{ print $2}' | cut -d '/' -f 1 | grep  172)\n",
    "echo $IP_LEADER"
   ]
  },
  {
   "cell_type": "code",
   "execution_count": 5,
   "metadata": {
    "slideshow": {
     "slide_type": "fragment"
    }
   },
   "outputs": [
    {
     "name": "stdout",
     "output_type": "stream",
     "text": [
      "172.24.1.1\n"
     ]
    }
   ],
   "source": [
    "IP_LEADER_WLAN=$(ip a s wlan0 | grep 'inet\\s' | awk '{ print $2}' | cut -d '/' -f 1)\n",
    "echo $IP_LEADER_WLAN"
   ]
  },
  {
   "cell_type": "markdown",
   "metadata": {
    "slideshow": {
     "slide_type": "slide"
    }
   },
   "source": [
    "### Docker Swarm Init\n",
    "\n",
    "Zunächst wird festgestellt ob es schon einen Docker Swarm gibt und wenn nicht, dann wird dieser angelegt und hier ausgegeben."
   ]
  },
  {
   "cell_type": "code",
   "execution_count": 6,
   "metadata": {
    "slideshow": {
     "slide_type": "fragment"
    }
   },
   "outputs": [
    {
     "name": "stdout",
     "output_type": "stream",
     "text": [
      "Error response from daemon: This node is not a swarm manager. Use \"docker swarm init\" or \"docker swarm join\" to connect this node to swarm and try again.\n",
      "Swarm initialized: current node (rx284usn4d3b2c2xif451af2q) is now a manager.\n",
      "\n",
      "To add a worker to this swarm, run the following command:\n",
      "\n",
      "    docker swarm join --token SWMTKN-1-1blok45xqni9go492p7eaux2msme096osbzedx4yr1abuvsggz-4xqbdhjis3nx3ey1hdrpcwmf0 172.24.2.1:2377\n",
      "\n",
      "To add a manager to this swarm, run 'docker swarm join-token manager' and follow the instructions.\n",
      "\n",
      "ID                            HOSTNAME            STATUS              AVAILABILITY        MANAGER STATUS\n",
      "rx284usn4d3b2c2xif451af2q *   cluster-00          Ready               Active              Leader\n"
     ]
    }
   ],
   "source": [
    "docker node ls || docker swarm init --advertise-addr ${IP_LEADER} && docker node ls"
   ]
  },
  {
   "cell_type": "markdown",
   "metadata": {
    "slideshow": {
     "slide_type": "slide"
    }
   },
   "source": [
    "### Token\n",
    "\n",
    "Damit die einzelnen Nodes dem Cluster beitreten können wird ein Token benötigt."
   ]
  },
  {
   "cell_type": "code",
   "execution_count": 7,
   "metadata": {
    "slideshow": {
     "slide_type": "fragment"
    }
   },
   "outputs": [
    {
     "name": "stdout",
     "output_type": "stream",
     "text": [
      "SWMTKN-1-1blok45xqni9go492p7eaux2msme096osbzedx4yr1abuvsggz-4xqbdhjis3nx3ey1hdrpcwmf0\n"
     ]
    }
   ],
   "source": [
    "JOIN_TOKEN=$(docker swarm join-token -q worker)\n",
    "echo $JOIN_TOKEN"
   ]
  },
  {
   "cell_type": "code",
   "execution_count": 8,
   "metadata": {
    "slideshow": {
     "slide_type": "fragment"
    }
   },
   "outputs": [
    {
     "name": "stdout",
     "output_type": "stream",
     "text": [
      "SWMTKN-1-1blok45xqni9go492p7eaux2msme096osbzedx4yr1abuvsggz-5z8veidl2bt6vxijk8eadsv24\n"
     ]
    }
   ],
   "source": [
    "JOIN_TOKEN_MANAGER=$(docker swarm join-token -q manager)\n",
    "echo $JOIN_TOKEN_MANAGER"
   ]
  },
  {
   "cell_type": "markdown",
   "metadata": {
    "slideshow": {
     "slide_type": "slide"
    }
   },
   "source": [
    "## SSH einrichten\n",
    "\n",
    "Der Klassiker mit Schlüsselaustausch.\n",
    "\n",
    "ToDo: Dies kann man mit docker machine umgehen."
   ]
  },
  {
   "cell_type": "code",
   "execution_count": 9,
   "metadata": {
    "slideshow": {
     "slide_type": "skip"
    }
   },
   "outputs": [
    {
     "name": "stdout",
     "output_type": "stream",
     "text": [
      "/home/pi/.ssh/id_rsa\n"
     ]
    }
   ],
   "source": [
    "# Setup ssh-key for user if not exists\n",
    "ls ~/.ssh/id_rsa || ansible -i localhost, -m shell -a 'ssh-keygen -b 2048 -t rsa -f ~/.ssh/id_rsa -q -N \"\" creates=~/.ssh/id_rsa' --connection=local localhost"
   ]
  },
  {
   "cell_type": "markdown",
   "metadata": {
    "slideshow": {
     "slide_type": "skip"
    }
   },
   "source": [
    "Den SSH Zugang vorbereiten. Zunächst aus `knwon_hosts` löschen. Dann wieder bekannt geben und den ssh-key übertragen."
   ]
  },
  {
   "cell_type": "code",
   "execution_count": 10,
   "metadata": {
    "slideshow": {
     "slide_type": "skip"
    }
   },
   "outputs": [
    {
     "name": "stdout",
     "output_type": "stream",
     "text": [
      "PING cluster-01.local (172.24.2.2) 56(84) bytes of data.\n",
      "64 bytes from 172.24.2.2: icmp_seq=1 ttl=64 time=0.719 ms\n",
      "\n",
      "--- cluster-01.local ping statistics ---\n",
      "1 packets transmitted, 1 received, 0% packet loss, time 0ms\n",
      "rtt min/avg/max/mdev = 0.719/0.719/0.719/0.000 ms\n"
     ]
    }
   ],
   "source": [
    "ping -c 1 cluster-01.local"
   ]
  },
  {
   "cell_type": "code",
   "execution_count": 11,
   "metadata": {
    "slideshow": {
     "slide_type": "skip"
    }
   },
   "outputs": [
    {
     "name": "stdout",
     "output_type": "stream",
     "text": [
      "192.168.56.189\n"
     ]
    }
   ],
   "source": [
    "ping -c 1 cluster-01.local | grep PING | cut -d '(' -f 2 | cut -d')' -f 1"
   ]
  },
  {
   "cell_type": "code",
   "execution_count": 12,
   "metadata": {
    "scrolled": false,
    "slideshow": {
     "slide_type": "skip"
    }
   },
   "outputs": [
    {
     "name": "stdout",
     "output_type": "stream",
     "text": [
      "# Host cluster-01 found: line 38 type ECDSA\n",
      "# Host cluster-01 found: line 39 type RSA\n",
      "# Host cluster-01 found: line 40 type ED25519\n",
      "/home/pi/.ssh/known_hosts updated.\n",
      "Original contents retained as /home/pi/.ssh/known_hosts.old\n",
      "# Host cluster-01.local found: line 35 type RSA\n",
      "# Host cluster-01.local found: line 36 type ECDSA\n",
      "# Host cluster-01.local found: line 37 type ED25519\n",
      "/home/pi/.ssh/known_hosts updated.\n",
      "Original contents retained as /home/pi/.ssh/known_hosts.old\n",
      "# Host 192.168.56.189 found: line 35 type ED25519\n",
      "# Host 192.168.56.189 found: line 36 type RSA\n",
      "# Host 192.168.56.189 found: line 37 type ECDSA\n",
      "/home/pi/.ssh/known_hosts updated.\n",
      "Original contents retained as /home/pi/.ssh/known_hosts.old\n",
      "# cluster-01.local SSH-2.0-OpenSSH_6.7p1 Raspbian-5+deb8u3\n",
      "# cluster-01.local SSH-2.0-OpenSSH_6.7p1 Raspbian-5+deb8u3\n",
      "# cluster-01.local SSH-2.0-OpenSSH_6.7p1 Raspbian-5+deb8u3\n",
      "# cluster-01 SSH-2.0-OpenSSH_6.7p1 Raspbian-5+deb8u3\n",
      "# cluster-01 SSH-2.0-OpenSSH_6.7p1 Raspbian-5+deb8u3\n",
      "# cluster-01 SSH-2.0-OpenSSH_6.7p1 Raspbian-5+deb8u3\n",
      "# 192.168.56.189 SSH-2.0-OpenSSH_6.7p1 Raspbian-5+deb8u3\n",
      "# 192.168.56.189 SSH-2.0-OpenSSH_6.7p1 Raspbian-5+deb8u3\n",
      "# 192.168.56.189 SSH-2.0-OpenSSH_6.7p1 Raspbian-5+deb8u3\n",
      "/usr/bin/ssh-copy-id: INFO: attempting to log in with the new key(s), to filter out any that are already installed\n",
      "\n",
      "/usr/bin/ssh-copy-id: WARNING: All keys were skipped because they already exist on the remote system.\n",
      "\n",
      "# Host cluster-02 found: line 38 type RSA\n",
      "# Host cluster-02 found: line 39 type ECDSA\n",
      "# Host cluster-02 found: line 40 type ED25519\n",
      "/home/pi/.ssh/known_hosts updated.\n",
      "Original contents retained as /home/pi/.ssh/known_hosts.old\n",
      "# Host cluster-02.local found: line 35 type RSA\n",
      "# Host cluster-02.local found: line 36 type ECDSA\n",
      "# Host cluster-02.local found: line 37 type ED25519\n",
      "/home/pi/.ssh/known_hosts updated.\n",
      "Original contents retained as /home/pi/.ssh/known_hosts.old\n",
      "# Host 172.24.2.3 found: line 35 type RSA\n",
      "# Host 172.24.2.3 found: line 36 type ECDSA\n",
      "# Host 172.24.2.3 found: line 37 type ED25519\n",
      "/home/pi/.ssh/known_hosts updated.\n",
      "Original contents retained as /home/pi/.ssh/known_hosts.old\n",
      "# cluster-02.local SSH-2.0-OpenSSH_6.7p1 Raspbian-5+deb8u3\n",
      "# cluster-02.local SSH-2.0-OpenSSH_6.7p1 Raspbian-5+deb8u3\n",
      "# cluster-02.local SSH-2.0-OpenSSH_6.7p1 Raspbian-5+deb8u3\n",
      "# cluster-02 SSH-2.0-OpenSSH_6.7p1 Raspbian-5+deb8u3\n",
      "# cluster-02 SSH-2.0-OpenSSH_6.7p1 Raspbian-5+deb8u3\n",
      "# cluster-02 SSH-2.0-OpenSSH_6.7p1 Raspbian-5+deb8u3\n",
      "# 172.24.2.3 SSH-2.0-OpenSSH_6.7p1 Raspbian-5+deb8u3\n",
      "# 172.24.2.3 SSH-2.0-OpenSSH_6.7p1 Raspbian-5+deb8u3\n",
      "# 172.24.2.3 SSH-2.0-OpenSSH_6.7p1 Raspbian-5+deb8u3\n",
      "/usr/bin/ssh-copy-id: INFO: attempting to log in with the new key(s), to filter out any that are already installed\n",
      "\n",
      "/usr/bin/ssh-copy-id: WARNING: All keys were skipped because they already exist on the remote system.\n",
      "\n",
      "# Host cluster-03 found: line 38 type RSA\n",
      "# Host cluster-03 found: line 39 type ECDSA\n",
      "# Host cluster-03 found: line 40 type ED25519\n",
      "/home/pi/.ssh/known_hosts updated.\n",
      "Original contents retained as /home/pi/.ssh/known_hosts.old\n",
      "# Host cluster-03.local found: line 35 type RSA\n",
      "# Host cluster-03.local found: line 36 type ECDSA\n",
      "# Host cluster-03.local found: line 37 type ED25519\n",
      "/home/pi/.ssh/known_hosts updated.\n",
      "Original contents retained as /home/pi/.ssh/known_hosts.old\n",
      "# Host 172.24.2.4 found: line 35 type RSA\n",
      "# Host 172.24.2.4 found: line 36 type ECDSA\n",
      "# Host 172.24.2.4 found: line 37 type ED25519\n",
      "/home/pi/.ssh/known_hosts updated.\n",
      "Original contents retained as /home/pi/.ssh/known_hosts.old\n",
      "# cluster-03.local SSH-2.0-OpenSSH_6.7p1 Raspbian-5+deb8u3\n",
      "# cluster-03.local SSH-2.0-OpenSSH_6.7p1 Raspbian-5+deb8u3\n",
      "# cluster-03.local SSH-2.0-OpenSSH_6.7p1 Raspbian-5+deb8u3\n",
      "# cluster-03 SSH-2.0-OpenSSH_6.7p1 Raspbian-5+deb8u3\n",
      "# cluster-03 SSH-2.0-OpenSSH_6.7p1 Raspbian-5+deb8u3\n",
      "# cluster-03 SSH-2.0-OpenSSH_6.7p1 Raspbian-5+deb8u3\n",
      "# 172.24.2.4 SSH-2.0-OpenSSH_6.7p1 Raspbian-5+deb8u3\n",
      "# 172.24.2.4 SSH-2.0-OpenSSH_6.7p1 Raspbian-5+deb8u3\n",
      "# 172.24.2.4 SSH-2.0-OpenSSH_6.7p1 Raspbian-5+deb8u3\n",
      "/usr/bin/ssh-copy-id: INFO: attempting to log in with the new key(s), to filter out any that are already installed\n",
      "\n",
      "/usr/bin/ssh-copy-id: WARNING: All keys were skipped because they already exist on the remote system.\n",
      "\n",
      "# Host cluster-04 found: line 38 type RSA\n",
      "# Host cluster-04 found: line 39 type ECDSA\n",
      "# Host cluster-04 found: line 40 type ED25519\n",
      "/home/pi/.ssh/known_hosts updated.\n",
      "Original contents retained as /home/pi/.ssh/known_hosts.old\n",
      "# Host cluster-04.local found: line 35 type RSA\n",
      "# Host cluster-04.local found: line 36 type ECDSA\n",
      "# Host cluster-04.local found: line 37 type ED25519\n",
      "/home/pi/.ssh/known_hosts updated.\n",
      "Original contents retained as /home/pi/.ssh/known_hosts.old\n",
      "# Host 172.24.2.5 found: line 35 type RSA\n",
      "# Host 172.24.2.5 found: line 36 type ECDSA\n",
      "# Host 172.24.2.5 found: line 37 type ED25519\n",
      "/home/pi/.ssh/known_hosts updated.\n",
      "Original contents retained as /home/pi/.ssh/known_hosts.old\n",
      "# cluster-04.local SSH-2.0-OpenSSH_6.7p1 Raspbian-5+deb8u3\n",
      "# cluster-04.local SSH-2.0-OpenSSH_6.7p1 Raspbian-5+deb8u3\n",
      "# cluster-04.local SSH-2.0-OpenSSH_6.7p1 Raspbian-5+deb8u3\n",
      "# cluster-04 SSH-2.0-OpenSSH_6.7p1 Raspbian-5+deb8u3\n",
      "# cluster-04 SSH-2.0-OpenSSH_6.7p1 Raspbian-5+deb8u3\n",
      "# cluster-04 SSH-2.0-OpenSSH_6.7p1 Raspbian-5+deb8u3\n",
      "# 172.24.2.5 SSH-2.0-OpenSSH_6.7p1 Raspbian-5+deb8u3\n",
      "# 172.24.2.5 SSH-2.0-OpenSSH_6.7p1 Raspbian-5+deb8u3\n",
      "# 172.24.2.5 SSH-2.0-OpenSSH_6.7p1 Raspbian-5+deb8u3\n",
      "/usr/bin/ssh-copy-id: INFO: attempting to log in with the new key(s), to filter out any that are already installed\n",
      "\n",
      "/usr/bin/ssh-copy-id: WARNING: All keys were skipped because they already exist on the remote system.\n",
      "\n",
      "# Host cluster-00 found: line 38 type RSA\n",
      "# Host cluster-00 found: line 39 type ED25519\n",
      "# Host cluster-00 found: line 40 type ECDSA\n",
      "/home/pi/.ssh/known_hosts updated.\n",
      "Original contents retained as /home/pi/.ssh/known_hosts.old\n",
      "# Host cluster-00.local found: line 35 type RSA\n",
      "# Host cluster-00.local found: line 36 type ECDSA\n",
      "# Host cluster-00.local found: line 37 type ED25519\n",
      "/home/pi/.ssh/known_hosts updated.\n",
      "Original contents retained as /home/pi/.ssh/known_hosts.old\n",
      "# Host 172.18.0.1 found: line 35 type RSA\n",
      "# Host 172.18.0.1 found: line 36 type ECDSA\n",
      "# Host 172.18.0.1 found: line 37 type ED25519\n",
      "/home/pi/.ssh/known_hosts updated.\n",
      "Original contents retained as /home/pi/.ssh/known_hosts.old\n",
      "# cluster-00.local SSH-2.0-OpenSSH_6.7p1 Raspbian-5+deb8u3\n",
      "# cluster-00.local SSH-2.0-OpenSSH_6.7p1 Raspbian-5+deb8u3\n",
      "# cluster-00.local SSH-2.0-OpenSSH_6.7p1 Raspbian-5+deb8u3\n",
      "# cluster-00 SSH-2.0-OpenSSH_6.7p1 Raspbian-5+deb8u3\n",
      "# cluster-00 SSH-2.0-OpenSSH_6.7p1 Raspbian-5+deb8u3\n",
      "# cluster-00 SSH-2.0-OpenSSH_6.7p1 Raspbian-5+deb8u3\n",
      "# 172.18.0.1 SSH-2.0-OpenSSH_6.7p1 Raspbian-5+deb8u3\n",
      "# 172.18.0.1 SSH-2.0-OpenSSH_6.7p1 Raspbian-5+deb8u3\n",
      "# 172.18.0.1 SSH-2.0-OpenSSH_6.7p1 Raspbian-5+deb8u3\n",
      "/usr/bin/ssh-copy-id: INFO: attempting to log in with the new key(s), to filter out any that are already installed\n",
      "\n",
      "/usr/bin/ssh-copy-id: WARNING: All keys were skipped because they already exist on the remote system.\n",
      "\n"
     ]
    }
   ],
   "source": [
    "for i in 01 02 03 04 00; do\n",
    "    # Hostname only\n",
    "    CL_HOSTNAME=cluster-${i}\n",
    "    # Get Ip via local Domain (avahi)\n",
    "    CL_IP=$(ping -c 1 ${CL_HOSTNAME}.local | grep PING | cut -d '(' -f 2 | cut -d')' -f 1)\n",
    "    # Cluster Hostname only\n",
    "    ssh-keygen -R ${CL_HOSTNAME}\n",
    "    # Cluster with Domain local\n",
    "    ssh-keygen -R ${CL_HOSTNAME}.local\n",
    "    # IP Cluster \n",
    "    ssh-keygen -R ${CL_IP}\n",
    "    # Add Cluster into known_hosts\n",
    "    ssh-keyscan -H ${CL_HOSTNAME}.local >> ~/.ssh/known_hosts\n",
    "    ssh-keyscan -H ${CL_HOSTNAME} >> ~/.ssh/known_hosts\n",
    "    ssh-keyscan -H ${CL_IP} >> ~/.ssh/known_hosts\n",
    "    # SSH key copy into Cluster\n",
    "    sshpass -p raspberry ssh-copy-id pi@${CL_HOSTNAME}.local\n",
    "done"
   ]
  },
  {
   "cell_type": "markdown",
   "metadata": {
    "slideshow": {
     "slide_type": "slide"
    }
   },
   "source": [
    "## Dem Swarm beitreten"
   ]
  },
  {
   "cell_type": "code",
   "execution_count": 13,
   "metadata": {
    "slideshow": {
     "slide_type": "subslide"
    }
   },
   "outputs": [
    {
     "name": "stdout",
     "output_type": "stream",
     "text": [
      "ID                            HOSTNAME            STATUS              AVAILABILITY        MANAGER STATUS\n",
      "rx284usn4d3b2c2xif451af2q *   cluster-00          Ready               Active              Leader\n"
     ]
    }
   ],
   "source": [
    "docker node ls"
   ]
  },
  {
   "cell_type": "markdown",
   "metadata": {
    "slideshow": {
     "slide_type": "subslide"
    }
   },
   "source": [
    "Nur der Client 01 und 03 als Worker dem Swarm beitreten."
   ]
  },
  {
   "cell_type": "code",
   "execution_count": 14,
   "metadata": {
    "slideshow": {
     "slide_type": "fragment"
    }
   },
   "outputs": [
    {
     "name": "stdout",
     "output_type": "stream",
     "text": [
      "cluster-01.local\n",
      "This node joined a swarm as a worker.\n",
      "cluster-03.local\n",
      "This node joined a swarm as a worker.\n"
     ]
    }
   ],
   "source": [
    "#set -x\n",
    "for i in 01 03; do\n",
    "    # Hostname only\n",
    "    CL_HOSTNAME=cluster-${i}.local\n",
    "    echo $CL_HOSTNAME\n",
    "    ssh $CL_HOSTNAME \"docker swarm join --token $JOIN_TOKEN $IP_LEADER:2377\"\n",
    "done\n",
    "#set +x"
   ]
  },
  {
   "cell_type": "code",
   "execution_count": 15,
   "metadata": {
    "slideshow": {
     "slide_type": "fragment"
    }
   },
   "outputs": [
    {
     "name": "stdout",
     "output_type": "stream",
     "text": [
      "ID                            HOSTNAME            STATUS              AVAILABILITY        MANAGER STATUS\n",
      "rx284usn4d3b2c2xif451af2q *   cluster-00          Ready               Active              Leader\n",
      "lxpvb7dr0hwk0nj96va4wo6ny     cluster-01          Ready               Active              \n",
      "vafxcqkmo3973p6cye7oaubhi     cluster-03          Ready               Active              \n"
     ]
    }
   ],
   "source": [
    "docker node ls"
   ]
  },
  {
   "cell_type": "markdown",
   "metadata": {
    "slideshow": {
     "slide_type": "subslide"
    }
   },
   "source": [
    "Der Client 02 und 04 als Manger dem Swarm beitreten."
   ]
  },
  {
   "cell_type": "code",
   "execution_count": 16,
   "metadata": {
    "slideshow": {
     "slide_type": "fragment"
    }
   },
   "outputs": [
    {
     "name": "stdout",
     "output_type": "stream",
     "text": [
      "cluster-02.local\n",
      "This node joined a swarm as a manager.\n",
      "cluster-04.local\n",
      "This node joined a swarm as a manager.\n"
     ]
    }
   ],
   "source": [
    "for i in 02 04; do\n",
    "    # Hostname only\n",
    "    CL_HOSTNAME=cluster-${i}.local\n",
    "    echo $CL_HOSTNAME\n",
    "    ssh $CL_HOSTNAME \"docker swarm join --token $JOIN_TOKEN_MANAGER $IP_LEADER:2377\"\n",
    "done"
   ]
  },
  {
   "cell_type": "code",
   "execution_count": 17,
   "metadata": {
    "slideshow": {
     "slide_type": "fragment"
    }
   },
   "outputs": [
    {
     "name": "stdout",
     "output_type": "stream",
     "text": [
      "ID                            HOSTNAME            STATUS              AVAILABILITY        MANAGER STATUS\n",
      "rx284usn4d3b2c2xif451af2q *   cluster-00          Ready               Active              Leader\n",
      "lxpvb7dr0hwk0nj96va4wo6ny     cluster-01          Ready               Active              \n",
      "6l33eyp0sgsa4t6jlabdtfadf     cluster-02          Ready               Active              Reachable\n",
      "vafxcqkmo3973p6cye7oaubhi     cluster-03          Ready               Active              \n",
      "wclq49biuqsgjql5dryawms5s     cluster-04          Ready               Active              Reachable\n"
     ]
    }
   ],
   "source": [
    "docker node ls"
   ]
  },
  {
   "cell_type": "markdown",
   "metadata": {
    "slideshow": {
     "slide_type": "slide"
    }
   },
   "source": [
    "## Visualizer anschauen\n",
    "\n",
    "Einen graphischen Output als Service starten. Hierzu wird das Image alexellis2/visualizer-arm genutzt."
   ]
  },
  {
   "cell_type": "code",
   "execution_count": 18,
   "metadata": {
    "slideshow": {
     "slide_type": "fragment"
    }
   },
   "outputs": [
    {
     "name": "stdout",
     "output_type": "stream",
     "text": [
      "wx8tak0n9j6xsdsz4k5rp1jn8\n",
      "\n",
      "\u001b[1Ball progress: 0 out of 1 tasks \n",
      "\u001b[2Ball progress: 1 out of 1 tasks \n",
      "\u001b[1Bfy: Service converged to verify that tasks are stable... "
     ]
    }
   ],
   "source": [
    "docker service create \\\n",
    "  --name=visualizer \\\n",
    "  --publish=8000:8080/tcp \\\n",
    "  --constraint=node.role==manager \\\n",
    "  --mount=type=bind,src=/var/run/docker.sock,dst=/var/run/docker.sock \\\n",
    "  --no-resolve-image \\\n",
    "  --detach=false \\\n",
    "  alexellis2/visualizer-arm"
   ]
  },
  {
   "cell_type": "markdown",
   "metadata": {
    "slideshow": {
     "slide_type": "fragment"
    }
   },
   "source": [
    "Dies wird als einmaliger Service auf einem Manager-Node gestartet. Die Hostdatei `/var/run/docker.sock` wird in dem Container eingefügt."
   ]
  },
  {
   "cell_type": "code",
   "execution_count": 19,
   "metadata": {
    "slideshow": {
     "slide_type": "subslide"
    }
   },
   "outputs": [
    {
     "name": "stdout",
     "output_type": "stream",
     "text": [
      "http://172.24.1.1:8000\n",
      "http://172.24.2.1:8000\n"
     ]
    }
   ],
   "source": [
    "echo \"http://${IP_LEADER_WLAN}:8000\"\n",
    "echo \"http://${IP_LEADER}:8000\""
   ]
  },
  {
   "cell_type": "code",
   "execution_count": 20,
   "metadata": {
    "slideshow": {
     "slide_type": "fragment"
    }
   },
   "outputs": [
    {
     "name": "stdout",
     "output_type": "stream",
     "text": [
      "ID                  NAME                MODE                REPLICAS            IMAGE                              PORTS\n",
      "wx8tak0n9j6x        visualizer          replicated          1/1                 alexellis2/visualizer-arm:latest   *:8000->8080/tcp\n"
     ]
    }
   ],
   "source": [
    "docker service ls"
   ]
  },
  {
   "cell_type": "markdown",
   "metadata": {
    "slideshow": {
     "slide_type": "slide"
    }
   },
   "source": [
    "### Der LOL Monitor\n",
    "\n",
    "Auf allen Knoten soll ein Monitor Dienst als Docker Container laufen. Dieser überwacht, wie viele _whoami_ Container laufen und zeigt dies durch die Anzahl der LEDs an.\n",
    "\n",
    "Grün: Ein whoami-Container wird gestartet.\n",
    "\n",
    "Rot: Ein whoami-Container stoppt.\n",
    "\n",
    "Gelb-Grün: Für die Version 1.1.0\n",
    "\n",
    "Blau: Für die Version 1.2.0"
   ]
  },
  {
   "cell_type": "code",
   "execution_count": 21,
   "metadata": {
    "slideshow": {
     "slide_type": "subslide"
    }
   },
   "outputs": [
    {
     "name": "stdout",
     "output_type": "stream",
     "text": [
      "ulooqfaxi2euhrao9rogoo8mt\n",
      "\n",
      "\u001b[1Ball progress: 0 out of 5 tasks asks \n",
      "\u001b[1Beyp0sgsa: assigned  \n",
      "\u001b[1Bb7dr0hwk: assigned  \n",
      "\u001b[1B4usn4d3b: assigned  \n",
      "\u001b[1B49biuqsg: assigned  \n",
      "\u001b[6Ball progress: 5 out of 5 tasks \n",
      "\u001b[1Bfy: Service converged to verify that tasks are stable... "
     ]
    }
   ],
   "source": [
    "docker service create --name monitor --mode global \\\n",
    "  --restart-condition any --mount type=bind,src=/sys,dst=/sys \\\n",
    "  --mount type=bind,src=/var/run/docker.sock,dst=/var/run/docker.sock \\\n",
    "  --no-resolve-image \\\n",
    "  --detach=false \\\n",
    "  stefanscherer/monitor:1.1.0"
   ]
  },
  {
   "cell_type": "markdown",
   "metadata": {
    "slideshow": {
     "slide_type": "skip"
    }
   },
   "source": [
    "Es läuft noch kein whoami."
   ]
  },
  {
   "cell_type": "code",
   "execution_count": 22,
   "metadata": {
    "slideshow": {
     "slide_type": "fragment"
    }
   },
   "outputs": [
    {
     "name": "stdout",
     "output_type": "stream",
     "text": [
      "ID                  NAME                MODE                REPLICAS            IMAGE                              PORTS\n",
      "ulooqfaxi2eu        monitor             global              5/5                 stefanscherer/monitor:1.1.0        \n",
      "wx8tak0n9j6x        visualizer          replicated          1/1                 alexellis2/visualizer-arm:latest   *:8000->8080/tcp\n"
     ]
    }
   ],
   "source": [
    "docker service ls"
   ]
  },
  {
   "cell_type": "markdown",
   "metadata": {
    "slideshow": {
     "slide_type": "subslide"
    }
   },
   "source": [
    "#### Der GROSSE Moment der LED\n",
    "\n",
    "Nun starten wir den Service `whoami` mti der Version 1.1.0 (Gelb-Grün)."
   ]
  },
  {
   "cell_type": "code",
   "execution_count": 23,
   "metadata": {
    "slideshow": {
     "slide_type": "fragment"
    }
   },
   "outputs": [
    {
     "name": "stdout",
     "output_type": "stream",
     "text": [
      "vmse6aj34ipbfl81itxb7acic\n",
      "\n",
      "\u001b[1Ball progress: 0 out of 1 tasks \n",
      "\u001b[2Ball progress: 1 out of 1 tasks \n",
      "\u001b[1Bfy: Service converged to verify that tasks are stable... "
     ]
    }
   ],
   "source": [
    "docker service create --name whoami \\\n",
    "  --no-resolve-image \\\n",
    "  --detach=false \\\n",
    "  stefanscherer/whoami:1.1.0 "
   ]
  },
  {
   "cell_type": "code",
   "execution_count": 24,
   "metadata": {
    "slideshow": {
     "slide_type": "fragment"
    }
   },
   "outputs": [
    {
     "name": "stdout",
     "output_type": "stream",
     "text": [
      "ID                  NAME                MODE                REPLICAS            IMAGE                              PORTS\n",
      "ulooqfaxi2eu        monitor             global              5/5                 stefanscherer/monitor:1.1.0        \n",
      "wx8tak0n9j6x        visualizer          replicated          1/1                 alexellis2/visualizer-arm:latest   *:8000->8080/tcp\n",
      "vmse6aj34ipb        whoami              replicated          1/1                 stefanscherer/whoami:1.1.0         \n"
     ]
    }
   ],
   "source": [
    "docker service ls"
   ]
  },
  {
   "cell_type": "markdown",
   "metadata": {
    "slideshow": {
     "slide_type": "subslide"
    }
   },
   "source": [
    "#### Der Update auf 1.2.0\n",
    "\n",
    "Die LED wechselt auf Blau."
   ]
  },
  {
   "cell_type": "code",
   "execution_count": 25,
   "metadata": {
    "slideshow": {
     "slide_type": "fragment"
    }
   },
   "outputs": [
    {
     "name": "stdout",
     "output_type": "stream",
     "text": [
      "whoami\n",
      "\n",
      "\u001b[1Ball progress: 0 out of 1 tasks \n",
      "\u001b[2Ball progress: 1 out of 1 tasks \n",
      "\u001b[1Bfy: Service converged to verify that tasks are stable... "
     ]
    }
   ],
   "source": [
    "docker service update \\\n",
    "  --detach=false \\\n",
    "  --image stefanscherer/whoami:1.2.0 whoami"
   ]
  },
  {
   "cell_type": "code",
   "execution_count": 26,
   "metadata": {
    "slideshow": {
     "slide_type": "fragment"
    }
   },
   "outputs": [
    {
     "name": "stdout",
     "output_type": "stream",
     "text": [
      "ID                  NAME                MODE                REPLICAS            IMAGE                              PORTS\n",
      "ulooqfaxi2eu        monitor             global              5/5                 stefanscherer/monitor:1.1.0        \n",
      "wx8tak0n9j6x        visualizer          replicated          1/1                 alexellis2/visualizer-arm:latest   *:8000->8080/tcp\n",
      "vmse6aj34ipb        whoami              replicated          1/1                 stefanscherer/whoami:1.2.0         \n"
     ]
    }
   ],
   "source": [
    "docker service ls"
   ]
  },
  {
   "cell_type": "markdown",
   "metadata": {
    "slideshow": {
     "slide_type": "subslide"
    }
   },
   "source": [
    "#### Wir skalieren auf 5"
   ]
  },
  {
   "cell_type": "code",
   "execution_count": 27,
   "metadata": {
    "slideshow": {
     "slide_type": "fragment"
    }
   },
   "outputs": [
    {
     "name": "stdout",
     "output_type": "stream",
     "text": [
      "whoami scaled to 5\n",
      "\n",
      "\u001b[1Ball progress: 0 out of 5 tasks \n",
      "\u001b[1B   K$<3>\u001b[K$<3>\n",
      "\u001b[1B   K$<3>\u001b[K$<3>\n",
      "\u001b[1B   K$<3>\u001b[K$<3>\n",
      "\u001b[1B   K$<3>\u001b[K$<3>\n",
      "\u001b[6Ball progress: 5 out of 5 tasks \n",
      "\u001b[1Bfy: Service converged to verify that tasks are stable... "
     ]
    }
   ],
   "source": [
    "docker service scale --detach=false whoami=5"
   ]
  },
  {
   "cell_type": "code",
   "execution_count": 28,
   "metadata": {
    "slideshow": {
     "slide_type": "fragment"
    }
   },
   "outputs": [
    {
     "name": "stdout",
     "output_type": "stream",
     "text": [
      "ID                  NAME                MODE                REPLICAS            IMAGE                              PORTS\n",
      "ulooqfaxi2eu        monitor             global              5/5                 stefanscherer/monitor:1.1.0        \n",
      "wx8tak0n9j6x        visualizer          replicated          1/1                 alexellis2/visualizer-arm:latest   *:8000->8080/tcp\n",
      "vmse6aj34ipb        whoami              replicated          5/5                 stefanscherer/whoami:1.2.0         \n"
     ]
    }
   ],
   "source": [
    "docker service ls"
   ]
  },
  {
   "cell_type": "markdown",
   "metadata": {
    "slideshow": {
     "slide_type": "subslide"
    }
   },
   "source": [
    "#### Downgrade"
   ]
  },
  {
   "cell_type": "code",
   "execution_count": 29,
   "metadata": {
    "slideshow": {
     "slide_type": "fragment"
    }
   },
   "outputs": [
    {
     "name": "stdout",
     "output_type": "stream",
     "text": [
      "whoami\n",
      "\n",
      "\u001b[1Ball progress: 0 out of 5 tasks \n",
      "\u001b[1B   K$<3>\u001b[K$<3>\n",
      "\u001b[1B   K$<3>\u001b[K$<3>\n",
      "\u001b[1B   K$<3>\u001b[K$<3>\n",
      "\u001b[1B   K$<3>\u001b[K$<3>\n",
      "\u001b[6Ball progress: 5 out of 5 tasks \n",
      "\u001b[1Bfy: Service converged to verify that tasks are stable... "
     ]
    }
   ],
   "source": [
    "docker service update \\\n",
    "  --detach=false \\\n",
    "  --image stefanscherer/whoami:1.1.0 whoami"
   ]
  },
  {
   "cell_type": "markdown",
   "metadata": {
    "slideshow": {
     "slide_type": "subslide"
    }
   },
   "source": [
    "#### Auf 20 Saklieren\n",
    "\n",
    "Jetzt können die Stecker gezogen werden."
   ]
  },
  {
   "cell_type": "code",
   "execution_count": 30,
   "metadata": {
    "slideshow": {
     "slide_type": "fragment"
    }
   },
   "outputs": [
    {
     "name": "stdout",
     "output_type": "stream",
     "text": [
      "whoami scaled to 20\n",
      "\n",
      "\u001b[1Ball progress: 0 out of 20 tasks \n",
      "\u001b[1B:   $<3>\u001b[K$<3>\n",
      "\u001b[1B:   $<3>\u001b[K$<3>\n",
      "\u001b[1B:   $<3>\u001b[K$<3>\n",
      "\u001b[1B:   $<3>\u001b[K$<3>\n",
      "\u001b[1B:   $<3>\u001b[K$<3>\n",
      "\u001b[1B:   $<3>\u001b[K$<3>\n",
      "\u001b[1B:   $<3>\u001b[K$<3>\n",
      "\u001b[1B:   $<3>\u001b[K$<3>\n",
      "\u001b[1B:   $<3>\u001b[K$<3>\n",
      "\u001b[1B0:   <3>\u001b[K$<3>\n",
      "\u001b[1B0:   <3>\u001b[K$<3>\n",
      "\u001b[1B0:   <3>\u001b[K$<3>\n",
      "\u001b[1B0:   <3>\u001b[K$<3>\n",
      "\u001b[1B0:   <3>\u001b[K$<3>\n",
      "\u001b[1B0:   <3>\u001b[K$<3>\n",
      "\u001b[1B0:   <3>\u001b[K$<3>\n",
      "\u001b[1B0:   <3>\u001b[K$<3>\n",
      "\u001b[1B0:   <3>\u001b[K$<3>\n",
      "\u001b[1B0:   <3>\u001b[K$<3>\n",
      "\u001b[21Bll progress: 20 out of 20 tasks \n",
      "\u001b[1Bfy: Service converged to verify that tasks are stable... "
     ]
    }
   ],
   "source": [
    "docker service scale --detach=false whoami=20"
   ]
  },
  {
   "cell_type": "markdown",
   "metadata": {
    "slideshow": {
     "slide_type": "subslide"
    }
   },
   "source": [
    "#### Versionswechsel"
   ]
  },
  {
   "cell_type": "code",
   "execution_count": 31,
   "metadata": {
    "collapsed": true,
    "slideshow": {
     "slide_type": "fragment"
    }
   },
   "outputs": [
    {
     "name": "stdout",
     "output_type": "stream",
     "text": [
      "whoami\n",
      "\n",
      "\u001b[1Ball progress: 0 out of 20 tasks \n",
      "\u001b[1B:   $<3>\u001b[K$<3>\n",
      "\u001b[1B:   $<3>\u001b[K$<3>\n",
      "\u001b[1B:   $<3>\u001b[K$<3>\n",
      "\u001b[1B:   $<3>\u001b[K$<3>\n",
      "\u001b[1B:   $<3>\u001b[K$<3>\n",
      "\u001b[1B:   $<3>\u001b[K$<3>\n",
      "\u001b[1B:   $<3>\u001b[K$<3>\n",
      "\u001b[1B:   $<3>\u001b[K$<3>\n",
      "\u001b[1B:   $<3>\u001b[K$<3>\n",
      "\u001b[1B0:   <3>\u001b[K$<3>\n",
      "\u001b[1B0:   <3>\u001b[K$<3>\n",
      "\u001b[1B0:   <3>\u001b[K$<3>\n",
      "\u001b[1B0:   <3>\u001b[K$<3>\n",
      "\u001b[1B0:   <3>\u001b[K$<3>\n",
      "\u001b[1B0:   <3>\u001b[K$<3>\n",
      "\u001b[1B0:   <3>\u001b[K$<3>\n",
      "\u001b[1B0:   <3>\u001b[K$<3>\n",
      "\u001b[1B0:   <3>\u001b[K$<3>\n",
      "\u001b[1B0:   <3>\u001b[K$<3>\n",
      "\u001b[21Bll progress: 20 out of 20 tasks \n",
      "\u001b[1Bfy: Service converged to verify that tasks are stable... "
     ]
    }
   ],
   "source": [
    "docker service update --update-parallelism 5 \\\n",
    "  --detach=false \\\n",
    "  --image stefanscherer/whoami:1.2.0 whoami"
   ]
  },
  {
   "cell_type": "code",
   "execution_count": 32,
   "metadata": {
    "slideshow": {
     "slide_type": "subslide"
    }
   },
   "outputs": [
    {
     "name": "stdout",
     "output_type": "stream",
     "text": [
      "ID                  NAME                MODE                REPLICAS            IMAGE                              PORTS\n",
      "ulooqfaxi2eu        monitor             global              5/5                 stefanscherer/monitor:1.1.0        \n",
      "wx8tak0n9j6x        visualizer          replicated          1/1                 alexellis2/visualizer-arm:latest   *:8000->8080/tcp\n",
      "vmse6aj34ipb        whoami              replicated          20/20               stefanscherer/whoami:1.2.0         \n"
     ]
    }
   ],
   "source": [
    "docker service ls"
   ]
  },
  {
   "cell_type": "markdown",
   "metadata": {
    "slideshow": {
     "slide_type": "slide"
    }
   },
   "source": [
    "#### Alle LED"
   ]
  },
  {
   "cell_type": "code",
   "execution_count": 33,
   "metadata": {
    "slideshow": {
     "slide_type": "fragment"
    }
   },
   "outputs": [
    {
     "name": "stdout",
     "output_type": "stream",
     "text": [
      "whoami scaled to 40\n",
      "\n",
      "\u001b[1Ball progress: 40 out of 40 tasks \n",
      "\u001b[1Bfy: Service converged to verify that tasks are stable... "
     ]
    }
   ],
   "source": [
    "docker service scale --detach=false whoami=40"
   ]
  },
  {
   "cell_type": "markdown",
   "metadata": {
    "slideshow": {
     "slide_type": "subslide"
    }
   },
   "source": [
    "#### Versionswechsel\n",
    "\n",
    "Allerdings fünf Maschinen gleichzeitig."
   ]
  },
  {
   "cell_type": "code",
   "execution_count": 34,
   "metadata": {
    "slideshow": {
     "slide_type": "fragment"
    }
   },
   "outputs": [
    {
     "name": "stdout",
     "output_type": "stream",
     "text": [
      "whoami\n",
      "\n",
      "\u001b[1Ball progress: 39 out of 40 tasks "
     ]
    }
   ],
   "source": [
    "docker service update --update-parallelism 5 \\\n",
    "  --detach=false \\\n",
    "  --image stefanscherer/whoami:1.1.0 whoami"
   ]
  },
  {
   "cell_type": "code",
   "execution_count": 35,
   "metadata": {
    "slideshow": {
     "slide_type": "fragment"
    }
   },
   "outputs": [
    {
     "name": "stdout",
     "output_type": "stream",
     "text": [
      "ID                  NAME                MODE                REPLICAS            IMAGE                              PORTS\n",
      "ulooqfaxi2eu        monitor             global              5/5                 stefanscherer/monitor:1.1.0        \n",
      "wx8tak0n9j6x        visualizer          replicated          1/1                 alexellis2/visualizer-arm:latest   *:8000->8080/tcp\n",
      "vmse6aj34ipb        whoami              replicated          41/40               stefanscherer/whoami:1.1.0         \n"
     ]
    }
   ],
   "source": [
    "docker service ls"
   ]
  },
  {
   "cell_type": "markdown",
   "metadata": {
    "slideshow": {
     "slide_type": "subslide"
    }
   },
   "source": [
    "#### Down- and Upsize"
   ]
  },
  {
   "cell_type": "code",
   "execution_count": 36,
   "metadata": {
    "slideshow": {
     "slide_type": "fragment"
    }
   },
   "outputs": [
    {
     "name": "stdout",
     "output_type": "stream",
     "text": [
      "whoami scaled to 1\n",
      "\n",
      "\u001b[1Ball progress: 0 out of 1 tasks \n",
      "\u001b[2Ball progress: 1 out of 1 tasks  \n",
      "\u001b[1Bfy: Service converged to verify that tasks are stable... "
     ]
    }
   ],
   "source": [
    "docker service scale --detach=false whoami=1"
   ]
  },
  {
   "cell_type": "code",
   "execution_count": 37,
   "metadata": {
    "collapsed": true,
    "slideshow": {
     "slide_type": "fragment"
    }
   },
   "outputs": [
    {
     "name": "stdout",
     "output_type": "stream",
     "text": [
      "whoami scaled to 15\n",
      "\n",
      "\u001b[1Ball progress: 0 out of 15 tasks \n",
      "\u001b[1B:   $<3>\u001b[K$<3>\n",
      "\u001b[1B:   $<3>\u001b[K$<3>\n",
      "\u001b[1B:   $<3>\u001b[K$<3>\n",
      "\u001b[1B:   $<3>\u001b[K$<3>\n",
      "\u001b[1B:   $<3>\u001b[K$<3>\n",
      "\u001b[1B:   $<3>\u001b[K$<3>\n",
      "\u001b[1B:   $<3>\u001b[K$<3>\n",
      "\u001b[1B:   $<3>\u001b[K$<3>\n",
      "\u001b[1B:   $<3>\u001b[K$<3>\n",
      "\u001b[1B5:   <3>\u001b[K$<3>\n",
      "\u001b[1B5:   <3>\u001b[K$<3>\n",
      "\u001b[1B5:   <3>\u001b[K$<3>\n",
      "\u001b[1B5:   <3>\u001b[K$<3>\n",
      "\u001b[1B5:   <3>\u001b[K$<3>\n",
      "\u001b[16Bll progress: 15 out of 15 tasks \n",
      "\u001b[1Bfy: Service converged to verify that tasks are stable... "
     ]
    }
   ],
   "source": [
    "docker service scale --detach=false whoami=15"
   ]
  },
  {
   "cell_type": "code",
   "execution_count": 38,
   "metadata": {
    "slideshow": {
     "slide_type": "subslide"
    }
   },
   "outputs": [
    {
     "name": "stdout",
     "output_type": "stream",
     "text": [
      "ID                  NAME                MODE                REPLICAS            IMAGE                              PORTS\n",
      "ulooqfaxi2eu        monitor             global              5/5                 stefanscherer/monitor:1.1.0        \n",
      "wx8tak0n9j6x        visualizer          replicated          1/1                 alexellis2/visualizer-arm:latest   *:8000->8080/tcp\n",
      "vmse6aj34ipb        whoami              replicated          15/15               stefanscherer/whoami:1.1.0         \n"
     ]
    }
   ],
   "source": [
    "docker service ls"
   ]
  },
  {
   "cell_type": "code",
   "execution_count": 39,
   "metadata": {
    "slideshow": {
     "slide_type": "skip"
    }
   },
   "outputs": [
    {
     "name": "stdout",
     "output_type": "stream",
     "text": [
      "whoami\n",
      "\n",
      "\u001b[1Ball progress: 0 out of 15 tasks \n",
      "\u001b[1B:   $<3>\u001b[K$<3>\n",
      "\u001b[1B:   $<3>\u001b[K$<3>\n",
      "\u001b[1B:   $<3>\u001b[K$<3>\n",
      "\u001b[1B:   $<3>\u001b[K$<3>\n",
      "\u001b[1B:   $<3>\u001b[K$<3>\n",
      "\u001b[1B:   $<3>\u001b[K$<3>\n",
      "\u001b[1B:   $<3>\u001b[K$<3>\n",
      "\u001b[1B:   $<3>\u001b[K$<3>\n",
      "\u001b[1B:   $<3>\u001b[K$<3>\n",
      "\u001b[1B5:   <3>\u001b[K$<3>\n",
      "\u001b[1B5:   <3>\u001b[K$<3>\n",
      "\u001b[1B5:   <3>\u001b[K$<3>\n",
      "\u001b[1B5:   <3>\u001b[K$<3>\n",
      "\u001b[1B5:   <3>\u001b[K$<3>\n",
      "\u001b[16Bll progress: 15 out of 15 tasks \n",
      "\u001b[1Bfy: Service converged to verify that tasks are stable... "
     ]
    }
   ],
   "source": [
    "docker service update --update-parallelism 5 \\\n",
    "  --detach=false \\\n",
    "  --image stefanscherer/whoami:1.2.0 whoami"
   ]
  },
  {
   "cell_type": "code",
   "execution_count": 40,
   "metadata": {
    "slideshow": {
     "slide_type": "skip"
    }
   },
   "outputs": [
    {
     "name": "stdout",
     "output_type": "stream",
     "text": [
      "whoami\n",
      "\n",
      "\u001b[1Ball progress: 0 out of 15 tasks \n",
      "\u001b[1B:   $<3>\u001b[K$<3>\n",
      "\u001b[1B:   $<3>\u001b[K$<3>\n",
      "\u001b[1B:   $<3>\u001b[K$<3>\n",
      "\u001b[1B:   $<3>\u001b[K$<3>\n",
      "\u001b[1B:   $<3>\u001b[K$<3>\n",
      "\u001b[1B:   $<3>\u001b[K$<3>\n",
      "\u001b[1B:   $<3>\u001b[K$<3>\n",
      "\u001b[1B:   $<3>\u001b[K$<3>\n",
      "\u001b[1B:   $<3>\u001b[K$<3>\n",
      "\u001b[1B5:   <3>\u001b[K$<3>\n",
      "\u001b[1B5:   <3>\u001b[K$<3>\n",
      "\u001b[1B5:   <3>\u001b[K$<3>\n",
      "\u001b[1B5:   <3>\u001b[K$<3>\n",
      "\u001b[1B5:   <3>\u001b[K$<3>\n",
      "\u001b[16Bll progress: 15 out of 15 tasks \n",
      "\u001b[1Bfy: Service converged to verify that tasks are stable... "
     ]
    }
   ],
   "source": [
    "docker service update --update-parallelism 5 \\\n",
    "  --detach=false \\\n",
    "  --image stefanscherer/whoami:1.1.0 whoami"
   ]
  },
  {
   "cell_type": "code",
   "execution_count": 41,
   "metadata": {
    "slideshow": {
     "slide_type": "skip"
    }
   },
   "outputs": [
    {
     "name": "stdout",
     "output_type": "stream",
     "text": [
      "ID                  NAME                MODE                REPLICAS            IMAGE                              PORTS\n",
      "ulooqfaxi2eu        monitor             global              5/5                 stefanscherer/monitor:1.1.0        \n",
      "wx8tak0n9j6x        visualizer          replicated          1/1                 alexellis2/visualizer-arm:latest   *:8000->8080/tcp\n",
      "vmse6aj34ipb        whoami              replicated          15/15               stefanscherer/whoami:1.1.0         \n"
     ]
    }
   ],
   "source": [
    "docker service ls"
   ]
  },
  {
   "cell_type": "markdown",
   "metadata": {
    "slideshow": {
     "slide_type": "skip"
    }
   },
   "source": [
    "## Demomodus"
   ]
  },
  {
   "cell_type": "code",
   "execution_count": 42,
   "metadata": {
    "slideshow": {
     "slide_type": "skip"
    }
   },
   "outputs": [
    {
     "name": "stdout",
     "output_type": "stream",
     "text": [
      "whoami\n",
      "\n",
      "\u001b[1Ball progress: 0 out of 15 tasks \n",
      "\u001b[1B:   $<3>\u001b[K$<3>\n",
      "\u001b[1B:   $<3>\u001b[K$<3>\n",
      "\u001b[1B:   $<3>\u001b[K$<3>\n",
      "\u001b[1B:   $<3>\u001b[K$<3>\n",
      "\u001b[1B:   $<3>\u001b[K$<3>\n",
      "\u001b[1B:   $<3>\u001b[K$<3>\n",
      "\u001b[1B:   $<3>\u001b[K$<3>\n",
      "\u001b[1B:   $<3>\u001b[K$<3>\n",
      "\u001b[1B:   $<3>\u001b[K$<3>\n",
      "\u001b[1B5:   <3>\u001b[K$<3>\n",
      "\u001b[1B5:   <3>\u001b[K$<3>\n",
      "\u001b[1B5:   <3>\u001b[K$<3>\n",
      "\u001b[1B5:   <3>\u001b[K$<3>\n",
      "\u001b[1B5:   <3>\u001b[K$<3>\n",
      "\u001b[16Bll progress: 15 out of 15 tasks \n",
      "\u001b[1Bwhoami scaled to 1ged to verify that tasks are stable... \n",
      "\n",
      "\u001b[1Ball progress: 0 out of 1 tasks \n",
      "\u001b[2Ball progress: 1 out of 1 tasks  \n",
      "\u001b[1Bwhoamirvice converged to verify that tasks are stable... \n",
      "\n",
      "\u001b[1Ball progress: 0 out of 1 tasks \n",
      "\u001b[2Ball progress: 1 out of 1 tasks \n",
      "\u001b[1Bwhoami scaled to 15ed to verify that tasks are stable... \n",
      "\n",
      "\u001b[1Ball progress: 0 out of 15 tasks \n",
      "\u001b[1B:   $<3>\u001b[K$<3>\n",
      "\u001b[1B:   $<3>\u001b[K$<3>\n",
      "\u001b[1B:   $<3>\u001b[K$<3>\n",
      "\u001b[1B:   $<3>\u001b[K$<3>\n",
      "\u001b[1B:   $<3>\u001b[K$<3>\n",
      "\u001b[1B:   $<3>\u001b[K$<3>\n",
      "\u001b[1B:   $<3>\u001b[K$<3>\n",
      "\u001b[1B:   $<3>\u001b[K$<3>\n",
      "\u001b[1B:   $<3>\u001b[K$<3>\n",
      "\u001b[1B5:   <3>\u001b[K$<3>\n",
      "\u001b[1B5:   <3>\u001b[K$<3>\n",
      "\u001b[1B5:   <3>\u001b[K$<3>\n",
      "\u001b[1B5:   <3>\u001b[K$<3>\n",
      "\u001b[1B5:   <3>\u001b[K$<3>\n",
      "\u001b[16Bll progress: 15 out of 15 tasks \n",
      "\u001b[1Bwhoamirvice converged to verify that tasks are stable... \n",
      "\n",
      "\u001b[1Ball progress: 0 out of 15 tasks \n",
      "\u001b[1B:   $<3>\u001b[K$<3>\n",
      "\u001b[1B:   $<3>\u001b[K$<3>\n",
      "\u001b[1B:   $<3>\u001b[K$<3>\n",
      "\u001b[1B:   $<3>\u001b[K$<3>\n",
      "\u001b[1B:   $<3>\u001b[K$<3>\n",
      "\u001b[1B:   $<3>\u001b[K$<3>\n",
      "\u001b[1B:   $<3>\u001b[K$<3>\n",
      "\u001b[1B:   $<3>\u001b[K$<3>\n",
      "\u001b[1B:   $<3>\u001b[K$<3>\n",
      "\u001b[1B5:   <3>\u001b[K$<3>\n",
      "\u001b[1B5:   <3>\u001b[K$<3>\n",
      "\u001b[1B5:   <3>\u001b[K$<3>\n",
      "\u001b[1B5:   <3>\u001b[K$<3>\n",
      "\u001b[1B5:   <3>\u001b[K$<3>\n",
      "\u001b[16Bll progress: 15 out of 15 tasks \n",
      "\u001b[1Bwhoamirvice converged to verify that tasks are stable... \n",
      "\n",
      "\u001b[1Ball progress: 0 out of 15 tasks \n",
      "\u001b[1B:   $<3>\u001b[K$<3>\n",
      "\u001b[1B:   $<3>\u001b[K$<3>\n",
      "\u001b[1B:   $<3>\u001b[K$<3>\n",
      "\u001b[1B:   $<3>\u001b[K$<3>\n",
      "\u001b[1B:   $<3>\u001b[K$<3>\n",
      "\u001b[1B:   $<3>\u001b[K$<3>\n",
      "\u001b[1B:   $<3>\u001b[K$<3>\n",
      "\u001b[1B:   $<3>\u001b[K$<3>\n",
      "\u001b[1B:   $<3>\u001b[K$<3>\n",
      "\u001b[1B5:   <3>\u001b[K$<3>\n",
      "\u001b[1B5:   <3>\u001b[K$<3>\n",
      "\u001b[1B5:   <3>\u001b[K$<3>\n",
      "\u001b[1B5:   <3>\u001b[K$<3>\n",
      "\u001b[1B5:   <3>\u001b[K$<3>\n",
      "\u001b[16Bll progress: 15 out of 15 tasks \n",
      "\u001b[1Bwhoami scaled to 40ed to verify that tasks are stable... \n",
      "\n",
      "\u001b[1Ball progress: 40 out of 40 tasks \n",
      "\u001b[1Bwhoamirvice converged to verify that tasks are stable... \n",
      "\n",
      "\u001b[1Ball progress: 40 out of 40 tasks \n",
      "\u001b[1Bwhoamirvice converged to verify that tasks are stable... \n",
      "\n",
      "\u001b[1Ball progress: 40 out of 40 tasks \n",
      "\u001b[1Bwhoamirvice converged to verify that tasks are stable... \n",
      "\n",
      "\u001b[1Ball progress: 40 out of 40 tasks \n",
      "\u001b[1Bwhoami scaled to 1ged to verify that tasks are stable... \n",
      "\n",
      "\u001b[1Ball progress: 0 out of 1 tasks \n",
      "\u001b[2Ball progress: 1 out of 1 tasks  \n",
      "\u001b[1Bwhoamirvice converged to verify that tasks are stable... \n",
      "\n",
      "\u001b[1Ball progress: 0 out of 1 tasks \n",
      "\u001b[2Ball progress: 1 out of 1 tasks \n",
      "\u001b[1Bwhoami scaled to 15ed to verify that tasks are stable... \n",
      "\n",
      "\u001b[1Ball progress: 0 out of 15 tasks \n",
      "\u001b[1B:   $<3>\u001b[K$<3>\n",
      "\u001b[1B:   $<3>\u001b[K$<3>\n",
      "\u001b[1B:   $<3>\u001b[K$<3>\n",
      "\u001b[1B:   $<3>\u001b[K$<3>\n",
      "\u001b[1B:   $<3>\u001b[K$<3>\n",
      "\u001b[1B:   $<3>\u001b[K$<3>\n",
      "\u001b[1B:   $<3>\u001b[K$<3>\n",
      "\u001b[1B:   $<3>\u001b[K$<3>\n",
      "\u001b[1B:   $<3>\u001b[K$<3>\n",
      "\u001b[1B5:   <3>\u001b[K$<3>\n",
      "\u001b[1B5:   <3>\u001b[K$<3>\n",
      "\u001b[1B5:   <3>\u001b[K$<3>\n",
      "\u001b[1B5:   <3>\u001b[K$<3>\n",
      "\u001b[1B5:   <3>\u001b[K$<3>\n",
      "\u001b[16Bll progress: 15 out of 15 tasks \n",
      "\u001b[1Bwhoamirvice converged to verify that tasks are stable... \n",
      "\n",
      "\u001b[1Ball progress: 0 out of 15 tasks \n",
      "\u001b[1B:   $<3>\u001b[K$<3>\n",
      "\u001b[1B:   $<3>\u001b[K$<3>\n",
      "\u001b[1B:   $<3>\u001b[K$<3>\n",
      "\u001b[1B:   $<3>\u001b[K$<3>\n",
      "\u001b[1B:   $<3>\u001b[K$<3>\n",
      "\u001b[1B:   $<3>\u001b[K$<3>\n",
      "\u001b[1B:   $<3>\u001b[K$<3>\n",
      "\u001b[1B:   $<3>\u001b[K$<3>\n",
      "\u001b[1B:   $<3>\u001b[K$<3>\n",
      "\u001b[1B5:   <3>\u001b[K$<3>\n",
      "\u001b[1B5:   <3>\u001b[K$<3>\n",
      "\u001b[1B5:   <3>\u001b[K$<3>\n",
      "\u001b[1B5:   <3>\u001b[K$<3>\n",
      "\u001b[1B5:   <3>\u001b[K$<3>\n",
      "\u001b[16Bll progress: 15 out of 15 tasks \n",
      "\u001b[1Bwhoamirvice converged to verify that tasks are stable... \n",
      "\n",
      "\u001b[1Ball progress: 0 out of 15 tasks \n",
      "\u001b[1B:   $<3>\u001b[K$<3>\n",
      "\u001b[1B:   $<3>\u001b[K$<3>\n",
      "\u001b[1B:   $<3>\u001b[K$<3>\n",
      "\u001b[1B:   $<3>\u001b[K$<3>\n",
      "\u001b[1B:   $<3>\u001b[K$<3>\n",
      "\u001b[1B:   $<3>\u001b[K$<3>\n",
      "\u001b[1B:   $<3>\u001b[K$<3>\n",
      "\u001b[1B:   $<3>\u001b[K$<3>\n",
      "\u001b[1B:   $<3>\u001b[K$<3>\n",
      "\u001b[1B5:   <3>\u001b[K$<3>\n",
      "\u001b[1B5:   <3>\u001b[K$<3>\n",
      "\u001b[1B5:   <3>\u001b[K$<3>\n",
      "\u001b[1B5:   <3>\u001b[K$<3>\n",
      "\u001b[1B5:   <3>\u001b[K$<3>\n",
      "\u001b[16Bll progress: 15 out of 15 tasks \n",
      "\u001b[1Bwhoami scaled to 40ed to verify that tasks are stable... \n",
      "\n",
      "\u001b[1Ball progress: 40 out of 40 tasks \n",
      "\u001b[1Bwhoamirvice converged to verify that tasks are stable... \n",
      "\n",
      "\u001b[1Ball progress: 40 out of 40 tasks \n",
      "\u001b[1Bwhoamirvice converged to verify that tasks are stable... \n",
      "\n",
      "\u001b[1Ball progress: 40 out of 40 tasks \n",
      "\u001b[1Bwhoamirvice converged to verify that tasks are stable... \n",
      "\n",
      "\u001b[1Ball progress: 40 out of 40 tasks \n",
      "\u001b[1Bwhoami scaled to 1ged to verify that tasks are stable... \n",
      "\n",
      "\u001b[1Ball progress: 0 out of 1 tasks \n",
      "\u001b[2Ball progress: 1 out of 1 tasks  \n",
      "\u001b[1Bwhoamirvice converged to verify that tasks are stable... \n",
      "\n",
      "\u001b[1Ball progress: 0 out of 1 tasks \n",
      "\u001b[2Ball progress: 1 out of 1 tasks \n",
      "\u001b[1Bwhoami scaled to 15ed to verify that tasks are stable... \n",
      "\n",
      "\u001b[1Ball progress: 0 out of 15 tasks \n",
      "\u001b[1B:   $<3>\u001b[K$<3>\n",
      "\u001b[1B:   $<3>\u001b[K$<3>\n",
      "\u001b[1B:   $<3>\u001b[K$<3>\n",
      "\u001b[1B:   $<3>\u001b[K$<3>\n",
      "\u001b[1B:   $<3>\u001b[K$<3>\n",
      "\u001b[1B:   $<3>\u001b[K$<3>\n",
      "\u001b[1B:   $<3>\u001b[K$<3>\n",
      "\u001b[1B:   $<3>\u001b[K$<3>\n",
      "\u001b[1B:   $<3>\u001b[K$<3>\n",
      "\u001b[1B5:   <3>\u001b[K$<3>\n",
      "\u001b[1B5:   <3>\u001b[K$<3>\n",
      "\u001b[1B5:   <3>\u001b[K$<3>\n",
      "\u001b[1B5:   <3>\u001b[K$<3>\n",
      "\u001b[1B5:   <3>\u001b[K$<3>\n",
      "\u001b[16Bll progress: 15 out of 15 tasks \n",
      "\u001b[1Bwhoamirvice converged to verify that tasks are stable... \n",
      "\n",
      "\u001b[1Ball progress: 0 out of 15 tasks \n",
      "\u001b[1B:   $<3>\u001b[K$<3>\n",
      "\u001b[1B:   $<3>\u001b[K$<3>\n",
      "\u001b[1B:   $<3>\u001b[K$<3>\n",
      "\u001b[1B:   $<3>\u001b[K$<3>\n",
      "\u001b[1B:   $<3>\u001b[K$<3>\n",
      "\u001b[1B:   $<3>\u001b[K$<3>\n",
      "\u001b[1B:   $<3>\u001b[K$<3>\n",
      "\u001b[1B:   $<3>\u001b[K$<3>\n",
      "\u001b[1B:   $<3>\u001b[K$<3>\n",
      "\u001b[1B5:   <3>\u001b[K$<3>\n",
      "\u001b[1B5:   <3>\u001b[K$<3>\n",
      "\u001b[1B5:   <3>\u001b[K$<3>\n",
      "\u001b[1B5:   <3>\u001b[K$<3>\n",
      "\u001b[1B5:   <3>\u001b[K$<3>\n",
      "\u001b[16Bll progress: 15 out of 15 tasks \n",
      "\u001b[1Bwhoamirvice converged to verify that tasks are stable... \n",
      "\n",
      "\u001b[1Ball progress: 0 out of 15 tasks \n",
      "\u001b[1B:   $<3>\u001b[K$<3>\n",
      "\u001b[1B:   $<3>\u001b[K$<3>\n",
      "\u001b[1B:   $<3>\u001b[K$<3>\n",
      "\u001b[1B:   $<3>\u001b[K$<3>\n",
      "\u001b[1B:   $<3>\u001b[K$<3>\n",
      "\u001b[1B:   $<3>\u001b[K$<3>\n",
      "\u001b[1B:   $<3>\u001b[K$<3>\n",
      "\u001b[1B:   $<3>\u001b[K$<3>\n",
      "\u001b[1B:   $<3>\u001b[K$<3>\n",
      "\u001b[1B5:   <3>\u001b[K$<3>\n",
      "\u001b[1B5:   <3>\u001b[K$<3>\n",
      "\u001b[1B5:   <3>\u001b[K$<3>\n",
      "\u001b[1B5:   <3>\u001b[K$<3>\n",
      "\u001b[1B5:   <3>\u001b[K$<3>\n",
      "\u001b[16Bll progress: 15 out of 15 tasks \n",
      "\u001b[1Bwhoami scaled to 40ed to verify that tasks are stable... \n",
      "\n",
      "\u001b[1Ball progress: 40 out of 40 tasks \n",
      "\u001b[1Bwhoamirvice converged to verify that tasks are stable... \n",
      "\n",
      "\u001b[1Ball progress: 40 out of 40 tasks \n",
      "\u001b[1Bwhoamirvice converged to verify that tasks are stable... \n",
      "\n",
      "\u001b[1Ball progress: 40 out of 40 tasks \n",
      "\u001b[1Bwhoamirvice converged to verify that tasks are stable... \n",
      "\n",
      "\u001b[1Ball progress: 40 out of 40 tasks \n",
      "\u001b[1Bwhoami scaled to 1ged to verify that tasks are stable... \n",
      "\n",
      "\u001b[1Ball progress: 0 out of 1 tasks \n",
      "\u001b[2Ball progress: 1 out of 1 tasks  \n",
      "\u001b[1Bwhoamirvice converged to verify that tasks are stable... \n",
      "\n",
      "\u001b[1Ball progress: 0 out of 1 tasks \n",
      "\u001b[2Ball progress: 1 out of 1 tasks \n",
      "\u001b[1Bwhoami scaled to 15ed to verify that tasks are stable... \n",
      "\n",
      "\u001b[1Ball progress: 0 out of 15 tasks \n",
      "\u001b[1B:   $<3>\u001b[K$<3>\n",
      "\u001b[1B:   $<3>\u001b[K$<3>\n",
      "\u001b[1B:   $<3>\u001b[K$<3>\n",
      "\u001b[1B:   $<3>\u001b[K$<3>\n",
      "\u001b[1B:   $<3>\u001b[K$<3>\n",
      "\u001b[1B:   $<3>\u001b[K$<3>\n",
      "\u001b[1B:   $<3>\u001b[K$<3>\n",
      "\u001b[1B:   $<3>\u001b[K$<3>\n",
      "\u001b[1B:   $<3>\u001b[K$<3>\n",
      "\u001b[1B5:   <3>\u001b[K$<3>\n",
      "\u001b[1B5:   <3>\u001b[K$<3>\n",
      "\u001b[1B5:   <3>\u001b[K$<3>\n",
      "\u001b[1B5:   <3>\u001b[K$<3>\n",
      "\u001b[1B5:   <3>\u001b[K$<3>\n",
      "\u001b[16Bll progress: 15 out of 15 tasks \n",
      "\u001b[1Bwhoamirvice converged to verify that tasks are stable... \n",
      "\n",
      "\u001b[1Ball progress: 0 out of 15 tasks \n",
      "\u001b[1B:   $<3>\u001b[K$<3>\n",
      "\u001b[1B:   $<3>\u001b[K$<3>\n",
      "\u001b[1B:   $<3>\u001b[K$<3>\n",
      "\u001b[1B:   $<3>\u001b[K$<3>\n",
      "\u001b[1B:   $<3>\u001b[K$<3>\n",
      "\u001b[1B:   $<3>\u001b[K$<3>\n",
      "\u001b[1B:   $<3>\u001b[K$<3>\n",
      "\u001b[1B:   $<3>\u001b[K$<3>\n",
      "\u001b[1B:   $<3>\u001b[K$<3>\n",
      "\u001b[1B5:   <3>\u001b[K$<3>\n",
      "\u001b[1B5:   <3>\u001b[K$<3>\n",
      "\u001b[1B5:   <3>\u001b[K$<3>\n",
      "\u001b[1B5:   <3>\u001b[K$<3>\n",
      "\u001b[1B5:   <3>\u001b[K$<3>\n",
      "\u001b[16Bll progress: 15 out of 15 tasks \n",
      "\u001b[1Bwhoamirvice converged to verify that tasks are stable... \n",
      "\n",
      "\u001b[1Ball progress: 0 out of 15 tasks \n",
      "\u001b[1B:   $<3>\u001b[K$<3>\n",
      "\u001b[1B:   $<3>\u001b[K$<3>\n",
      "\u001b[1B:   $<3>\u001b[K$<3>\n",
      "\u001b[1B:   $<3>\u001b[K$<3>\n",
      "\u001b[1B:   $<3>\u001b[K$<3>\n",
      "\u001b[1B:   $<3>\u001b[K$<3>\n",
      "\u001b[1B:   $<3>\u001b[K$<3>\n",
      "\u001b[1B:   $<3>\u001b[K$<3>\n",
      "\u001b[1B:   $<3>\u001b[K$<3>\n",
      "\u001b[1B5:   <3>\u001b[K$<3>\n",
      "\u001b[1B5:   <3>\u001b[K$<3>\n",
      "\u001b[1B5:   <3>\u001b[K$<3>\n",
      "\u001b[1B5:   <3>\u001b[K$<3>\n",
      "\u001b[1B5:   <3>\u001b[K$<3>\n",
      "\u001b[16Bll progress: 15 out of 15 tasks \n",
      "\u001b[1Bwhoami scaled to 40ed to verify that tasks are stable... \n",
      "\n",
      "\u001b[1Ball progress: 40 out of 40 tasks \n",
      "\u001b[1Bwhoamirvice converged to verify that tasks are stable... \n",
      "\n",
      "\u001b[1Ball progress: 40 out of 40 tasks \n",
      "\u001b[1Bwhoamirvice converged to verify that tasks are stable... \n",
      "\n",
      "\u001b[1Ball progress: 40 out of 40 tasks \n",
      "\u001b[1Bwhoamirvice converged to verify that tasks are stable... \n",
      "\n",
      "\u001b[1Ball progress: 40 out of 40 tasks \n",
      "\u001b[1Bwhoami scaled to 1ged to verify that tasks are stable... \n",
      "\n",
      "\u001b[1Ball progress: 0 out of 1 tasks \n",
      "\u001b[2Ball progress: 1 out of 1 tasks  \n"
     ]
    },
    {
     "name": "stdout",
     "output_type": "stream",
     "text": [
      "\u001b[1Bwhoamirvice converged to verify that tasks are stable... \n",
      "\n",
      "\u001b[1Ball progress: 0 out of 1 tasks \n",
      "\u001b[2Ball progress: 1 out of 1 tasks \n",
      "\u001b[1Bwhoami scaled to 15ed to verify that tasks are stable... \n",
      "\n",
      "\u001b[1Ball progress: 0 out of 15 tasks \n",
      "\u001b[1B:   $<3>\u001b[K$<3>\n",
      "\u001b[1B:   $<3>\u001b[K$<3>\n",
      "\u001b[1B:   $<3>\u001b[K$<3>\n",
      "\u001b[1B:   $<3>\u001b[K$<3>\n",
      "\u001b[1B:   $<3>\u001b[K$<3>\n",
      "\u001b[1B:   $<3>\u001b[K$<3>\n",
      "\u001b[1B:   $<3>\u001b[K$<3>\n",
      "\u001b[1B:   $<3>\u001b[K$<3>\n",
      "\u001b[1B:   $<3>\u001b[K$<3>\n",
      "\u001b[1B5:   <3>\u001b[K$<3>\n",
      "\u001b[1B5:   <3>\u001b[K$<3>\n",
      "\u001b[1B5:   <3>\u001b[K$<3>\n",
      "\u001b[1B5:   <3>\u001b[K$<3>\n",
      "\u001b[1B5:   <3>\u001b[K$<3>\n",
      "\u001b[16Bll progress: 15 out of 15 tasks \n",
      "\u001b[1Bwhoamirvice converged to verify that tasks are stable... \n",
      "\n",
      "\u001b[1Ball progress: 0 out of 15 tasks \n",
      "\u001b[1B:   $<3>\u001b[K$<3>\n",
      "\u001b[1B:   $<3>\u001b[K$<3>\n",
      "\u001b[1B:   $<3>\u001b[K$<3>\n",
      "\u001b[1B:   $<3>\u001b[K$<3>\n",
      "\u001b[1B:   $<3>\u001b[K$<3>\n",
      "\u001b[1B:   $<3>\u001b[K$<3>\n",
      "\u001b[1B:   $<3>\u001b[K$<3>\n",
      "\u001b[1B:   $<3>\u001b[K$<3>\n",
      "\u001b[1B:   $<3>\u001b[K$<3>\n",
      "\u001b[1B5:   <3>\u001b[K$<3>\n",
      "\u001b[1B5:   <3>\u001b[K$<3>\n",
      "\u001b[1B5:   <3>\u001b[K$<3>\n",
      "\u001b[1B5:   <3>\u001b[K$<3>\n",
      "\u001b[1B5:   <3>\u001b[K$<3>\n",
      "\u001b[16Bll progress: 15 out of 15 tasks \n",
      "\u001b[1Bwhoamirvice converged to verify that tasks are stable... \n",
      "\n",
      "\u001b[1Ball progress: 0 out of 15 tasks \n",
      "\u001b[1B:   $<3>\u001b[K$<3>\n",
      "\u001b[1B:   $<3>\u001b[K$<3>\n",
      "\u001b[1B:   $<3>\u001b[K$<3>\n",
      "\u001b[1B:   $<3>\u001b[K$<3>\n",
      "\u001b[1B:   $<3>\u001b[K$<3>\n",
      "\u001b[1B:   $<3>\u001b[K$<3>\n",
      "\u001b[1B:   $<3>\u001b[K$<3>\n",
      "\u001b[1B:   $<3>\u001b[K$<3>\n",
      "\u001b[1B:   $<3>\u001b[K$<3>\n",
      "\u001b[1B5:   <3>\u001b[K$<3>\n",
      "\u001b[1B5:   <3>\u001b[K$<3>\n",
      "\u001b[1B5:   <3>\u001b[K$<3>\n",
      "\u001b[1B5:   <3>\u001b[K$<3>\n",
      "\u001b[1B5:   <3>\u001b[K$<3>\n",
      "\u001b[16Bll progress: 15 out of 15 tasks \n",
      "\u001b[1Bwhoami scaled to 40ed to verify that tasks are stable... \n",
      "\n",
      "\u001b[1Ball progress: 40 out of 40 tasks \n",
      "\u001b[1Bwhoamirvice converged to verify that tasks are stable... \n",
      "\n",
      "\u001b[1Ball progress: 40 out of 40 tasks \n",
      "\u001b[1Bwhoamirvice converged to verify that tasks are stable... \n",
      "\n",
      "\u001b[1Ball progress: 40 out of 40 tasks \n",
      "\u001b[1Bfy: Service converged to verify that tasks are stable... "
     ]
    }
   ],
   "source": [
    "END=1\n",
    "for i in $(seq 1 $END); do\n",
    "    docker service update --update-parallelism 5 \\\n",
    "        --detach=false \\\n",
    "        --image stefanscherer/whoami:1.1.0 whoami --detach=false\n",
    "    docker service scale --detach=false whoami=1 \n",
    "    docker service update --update-parallelism 5 \\\n",
    "        --detach=false \\\n",
    "        --image stefanscherer/whoami:1.2.0 whoami --detach=false\n",
    "    sleep 5\n",
    "    docker service scale --detach=false whoami=15\n",
    "    docker service update --update-parallelism 5 \\\n",
    "        --detach=false \\\n",
    "        --image stefanscherer/whoami:1.1.0 whoami --detach=false\n",
    "    sleep 5\n",
    "    docker service update --update-parallelism 5 \\\n",
    "        --detach=false \\\n",
    "        --image stefanscherer/whoami:1.2.0 whoami --detach=false\n",
    "    sleep 5\n",
    "    docker service scale --detach=false whoami=40\n",
    "    sleep 5\n",
    "    docker service update --update-parallelism 5 \\\n",
    "        --detach=false \\\n",
    "        --image stefanscherer/whoami:1.1.0 whoami --detach=false\n",
    "    sleep 5\n",
    "    docker service update --update-parallelism 5 \\\n",
    "        --detach=false \\\n",
    "        --image stefanscherer/whoami:1.2.0 whoami --detach=false\n",
    "    sleep 5\n",
    "done"
   ]
  },
  {
   "cell_type": "markdown",
   "metadata": {
    "slideshow": {
     "slide_type": "slide"
    }
   },
   "source": [
    "# Aufräumen"
   ]
  },
  {
   "cell_type": "code",
   "execution_count": 43,
   "metadata": {
    "slideshow": {
     "slide_type": "subslide"
    }
   },
   "outputs": [
    {
     "name": "stdout",
     "output_type": "stream",
     "text": [
      "whoami\n"
     ]
    }
   ],
   "source": [
    "docker service rm whoami"
   ]
  },
  {
   "cell_type": "code",
   "execution_count": 46,
   "metadata": {
    "slideshow": {
     "slide_type": "subslide"
    }
   },
   "outputs": [
    {
     "name": "stdout",
     "output_type": "stream",
     "text": [
      "ID                  NAME                MODE                REPLICAS            IMAGE                              PORTS\n",
      "wx8tak0n9j6x        visualizer          replicated          1/1                 alexellis2/visualizer-arm:latest   *:8000->8080/tcp\n"
     ]
    }
   ],
   "source": [
    "docker service ls"
   ]
  },
  {
   "cell_type": "code",
   "execution_count": 45,
   "metadata": {
    "slideshow": {
     "slide_type": "subslide"
    }
   },
   "outputs": [
    {
     "name": "stdout",
     "output_type": "stream",
     "text": [
      "monitor\n"
     ]
    }
   ],
   "source": [
    "docker service rm monitor"
   ]
  },
  {
   "cell_type": "code",
   "execution_count": 47,
   "metadata": {
    "slideshow": {
     "slide_type": "subslide"
    }
   },
   "outputs": [
    {
     "name": "stdout",
     "output_type": "stream",
     "text": [
      "ID                  NAME                MODE                REPLICAS            IMAGE                              PORTS\n",
      "wx8tak0n9j6x        visualizer          replicated          1/1                 alexellis2/visualizer-arm:latest   *:8000->8080/tcp\n"
     ]
    }
   ],
   "source": [
    "docker service ls"
   ]
  },
  {
   "cell_type": "code",
   "execution_count": 48,
   "metadata": {
    "slideshow": {
     "slide_type": "subslide"
    }
   },
   "outputs": [
    {
     "name": "stdout",
     "output_type": "stream",
     "text": [
      "ID                            HOSTNAME            STATUS              AVAILABILITY        MANAGER STATUS\n",
      "rx284usn4d3b2c2xif451af2q *   cluster-00          Ready               Active              Reachable\n",
      "lxpvb7dr0hwk0nj96va4wo6ny     cluster-01          Ready               Active              \n",
      "6l33eyp0sgsa4t6jlabdtfadf     cluster-02          Ready               Active              Leader\n",
      "vafxcqkmo3973p6cye7oaubhi     cluster-03          Ready               Active              \n",
      "wclq49biuqsgjql5dryawms5s     cluster-04          Ready               Active              Reachable\n"
     ]
    }
   ],
   "source": [
    "docker node ls"
   ]
  },
  {
   "cell_type": "code",
   "execution_count": 49,
   "metadata": {
    "slideshow": {
     "slide_type": "subslide"
    }
   },
   "outputs": [
    {
     "name": "stdout",
     "output_type": "stream",
     "text": [
      "visualizer\n"
     ]
    }
   ],
   "source": [
    "docker service rm visualizer"
   ]
  },
  {
   "cell_type": "code",
   "execution_count": 50,
   "metadata": {
    "slideshow": {
     "slide_type": "subslide"
    }
   },
   "outputs": [
    {
     "name": "stdout",
     "output_type": "stream",
     "text": [
      "ID                  NAME                MODE                REPLICAS            IMAGE               PORTS\n"
     ]
    }
   ],
   "source": [
    "docker service ls"
   ]
  },
  {
   "cell_type": "code",
   "execution_count": 51,
   "metadata": {
    "slideshow": {
     "slide_type": "subslide"
    }
   },
   "outputs": [
    {
     "name": "stdout",
     "output_type": "stream",
     "text": [
      "Node left the swarm.\n",
      "Node left the swarm.\n",
      "Node left the swarm.\n",
      "Error response from daemon: context deadline exceeded\n",
      "Node left the swarm.\n"
     ]
    }
   ],
   "source": [
    "for i in 01 02 03 04 00; do\n",
    "    ssh cluster-${i}.local \"docker swarm leave --force\"\n",
    "done"
   ]
  },
  {
   "cell_type": "code",
   "execution_count": 52,
   "metadata": {
    "slideshow": {
     "slide_type": "skip"
    }
   },
   "outputs": [
    {
     "name": "stdout",
     "output_type": "stream",
     "text": [
      "Error response from daemon: This node is not a swarm manager. Use \"docker swarm init\" or \"docker swarm join\" to connect this node to swarm and try again.\n"
     ]
    },
    {
     "ename": "",
     "evalue": "1",
     "output_type": "error",
     "traceback": []
    }
   ],
   "source": [
    "docker node ls"
   ]
  },
  {
   "cell_type": "code",
   "execution_count": 53,
   "metadata": {
    "slideshow": {
     "slide_type": "skip"
    }
   },
   "outputs": [
    {
     "name": "stdout",
     "output_type": "stream",
     "text": [
      "Error response from daemon: This node is not part of a swarm\n"
     ]
    },
    {
     "ename": "",
     "evalue": "1",
     "output_type": "error",
     "traceback": []
    }
   ],
   "source": [
    "docker swarm leave --force"
   ]
  },
  {
   "cell_type": "markdown",
   "metadata": {
    "slideshow": {
     "slide_type": "skip"
    }
   },
   "source": [
    "# Reboot Cluster"
   ]
  },
  {
   "cell_type": "code",
   "execution_count": null,
   "metadata": {
    "slideshow": {
     "slide_type": "skip"
    }
   },
   "outputs": [],
   "source": [
    "for i in 01 02 03 04 00; do\n",
    "    ssh cluster-${i}.local \"sudo reboot &\"\n",
    "done"
   ]
  }
 ],
 "metadata": {
  "celltoolbar": "Slideshow",
  "kernelspec": {
   "display_name": "Bash",
   "language": "bash",
   "name": "bash"
  },
  "language_info": {
   "codemirror_mode": "shell",
   "file_extension": ".sh",
   "mimetype": "text/x-sh",
   "name": "bash"
  }
 },
 "nbformat": 4,
 "nbformat_minor": 2
}
