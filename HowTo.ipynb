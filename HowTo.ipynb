{
 "cells": [
  {
   "cell_type": "markdown",
   "metadata": {},
   "source": [
    "# How To's\n",
    "\n",
    "Slides auf http://172.24.1.1/Pi-Docker-Swarm.slides.html"
   ]
  },
  {
   "cell_type": "markdown",
   "metadata": {},
   "source": [
    "## Erstellen der Slides"
   ]
  },
  {
   "cell_type": "code",
   "execution_count": 3,
   "metadata": {},
   "outputs": [
    {
     "name": "stdout",
     "output_type": "stream",
     "text": [
      "[NbConvertApp] Converting notebook Pi-Docker-Swarm.ipynb to slides\n",
      "[NbConvertApp] Writing 315530 bytes to Pi-Docker-Swarm.slides.html\n"
     ]
    }
   ],
   "source": [
    "jupyter nbconvert Pi-Docker-Swarm.ipynb --to slides"
   ]
  },
  {
   "cell_type": "markdown",
   "metadata": {},
   "source": [
    "git clone https://github.com/kraeml/pi-cluster.git"
   ]
  },
  {
   "cell_type": "code",
   "execution_count": 1,
   "metadata": {},
   "outputs": [],
   "source": [
    "cd pi-cluster"
   ]
  },
  {
   "cell_type": "code",
   "execution_count": 2,
   "metadata": {},
   "outputs": [],
   "source": [
    "ls"
   ]
  },
  {
   "cell_type": "code",
   "execution_count": 3,
   "metadata": {},
   "outputs": [
    {
     "name": "stdout",
     "output_type": "stream",
     "text": [
      "* master\n",
      "  remotes/origin/HEAD -> origin/master\n",
      "  remotes/origin/develop\n",
      "  remotes/origin/fablab\n",
      "  remotes/origin/master\n"
     ]
    }
   ],
   "source": [
    "git branch -a"
   ]
  },
  {
   "cell_type": "code",
   "execution_count": 4,
   "metadata": {},
   "outputs": [
    {
     "name": "stdout",
     "output_type": "stream",
     "text": [
      "Branch develop konfiguriert zum Folgen von Remote-Branch develop von origin.\n",
      "Zu neuem Branch 'develop' gewechselt\n"
     ]
    }
   ],
   "source": [
    "git checkout develop"
   ]
  },
  {
   "cell_type": "code",
   "execution_count": 5,
   "metadata": {},
   "outputs": [
    {
     "name": "stdout",
     "output_type": "stream",
     "text": [
      "* develop\n",
      "  master\n",
      "  remotes/origin/HEAD -> origin/master\n",
      "  remotes/origin/develop\n",
      "  remotes/origin/fablab\n",
      "  remotes/origin/master\n"
     ]
    }
   ],
   "source": [
    "git branch -a"
   ]
  },
  {
   "cell_type": "code",
   "execution_count": 6,
   "metadata": {},
   "outputs": [
    {
     "name": "stdout",
     "output_type": "stream",
     "text": [
      "AVAHI.ipynb  Pi-Docker-Swarm.ipynb\n"
     ]
    }
   ],
   "source": [
    "ls"
   ]
  },
  {
   "cell_type": "code",
   "execution_count": null,
   "metadata": {},
   "outputs": [],
   "source": [
    "git config --global user.name \"kraeml\"\n",
    "git commit -am \"HowTo added\""
   ]
  },
  {
   "cell_type": "markdown",
   "metadata": {},
   "source": [
    "## Setup Docker\n",
    "\n",
    "Siehe auch: https://www.kuerbis.org/2017/07/docker-upgrade-immer-wieder-fuer-eine-ueberraschung-gut/"
   ]
  },
  {
   "cell_type": "code",
   "execution_count": 1,
   "metadata": {},
   "outputs": [
    {
     "name": "stdout",
     "output_type": "stream",
     "text": [
      "Client:\n",
      " Version:      17.09.0-ce\n",
      " API version:  1.32\n",
      " Go version:   go1.8.3\n",
      " Git commit:   afdb6d4\n",
      " Built:        Tue Sep 26 22:50:01 2017\n",
      " OS/Arch:      linux/arm\n",
      "\n",
      "Server:\n",
      " Version:      17.09.0-ce\n",
      " API version:  1.32 (minimum version 1.12)\n",
      " Go version:   go1.8.3\n",
      " Git commit:   afdb6d4\n",
      " Built:        Tue Sep 26 22:44:09 2017\n",
      " OS/Arch:      linux/arm\n",
      " Experimental: false\n"
     ]
    }
   ],
   "source": [
    "docker version"
   ]
  },
  {
   "cell_type": "code",
   "execution_count": 9,
   "metadata": {},
   "outputs": [
    {
     "name": "stdout",
     "output_type": "stream",
     "text": [
      "Paketlisten werden gelesen... Fertig\n",
      "Abhängigkeitsbaum wird aufgebaut.       \n",
      "Statusinformationen werden eingelesen.... Fertig\n",
      "Paket »docker« ist nicht installiert, wird also auch nicht entfernt.\n",
      "Paket »docker.io« ist nicht installiert, wird also auch nicht entfernt.\n",
      "Die folgenden Pakete wurden automatisch installiert und werden nicht mehr benötigt:\n",
      "  aufs-tools cgroupfs-mount iptables libnfnetlink0\n",
      "Verwenden Sie »apt-get autoremove«, um sie zu entfernen.\n",
      "Die folgenden Pakete werden ENTFERNT:\n",
      "  docker-engine\n",
      "0 aktualisiert, 0 neu installiert, 1 zu entfernen und 1 nicht aktualisiert.\n",
      "Nach dieser Operation werden 82,7 MB Plattenplatz freigegeben.\n",
      "(Lese Datenbank ... 95793 Dateien und Verzeichnisse sind derzeit installiert.)\n",
      "Entfernen von docker-engine (17.05.0~ce-0~raspbian-jessie) ...\n",
      "Trigger für man-db (2.7.5-1~bpo8+1) werden verarbeitet ...\n"
     ]
    }
   ],
   "source": [
    "sudo apt-get remove --yes docker docker-engine docker.io"
   ]
  },
  {
   "cell_type": "code",
   "execution_count": 10,
   "metadata": {},
   "outputs": [
    {
     "name": "stdout",
     "output_type": "stream",
     "text": [
      "deb [arch=armhf] https://download.docker.com/linux/debian jessie stable\n"
     ]
    }
   ],
   "source": [
    "echo \"deb [arch=armhf] https://download.docker.com/linux/debian $(lsb_release -cs) stable\" | \\\n",
    "sudo tee /etc/apt/sources.list.d/docker.list"
   ]
  },
  {
   "cell_type": "code",
   "execution_count": 12,
   "metadata": {},
   "outputs": [
    {
     "name": "stdout",
     "output_type": "stream",
     "text": [
      "OK\n"
     ]
    }
   ],
   "source": [
    "curl -fsSL https://download.docker.com/linux/debian/gpg | sudo apt-key add -"
   ]
  },
  {
   "cell_type": "code",
   "execution_count": 13,
   "metadata": {
    "scrolled": false
   },
   "outputs": [
    {
     "name": "stdout",
     "output_type": "stream",
     "text": [
      "OK   http://archive.raspberrypi.org jessie InRelease\n",
      "OK   http://archive.raspberrypi.org jessie/main armhf Packages\n",
      "OK   https://deb.nodesource.com jessie InRelease                               \u001b[0m\n",
      "Holen: 1 https://download.docker.com jessie InRelease [20,2 kB]                \u001b[0m\n",
      "OK   https://deb.nodesource.com jessie/main Sources                            \u001b[0m\u001b[33m\n",
      "OK   https://deb.nodesource.com jessie/main armhf Packages                     \u001b[0m\u001b[33m\n",
      "Holen: 2 https://deb.nodesource.com jessie/main Translation-de_DE [162 B]      \u001b[0m\u001b[33m\n",
      "Holen: 3 https://deb.nodesource.com jessie/main Translation-de [162 B]         \n",
      "Holen: 4 https://deb.nodesource.com jessie/main Translation-en [162 B]         \u001b[0m\n",
      "Holen: 5 https://deb.nodesource.com jessie/main Translation-de_DE [162 B]      \u001b[0m\n",
      "Holen: 6 https://deb.nodesource.com jessie/main Translation-de [162 B]         \u001b[0m\n",
      "Holen: 7 https://download.docker.com jessie/stable armhf Packages [2.536 B]    \u001b[0m\n",
      "Holen: 8 https://deb.nodesource.com jessie/main Translation-en [162 B]         \u001b[0m\u001b[33m\n",
      "Holen: 9 https://download.docker.com jessie/stable Translation-de_DE [587 B]   \u001b[0m\u001b[33m\n",
      "Holen: 10 https://deb.nodesource.com jessie/main Translation-de_DE [162 B]     \u001b[0m\n",
      "Holen: 11 https://deb.nodesource.com jessie/main Translation-de [162 B]        \u001b[0m\n",
      "Holen: 12 https://deb.nodesource.com jessie/main Translation-en [162 B]        \u001b[0m\n",
      "Holen: 13 https://deb.nodesource.com jessie/main Translation-de_DE [162 B]     \u001b[0m\n",
      "Holen: 14 https://deb.nodesource.com jessie/main Translation-de [162 B]        \u001b[0m\n",
      "Holen: 15 https://deb.nodesource.com jessie/main Translation-en [162 B]        \u001b[0m\n",
      "Holen: 16 https://download.docker.com jessie/stable Translation-de [584 B]     \u001b[0m\n",
      "Holen: 17 https://deb.nodesource.com jessie/main Translation-de_DE [162 B]     \n",
      "Ign https://deb.nodesource.com jessie/main Translation-de_DE\n",
      "Holen: 18 https://deb.nodesource.com jessie/main Translation-de [162 B]        \u001b[0m\n",
      "Ign https://deb.nodesource.com jessie/main Translation-de                      \n",
      "Holen: 19 https://deb.nodesource.com jessie/main Translation-en [162 B]        \u001b[0m\n",
      "Ign https://deb.nodesource.com jessie/main Translation-en                      \n",
      "Holen: 20 https://download.docker.com jessie/stable Translation-en [584 B]     \n",
      "Ign http://archive.raspberrypi.org jessie/main Translation-de_DE               \u001b[0m\n",
      "Ign http://archive.raspberrypi.org jessie/main Translation-de                  \n",
      "Holen: 21 https://download.docker.com jessie/stable Translation-de_DE [587 B]\n",
      "Ign http://archive.raspberrypi.org jessie/main Translation-en                  \u001b[0m\n",
      "Holen: 22 https://download.docker.com jessie/stable Translation-de [584 B]     \n",
      "Holen: 23 https://download.docker.com jessie/stable Translation-en [584 B]\n",
      "Holen: 24 https://download.docker.com jessie/stable Translation-de_DE [587 B]\n",
      "Holen: 25 https://download.docker.com jessie/stable Translation-de [584 B]\n",
      "Holen: 26 https://download.docker.com jessie/stable Translation-en [584 B]\n",
      "Holen: 27 https://download.docker.com jessie/stable Translation-de_DE [587 B]\n",
      "Holen: 28 https://download.docker.com jessie/stable Translation-de [584 B]\n",
      "Holen: 29 https://download.docker.com jessie/stable Translation-en [584 B]\n",
      "Holen: 30 https://download.docker.com jessie/stable Translation-de_DE [587 B]\n",
      "Ign https://download.docker.com jessie/stable Translation-de_DE     \u001b[0m\n",
      "Holen: 31 https://download.docker.com jessie/stable Translation-de [584 B]\n",
      "Ign https://download.docker.com jessie/stable Translation-de     \u001b[0m\n",
      "Holen: 32 https://download.docker.com jessie/stable Translation-en [584 B]\n",
      "Ign https://download.docker.com jessie/stable Translation-en \u001b[0m\n",
      "OK   http://mirrordirector.raspbian.org jessie InRelease     \n",
      "OK   http://mirrordirector.raspbian.org stretch InRelease                      \u001b[0m\u001b[33m\n",
      "OK   http://mirrordirector.raspbian.org jessie/main armhf Packages             \u001b[0m\u001b[33m\n",
      "OK   http://mirrordirector.raspbian.org jessie/contrib armhf Packages          \u001b[0m\u001b[33m\n",
      "OK   http://mirrordirector.raspbian.org jessie/non-free armhf Packages         \u001b[0m\n",
      "OK   http://mirrordirector.raspbian.org jessie/firmware armhf Packages         \u001b[0m\n",
      "OK   http://mirrordirector.raspbian.org stretch/main armhf Packages            \u001b[0m\u001b[33m\n",
      "OK   http://mirrordirector.raspbian.org stretch/contrib armhf Packages         \u001b[0m\n",
      "OK   http://mirrordirector.raspbian.org stretch/non-free armhf Packages        \u001b[0m\n",
      "OK   http://mirrordirector.raspbian.org stretch/rpi armhf Packages             \u001b[0m\n",
      "Ign http://mirrordirector.raspbian.org jessie/contrib Translation-de_DE        \u001b[0m\u001b[33m\n",
      "Ign http://mirrordirector.raspbian.org jessie/contrib Translation-de           \u001b[0m\n",
      "Ign http://mirrordirector.raspbian.org jessie/contrib Translation-en           \u001b[0m\n",
      "Ign http://mirrordirector.raspbian.org jessie/firmware Translation-de_DE       \n",
      "Ign http://mirrordirector.raspbian.org jessie/firmware Translation-de\n",
      "Ign http://mirrordirector.raspbian.org jessie/firmware Translation-en\n",
      "Ign http://mirrordirector.raspbian.org jessie/main Translation-de_DE\n",
      "Ign http://mirrordirector.raspbian.org jessie/main Translation-de\n",
      "Ign http://mirrordirector.raspbian.org jessie/main Translation-en\n",
      "Ign http://mirrordirector.raspbian.org jessie/non-free Translation-de_DE\n",
      "Ign http://mirrordirector.raspbian.org jessie/non-free Translation-de\n",
      "Ign http://mirrordirector.raspbian.org jessie/non-free Translation-en\n",
      "Ign http://mirrordirector.raspbian.org stretch/contrib Translation-de_DE\n",
      "Ign http://mirrordirector.raspbian.org stretch/contrib Translation-de\n",
      "Ign http://mirrordirector.raspbian.org stretch/contrib Translation-en\n",
      "Ign http://mirrordirector.raspbian.org stretch/main Translation-de_DE\n",
      "Ign http://mirrordirector.raspbian.org stretch/main Translation-de\n",
      "Ign http://mirrordirector.raspbian.org stretch/main Translation-en\n",
      "Ign http://mirrordirector.raspbian.org stretch/non-free Translation-de_DE\n",
      "Ign http://mirrordirector.raspbian.org stretch/non-free Translation-de\n",
      "Ign http://mirrordirector.raspbian.org stretch/non-free Translation-en\n",
      "Ign http://mirrordirector.raspbian.org stretch/rpi Translation-de_DE\n",
      "Ign http://mirrordirector.raspbian.org stretch/rpi Translation-de\n",
      "Ign http://mirrordirector.raspbian.org stretch/rpi Translation-en\n",
      "Es wurden 22,7 kB in 28 s geholt (792 B/s).                                    \u001b[0m\u001b[33m\n",
      "Paketlisten werden gelesen... Fertig\n",
      "Abhängigkeitsbaum wird aufgebaut.       \n",
      "Statusinformationen werden eingelesen.... Fertig\n",
      "Aktualisierung für 1 Paket verfügbar. Führen Sie »apt list --upgradable« aus, um es anzuzeigen.\n",
      "Paketlisten werden gelesen... Fertig\n",
      "Abhängigkeitsbaum wird aufgebaut.       \n",
      "Statusinformationen werden eingelesen.... Fertig\n",
      "Die folgenden NEUEN Pakete werden installiert:\n",
      "  docker-ce\n",
      "0 aktualisiert, 1 neu installiert, 0 zu entfernen und 1 nicht aktualisiert.\n",
      "Es müssen 18,6 MB an Archiven heruntergeladen werden.\n",
      "Nach dieser Operation werden 82,5 MB Plattenplatz zusätzlich benutzt.\n",
      "Holen: 1 https://download.docker.com/linux/debian/ jessie/stable docker-ce armhf 17.09.0~ce-0~debian [18,6 MB]\n",
      "Es wurden 18,6 MB in 12 s geholt (1.477 kB/s).                                 \u001b[0m\u001b[33m\n",
      "debconf: unable to initialize frontend: Dialog\n",
      "debconf: (Dialog frontend will not work on a dumb terminal, an emacs shell buffer, or without a controlling terminal.)\n",
      "debconf: falling back to frontend: Readline\n",
      "\n",
      "\u001b[s\u001b[0;23r\u001b[u\u001b[1AVormals nicht ausgewähltes Paket docker-ce wird gewählt.\n",
      "(Lese Datenbank ... 95590 Dateien und Verzeichnisse sind derzeit installiert.)\n",
      "Vorbereitung zum Entpacken von .../docker-ce_17.09.0~ce-0~debian_armhf.deb ...\n",
      "\u001b[s\u001b[24;0f\u001b[42m\u001b[30mFortschritt: [  0%]\u001b[49m\u001b[39m [.......................................................] \u001b[u\u001b[s\u001b[24;0f\u001b[42m\u001b[30mFortschritt: [ 16%]\u001b[49m\u001b[39m [##########.............................................] \u001b[uEntpacken von docker-ce (17.09.0~ce-0~debian) ...\n",
      "\u001b[s\u001b[24;0f\u001b[42m\u001b[30mFortschritt: [ 33%]\u001b[49m\u001b[39m [###################....................................] \u001b[u\u001b[s\u001b[24;0f\u001b[42m\u001b[30mFortschritt: [ 50%]\u001b[49m\u001b[39m [############################...........................] \u001b[uTrigger für systemd (215-17+deb8u7) werden verarbeitet ...\n",
      "Trigger für man-db (2.7.5-1~bpo8+1) werden verarbeitet ...\n",
      "docker-ce (17.09.0~ce-0~debian) wird eingerichtet ...\n"
     ]
    },
    {
     "name": "stdout",
     "output_type": "stream",
     "text": [
      "Neue Version der Konfigurationsdatei /etc/bash_completion.d/docker wird installiert ...\n",
      "\u001b[s\u001b[24;0f\u001b[42m\u001b[30mFortschritt: [ 66%]\u001b[49m\u001b[39m [#####################################..................] \u001b[u\u001b[s\u001b[24;0f\u001b[42m\u001b[30mFortschritt: [ 83%]\u001b[49m\u001b[39m [##############################################.........] \u001b[u\n",
      "\u001b[s\u001b[0;24r\u001b[u\u001b[1A\u001b[J"
     ]
    }
   ],
   "source": [
    "sudo apt update && sudo apt install docker-ce -y"
   ]
  },
  {
   "cell_type": "code",
   "execution_count": 14,
   "metadata": {},
   "outputs": [
    {
     "name": "stdout",
     "output_type": "stream",
     "text": [
      "Client:\n",
      " Version:      17.09.0-ce\n",
      " API version:  1.32\n",
      " Go version:   go1.8.3\n",
      " Git commit:   afdb6d4\n",
      " Built:        Tue Sep 26 22:50:01 2017\n",
      " OS/Arch:      linux/arm\n",
      "\n",
      "Server:\n",
      " Version:      17.09.0-ce\n",
      " API version:  1.32 (minimum version 1.12)\n",
      " Go version:   go1.8.3\n",
      " Git commit:   afdb6d4\n",
      " Built:        Tue Sep 26 22:44:09 2017\n",
      " OS/Arch:      linux/arm\n",
      " Experimental: false\n"
     ]
    }
   ],
   "source": [
    "docker version"
   ]
  },
  {
   "cell_type": "code",
   "execution_count": 15,
   "metadata": {},
   "outputs": [
    {
     "name": "stdout",
     "output_type": "stream",
     "text": [
      "\u001b[1;32m●\u001b[0m docker.service - Docker Application Container Engine\n",
      "   Loaded: loaded (/lib/systemd/system/docker.service; enabled)\n",
      "   Active: \u001b[1;32mactive (running)\u001b[0m since Di 2017-10-10 09:06:36 CEST; 1min 2s ago\n",
      "     Docs: https://docs.docker.com\n",
      " Main PID: 4929 (dockerd)\n",
      "   CGroup: /system.slice/docker.service\n",
      "           ├─4929 /usr/bin/dockerd -H fd://\n",
      "           └─4935 docker-containerd -l unix:///var/run/docker/libcontainerd/d...\n",
      "\n",
      "Okt 10 09:06:35 cluster-00 dockerd[4929]: time=\"2017-10-10T09:06:35.33634521...\"\n",
      "Okt 10 09:06:35 cluster-00 dockerd[4929]: time=\"2017-10-10T09:06:35.33793531...\"\n",
      "Okt 10 09:06:35 cluster-00 dockerd[4929]: time=\"2017-10-10T09:06:35.33956083...\"\n",
      "Okt 10 09:06:35 cluster-00 dockerd[4929]: time=\"2017-10-10T09:06:35.34244035...\"\n",
      "Okt 10 09:06:35 cluster-00 dockerd[4929]: time=\"2017-10-10T09:06:35.99574353...\"\n",
      "Okt 10 09:06:36 cluster-00 dockerd[4929]: time=\"2017-10-10T09:06:36.17695893...\"\n",
      "Okt 10 09:06:36 cluster-00 dockerd[4929]: time=\"2017-10-10T09:06:36.28121020...e\n",
      "Okt 10 09:06:36 cluster-00 dockerd[4929]: time=\"2017-10-10T09:06:36.28210025...\"\n",
      "Okt 10 09:06:36 cluster-00 dockerd[4929]: time=\"2017-10-10T09:06:36.43860849...\"\n",
      "Okt 10 09:06:36 cluster-00 systemd[1]: Started Docker Application Container...e.\n",
      "Hint: Some lines were ellipsized, use -l to show in full.\n"
     ]
    }
   ],
   "source": [
    "sudo systemctl status docker.service"
   ]
  },
  {
   "cell_type": "markdown",
   "metadata": {},
   "source": [
    "## Avahi"
   ]
  },
  {
   "cell_type": "code",
   "execution_count": 1,
   "metadata": {},
   "outputs": [
    {
     "name": "stdout",
     "output_type": "stream",
     "text": [
      "Paketlisten werden gelesen... Fertig\n",
      "Abhängigkeitsbaum wird aufgebaut.       \n",
      "Statusinformationen werden eingelesen.... Fertig\n",
      "Die folgenden zusätzlichen Pakete werden installiert:\n",
      "  bind9-host libavahi-core7 libbind9-90 libdaemon0 libdns100 libisc95\n",
      "  libisccc90 libisccfg90 liblwres90 libnss-mdns\n",
      "Vorgeschlagene Pakete:\n",
      "  avahi-autoipd\n",
      "Die folgenden NEUEN Pakete werden installiert:\n",
      "  avahi-daemon avahi-utils bind9-host libavahi-core7 libbind9-90 libdaemon0\n",
      "  libdns100 libisc95 libisccc90 libisccfg90 liblwres90 libnss-mdns\n",
      "0 aktualisiert, 12 neu installiert, 0 zu entfernen und 1 nicht aktualisiert.\n",
      "Es müssen 1.262 kB an Archiven heruntergeladen werden.\n",
      "Nach dieser Operation werden 3.286 kB Plattenplatz zusätzlich benutzt.\n",
      "Holen: 1 http://mirrordirector.raspbian.org/raspbian/ jessie/main libavahi-core7 armhf 0.6.31-5 [98,8 kB]\n",
      "Holen: 2 http://mirrordirector.raspbian.org/raspbian/ jessie/main libdaemon0 armhf 0.14-6 [15,7 kB]\n",
      "Holen: 3 http://mirrordirector.raspbian.org/raspbian/ jessie/main libisc95 armhf 1:9.9.5.dfsg-9+deb8u13 [149 kB]\n",
      "Holen: 4 http://mirrordirector.raspbian.org/raspbian/ jessie/main libdns100 armhf 1:9.9.5.dfsg-9+deb8u13 [601 kB]\n",
      "Holen: 5 http://mirrordirector.raspbian.org/raspbian/ jessie/main libisccc90 armhf 1:9.9.5.dfsg-9+deb8u13 [34,9 kB]\n",
      "Holen: 6 http://mirrordirector.raspbian.org/raspbian/ jessie/main libisccfg90 armhf 1:9.9.5.dfsg-9+deb8u13 [51,0 kB]\n",
      "Holen: 7 http://mirrordirector.raspbian.org/raspbian/ jessie/main libbind9-90 armhf 1:9.9.5.dfsg-9+deb8u13 [41,7 kB]\n",
      "Holen: 8 http://mirrordirector.raspbian.org/raspbian/ jessie/main liblwres90 armhf 1:9.9.5.dfsg-9+deb8u13 [48,3 kB]\n",
      "Holen: 9 http://mirrordirector.raspbian.org/raspbian/ jessie/main bind9-host armhf 1:9.9.5.dfsg-9+deb8u13 [66,1 kB]\n",
      "Holen: 10 http://mirrordirector.raspbian.org/raspbian/ jessie/main avahi-daemon armhf 0.6.31-5 [82,3 kB]\n",
      "Holen: 11 http://mirrordirector.raspbian.org/raspbian/ jessie/main libnss-mdns armhf 0.10-6 [22,2 kB]\n",
      "Holen: 12 http://mirrordirector.raspbian.org/raspbian/ jessie/main avahi-utils armhf 0.6.31-5 [50,9 kB]\n",
      "Es wurden 1.262 kB in 1 s geholt (734 kB/s).\n",
      "debconf: unable to initialize frontend: Dialog\n",
      "debconf: (Dialog frontend will not work on a dumb terminal, an emacs shell buffer, or without a controlling terminal.)\n",
      "debconf: falling back to frontend: Readline\n",
      "Vormals nicht ausgewähltes Paket libavahi-core7:armhf wird gewählt.\n",
      "(Lese Datenbank ... 95790 Dateien und Verzeichnisse sind derzeit installiert.)\n",
      "Vorbereitung zum Entpacken von .../libavahi-core7_0.6.31-5_armhf.deb ...\n",
      "Entpacken von libavahi-core7:armhf (0.6.31-5) ...\n",
      "Vormals nicht ausgewähltes Paket libdaemon0:armhf wird gewählt.\n",
      "Vorbereitung zum Entpacken von .../libdaemon0_0.14-6_armhf.deb ...\n",
      "Entpacken von libdaemon0:armhf (0.14-6) ...\n",
      "Vormals nicht ausgewähltes Paket libisc95 wird gewählt.\n",
      "Vorbereitung zum Entpacken von .../libisc95_1%3a9.9.5.dfsg-9+deb8u13_armhf.deb ...\n",
      "Entpacken von libisc95 (1:9.9.5.dfsg-9+deb8u13) ...\n",
      "Vormals nicht ausgewähltes Paket libdns100 wird gewählt.\n",
      "Vorbereitung zum Entpacken von .../libdns100_1%3a9.9.5.dfsg-9+deb8u13_armhf.deb ...\n",
      "Entpacken von libdns100 (1:9.9.5.dfsg-9+deb8u13) ...\n",
      "Vormals nicht ausgewähltes Paket libisccc90 wird gewählt.\n",
      "Vorbereitung zum Entpacken von .../libisccc90_1%3a9.9.5.dfsg-9+deb8u13_armhf.deb ...\n",
      "Entpacken von libisccc90 (1:9.9.5.dfsg-9+deb8u13) ...\n",
      "Vormals nicht ausgewähltes Paket libisccfg90 wird gewählt.\n",
      "Vorbereitung zum Entpacken von .../libisccfg90_1%3a9.9.5.dfsg-9+deb8u13_armhf.deb ...\n",
      "Entpacken von libisccfg90 (1:9.9.5.dfsg-9+deb8u13) ...\n",
      "Vormals nicht ausgewähltes Paket libbind9-90 wird gewählt.\n",
      "Vorbereitung zum Entpacken von .../libbind9-90_1%3a9.9.5.dfsg-9+deb8u13_armhf.deb ...\n",
      "Entpacken von libbind9-90 (1:9.9.5.dfsg-9+deb8u13) ...\n",
      "Vormals nicht ausgewähltes Paket liblwres90 wird gewählt.\n",
      "Vorbereitung zum Entpacken von .../liblwres90_1%3a9.9.5.dfsg-9+deb8u13_armhf.deb ...\n",
      "Entpacken von liblwres90 (1:9.9.5.dfsg-9+deb8u13) ...\n",
      "Vormals nicht ausgewähltes Paket bind9-host wird gewählt.\n",
      "Vorbereitung zum Entpacken von .../bind9-host_1%3a9.9.5.dfsg-9+deb8u13_armhf.deb ...\n",
      "Entpacken von bind9-host (1:9.9.5.dfsg-9+deb8u13) ...\n",
      "Vormals nicht ausgewähltes Paket avahi-daemon wird gewählt.\n",
      "Vorbereitung zum Entpacken von .../avahi-daemon_0.6.31-5_armhf.deb ...\n",
      "Entpacken von avahi-daemon (0.6.31-5) ...\n",
      "Vormals nicht ausgewähltes Paket libnss-mdns:armhf wird gewählt.\n",
      "Vorbereitung zum Entpacken von .../libnss-mdns_0.10-6_armhf.deb ...\n",
      "Entpacken von libnss-mdns:armhf (0.10-6) ...\n",
      "Vormals nicht ausgewähltes Paket avahi-utils wird gewählt.\n",
      "Vorbereitung zum Entpacken von .../avahi-utils_0.6.31-5_armhf.deb ...\n",
      "Entpacken von avahi-utils (0.6.31-5) ...\n",
      "Trigger für man-db (2.7.5-1~bpo8+1) werden verarbeitet ...\n",
      "Trigger für dbus (1.8.22-0+deb8u1) werden verarbeitet ...\n",
      "Trigger für systemd (215-17+deb8u7) werden verarbeitet ...\n",
      "libavahi-core7:armhf (0.6.31-5) wird eingerichtet ...\n",
      "libdaemon0:armhf (0.14-6) wird eingerichtet ...\n",
      "libisc95 (1:9.9.5.dfsg-9+deb8u13) wird eingerichtet ...\n",
      "libdns100 (1:9.9.5.dfsg-9+deb8u13) wird eingerichtet ...\n",
      "libisccc90 (1:9.9.5.dfsg-9+deb8u13) wird eingerichtet ...\n",
      "libisccfg90 (1:9.9.5.dfsg-9+deb8u13) wird eingerichtet ...\n",
      "libbind9-90 (1:9.9.5.dfsg-9+deb8u13) wird eingerichtet ...\n",
      "liblwres90 (1:9.9.5.dfsg-9+deb8u13) wird eingerichtet ...\n",
      "bind9-host (1:9.9.5.dfsg-9+deb8u13) wird eingerichtet ...\n",
      "avahi-daemon (0.6.31-5) wird eingerichtet ...\n",
      "libnss-mdns:armhf (0.10-6) wird eingerichtet ...\n",
      "First installation detected...\n",
      "Checking NSS setup...\n",
      "avahi-utils (0.6.31-5) wird eingerichtet ...\n",
      "Trigger für libc-bin (2.19-18+deb8u10) werden verarbeitet ...\n",
      "Trigger für dbus (1.8.22-0+deb8u1) werden verarbeitet ...\n",
      "Trigger für systemd (215-17+deb8u7) werden verarbeitet ...\n"
     ]
    }
   ],
   "source": [
    "sudo apt-get install --yes avahi-daemon avahi-utils"
   ]
  },
  {
   "cell_type": "markdown",
   "metadata": {},
   "source": [
    "## Acces Point\n",
    "\n",
    "https://www.elektronik-kompendium.de/sites/raspberry-pi/2002171.htm\n",
    "\n",
    "https://frillip.com/using-your-raspberry-pi-3-as-a-wifi-access-point-with-hostapd/"
   ]
  },
  {
   "cell_type": "code",
   "execution_count": 1,
   "metadata": {},
   "outputs": [
    {
     "name": "stdout",
     "output_type": "stream",
     "text": [
      "Paketlisten werden gelesen... Fertig\n",
      "Abhängigkeitsbaum wird aufgebaut.       \n",
      "Statusinformationen werden eingelesen.... Fertig\n",
      "hostapd ist schon die neueste Version.\n",
      "dnsmasq ist schon die neueste Version.\n",
      "0 aktualisiert, 0 neu installiert, 0 zu entfernen und 1 nicht aktualisiert.\n"
     ]
    }
   ],
   "source": [
    "sudo apt-get install --yes dnsmasq hostapd"
   ]
  },
  {
   "cell_type": "code",
   "execution_count": 2,
   "metadata": {},
   "outputs": [
    {
     "name": "stdout",
     "output_type": "stream",
     "text": [
      "allow-hotplug wlan0  \n",
      "iface wlan0 inet static  \n",
      "    address 172.24.1.1\n",
      "    netmask 255.255.255.0\n",
      "    network 172.24.1.0\n",
      "    broadcast 172.24.1.255\n",
      "#    wpa-conf /etc/wpa_supplicant/wpa_supplicant.conf\n",
      "\n"
     ]
    }
   ],
   "source": [
    "echo -e \"allow-hotplug wlan0  \n",
    "iface wlan0 inet static  \n",
    "    address 172.24.1.1\n",
    "    netmask 255.255.255.0\n",
    "    network 172.24.1.0\n",
    "    broadcast 172.24.1.255\n",
    "#    wpa-conf /etc/wpa_supplicant/wpa_supplicant.conf\n",
    "\" | sudo tee /etc/network/interfaces.d/wlan0"
   ]
  },
  {
   "cell_type": "code",
   "execution_count": 3,
   "metadata": {},
   "outputs": [],
   "source": [
    "sudo ifdown wlan0; sudo ifup wlan0"
   ]
  },
  {
   "cell_type": "code",
   "execution_count": 4,
   "metadata": {},
   "outputs": [
    {
     "name": "stdout",
     "output_type": "stream",
     "text": [
      "3: wlan0: <NO-CARRIER,BROADCAST,MULTICAST,UP> mtu 1500 qdisc pfifo_fast state DOWN group default qlen 1000\n",
      "    link/ether b8:27:eb:72:97:60 brd ff:ff:ff:ff:ff:ff\n",
      "    inet 172.24.1.1/24 brd 172.24.1.255 scope global wlan0\n",
      "       valid_lft forever preferred_lft forever\n"
     ]
    }
   ],
   "source": [
    "ip a s wlan0"
   ]
  },
  {
   "cell_type": "code",
   "execution_count": 5,
   "metadata": {},
   "outputs": [
    {
     "name": "stdout",
     "output_type": "stream",
     "text": [
      "2: eth0: <BROADCAST,MULTICAST,UP,LOWER_UP> mtu 1500 qdisc pfifo_fast state UP group default qlen 1000\n",
      "    link/ether b8:27:eb:27:c2:35 brd ff:ff:ff:ff:ff:ff\n",
      "    inet 192.168.200.10/24 brd 192.168.200.255 scope global eth0:1\n",
      "       valid_lft forever preferred_lft forever\n",
      "    inet 192.168.56.188/24 brd 192.168.56.255 scope global eth0\n",
      "       valid_lft forever preferred_lft forever\n",
      "    inet6 fd00::ba27:ebff:fe27:c235/64 scope global mngtmpaddr dynamic \n",
      "       valid_lft 7200sec preferred_lft 3600sec\n",
      "    inet6 fe80::ba27:ebff:fe27:c235/64 scope link \n",
      "       valid_lft forever preferred_lft forever\n"
     ]
    }
   ],
   "source": [
    "ip a s eth0"
   ]
  },
  {
   "cell_type": "code",
   "execution_count": 17,
   "metadata": {},
   "outputs": [
    {
     "name": "stdout",
     "output_type": "stream",
     "text": [
      "# This is the name of the WiFi interface we configured above\n",
      "interface=wlan0\n",
      "\n",
      "# Use the nl80211 driver with the brcmfmac driver\n",
      "driver=nl80211\n",
      "\n",
      "# This is the name of the network\n",
      "ssid=Pi3-AP\n",
      "\n",
      "# Use the 2.4GHz band\n",
      "hw_mode=g\n",
      "\n",
      "# Use channel 6\n",
      "channel=6\n",
      "\n",
      "# Enable 802.11n\n",
      "ieee80211n=1\n",
      "\n",
      "# Enable WMM\n",
      "wmm_enabled=1\n",
      "\n",
      "# Enable 40MHz channels with 20ns guard interval\n",
      "ht_capab=[HT40][SHORT-GI-20][DSSS_CCK-40]\n",
      "\n",
      "# Accept all MAC addresses\n",
      "macaddr_acl=0\n",
      "\n",
      "# Use WPA authentication\n",
      "auth_algs=1\n",
      "\n",
      "# Require clients to know the network name\n",
      "ignore_broadcast_ssid=0\n",
      "\n",
      "# Use WPA2\n",
      "wpa=2\n",
      "\n",
      "# Use a pre-shared key\n",
      "wpa_key_mgmt=WPA-PSK\n",
      "\n",
      "# The network passphrase\n",
      "wpa_passphrase=raspberry\n",
      "\n",
      "# Use AES, instead of TKIP\n",
      "rsn_pairwise=CCMP\n",
      "\n"
     ]
    }
   ],
   "source": [
    "echo -e \"# This is the name of the WiFi interface we configured above\n",
    "interface=wlan0\n",
    "\n",
    "# Use the nl80211 driver with the brcmfmac driver\n",
    "driver=nl80211\n",
    "\n",
    "# This is the name of the network\n",
    "ssid=Pi3-AP\n",
    "\n",
    "# Use the 2.4GHz band\n",
    "hw_mode=g\n",
    "\n",
    "# Use channel 6\n",
    "channel=6\n",
    "\n",
    "# Enable 802.11n\n",
    "ieee80211n=1\n",
    "\n",
    "# Enable WMM\n",
    "wmm_enabled=1\n",
    "\n",
    "# Enable 40MHz channels with 20ns guard interval\n",
    "ht_capab=[HT40][SHORT-GI-20][DSSS_CCK-40]\n",
    "\n",
    "# Accept all MAC addresses\n",
    "macaddr_acl=0\n",
    "\n",
    "# Use WPA authentication\n",
    "auth_algs=1\n",
    "\n",
    "# Require clients to know the network name\n",
    "ignore_broadcast_ssid=0\n",
    "\n",
    "# Use WPA2\n",
    "wpa=2\n",
    "\n",
    "# Use a pre-shared key\n",
    "wpa_key_mgmt=WPA-PSK\n",
    "\n",
    "# The network passphrase\n",
    "wpa_passphrase=raspberry\n",
    "\n",
    "# Use AES, instead of TKIP\n",
    "rsn_pairwise=CCMP\n",
    "\" | sudo tee /etc/hostapd/hostapd.conf"
   ]
  },
  {
   "cell_type": "code",
   "execution_count": null,
   "metadata": {},
   "outputs": [
    {
     "name": "stdout",
     "output_type": "stream",
     "text": [
      "Configuration file: /etc/hostapd/hostapd.conf\n",
      "Failed to create interface mon.wlan0: -95 (Operation not supported)\n",
      "wlan0: Could not connect to kernel driver\n",
      "Using interface wlan0 with hwaddr b8:27:eb:72:97:60 and ssid \"Pi3-AP\"\n",
      "wlan0: interface state UNINITIALIZED->ENABLED\n",
      "wlan0: AP-ENABLED \n",
      "wlan0: STA 60:36:dd:b3:ef:bb IEEE 802.11: associated\n",
      "wlan0: AP-STA-CONNECTED 60:36:dd:b3:ef:bb\n",
      "wlan0: STA 60:36:dd:b3:ef:bb RADIUS: starting accounting session 59DC8C97-00000000\n",
      "wlan0: STA 60:36:dd:b3:ef:bb WPA: pairwise key handshake completed (RSN)\n",
      "wlan0: STA 60:36:dd:b3:ef:bb IEEE 802.11: disassociated\n",
      "wlan0: AP-STA-DISCONNECTED 60:36:dd:b3:ef:bb\n",
      "wlan0: STA 60:36:dd:b3:ef:bb IEEE 802.11: disassociated\n"
     ]
    }
   ],
   "source": [
    "# sudo /usr/sbin/hostapd /etc/hostapd/hostapd.conf"
   ]
  },
  {
   "cell_type": "code",
   "execution_count": null,
   "metadata": {},
   "outputs": [],
   "source": [
    "sudo sed -i 's/#DAEMON_CONF=\"\"/DAEMON_CONF=\"\\/etc\\/hostapd\\/hostapd.conf\"/' /etc/default/hostapd"
   ]
  },
  {
   "cell_type": "code",
   "execution_count": 2,
   "metadata": {},
   "outputs": [
    {
     "name": "stdout",
     "output_type": "stream",
     "text": [
      "DAEMON_CONF=\"/etc/hostapd/hostapd.conf\"\n"
     ]
    }
   ],
   "source": [
    "grep -v ^# /etc/default/hostapd | grep -v ^$"
   ]
  },
  {
   "cell_type": "code",
   "execution_count": 3,
   "metadata": {},
   "outputs": [],
   "source": [
    "sudo mv /etc/dnsmasq.conf /etc/dnsmasq.conf.orig"
   ]
  },
  {
   "cell_type": "code",
   "execution_count": 4,
   "metadata": {},
   "outputs": [
    {
     "name": "stdout",
     "output_type": "stream",
     "text": [
      "interface=wlan0      # Use interface wlan0  \n",
      "listen-address=172.24.1.1 # Explicitly specify the address to listen on  \n",
      "bind-interfaces      # Bind to the interface to make sure we aren't sending things elsewhere  \n",
      "server=8.8.8.8       # Forward DNS requests to Google DNS  \n",
      "domain-needed        # Don't forward short names  \n",
      "bogus-priv           # Never forward addresses in the non-routed address spaces.  \n",
      "dhcp-range=172.24.1.50,172.24.1.150,12h # Assign IP addresses between 172.24.1.50 and 172.24.1.150 with a 12 hour lease time\n",
      "\n"
     ]
    }
   ],
   "source": [
    "echo -e \"interface=wlan0      # Use interface wlan0  \n",
    "listen-address=172.24.1.1 # Explicitly specify the address to listen on  \n",
    "bind-interfaces      # Bind to the interface to make sure we aren't sending things elsewhere  \n",
    "server=8.8.8.8       # Forward DNS requests to Google DNS  \n",
    "domain-needed        # Don't forward short names  \n",
    "bogus-priv           # Never forward addresses in the non-routed address spaces.  \n",
    "dhcp-range=172.24.1.50,172.24.1.150,12h # Assign IP addresses between 172.24.1.50 and 172.24.1.150 with a 12 hour lease time\n",
    "\" | sudo tee /etc/dnsmasq.conf"
   ]
  },
  {
   "cell_type": "code",
   "execution_count": 6,
   "metadata": {},
   "outputs": [],
   "source": [
    "sudo sed -i 's/^#net.ipv4.ip_forward=1/net.ipv4.ip_forward=1/' /etc/sysctl.conf"
   ]
  },
  {
   "cell_type": "code",
   "execution_count": 7,
   "metadata": {},
   "outputs": [
    {
     "name": "stdout",
     "output_type": "stream",
     "text": [
      "net.ipv4.ip_forward = 1\n"
     ]
    }
   ],
   "source": [
    "sudo sysctl -w net.ipv4.ip_forward=1 "
   ]
  },
  {
   "cell_type": "code",
   "execution_count": 9,
   "metadata": {},
   "outputs": [],
   "source": [
    "sudo iptables -t nat -A POSTROUTING -o eth0 -j MASQUERADE  \n",
    "sudo iptables -A FORWARD -i eth0 -o wlan0 -m state --state RELATED,ESTABLISHED -j ACCEPT"
   ]
  },
  {
   "cell_type": "code",
   "execution_count": 10,
   "metadata": {},
   "outputs": [],
   "source": [
    "sudo iptables -A FORWARD -i wlan0 -o eth0 -j ACCEPT"
   ]
  },
  {
   "cell_type": "code",
   "execution_count": 12,
   "metadata": {},
   "outputs": [
    {
     "name": "stdout",
     "output_type": "stream",
     "text": [
      "# Generated by iptables-save v1.4.21 on Tue Oct 10 11:27:59 2017\n",
      "*nat\n",
      ":PREROUTING ACCEPT [1:32]\n",
      ":INPUT ACCEPT [0:0]\n",
      ":OUTPUT ACCEPT [0:0]\n",
      ":POSTROUTING ACCEPT [0:0]\n",
      ":DOCKER - [0:0]\n",
      "-A PREROUTING -m addrtype --dst-type LOCAL -j DOCKER\n",
      "-A OUTPUT ! -d 127.0.0.0/8 -m addrtype --dst-type LOCAL -j DOCKER\n",
      "-A POSTROUTING -s 172.17.0.0/16 ! -o docker0 -j MASQUERADE\n",
      "-A POSTROUTING -s 172.18.0.0/16 ! -o docker_gwbridge -j MASQUERADE\n",
      "-A POSTROUTING -o eth0 -j MASQUERADE\n",
      "-A POSTROUTING -o eth0 -j MASQUERADE\n",
      "-A DOCKER -i docker0 -j RETURN\n",
      "-A DOCKER -i docker_gwbridge -j RETURN\n",
      "COMMIT\n",
      "# Completed on Tue Oct 10 11:27:59 2017\n",
      "# Generated by iptables-save v1.4.21 on Tue Oct 10 11:27:59 2017\n",
      "*filter\n",
      ":INPUT ACCEPT [51:14376]\n",
      ":FORWARD DROP [0:0]\n",
      ":OUTPUT ACCEPT [40:12804]\n",
      ":DOCKER - [0:0]\n",
      ":DOCKER-ISOLATION - [0:0]\n",
      ":DOCKER-USER - [0:0]\n",
      "-A FORWARD -j DOCKER-USER\n",
      "-A FORWARD -j DOCKER-ISOLATION\n",
      "-A FORWARD -o docker0 -m conntrack --ctstate RELATED,ESTABLISHED -j ACCEPT\n",
      "-A FORWARD -o docker0 -j DOCKER\n",
      "-A FORWARD -i docker0 ! -o docker0 -j ACCEPT\n",
      "-A FORWARD -i docker0 -o docker0 -j ACCEPT\n",
      "-A FORWARD -o docker_gwbridge -m conntrack --ctstate RELATED,ESTABLISHED -j ACCEPT\n",
      "-A FORWARD -o docker_gwbridge -j DOCKER\n",
      "-A FORWARD -i docker_gwbridge ! -o docker_gwbridge -j ACCEPT\n",
      "-A FORWARD -i docker_gwbridge -o docker_gwbridge -j DROP\n",
      "-A FORWARD -i eth0 -o wlan0 -m state --state RELATED,ESTABLISHED -j ACCEPT\n",
      "-A FORWARD -i wlan0 -o eth0 -j ACCEPT\n",
      "-A DOCKER-ISOLATION -i docker_gwbridge -o docker0 -j DROP\n",
      "-A DOCKER-ISOLATION -i docker0 -o docker_gwbridge -j DROP\n",
      "-A DOCKER-ISOLATION -j RETURN\n",
      "-A DOCKER-USER -j RETURN\n",
      "COMMIT\n",
      "# Completed on Tue Oct 10 11:27:59 2017\n"
     ]
    }
   ],
   "source": [
    "sudo iptables-save"
   ]
  },
  {
   "cell_type": "code",
   "execution_count": 13,
   "metadata": {},
   "outputs": [],
   "source": [
    "sudo service hostapd start  \n",
    "sudo service dnsmasq start"
   ]
  },
  {
   "cell_type": "code",
   "execution_count": 15,
   "metadata": {},
   "outputs": [
    {
     "name": "stdout",
     "output_type": "stream",
     "text": [
      "\u001b[1;32m●\u001b[0m hostapd.service - LSB: Advanced IEEE 802.11 management daemon\n",
      "   Loaded: loaded (/etc/init.d/hostapd)\n",
      "   Active: \u001b[1;32mactive (running)\u001b[0m since Di 2017-10-10 11:18:06 CEST; 13min ago\n",
      "  Process: 595 ExecStart=/etc/init.d/hostapd start (code=exited, status=0/SUCCESS)\n",
      "   CGroup: /system.slice/hostapd.service\n",
      "           └─730 /usr/sbin/hostapd -B -P /run/hostapd.pid /etc/hostapd/hostap...\n",
      "\n",
      "Okt 10 11:18:06 cluster-00 systemd[1]: Started LSB: Advanced IEEE 802.11 ma...n.\n",
      "Okt 10 11:29:05 cluster-00 systemd[1]: Started LSB: Advanced IEEE 802.11 ma...n.\n",
      "Okt 10 11:29:26 cluster-00 hostapd[730]: wlan0: STA 60:36:dd:b3:ef:bb IEEE 8...d\n",
      "Okt 10 11:29:26 cluster-00 hostapd[730]: wlan0: STA 60:36:dd:b3:ef:bb RADIUS...0\n",
      "Okt 10 11:29:26 cluster-00 hostapd[730]: wlan0: STA 60:36:dd:b3:ef:bb WPA: p...)\n",
      "Okt 10 11:30:11 cluster-00 hostapd[730]: wlan0: STA 60:36:dd:b3:ef:bb IEEE 8...d\n",
      "Okt 10 11:30:11 cluster-00 hostapd[730]: wlan0: STA 60:36:dd:b3:ef:bb IEEE 8...d\n",
      "Okt 10 11:30:40 cluster-00 hostapd[730]: wlan0: STA 60:36:dd:b3:ef:bb IEEE 8...d\n",
      "Okt 10 11:30:40 cluster-00 hostapd[730]: wlan0: STA 60:36:dd:b3:ef:bb RADIUS...1\n",
      "Okt 10 11:30:40 cluster-00 hostapd[730]: wlan0: STA 60:36:dd:b3:ef:bb WPA: p...)\n",
      "Hint: Some lines were ellipsized, use -l to show in full.\n",
      "\u001b[1;32m●\u001b[0m dnsmasq.service - dnsmasq - A lightweight DHCP and caching DNS server\n",
      "   Loaded: loaded (/lib/systemd/system/dnsmasq.service; enabled)\n",
      "  Drop-In: /run/systemd/generator/dnsmasq.service.d\n",
      "           └─50-dnsmasq-$named.conf, 50-insserv.conf-$named.conf\n",
      "   Active: \u001b[1;32mactive (running)\u001b[0m since Di 2017-10-10 11:18:06 CEST; 13min ago\n",
      "  Process: 801 ExecStartPost=/etc/init.d/dnsmasq systemd-start-resolvconf (code=exited, status=0/SUCCESS)\n",
      "  Process: 763 ExecStart=/etc/init.d/dnsmasq systemd-exec (code=exited, status=0/SUCCESS)\n",
      "  Process: 591 ExecStartPre=/usr/sbin/dnsmasq --test (code=exited, status=0/SUCCESS)\n",
      " Main PID: 800 (dnsmasq)\n",
      "   CGroup: /system.slice/dnsmasq.service\n",
      "           └─800 /usr/sbin/dnsmasq -x /run/dnsmasq/dnsmasq.pid -u dnsmasq -7 ...\n",
      "\n",
      "Okt 10 11:18:05 cluster-00 dnsmasq[591]: dnsmasq: Syntaxprüfung OK.\n",
      "Okt 10 11:18:06 cluster-00 dnsmasq[800]: gestartet, Version 2.76, Cachegröße 150\n",
      "Okt 10 11:18:06 cluster-00 dnsmasq[800]: Übersetzungsoptionen: IPv6 GNU-geto…ify\n",
      "Okt 10 11:18:06 cluster-00 dnsmasq[800]: DNS-Dienst auf lokale Subnetze eing…nkt\n",
      "Okt 10 11:18:06 cluster-00 dnsmasq[800]: lese /etc/resolv.conf\n",
      "Okt 10 11:18:06 cluster-00 dnsmasq[800]: Benutze Namensserver 192.168.56.47#53\n",
      "Okt 10 11:18:06 cluster-00 dnsmasq[800]: /etc/hosts gelesen - 7 Adressen\n",
      "Okt 10 11:18:06 cluster-00 systemd[1]: Started dnsmasq - A lightweight DHCP...r.\n",
      "Okt 10 11:29:05 cluster-00 systemd[1]: Started dnsmasq - A lightweight DHCP...r.\n",
      "Hint: Some lines were ellipsized, use -l to show in full.\n"
     ]
    }
   ],
   "source": [
    "sudo service hostapd status \n",
    "sudo service dnsmasq status"
   ]
  },
  {
   "cell_type": "code",
   "execution_count": 1,
   "metadata": {},
   "outputs": [
    {
     "name": "stdout",
     "output_type": "stream",
     "text": [
      "/home/pi/notebooks/pi-cluster\n"
     ]
    }
   ],
   "source": [
    "pwd"
   ]
  },
  {
   "cell_type": "markdown",
   "metadata": {},
   "source": [
    "# NTP als Server aufstellen"
   ]
  },
  {
   "cell_type": "code",
   "execution_count": 2,
   "metadata": {},
   "outputs": [
    {
     "name": "stdout",
     "output_type": "stream",
     "text": [
      "ntp:\n",
      "  Installiert:           1:4.2.6.p5+dfsg-7+deb8u2\n",
      "  Installationskandidat: 1:4.2.8p10+dfsg-3+deb9u1\n",
      "  Versionstabelle:\n",
      "     1:4.2.8p10+dfsg-3+deb9u1 0\n",
      "        500 http://mirrordirector.raspbian.org/raspbian/ stretch/main armhf Packages\n",
      " *** 1:4.2.6.p5+dfsg-7+deb8u2 0\n",
      "        500 http://mirrordirector.raspbian.org/raspbian/ jessie/main armhf Packages\n",
      "        100 /var/lib/dpkg/status\n",
      "E: Der Wert »jessie« ist für APT::Default-Release ungültig, da solch eine Veröffentlichung in den Paketquellen nicht verfügbar ist.\n"
     ]
    },
    {
     "ename": "",
     "evalue": "100",
     "output_type": "error",
     "traceback": []
    }
   ],
   "source": [
    "sudo apt-cache policy ntp"
   ]
  },
  {
   "cell_type": "code",
   "execution_count": 4,
   "metadata": {},
   "outputs": [
    {
     "name": "stdout",
     "output_type": "stream",
     "text": [
      "\u001b[1;32m●\u001b[0m ntp.service - LSB: Start NTP daemon\n",
      "   Loaded: loaded (/etc/init.d/ntp)\n",
      "   Active: \u001b[1;32mactive (running)\u001b[0m since Do 2017-11-23 05:36:01 CET; 9h ago\n",
      "  Process: 527 ExecStart=/etc/init.d/ntp start (code=exited, status=0/SUCCESS)\n",
      "   CGroup: /system.slice/ntp.service\n",
      "           └─650 /usr/sbin/ntpd -p /var/run/ntpd.pid -g -c /var/lib/ntp/ntp.c...\n",
      "\n",
      "Nov 23 05:36:42 cluster-00 ntpd[650]: Listen normally on 9 docker0 172.17.0...23\n",
      "Nov 23 05:36:42 cluster-00 ntpd[650]: Listen normally on 10 docker_gwbridge...23\n",
      "Nov 23 05:36:42 cluster-00 ntpd[650]: peers refreshed\n",
      "Nov 23 07:05:14 cluster-00 ntpd[650]: Listen normally on 11 docker_gwbridge...23\n",
      "Nov 23 07:05:14 cluster-00 ntpd[650]: Listen normally on 12 veth9042dc9 fe8...23\n",
      "Nov 23 07:05:14 cluster-00 ntpd[650]: peers refreshed\n",
      "Nov 23 14:29:36 cluster-00 ntpd[650]: Deleting interface #12 veth9042dc9, f...cs\n",
      "Nov 23 14:29:36 cluster-00 ntpd[650]: peers refreshed\n",
      "Nov 23 14:30:08 cluster-00 ntpd[650]: Listen normally on 13 vethb6c8e9f fe8...23\n",
      "Nov 23 14:30:08 cluster-00 ntpd[650]: peers refreshed\n",
      "Hint: Some lines were ellipsized, use -l to show in full.\n"
     ]
    }
   ],
   "source": [
    "sudo service ntp status "
   ]
  },
  {
   "cell_type": "code",
   "execution_count": null,
   "metadata": {},
   "outputs": [],
   "source": []
  }
 ],
 "metadata": {
  "kernelspec": {
   "display_name": "Bash",
   "language": "bash",
   "name": "bash"
  },
  "language_info": {
   "codemirror_mode": "shell",
   "file_extension": ".sh",
   "mimetype": "text/x-sh",
   "name": "bash"
  }
 },
 "nbformat": 4,
 "nbformat_minor": 2
}
