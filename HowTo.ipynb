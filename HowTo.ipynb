{
 "cells": [
  {
   "cell_type": "markdown",
   "metadata": {},
   "source": [
    "# How To's\n",
    "\n"
   ]
  },
  {
   "cell_type": "markdown",
   "metadata": {},
   "source": [
    "git clone https://github.com/kraeml/pi-cluster.git"
   ]
  },
  {
   "cell_type": "code",
   "execution_count": 1,
   "metadata": {},
   "outputs": [],
   "source": [
    "cd pi-cluster"
   ]
  },
  {
   "cell_type": "code",
   "execution_count": 2,
   "metadata": {},
   "outputs": [],
   "source": [
    "ls"
   ]
  },
  {
   "cell_type": "code",
   "execution_count": 3,
   "metadata": {},
   "outputs": [
    {
     "name": "stdout",
     "output_type": "stream",
     "text": [
      "* master\n",
      "  remotes/origin/HEAD -> origin/master\n",
      "  remotes/origin/develop\n",
      "  remotes/origin/fablab\n",
      "  remotes/origin/master\n"
     ]
    }
   ],
   "source": [
    "git branch -a"
   ]
  },
  {
   "cell_type": "code",
   "execution_count": 4,
   "metadata": {},
   "outputs": [
    {
     "name": "stdout",
     "output_type": "stream",
     "text": [
      "Branch develop konfiguriert zum Folgen von Remote-Branch develop von origin.\n",
      "Zu neuem Branch 'develop' gewechselt\n"
     ]
    }
   ],
   "source": [
    "git checkout develop"
   ]
  },
  {
   "cell_type": "code",
   "execution_count": 5,
   "metadata": {},
   "outputs": [
    {
     "name": "stdout",
     "output_type": "stream",
     "text": [
      "* develop\n",
      "  master\n",
      "  remotes/origin/HEAD -> origin/master\n",
      "  remotes/origin/develop\n",
      "  remotes/origin/fablab\n",
      "  remotes/origin/master\n"
     ]
    }
   ],
   "source": [
    "git branch -a"
   ]
  },
  {
   "cell_type": "code",
   "execution_count": 6,
   "metadata": {},
   "outputs": [
    {
     "name": "stdout",
     "output_type": "stream",
     "text": [
      "AVAHI.ipynb  Pi-Docker-Swarm.ipynb\n"
     ]
    }
   ],
   "source": [
    "ls"
   ]
  },
  {
   "cell_type": "markdown",
   "metadata": {},
   "source": [
    "## Setup Docker\n",
    "\n",
    "Siehe auch: https://www.kuerbis.org/2017/07/docker-upgrade-immer-wieder-fuer-eine-ueberraschung-gut/"
   ]
  },
  {
   "cell_type": "code",
   "execution_count": 7,
   "metadata": {},
   "outputs": [
    {
     "name": "stdout",
     "output_type": "stream",
     "text": [
      "Client:\n",
      " Version:      17.05.0-ce\n",
      " API version:  1.29\n",
      " Go version:   go1.7.5\n",
      " Git commit:   89658be\n",
      " Built:        Thu May  4 22:30:54 2017\n",
      " OS/Arch:      linux/arm\n",
      "\n",
      "Server:\n",
      " Version:      17.05.0-ce\n",
      " API version:  1.29 (minimum version 1.12)\n",
      " Go version:   go1.7.5\n",
      " Git commit:   89658be\n",
      " Built:        Thu May  4 22:30:54 2017\n",
      " OS/Arch:      linux/arm\n",
      " Experimental: false\n"
     ]
    }
   ],
   "source": [
    "docker version"
   ]
  },
  {
   "cell_type": "code",
   "execution_count": 9,
   "metadata": {},
   "outputs": [
    {
     "name": "stdout",
     "output_type": "stream",
     "text": [
      "Paketlisten werden gelesen... Fertig\n",
      "Abhängigkeitsbaum wird aufgebaut.       \n",
      "Statusinformationen werden eingelesen.... Fertig\n",
      "Paket »docker« ist nicht installiert, wird also auch nicht entfernt.\n",
      "Paket »docker.io« ist nicht installiert, wird also auch nicht entfernt.\n",
      "Die folgenden Pakete wurden automatisch installiert und werden nicht mehr benötigt:\n",
      "  aufs-tools cgroupfs-mount iptables libnfnetlink0\n",
      "Verwenden Sie »apt-get autoremove«, um sie zu entfernen.\n",
      "Die folgenden Pakete werden ENTFERNT:\n",
      "  docker-engine\n",
      "0 aktualisiert, 0 neu installiert, 1 zu entfernen und 1 nicht aktualisiert.\n",
      "Nach dieser Operation werden 82,7 MB Plattenplatz freigegeben.\n",
      "(Lese Datenbank ... 95793 Dateien und Verzeichnisse sind derzeit installiert.)\n",
      "Entfernen von docker-engine (17.05.0~ce-0~raspbian-jessie) ...\n",
      "Trigger für man-db (2.7.5-1~bpo8+1) werden verarbeitet ...\n"
     ]
    }
   ],
   "source": [
    "sudo apt-get remove --yes docker docker-engine docker.io"
   ]
  },
  {
   "cell_type": "code",
   "execution_count": 10,
   "metadata": {},
   "outputs": [
    {
     "name": "stdout",
     "output_type": "stream",
     "text": [
      "deb [arch=armhf] https://download.docker.com/linux/debian jessie stable\n"
     ]
    }
   ],
   "source": [
    "echo \"deb [arch=armhf] https://download.docker.com/linux/debian $(lsb_release -cs) stable\" | \\\n",
    "sudo tee /etc/apt/sources.list.d/docker.list"
   ]
  },
  {
   "cell_type": "code",
   "execution_count": 12,
   "metadata": {},
   "outputs": [
    {
     "name": "stdout",
     "output_type": "stream",
     "text": [
      "OK\n"
     ]
    }
   ],
   "source": [
    "curl -fsSL https://download.docker.com/linux/debian/gpg | sudo apt-key add -"
   ]
  },
  {
   "cell_type": "code",
   "execution_count": 13,
   "metadata": {
    "scrolled": false
   },
   "outputs": [
    {
     "name": "stdout",
     "output_type": "stream",
     "text": [
      "OK   http://archive.raspberrypi.org jessie InRelease\n",
      "OK   http://archive.raspberrypi.org jessie/main armhf Packages\n",
      "OK   https://deb.nodesource.com jessie InRelease                               \u001b[0m\n",
      "Holen: 1 https://download.docker.com jessie InRelease [20,2 kB]                \u001b[0m\n",
      "OK   https://deb.nodesource.com jessie/main Sources                            \u001b[0m\u001b[33m\n",
      "OK   https://deb.nodesource.com jessie/main armhf Packages                     \u001b[0m\u001b[33m\n",
      "Holen: 2 https://deb.nodesource.com jessie/main Translation-de_DE [162 B]      \u001b[0m\u001b[33m\n",
      "Holen: 3 https://deb.nodesource.com jessie/main Translation-de [162 B]         \n",
      "Holen: 4 https://deb.nodesource.com jessie/main Translation-en [162 B]         \u001b[0m\n",
      "Holen: 5 https://deb.nodesource.com jessie/main Translation-de_DE [162 B]      \u001b[0m\n",
      "Holen: 6 https://deb.nodesource.com jessie/main Translation-de [162 B]         \u001b[0m\n",
      "Holen: 7 https://download.docker.com jessie/stable armhf Packages [2.536 B]    \u001b[0m\n",
      "Holen: 8 https://deb.nodesource.com jessie/main Translation-en [162 B]         \u001b[0m\u001b[33m\n",
      "Holen: 9 https://download.docker.com jessie/stable Translation-de_DE [587 B]   \u001b[0m\u001b[33m\n",
      "Holen: 10 https://deb.nodesource.com jessie/main Translation-de_DE [162 B]     \u001b[0m\n",
      "Holen: 11 https://deb.nodesource.com jessie/main Translation-de [162 B]        \u001b[0m\n",
      "Holen: 12 https://deb.nodesource.com jessie/main Translation-en [162 B]        \u001b[0m\n",
      "Holen: 13 https://deb.nodesource.com jessie/main Translation-de_DE [162 B]     \u001b[0m\n",
      "Holen: 14 https://deb.nodesource.com jessie/main Translation-de [162 B]        \u001b[0m\n",
      "Holen: 15 https://deb.nodesource.com jessie/main Translation-en [162 B]        \u001b[0m\n",
      "Holen: 16 https://download.docker.com jessie/stable Translation-de [584 B]     \u001b[0m\n",
      "Holen: 17 https://deb.nodesource.com jessie/main Translation-de_DE [162 B]     \n",
      "Ign https://deb.nodesource.com jessie/main Translation-de_DE\n",
      "Holen: 18 https://deb.nodesource.com jessie/main Translation-de [162 B]        \u001b[0m\n",
      "Ign https://deb.nodesource.com jessie/main Translation-de                      \n",
      "Holen: 19 https://deb.nodesource.com jessie/main Translation-en [162 B]        \u001b[0m\n",
      "Ign https://deb.nodesource.com jessie/main Translation-en                      \n",
      "Holen: 20 https://download.docker.com jessie/stable Translation-en [584 B]     \n",
      "Ign http://archive.raspberrypi.org jessie/main Translation-de_DE               \u001b[0m\n",
      "Ign http://archive.raspberrypi.org jessie/main Translation-de                  \n",
      "Holen: 21 https://download.docker.com jessie/stable Translation-de_DE [587 B]\n",
      "Ign http://archive.raspberrypi.org jessie/main Translation-en                  \u001b[0m\n",
      "Holen: 22 https://download.docker.com jessie/stable Translation-de [584 B]     \n",
      "Holen: 23 https://download.docker.com jessie/stable Translation-en [584 B]\n",
      "Holen: 24 https://download.docker.com jessie/stable Translation-de_DE [587 B]\n",
      "Holen: 25 https://download.docker.com jessie/stable Translation-de [584 B]\n",
      "Holen: 26 https://download.docker.com jessie/stable Translation-en [584 B]\n",
      "Holen: 27 https://download.docker.com jessie/stable Translation-de_DE [587 B]\n",
      "Holen: 28 https://download.docker.com jessie/stable Translation-de [584 B]\n",
      "Holen: 29 https://download.docker.com jessie/stable Translation-en [584 B]\n",
      "Holen: 30 https://download.docker.com jessie/stable Translation-de_DE [587 B]\n",
      "Ign https://download.docker.com jessie/stable Translation-de_DE     \u001b[0m\n",
      "Holen: 31 https://download.docker.com jessie/stable Translation-de [584 B]\n",
      "Ign https://download.docker.com jessie/stable Translation-de     \u001b[0m\n",
      "Holen: 32 https://download.docker.com jessie/stable Translation-en [584 B]\n",
      "Ign https://download.docker.com jessie/stable Translation-en \u001b[0m\n",
      "OK   http://mirrordirector.raspbian.org jessie InRelease     \n",
      "OK   http://mirrordirector.raspbian.org stretch InRelease                      \u001b[0m\u001b[33m\n",
      "OK   http://mirrordirector.raspbian.org jessie/main armhf Packages             \u001b[0m\u001b[33m\n",
      "OK   http://mirrordirector.raspbian.org jessie/contrib armhf Packages          \u001b[0m\u001b[33m\n",
      "OK   http://mirrordirector.raspbian.org jessie/non-free armhf Packages         \u001b[0m\n",
      "OK   http://mirrordirector.raspbian.org jessie/firmware armhf Packages         \u001b[0m\n",
      "OK   http://mirrordirector.raspbian.org stretch/main armhf Packages            \u001b[0m\u001b[33m\n",
      "OK   http://mirrordirector.raspbian.org stretch/contrib armhf Packages         \u001b[0m\n",
      "OK   http://mirrordirector.raspbian.org stretch/non-free armhf Packages        \u001b[0m\n",
      "OK   http://mirrordirector.raspbian.org stretch/rpi armhf Packages             \u001b[0m\n",
      "Ign http://mirrordirector.raspbian.org jessie/contrib Translation-de_DE        \u001b[0m\u001b[33m\n",
      "Ign http://mirrordirector.raspbian.org jessie/contrib Translation-de           \u001b[0m\n",
      "Ign http://mirrordirector.raspbian.org jessie/contrib Translation-en           \u001b[0m\n",
      "Ign http://mirrordirector.raspbian.org jessie/firmware Translation-de_DE       \n",
      "Ign http://mirrordirector.raspbian.org jessie/firmware Translation-de\n",
      "Ign http://mirrordirector.raspbian.org jessie/firmware Translation-en\n",
      "Ign http://mirrordirector.raspbian.org jessie/main Translation-de_DE\n",
      "Ign http://mirrordirector.raspbian.org jessie/main Translation-de\n",
      "Ign http://mirrordirector.raspbian.org jessie/main Translation-en\n",
      "Ign http://mirrordirector.raspbian.org jessie/non-free Translation-de_DE\n",
      "Ign http://mirrordirector.raspbian.org jessie/non-free Translation-de\n",
      "Ign http://mirrordirector.raspbian.org jessie/non-free Translation-en\n",
      "Ign http://mirrordirector.raspbian.org stretch/contrib Translation-de_DE\n",
      "Ign http://mirrordirector.raspbian.org stretch/contrib Translation-de\n",
      "Ign http://mirrordirector.raspbian.org stretch/contrib Translation-en\n",
      "Ign http://mirrordirector.raspbian.org stretch/main Translation-de_DE\n",
      "Ign http://mirrordirector.raspbian.org stretch/main Translation-de\n",
      "Ign http://mirrordirector.raspbian.org stretch/main Translation-en\n",
      "Ign http://mirrordirector.raspbian.org stretch/non-free Translation-de_DE\n",
      "Ign http://mirrordirector.raspbian.org stretch/non-free Translation-de\n",
      "Ign http://mirrordirector.raspbian.org stretch/non-free Translation-en\n",
      "Ign http://mirrordirector.raspbian.org stretch/rpi Translation-de_DE\n",
      "Ign http://mirrordirector.raspbian.org stretch/rpi Translation-de\n",
      "Ign http://mirrordirector.raspbian.org stretch/rpi Translation-en\n",
      "Es wurden 22,7 kB in 28 s geholt (792 B/s).                                    \u001b[0m\u001b[33m\n",
      "Paketlisten werden gelesen... Fertig\n",
      "Abhängigkeitsbaum wird aufgebaut.       \n",
      "Statusinformationen werden eingelesen.... Fertig\n",
      "Aktualisierung für 1 Paket verfügbar. Führen Sie »apt list --upgradable« aus, um es anzuzeigen.\n",
      "Paketlisten werden gelesen... Fertig\n",
      "Abhängigkeitsbaum wird aufgebaut.       \n",
      "Statusinformationen werden eingelesen.... Fertig\n",
      "Die folgenden NEUEN Pakete werden installiert:\n",
      "  docker-ce\n",
      "0 aktualisiert, 1 neu installiert, 0 zu entfernen und 1 nicht aktualisiert.\n",
      "Es müssen 18,6 MB an Archiven heruntergeladen werden.\n",
      "Nach dieser Operation werden 82,5 MB Plattenplatz zusätzlich benutzt.\n",
      "Holen: 1 https://download.docker.com/linux/debian/ jessie/stable docker-ce armhf 17.09.0~ce-0~debian [18,6 MB]\n",
      "Es wurden 18,6 MB in 12 s geholt (1.477 kB/s).                                 \u001b[0m\u001b[33m\n",
      "debconf: unable to initialize frontend: Dialog\n",
      "debconf: (Dialog frontend will not work on a dumb terminal, an emacs shell buffer, or without a controlling terminal.)\n",
      "debconf: falling back to frontend: Readline\n",
      "\n",
      "\u001b[s\u001b[0;23r\u001b[u\u001b[1AVormals nicht ausgewähltes Paket docker-ce wird gewählt.\n",
      "(Lese Datenbank ... 95590 Dateien und Verzeichnisse sind derzeit installiert.)\n",
      "Vorbereitung zum Entpacken von .../docker-ce_17.09.0~ce-0~debian_armhf.deb ...\n",
      "\u001b[s\u001b[24;0f\u001b[42m\u001b[30mFortschritt: [  0%]\u001b[49m\u001b[39m [.......................................................] \u001b[u\u001b[s\u001b[24;0f\u001b[42m\u001b[30mFortschritt: [ 16%]\u001b[49m\u001b[39m [##########.............................................] \u001b[uEntpacken von docker-ce (17.09.0~ce-0~debian) ...\n",
      "\u001b[s\u001b[24;0f\u001b[42m\u001b[30mFortschritt: [ 33%]\u001b[49m\u001b[39m [###################....................................] \u001b[u\u001b[s\u001b[24;0f\u001b[42m\u001b[30mFortschritt: [ 50%]\u001b[49m\u001b[39m [############################...........................] \u001b[uTrigger für systemd (215-17+deb8u7) werden verarbeitet ...\n",
      "Trigger für man-db (2.7.5-1~bpo8+1) werden verarbeitet ...\n",
      "docker-ce (17.09.0~ce-0~debian) wird eingerichtet ...\n"
     ]
    },
    {
     "name": "stdout",
     "output_type": "stream",
     "text": [
      "Neue Version der Konfigurationsdatei /etc/bash_completion.d/docker wird installiert ...\n",
      "\u001b[s\u001b[24;0f\u001b[42m\u001b[30mFortschritt: [ 66%]\u001b[49m\u001b[39m [#####################################..................] \u001b[u\u001b[s\u001b[24;0f\u001b[42m\u001b[30mFortschritt: [ 83%]\u001b[49m\u001b[39m [##############################################.........] \u001b[u\n",
      "\u001b[s\u001b[0;24r\u001b[u\u001b[1A\u001b[J"
     ]
    }
   ],
   "source": [
    "sudo apt update && sudo apt install docker-ce -y"
   ]
  },
  {
   "cell_type": "code",
   "execution_count": 14,
   "metadata": {},
   "outputs": [
    {
     "name": "stdout",
     "output_type": "stream",
     "text": [
      "Client:\n",
      " Version:      17.09.0-ce\n",
      " API version:  1.32\n",
      " Go version:   go1.8.3\n",
      " Git commit:   afdb6d4\n",
      " Built:        Tue Sep 26 22:50:01 2017\n",
      " OS/Arch:      linux/arm\n",
      "\n",
      "Server:\n",
      " Version:      17.09.0-ce\n",
      " API version:  1.32 (minimum version 1.12)\n",
      " Go version:   go1.8.3\n",
      " Git commit:   afdb6d4\n",
      " Built:        Tue Sep 26 22:44:09 2017\n",
      " OS/Arch:      linux/arm\n",
      " Experimental: false\n"
     ]
    }
   ],
   "source": [
    "docker version"
   ]
  },
  {
   "cell_type": "code",
   "execution_count": 15,
   "metadata": {},
   "outputs": [
    {
     "name": "stdout",
     "output_type": "stream",
     "text": [
      "\u001b[1;32m●\u001b[0m docker.service - Docker Application Container Engine\n",
      "   Loaded: loaded (/lib/systemd/system/docker.service; enabled)\n",
      "   Active: \u001b[1;32mactive (running)\u001b[0m since Di 2017-10-10 09:06:36 CEST; 1min 2s ago\n",
      "     Docs: https://docs.docker.com\n",
      " Main PID: 4929 (dockerd)\n",
      "   CGroup: /system.slice/docker.service\n",
      "           ├─4929 /usr/bin/dockerd -H fd://\n",
      "           └─4935 docker-containerd -l unix:///var/run/docker/libcontainerd/d...\n",
      "\n",
      "Okt 10 09:06:35 cluster-00 dockerd[4929]: time=\"2017-10-10T09:06:35.33634521...\"\n",
      "Okt 10 09:06:35 cluster-00 dockerd[4929]: time=\"2017-10-10T09:06:35.33793531...\"\n",
      "Okt 10 09:06:35 cluster-00 dockerd[4929]: time=\"2017-10-10T09:06:35.33956083...\"\n",
      "Okt 10 09:06:35 cluster-00 dockerd[4929]: time=\"2017-10-10T09:06:35.34244035...\"\n",
      "Okt 10 09:06:35 cluster-00 dockerd[4929]: time=\"2017-10-10T09:06:35.99574353...\"\n",
      "Okt 10 09:06:36 cluster-00 dockerd[4929]: time=\"2017-10-10T09:06:36.17695893...\"\n",
      "Okt 10 09:06:36 cluster-00 dockerd[4929]: time=\"2017-10-10T09:06:36.28121020...e\n",
      "Okt 10 09:06:36 cluster-00 dockerd[4929]: time=\"2017-10-10T09:06:36.28210025...\"\n",
      "Okt 10 09:06:36 cluster-00 dockerd[4929]: time=\"2017-10-10T09:06:36.43860849...\"\n",
      "Okt 10 09:06:36 cluster-00 systemd[1]: Started Docker Application Container...e.\n",
      "Hint: Some lines were ellipsized, use -l to show in full.\n"
     ]
    }
   ],
   "source": [
    "sudo systemctl status docker.service"
   ]
  },
  {
   "cell_type": "markdown",
   "metadata": {},
   "source": [
    "## Avahi"
   ]
  },
  {
   "cell_type": "code",
   "execution_count": 1,
   "metadata": {},
   "outputs": [
    {
     "name": "stdout",
     "output_type": "stream",
     "text": [
      "Paketlisten werden gelesen... Fertig\n",
      "Abhängigkeitsbaum wird aufgebaut.       \n",
      "Statusinformationen werden eingelesen.... Fertig\n",
      "Die folgenden zusätzlichen Pakete werden installiert:\n",
      "  bind9-host libavahi-core7 libbind9-90 libdaemon0 libdns100 libisc95\n",
      "  libisccc90 libisccfg90 liblwres90 libnss-mdns\n",
      "Vorgeschlagene Pakete:\n",
      "  avahi-autoipd\n",
      "Die folgenden NEUEN Pakete werden installiert:\n",
      "  avahi-daemon avahi-utils bind9-host libavahi-core7 libbind9-90 libdaemon0\n",
      "  libdns100 libisc95 libisccc90 libisccfg90 liblwres90 libnss-mdns\n",
      "0 aktualisiert, 12 neu installiert, 0 zu entfernen und 1 nicht aktualisiert.\n",
      "Es müssen 1.262 kB an Archiven heruntergeladen werden.\n",
      "Nach dieser Operation werden 3.286 kB Plattenplatz zusätzlich benutzt.\n",
      "Holen: 1 http://mirrordirector.raspbian.org/raspbian/ jessie/main libavahi-core7 armhf 0.6.31-5 [98,8 kB]\n",
      "Holen: 2 http://mirrordirector.raspbian.org/raspbian/ jessie/main libdaemon0 armhf 0.14-6 [15,7 kB]\n",
      "Holen: 3 http://mirrordirector.raspbian.org/raspbian/ jessie/main libisc95 armhf 1:9.9.5.dfsg-9+deb8u13 [149 kB]\n",
      "Holen: 4 http://mirrordirector.raspbian.org/raspbian/ jessie/main libdns100 armhf 1:9.9.5.dfsg-9+deb8u13 [601 kB]\n",
      "Holen: 5 http://mirrordirector.raspbian.org/raspbian/ jessie/main libisccc90 armhf 1:9.9.5.dfsg-9+deb8u13 [34,9 kB]\n",
      "Holen: 6 http://mirrordirector.raspbian.org/raspbian/ jessie/main libisccfg90 armhf 1:9.9.5.dfsg-9+deb8u13 [51,0 kB]\n",
      "Holen: 7 http://mirrordirector.raspbian.org/raspbian/ jessie/main libbind9-90 armhf 1:9.9.5.dfsg-9+deb8u13 [41,7 kB]\n",
      "Holen: 8 http://mirrordirector.raspbian.org/raspbian/ jessie/main liblwres90 armhf 1:9.9.5.dfsg-9+deb8u13 [48,3 kB]\n",
      "Holen: 9 http://mirrordirector.raspbian.org/raspbian/ jessie/main bind9-host armhf 1:9.9.5.dfsg-9+deb8u13 [66,1 kB]\n",
      "Holen: 10 http://mirrordirector.raspbian.org/raspbian/ jessie/main avahi-daemon armhf 0.6.31-5 [82,3 kB]\n",
      "Holen: 11 http://mirrordirector.raspbian.org/raspbian/ jessie/main libnss-mdns armhf 0.10-6 [22,2 kB]\n",
      "Holen: 12 http://mirrordirector.raspbian.org/raspbian/ jessie/main avahi-utils armhf 0.6.31-5 [50,9 kB]\n",
      "Es wurden 1.262 kB in 1 s geholt (734 kB/s).\n",
      "debconf: unable to initialize frontend: Dialog\n",
      "debconf: (Dialog frontend will not work on a dumb terminal, an emacs shell buffer, or without a controlling terminal.)\n",
      "debconf: falling back to frontend: Readline\n",
      "Vormals nicht ausgewähltes Paket libavahi-core7:armhf wird gewählt.\n",
      "(Lese Datenbank ... 95790 Dateien und Verzeichnisse sind derzeit installiert.)\n",
      "Vorbereitung zum Entpacken von .../libavahi-core7_0.6.31-5_armhf.deb ...\n",
      "Entpacken von libavahi-core7:armhf (0.6.31-5) ...\n",
      "Vormals nicht ausgewähltes Paket libdaemon0:armhf wird gewählt.\n",
      "Vorbereitung zum Entpacken von .../libdaemon0_0.14-6_armhf.deb ...\n",
      "Entpacken von libdaemon0:armhf (0.14-6) ...\n",
      "Vormals nicht ausgewähltes Paket libisc95 wird gewählt.\n",
      "Vorbereitung zum Entpacken von .../libisc95_1%3a9.9.5.dfsg-9+deb8u13_armhf.deb ...\n",
      "Entpacken von libisc95 (1:9.9.5.dfsg-9+deb8u13) ...\n",
      "Vormals nicht ausgewähltes Paket libdns100 wird gewählt.\n",
      "Vorbereitung zum Entpacken von .../libdns100_1%3a9.9.5.dfsg-9+deb8u13_armhf.deb ...\n",
      "Entpacken von libdns100 (1:9.9.5.dfsg-9+deb8u13) ...\n",
      "Vormals nicht ausgewähltes Paket libisccc90 wird gewählt.\n",
      "Vorbereitung zum Entpacken von .../libisccc90_1%3a9.9.5.dfsg-9+deb8u13_armhf.deb ...\n",
      "Entpacken von libisccc90 (1:9.9.5.dfsg-9+deb8u13) ...\n",
      "Vormals nicht ausgewähltes Paket libisccfg90 wird gewählt.\n",
      "Vorbereitung zum Entpacken von .../libisccfg90_1%3a9.9.5.dfsg-9+deb8u13_armhf.deb ...\n",
      "Entpacken von libisccfg90 (1:9.9.5.dfsg-9+deb8u13) ...\n",
      "Vormals nicht ausgewähltes Paket libbind9-90 wird gewählt.\n",
      "Vorbereitung zum Entpacken von .../libbind9-90_1%3a9.9.5.dfsg-9+deb8u13_armhf.deb ...\n",
      "Entpacken von libbind9-90 (1:9.9.5.dfsg-9+deb8u13) ...\n",
      "Vormals nicht ausgewähltes Paket liblwres90 wird gewählt.\n",
      "Vorbereitung zum Entpacken von .../liblwres90_1%3a9.9.5.dfsg-9+deb8u13_armhf.deb ...\n",
      "Entpacken von liblwres90 (1:9.9.5.dfsg-9+deb8u13) ...\n",
      "Vormals nicht ausgewähltes Paket bind9-host wird gewählt.\n",
      "Vorbereitung zum Entpacken von .../bind9-host_1%3a9.9.5.dfsg-9+deb8u13_armhf.deb ...\n",
      "Entpacken von bind9-host (1:9.9.5.dfsg-9+deb8u13) ...\n",
      "Vormals nicht ausgewähltes Paket avahi-daemon wird gewählt.\n",
      "Vorbereitung zum Entpacken von .../avahi-daemon_0.6.31-5_armhf.deb ...\n",
      "Entpacken von avahi-daemon (0.6.31-5) ...\n",
      "Vormals nicht ausgewähltes Paket libnss-mdns:armhf wird gewählt.\n",
      "Vorbereitung zum Entpacken von .../libnss-mdns_0.10-6_armhf.deb ...\n",
      "Entpacken von libnss-mdns:armhf (0.10-6) ...\n",
      "Vormals nicht ausgewähltes Paket avahi-utils wird gewählt.\n",
      "Vorbereitung zum Entpacken von .../avahi-utils_0.6.31-5_armhf.deb ...\n",
      "Entpacken von avahi-utils (0.6.31-5) ...\n",
      "Trigger für man-db (2.7.5-1~bpo8+1) werden verarbeitet ...\n",
      "Trigger für dbus (1.8.22-0+deb8u1) werden verarbeitet ...\n",
      "Trigger für systemd (215-17+deb8u7) werden verarbeitet ...\n",
      "libavahi-core7:armhf (0.6.31-5) wird eingerichtet ...\n",
      "libdaemon0:armhf (0.14-6) wird eingerichtet ...\n",
      "libisc95 (1:9.9.5.dfsg-9+deb8u13) wird eingerichtet ...\n",
      "libdns100 (1:9.9.5.dfsg-9+deb8u13) wird eingerichtet ...\n",
      "libisccc90 (1:9.9.5.dfsg-9+deb8u13) wird eingerichtet ...\n",
      "libisccfg90 (1:9.9.5.dfsg-9+deb8u13) wird eingerichtet ...\n",
      "libbind9-90 (1:9.9.5.dfsg-9+deb8u13) wird eingerichtet ...\n",
      "liblwres90 (1:9.9.5.dfsg-9+deb8u13) wird eingerichtet ...\n",
      "bind9-host (1:9.9.5.dfsg-9+deb8u13) wird eingerichtet ...\n",
      "avahi-daemon (0.6.31-5) wird eingerichtet ...\n",
      "libnss-mdns:armhf (0.10-6) wird eingerichtet ...\n",
      "First installation detected...\n",
      "Checking NSS setup...\n",
      "avahi-utils (0.6.31-5) wird eingerichtet ...\n",
      "Trigger für libc-bin (2.19-18+deb8u10) werden verarbeitet ...\n",
      "Trigger für dbus (1.8.22-0+deb8u1) werden verarbeitet ...\n",
      "Trigger für systemd (215-17+deb8u7) werden verarbeitet ...\n"
     ]
    }
   ],
   "source": [
    "sudo apt-get install --yes avahi-daemon avahi-utils"
   ]
  },
  {
   "cell_type": "code",
   "execution_count": null,
   "metadata": {},
   "outputs": [],
   "source": []
  }
 ],
 "metadata": {
  "kernelspec": {
   "display_name": "Bash",
   "language": "bash",
   "name": "bash"
  },
  "language_info": {
   "codemirror_mode": "shell",
   "file_extension": ".sh",
   "mimetype": "text/x-sh",
   "name": "bash"
  }
 },
 "nbformat": 4,
 "nbformat_minor": 2
}
