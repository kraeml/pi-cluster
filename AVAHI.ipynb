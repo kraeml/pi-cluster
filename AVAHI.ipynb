{
 "cells": [
  {
   "cell_type": "markdown",
   "metadata": {},
   "source": [
    "# Avahi\n",
    "\n",
    "Entnommen aus: https://www.elektronik-kompendium.de/sites/raspberry-pi/1912251.htm"
   ]
  },
  {
   "cell_type": "markdown",
   "metadata": {},
   "source": [
    "## Installation\n",
    "\n",
    "Unter Raspbian Jessie ist Avahi bereits installiert. Wenn nicht, dann geht man wie folgt vor."
   ]
  },
  {
   "cell_type": "code",
   "execution_count": null,
   "metadata": {
    "scrolled": false
   },
   "outputs": [],
   "source": [
    "sudo apt-get update\n",
    "sudo apt-get install --yes avahi-daemon"
   ]
  },
  {
   "cell_type": "markdown",
   "metadata": {},
   "source": [
    "## Avahi prüfen\n",
    "\n",
    "Zum Prüfen, ob Avahi funktioniert, kann man die Avahi-Tools installieren und sich die announcierten Dienste anderer Host im Netzwerk anzeigen lassen."
   ]
  },
  {
   "cell_type": "code",
   "execution_count": null,
   "metadata": {},
   "outputs": [],
   "source": [
    "sudo apt-get install --yes avahi-utils\n",
    "avahi-browse --help"
   ]
  },
  {
   "cell_type": "code",
   "execution_count": 38,
   "metadata": {},
   "outputs": [
    {
     "name": "stdout",
     "output_type": "stream",
     "text": [
      "+   eth0 IPv6 cluster-02 [b8:27:eb:1f:03:0b]                Arbeitsplatzrechner  local\n",
      "+   eth0 IPv6 cluster-01 [b8:27:eb:18:89:1e]                Arbeitsplatzrechner  local\n",
      "+   eth0 IPv4 cluster-02 [b8:27:eb:1f:03:0b]                Arbeitsplatzrechner  local\n",
      "+   eth0 IPv4 cluster-01 [b8:27:eb:18:89:1e]                Arbeitsplatzrechner  local\n",
      "+   eth0 IPv6 cluster-00 [b8:27:eb:27:c2:35]                Arbeitsplatzrechner  local\n",
      "+ docker_gwbridge IPv4 cluster-00 [02:42:01:c5:03:44]                Arbeitsplatzrechner  local\n",
      "+ docker0 IPv4 cluster-00 [02:42:e1:76:19:66]                Arbeitsplatzrechner  local\n",
      "+   eth0 IPv4 cluster-00 [b8:27:eb:27:c2:35]                Arbeitsplatzrechner  local\n",
      "+   eth0 IPv6 cluster-03 [b8:27:eb:21:26:69]                Arbeitsplatzrechner  local\n",
      "+   eth0 IPv4 cluster-03 [b8:27:eb:21:26:69]                Arbeitsplatzrechner  local\n",
      "+   eth0 IPv6 cluster-04 [b8:27:eb:00:e2:15]                Arbeitsplatzrechner  local\n",
      "+   eth0 IPv4 cluster-04 [b8:27:eb:00:e2:15]                Arbeitsplatzrechner  local\n"
     ]
    }
   ],
   "source": [
    "avahi-browse -a -t | grep -E 'cluster-[[:digit:]]' "
   ]
  },
  {
   "cell_type": "code",
   "execution_count": 39,
   "metadata": {},
   "outputs": [
    {
     "name": "stdout",
     "output_type": "stream",
     "text": [
      "172.18.0.1\n"
     ]
    }
   ],
   "source": [
    "ping -c 1 cluster-00.local | grep PING | awk '{ print $3 }' | tr -d '(' | tr -d ')'"
   ]
  },
  {
   "cell_type": "code",
   "execution_count": null,
   "metadata": {},
   "outputs": [],
   "source": []
  }
 ],
 "metadata": {
  "kernelspec": {
   "display_name": "Bash",
   "language": "bash",
   "name": "bash"
  },
  "language_info": {
   "codemirror_mode": "shell",
   "file_extension": ".sh",
   "mimetype": "text/x-sh",
   "name": "bash"
  }
 },
 "nbformat": 4,
 "nbformat_minor": 2
}
